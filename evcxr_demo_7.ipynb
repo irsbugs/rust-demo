{
 "cells": [
  {
   "cell_type": "markdown",
   "metadata": {},
   "source": [
    "# Evaluation Context for Rust - EvCxR\n",
    "\n",
    "**EvCxR** = **Ev**aluation **C**onte**x**t for **R**ust\n",
    "\n",
    "File: evcxr_demo_7.ipynb\n",
    "\n",
    "Presentation to: Waikato Linux User Group\n",
    "\n",
    "Author: Ian Stewart\n",
    "\n",
    "Date: xx xxx 2019\n",
    "\n",
    "Repository: https://github.com/WLUG/meetings/tree/master/2019/2019-xx-xx\n",
    "\n",
    "EvCxR is a Juypter Kernel that allows Jupyter notebook to run the Rust programming language."
   ]
  },
  {
   "cell_type": "markdown",
   "metadata": {},
   "source": [
    "# Reading Files\n",
    "\n",
    "Reading from files. Refer to:\n",
    "\n",
    "https://stackoverflow.com/questions/31192956/whats-the-de-facto-way-of-reading-and-writing-files-in-rust-1-x\n"
   ]
  },
  {
   "cell_type": "code",
   "execution_count": null,
   "metadata": {},
   "outputs": [],
   "source": [
    "// Rust 1.26 and onwards\n",
    "// If you don't want to care about the underlying details, there are one-line functions for reading and writing.\n",
    "// Read a file to a String\n",
    "use std::fs;\n",
    "main(); // For Jupyter only. Remove when using this code in a .rs file\n",
    "\n",
    "pub fn main() {\n",
    "    let data = fs::read_to_string(\"data_file_1\").expect(\"Unable to read file\");\n",
    "    println!(\"{}\", data);\n",
    "}"
   ]
  },
  {
   "cell_type": "code",
   "execution_count": null,
   "metadata": {},
   "outputs": [],
   "source": [
    "//Read a file as a Vec<u8>\n",
    "use std::fs;\n",
    "main(); // For Jupyter only. Remove when using this code in a .rs file\n",
    "\n",
    "pub fn main() {\n",
    "    let data = fs::read(\"data_file_1\").expect(\"Unable to read file\");\n",
    "    println!(\"Length of data read is {} bytes\", data.len());\n",
    "    //println!(\"{}\", data);  // `std::vec::Vec<u8>` cannot be formatted with the default formatter\n",
    "    \n",
    "    \n",
    "    // If you have a vector of bytes (Vec<u8>) and want to convert to a String, \n",
    "    // the most efficient is to reuse the allocation with String::from_utf8:\n",
    "    let s = String::from_utf8(data).expect(\"Found invalid UTF-8\");\n",
    "    println!(\"Data read from file: \\n{}\", s);\n",
    "}"
   ]
  },
  {
   "cell_type": "markdown",
   "metadata": {},
   "source": [
    "Rust 1.0 and onwards\n",
    "\n",
    "These forms are slightly more verbose than the one-line functions that allocate a String or Vec for you, but are more powerful in that you can reuse allocated data or append to an existing object."
   ]
  },
  {
   "cell_type": "code",
   "execution_count": null,
   "metadata": {},
   "outputs": [],
   "source": [
    "// Read a file to a String\n",
    "use std::fs::File;\n",
    "use std::io::Read;\n",
    "main(); // For Jupyter only. Remove when using this code in a .rs file\n",
    "\n",
    "pub fn main() {\n",
    "    let mut data = String::new();\n",
    "    let mut f = File::open(\"/etc/hosts\").expect(\"Unable to open file\");\n",
    "    f.read_to_string(&mut data).expect(\"Unable to read string\");\n",
    "    println!(\"{}\", data);\n",
    "}"
   ]
  },
  {
   "cell_type": "code",
   "execution_count": null,
   "metadata": {},
   "outputs": [],
   "source": [
    "//Read a file as a Vec<u8>\n",
    "\n",
    "use std::fs::File;\n",
    "use std::io::Read;\n",
    "main(); // For Jupyter only. Remove when using this code in a .rs file\n",
    "\n",
    "pub fn main() {\n",
    "    let mut data = Vec::new();\n",
    "    let mut f = File::open(\"/etc/hosts\").expect(\"Unable to open file\");\n",
    "    f.read_to_end(&mut data).expect(\"Unable to read data\");\n",
    "    println!(\"Length of data: {}\", data.len());\n",
    "}"
   ]
  },
  {
   "cell_type": "markdown",
   "metadata": {},
   "source": [
    "Buffered I/O\n",
    "\n",
    "    I felt a bit of a push from the community to use BufReader and BufWriter instead of reading straight from a file\n",
    "\n",
    "A buffered reader (or writer) uses a buffer to reduce the number of I/O requests. For example, it's much more efficient to access the disk once to read 256 bytes instead of accessing the disk 256 times.\n",
    "\n",
    "That being said, I don't believe a buffered reader/writer will be useful when reading the entire file. read_to_end seems to copy data in somewhat large chunks, so the transfer may already be naturally coalesced into fewer I/O requests.\n",
    "\n",
    "Here's an example of using it for reading:"
   ]
  },
  {
   "cell_type": "code",
   "execution_count": null,
   "metadata": {},
   "outputs": [],
   "source": [
    "use std::fs::File;\n",
    "use std::io::{BufReader, Read};\n",
    "main();  // For Jupyter only. Remove when using this code in a .rs file\n",
    "\n",
    "pub fn main() {\n",
    "    let mut data = String::new();\n",
    "    let f = File::open(\"/etc/hosts\").expect(\"Unable to open file\");\n",
    "    let mut br = BufReader::new(f);\n",
    "    br.read_to_string(&mut data).expect(\"Unable to read string\");\n",
    "    println!(\"{}\", data);\n",
    "}"
   ]
  },
  {
   "cell_type": "code",
   "execution_count": null,
   "metadata": {},
   "outputs": [],
   "source": [
    "//A BufReader is more useful when you want to read line-by-line:\n",
    "use std::fs::File;\n",
    "use std::io::{BufRead, BufReader};\n",
    "main(); // For Jupyter only. Remove when using this code in a .rs file\n",
    "\n",
    "pub fn main() {\n",
    "    let f = File::open(\"/etc/hosts\").expect(\"Unable to open file\");\n",
    "    let f = BufReader::new(f);\n",
    "\n",
    "    for line in f.lines() {\n",
    "        let line = line.expect(\"Unable to read line\");\n",
    "        println!(\"Line: {}\", line);\n",
    "    }\n",
    "}"
   ]
  }
 ],
 "metadata": {
  "kernelspec": {
   "display_name": "Rust",
   "language": "rust",
   "name": "rust"
  },
  "language_info": {
   "codemirror_mode": "rust",
   "file_extension": ".rs",
   "mimetype": "text/rust",
   "name": "Rust",
   "pygment_lexer": "rust",
   "version": ""
  }
 },
 "nbformat": 4,
 "nbformat_minor": 2
}
