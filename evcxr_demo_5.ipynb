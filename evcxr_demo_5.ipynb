{
 "cells": [
  {
   "cell_type": "markdown",
   "metadata": {},
   "source": [
    "# Evaluation Context for Rust - EvCxR\n",
    "\n",
    "**EvCxR** = **Ev**aluation **C**onte**x**t for **R**ust\n",
    "\n",
    "File: evcxr_demo_5.ipynb\n",
    "\n",
    "Presentation to: Waikato Linux User Group\n",
    "\n",
    "Author: Ian Stewart\n",
    "\n",
    "Date: xx xxx 2019\n",
    "\n",
    "Repository: https://github.com/WLUG/meetings/tree/master/2019/2019-xx-xx\n",
    "\n",
    "EvCxR is a Juypter Kernel that allows Jupyter notebook to run the Rust programming language."
   ]
  },
  {
   "cell_type": "markdown",
   "metadata": {},
   "source": [
    "# Time\n",
    "\n",
    "Get the time in different formats\n",
    "\n",
    "Use:\n",
    "```\n",
    "extern crate chrono;\n",
    "use chrono::{DateTime, Utc, Local};\n",
    "```\n",
    "... for each cell otherwise need to do kernel restart\n",
    "\n",
    "Note: The extern crate chrono requires your computer to be on-line in order to download and run the chrono crate. See the bottom cell of this notebook page."
   ]
  },
  {
   "cell_type": "code",
   "execution_count": null,
   "metadata": {},
   "outputs": [],
   "source": [
    "extern crate chrono;\n",
    "use chrono::{DateTime, Utc, Local};\n",
    "main(); // For Jupyter only. Remove when using this code in a .rs file\n",
    "\n",
    "pub fn main() {\n",
    "    let now: DateTime<Utc> = Utc::now();\n",
    "    println!(\"Utc time is: {}\", now);\n",
    "    \n",
    "    let now: DateTime<Local> = Local::now();\n",
    "    println!(\"Local time is: {}\", now);\n",
    "}    "
   ]
  },
  {
   "cell_type": "code",
   "execution_count": null,
   "metadata": {},
   "outputs": [],
   "source": [
    "// Display time in various formats\n",
    "// https://rust-lang-nursery.github.io/rust-cookbook/datetime/parse.html#examine-the-date-and-time\n",
    "extern crate chrono;\n",
    "use chrono::{DateTime, Utc, Local};\n",
    "main(); // For Jupyter only. Remove when using this code in a .rs file\n",
    "\n",
    "pub fn main() {\n",
    "\n",
    "    let now: DateTime<Utc> = Utc::now();\n",
    "    let local: DateTime<Local> = Local::now();\n",
    "    \n",
    "    println!(\"UTC now is: {}\", now);\n",
    "    println!(\"UTC now in RFC 2822 is: {}\", now.to_rfc2822());\n",
    "    println!(\"UTC now in RFC 3339 is: {}\", now.to_rfc3339());\n",
    "    println!(\"UTC now in a custom format is: {}\", now.format(\"%a %b %e %T %Y\"));\n",
    "\n",
    "    println!(\"\");\n",
    "\n",
    "    println!(\"Local now is: {}\", local);\n",
    "    println!(\"Local now in RFC 2822 is: {}\", local.to_rfc2822());\n",
    "    println!(\"Local now in RFC 3339 is: {}\", local.to_rfc3339());\n",
    "    println!(\"Local now in a custom format is: {}\", local.format(\"%a %b %e %T %Y\"));\n",
    "    println!(\"Local now in a custom format is: {}\", local.format(\"%A, %e %b %Y. %T\"));\n",
    "\n",
    "}\n"
   ]
  },
  {
   "cell_type": "code",
   "execution_count": null,
   "metadata": {},
   "outputs": [],
   "source": [
    "extern crate chrono;\n",
    "use chrono::{DateTime, Utc, Local};\n",
    "main(); // For Jupyter only. Remove when using this code in a .rs file\n",
    "\n",
    "pub fn main() {\n",
    "    // Get the local time as now\n",
    "    let now: DateTime<Local> = Local::now();\n",
    "    println!(\"Time now is: {}\", now);\n",
    "\n",
    "    // Generate concatinated string that includes the time\n",
    "    let mut data = \"Local time via concatinated string: \".to_string();\n",
    "    // push the formated time as a string to data.\n",
    "    data.push_str(&now.format(\"%T on %e %b %Y which is %A\").to_string());\n",
    "    println!(\"{}\", data);\n",
    "}"
   ]
  },
  {
   "cell_type": "markdown",
   "metadata": {},
   "source": [
    "## Time since Unix Epoch"
   ]
  },
  {
   "cell_type": "code",
   "execution_count": null,
   "metadata": {},
   "outputs": [],
   "source": [
    "use std::time::SystemTime;\n",
    "main(); // For Jupyter only. Remove when using this code in a .rs file\n",
    "\n",
    "pub fn main() {\n",
    "    let sys_time = SystemTime::now().duration_since(SystemTime::UNIX_EPOCH);\n",
    "    println!(\"{:?}\", sys_time); \n",
    "}"
   ]
  },
  {
   "cell_type": "markdown",
   "metadata": {},
   "source": [
    "## Trying to get chrono crate when not on-line\n",
    "\n",
    "In the cells above the chrono crate is retrieved with `extern crate chrono;`. This requires chrono to be downloaded and run. If you are not online to the internet then expect and error message similar to this:\n",
    "\n",
    "```\n",
    "Compilation failed, but no parsable errors were found. STDERR:\n",
    "    Blocking waiting for file lock on the registry index\n",
    "    Updating crates.io index\n",
    "warning: spurious network error (2 tries remaining): curl error: Failed to connect to github.com port 443: Connection timed out\n",
    "; class=Net (12)\n",
    "warning: spurious network error (1 tries remaining): curl error: Failed to connect to github.com port 443: Connection timed out\n",
    "; class=Net (12)\n",
    "error: failed to load source for a dependency on `chrono`\n",
    "\n",
    "Caused by:\n",
    "  Unable to update registry `https://github.com/rust-lang/crates.io-index`\n",
    "\n",
    "Caused by:\n",
    "  failed to fetch `https://github.com/rust-lang/crates.io-index`\n",
    "\n",
    "Caused by:\n",
    "  curl error: Failed to connect to github.com port 443: Connection timed out\n",
    "; class=Net (12)\n",
    "\n",
    "STDOUT:\n",
    "```"
   ]
  }
 ],
 "metadata": {
  "kernelspec": {
   "display_name": "Rust",
   "language": "rust",
   "name": "rust"
  },
  "language_info": {
   "codemirror_mode": "rust",
   "file_extension": ".rs",
   "mimetype": "text/rust",
   "name": "Rust",
   "pygment_lexer": "rust",
   "version": ""
  }
 },
 "nbformat": 4,
 "nbformat_minor": 2
}
