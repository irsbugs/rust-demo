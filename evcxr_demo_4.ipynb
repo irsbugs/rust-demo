{
 "cells": [
  {
   "cell_type": "markdown",
   "metadata": {},
   "source": [
    "# Evaluation Context for Rust - EvCxR\n",
    "\n",
    "**EvCxR** = **Ev**aluation **C**onte**x**t for **R**ust\n",
    "\n",
    "File: evcxr_demo_4.ipynb\n",
    "\n",
    "Presentation to: Waikato Linux User Group\n",
    "\n",
    "Author: Ian Stewart\n",
    "\n",
    "Date: xx xxx 2019\n",
    "\n",
    "Repository: https://github.com/WLUG/meetings/tree/master/2019/2019-xx-xx\n",
    "\n",
    "EvCxR is a Juypter Kernel that allows Jupyter notebook to run the Rust programming language."
   ]
  },
  {
   "cell_type": "markdown",
   "metadata": {},
   "source": [
    "# Fibonacci\n",
    "\n",
    "Mr. Fibonacci wants a turn."
   ]
  },
  {
   "cell_type": "code",
   "execution_count": 10,
   "metadata": {},
   "outputs": [
    {
     "data": {
      "text/plain": [
       "[1, 1, 2, 3, 5, 8, 13, 21, 34, 55, 89, 144, 233, 377, 610, 987, 1597, 2584, 4181, 6765]"
      ]
     },
     "execution_count": 10,
     "metadata": {},
     "output_type": "execute_result"
    }
   ],
   "source": [
    "// Fibonacci series\n",
    "\n",
    "pub fn fib(x: i32) -> i32 {\n",
    "    if x <= 1 {1} else {fib(x - 2) + fib(x - 1)}\n",
    "}\n",
    "\n",
    "let values = (0..20).map(fib).collect::<Vec<i32>>();\n",
    "values "
   ]
  },
  {
   "cell_type": "markdown",
   "metadata": {},
   "source": [
    "## Not sure how to get this to run from main()\n",
    "\n",
    "Tried to println! the values\n",
    "```\n",
    "println!(\"{}\", values)  \n",
    "               ^^^^^^ `std::vec::Vec<i32>` cannot be formatted with the default formatter\n",
    "`std::vec::Vec<i32>` doesn't implement `std::fmt::Display`\n",
    "```\n"
   ]
  }
 ],
 "metadata": {
  "kernelspec": {
   "display_name": "Rust",
   "language": "rust",
   "name": "rust"
  },
  "language_info": {
   "codemirror_mode": "rust",
   "file_extension": ".rs",
   "mimetype": "text/rust",
   "name": "Rust",
   "pygment_lexer": "rust",
   "version": ""
  }
 },
 "nbformat": 4,
 "nbformat_minor": 2
}
