{
 "cells": [
  {
   "cell_type": "markdown",
   "metadata": {
    "editable": false,
    "deletable": false
   },
   "source": [
    "# 22 [Unsafe Operations](#22.-Unsafe-Operations)"
   ]
  },
  {
   "cell_type": "markdown",
   "metadata": {
    "editable": false,
    "deletable": false
   },
   "source": [
    "---\n",
    "# 22. [Unsafe Operations](# 22 [Unsafe Operations])\n",
    "\n",
    "As an introduction to this section, to borrow from [the official docs](https://doc.rust-lang.org/book/ch19-01-unsafe-rust.html), \"one should try to minimize the amount of unsafe code in a code base.\" With that in mind, let's get started! Unsafe annotations in Rust are used to bypass protections put in place by the compiler; specifically, there are four primary things that unsafe is used for:\n",
    "\n",
    "* dereferencing raw pointers\n",
    "* calling functions or methods which are `unsafe` (including calling a function over FFI, see [a previous chapter](https://doc.rust-lang.org/rust-by-example/std_misc/ffi.html) of the book)\n",
    "* accessing or modifying static mutable variables\n",
    "* implementing unsafe traits\n",
    "\n",
    "## Raw Pointers\n",
    "\n",
    "Raw pointers `*` and references `&T` function similarly, but references are always safe because they are guaranteed to point to valid data due to the borrow checker. Dereferencing a raw pointer can only be done through an unsafe block."
   ]
  },
  {
   "cell_type": "code",
   "execution_count": null,
   "metadata": {
    "editable": true,
    "deletable": false
   },
   "outputs": [],
   "source": [
    "fn main() {\n",
    "    let raw_p: *const u32 = &10;\n",
    "\n",
    "    unsafe {\n",
    "        assert!(*raw_p == 10);\n",
    "    }\n",
    "}\n"
   ]
  },
  {
   "cell_type": "markdown",
   "metadata": {
    "editable": false,
    "deletable": false
   },
   "source": [
    "## Calling Unsafe Functions\n",
    "\n",
    "Some functions can be declared as `unsafe`, meaning it is the programmer's responsibility to ensure correctness instead of the compiler's. One example of this is [`std::slice::from_raw_parts`](https://doc.rust-lang.org/std/slice/fn.from_raw_parts.html) which will create a slice given a pointer to the first element and a length."
   ]
  },
  {
   "cell_type": "code",
   "execution_count": 2,
   "metadata": {
    "editable": true,
    "deletable": false
   },
   "outputs": [
    {
     "ename": "Error",
     "evalue": "Items currently need to be explicitly made pub along with all fields of structs.",
     "output_type": "error",
     "traceback": [
      "Items currently need to be explicitly made pub along with all fields of structs."
     ]
    }
   ],
   "source": [
    "use std::slice;\n",
    "\n",
    "fn main() {\n",
    "    let some_vector = vec![1, 2, 3, 4];\n",
    "\n",
    "    let pointer = some_vector.as_ptr();\n",
    "    let length = some_vector.len();\n",
    "\n",
    "    unsafe {\n",
    "        let my_slice: &[u32] = slice::from_raw_parts(pointer, length);\n",
    "\n",
    "        assert_eq!(some_vector.as_slice(), my_slice);\n",
    "    }\n",
    "}\n"
   ]
  },
  {
   "cell_type": "markdown",
   "metadata": {
    "editable": false,
    "deletable": false
   },
   "source": [
    "For `slice::from_raw_parts`, one of the assumptions which *must* be upheld is that the pointer passed in points to valid memory and that the memory pointed to is of the correct type. If these invariants aren't upheld then the program's behaviour is undefined and there is no knowing what will happen."
   ]
  }
 ],
 "metadata": {
  "kernelspec": {
   "display_name": "Rust",
   "language": "rust",
   "name": "rust"
  },
  "language_info": {
   "codemirror_mode": "rust",
   "file_extension": ".rs",
   "mimetype": "text/rust",
   "name": "Rust",
   "pygment_lexer": "rust",
   "version": ""
  }
 },
 "nbformat": 4,
 "nbformat_minor": 2
}