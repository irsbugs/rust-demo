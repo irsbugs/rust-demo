{
 "cells": [
  {
   "cell_type": "markdown",
   "metadata": {
    "editable": false,
    "deletable": false
   },
   "source": [
    "# 9 [Functions](#9.-Functions)\n",
    "* ### 9.1 [Methods](#9.1.-Methods)\n",
    "* ### 9.2 [Closures](#9.2.-Closures)\n",
    "    * ### 9.2.1 [Capturing](#9.2.1.-Capturing)\n",
    "    * ### 9.2.2 [As Input parameters](#9.2.2.-As-Input-parameters)\n",
    "    * ### 9.2.3 [Type anonymity](#9.2.3.-Type-anonymity)\n",
    "    * ### 9.2.4 [Input functions](#9.2.4.-Input-functions)\n",
    "    * ### 9.2.5 [As output parameters](#9.2.5.-As-output-parameters)\n",
    "    * ### 9.2.6 [Examples in std](#9.2.6.-Examples-in-std)\n",
    "        * ### 9.2.6.1 [Iterator::any](#9.2.6.1.-Iterator::any)\n",
    "        * ### 9.2.6.2 [Iterator::find](#9.2.6.2.-Iterator::find)\n",
    "* ### 9.3 [Higher Order Functions](#9.3.-Higher-Order-Functions)\n",
    "* ### 9.4 [Diverging functions](#9.4.-Diverging-functions)"
   ]
  },
  {
   "cell_type": "markdown",
   "metadata": {
    "editable": false,
    "deletable": false
   },
   "source": [
    "---\n",
    "# 9. [Functions](#9-Functions)\n",
    "\n",
    "Functions are declared using the `fn` keyword. Its arguments are type annotated, just like variables, and, if the function returns a value, the return type must be specified after an arrow `->`.\n",
    "\n",
    "The final expression in the function will be used as return value. Alternatively, the `return` statement can be used to return a value earlier from within the function, even from inside loops or `if`s.\n",
    "\n",
    "Let's rewrite FizzBuzz using functions!"
   ]
  },
  {
   "cell_type": "code",
   "execution_count": 2,
   "metadata": {
    "editable": true,
    "deletable": false
   },
   "outputs": [
    {
     "ename": "Error",
     "evalue": "Items currently need to be explicitly made pub along with all fields of structs.",
     "output_type": "error",
     "traceback": [
      "Items currently need to be explicitly made pub along with all fields of structs."
     ]
    }
   ],
   "source": [
    "// Unlike C/C++, there's no restriction on the order of function definitions\n",
    "fn main() {\n",
    "    // We can use this function here, and define it somewhere later\n",
    "    fizzbuzz_to(100);\n",
    "}\n",
    "\n",
    "// Function that returns a boolean value\n",
    "fn is_divisible_by(lhs: u32, rhs: u32) -> bool {\n",
    "    // Corner case, early return\n",
    "    if rhs == 0 {\n",
    "        return false;\n",
    "    }\n",
    "\n",
    "    // This is an expression, the `return` keyword is not necessary here\n",
    "    lhs % rhs == 0\n",
    "}\n",
    "\n",
    "// Functions that \"don't\" return a value, actually return the unit type `()`\n",
    "fn fizzbuzz(n: u32) -> () {\n",
    "    if is_divisible_by(n, 15) {\n",
    "        println!(\"fizzbuzz\");\n",
    "    } else if is_divisible_by(n, 3) {\n",
    "        println!(\"fizz\");\n",
    "    } else if is_divisible_by(n, 5) {\n",
    "        println!(\"buzz\");\n",
    "    } else {\n",
    "        println!(\"{}\", n);\n",
    "    }\n",
    "}\n",
    "\n",
    "// When a function returns `()`, the return type can be omitted from the\n",
    "// signature\n",
    "fn fizzbuzz_to(n: u32) {\n",
    "    for n in 1..n + 1 {\n",
    "        fizzbuzz(n);\n",
    "    }\n",
    "}\n"
   ]
  },
  {
   "cell_type": "markdown",
   "metadata": {
    "editable": false,
    "deletable": false
   },
   "source": [
    "---\n",
    "# 9.1. [Methods](#9-Functions)\n",
    "\n",
    "Methods are functions attached to objects. These methods have access to the data of the object and its other methods via the `self` keyword. Methods are defined under an `impl` block."
   ]
  },
  {
   "cell_type": "code",
   "execution_count": 4,
   "metadata": {
    "editable": true,
    "deletable": false
   },
   "outputs": [
    {
     "ename": "Error",
     "evalue": "Items currently need to be explicitly made pub along with all fields of structs.",
     "output_type": "error",
     "traceback": [
      "Items currently need to be explicitly made pub along with all fields of structs."
     ]
    }
   ],
   "source": [
    "struct Point {\n",
    "    x: f64,\n",
    "    y: f64,\n",
    "}\n",
    "\n",
    "// Implementation block, all `Point` methods go in here\n",
    "impl Point {\n",
    "    // This is a static method\n",
    "    // Static methods don't need to be called by an instance\n",
    "    // These methods are generally used as constructors\n",
    "    fn origin() -> Point {\n",
    "        Point { x: 0.0, y: 0.0 }\n",
    "    }\n",
    "\n",
    "    // Another static method, taking two arguments:\n",
    "    fn new(x: f64, y: f64) -> Point {\n",
    "        Point { x: x, y: y }\n",
    "    }\n",
    "}\n",
    "\n",
    "struct Rectangle {\n",
    "    p1: Point,\n",
    "    p2: Point,\n",
    "}\n",
    "\n",
    "impl Rectangle {\n",
    "    // This is an instance method\n",
    "    // `&self` is sugar for `self: &Self`, where `Self` is the type of the\n",
    "    // caller object. In this case `Self` = `Rectangle`\n",
    "    fn area(&self) -> f64 {\n",
    "        // `self` gives access to the struct fields via the dot operator\n",
    "        let Point { x: x1, y: y1 } = self.p1;\n",
    "        let Point { x: x2, y: y2 } = self.p2;\n",
    "\n",
    "        // `abs` is a `f64` method that returns the absolute value of the\n",
    "        // caller\n",
    "        ((x1 - x2) * (y1 - y2)).abs()\n",
    "    }\n",
    "\n",
    "    fn perimeter(&self) -> f64 {\n",
    "        let Point { x: x1, y: y1 } = self.p1;\n",
    "        let Point { x: x2, y: y2 } = self.p2;\n",
    "\n",
    "        2.0 * ((x1 - x2).abs() + (y1 - y2).abs())\n",
    "    }\n",
    "\n",
    "    // This method requires the caller object to be mutable\n",
    "    // `&mut self` desugars to `self: &mut Self`\n",
    "    fn translate(&mut self, x: f64, y: f64) {\n",
    "        self.p1.x += x;\n",
    "        self.p2.x += x;\n",
    "\n",
    "        self.p1.y += y;\n",
    "        self.p2.y += y;\n",
    "    }\n",
    "}\n",
    "\n",
    "// `Pair` owns resources: two heap allocated integers\n",
    "struct Pair(Box<i32>, Box<i32>);\n",
    "\n",
    "impl Pair {\n",
    "    // This method \"consumes\" the resources of the caller object\n",
    "    // `self` desugars to `self: Self`\n",
    "    fn destroy(self) {\n",
    "        // Destructure `self`\n",
    "        let Pair(first, second) = self;\n",
    "\n",
    "        println!(\"Destroying Pair({}, {})\", first, second);\n",
    "\n",
    "        // `first` and `second` go out of scope and get freed\n",
    "    }\n",
    "}\n",
    "\n",
    "fn main() {\n",
    "    let rectangle = Rectangle {\n",
    "        // Static methods are called using double colons\n",
    "        p1: Point::origin(),\n",
    "        p2: Point::new(3.0, 4.0),\n",
    "    };\n",
    "\n",
    "    // Instance methods are called using the dot operator\n",
    "    // Note that the first argument `&self` is implicitly passed, i.e.\n",
    "    // `rectangle.perimeter()` === `Rectangle::perimeter(&rectangle)`\n",
    "    println!(\"Rectangle perimeter: {}\", rectangle.perimeter());\n",
    "    println!(\"Rectangle area: {}\", rectangle.area());\n",
    "\n",
    "    let mut square = Rectangle {\n",
    "        p1: Point::origin(),\n",
    "        p2: Point::new(1.0, 1.0),\n",
    "    };\n",
    "\n",
    "    // Error! `rectangle` is immutable, but this method requires a mutable\n",
    "    // object\n",
    "    //rectangle.translate(1.0, 0.0);\n",
    "    // TODO ^ Try uncommenting this line\n",
    "\n",
    "    // Okay! Mutable objects can call mutable methods\n",
    "    square.translate(1.0, 1.0);\n",
    "\n",
    "    let pair = Pair(Box::new(1), Box::new(2));\n",
    "\n",
    "    pair.destroy();\n",
    "\n",
    "    // Error! Previous `destroy` call \"consumed\" `pair`\n",
    "    //pair.destroy();\n",
    "    // TODO ^ Try uncommenting this line\n",
    "}\n"
   ]
  },
  {
   "cell_type": "markdown",
   "metadata": {
    "editable": false,
    "deletable": false
   },
   "source": [
    "---\n",
    "# 9.2. [Closures](#9-Functions)\n",
    "\n",
    "Closures in Rust, also called lambda expressions or lambdas, are functions that can capture the enclosing environment. For example, a closure that captures the x variable:\n",
    "\n",
    "```rust\n",
    "|val| val + x\n",
    "```\n",
    "The syntax and capabilities of closures make them very convenient for on the fly usage. Calling a closure is exactly like calling a function. However, both input and return types *can* be inferred and input variable names *must* be specified.\n",
    "\n",
    "Other characteristics of closures include:\n",
    "\n",
    "* using `||` instead of `()` around input variables.\n",
    "* optional body delimination (`{}`) for a single expression (mandatory otherwise).\n",
    "* the ability to capture the outer environment variables.\n"
   ]
  },
  {
   "cell_type": "code",
   "execution_count": 5,
   "metadata": {
    "editable": true,
    "deletable": false
   },
   "outputs": [
    {
     "ename": "Error",
     "evalue": "Items currently need to be explicitly made pub along with all fields of structs.",
     "output_type": "error",
     "traceback": [
      "Items currently need to be explicitly made pub along with all fields of structs."
     ]
    }
   ],
   "source": [
    "fn main() {\n",
    "    // Increment via closures and functions.\n",
    "    fn  function            (i: i32) -> i32 { i + 1 }\n",
    "\n",
    "    // Closures are anonymous, here we are binding them to references\n",
    "    // Annotation is identical to function annotation but is optional\n",
    "    // as are the `{}` wrapping the body. These nameless functions\n",
    "    // are assigned to appropriately named variables.\n",
    "    let closure_annotated = |i: i32| -> i32 { i + 1 };\n",
    "    let closure_inferred  = |i     |          i + 1  ;\n",
    "\n",
    "    let i = 1;\n",
    "    // Call the function and closures.\n",
    "    println!(\"function: {}\", function(i));\n",
    "    println!(\"closure_annotated: {}\", closure_annotated(i));\n",
    "    println!(\"closure_inferred: {}\", closure_inferred(i));\n",
    "\n",
    "    // A closure taking no arguments which returns an `i32`.\n",
    "    // The return type is inferred.\n",
    "    let one = || 1;\n",
    "    println!(\"closure returning one: {}\", one());\n",
    "\n",
    "}\n"
   ]
  },
  {
   "cell_type": "markdown",
   "metadata": {
    "editable": false,
    "deletable": false
   },
   "source": [
    "---\n",
    "# 9.2.1. [Capturing](#9-Functions)\n",
    "\n",
    "Closures are inherently flexible and will do what the functionality requires to make the closure work without annotation. This allows capturing to flexibly adapt to the use case, sometimes moving and sometimes borrowing. Closures can capture variables:\n",
    "\n",
    "* by reference: `&T`\n",
    "* by mutable reference: `&mut T`\n",
    "* by value: `T`\n",
    "\n",
    "They preferentially capture variables by reference and only go lower when required."
   ]
  },
  {
   "cell_type": "code",
   "execution_count": 6,
   "metadata": {
    "editable": true,
    "deletable": false
   },
   "outputs": [
    {
     "ename": "Error",
     "evalue": "Items currently need to be explicitly made pub along with all fields of structs.",
     "output_type": "error",
     "traceback": [
      "Items currently need to be explicitly made pub along with all fields of structs."
     ]
    }
   ],
   "source": [
    "fn main() {\n",
    "    use std::mem;\n",
    "    \n",
    "    let color = \"green\";\n",
    "\n",
    "    // A closure to print `color` which immediately borrows (`&`)\n",
    "    // `color` and stores the borrow and closure in the `print`\n",
    "    // variable. It will remain borrowed until `print` goes out of\n",
    "    // scope. `println!` only requires `by reference` so it doesn't\n",
    "    // impose anything more restrictive.\n",
    "    let print = || println!(\"`color`: {}\", color);\n",
    "\n",
    "    // Call the closure using the borrow.\n",
    "    print();\n",
    "    print();\n",
    "\n",
    "    let mut count = 0;\n",
    "\n",
    "    // A closure to increment `count` could take either `&mut count`\n",
    "    // or `count` but `&mut count` is less restrictive so it takes\n",
    "    // that. Immediately borrows `count`.\n",
    "    //\n",
    "    // A `mut` is required on `inc` because a `&mut` is stored inside.\n",
    "    // Thus, calling the closure mutates the closure which requires\n",
    "    // a `mut`.\n",
    "    let mut inc = || {\n",
    "        count += 1;\n",
    "        println!(\"`count`: {}\", count);\n",
    "    };\n",
    "\n",
    "    // Call the closure.\n",
    "    inc();\n",
    "    inc();\n",
    "\n",
    "    //let _reborrow = &mut count;\n",
    "    // ^ TODO: try uncommenting this line.\n",
    "    \n",
    "    // A non-copy type.\n",
    "    let movable = Box::new(3);\n",
    "\n",
    "    // `mem::drop` requires `T` so this must take by value. A copy type\n",
    "    // would copy into the closure leaving the original untouched.\n",
    "    // A non-copy must move and so `movable` immediately moves into\n",
    "    // the closure.\n",
    "    let consume = || {\n",
    "        println!(\"`movable`: {:?}\", movable);\n",
    "        mem::drop(movable);\n",
    "    };\n",
    "\n",
    "    // `consume` consumes the variable so this can only be called once.\n",
    "    consume();\n",
    "    //consume();\n",
    "    // ^ TODO: Try uncommenting this line.\n",
    "}\n"
   ]
  },
  {
   "cell_type": "markdown",
   "metadata": {
    "editable": false,
    "deletable": false
   },
   "source": [
    "Using `move` before vertical pipes forces closure to take ownership of captured variables:"
   ]
  },
  {
   "cell_type": "code",
   "execution_count": 7,
   "metadata": {
    "editable": true,
    "deletable": false
   },
   "outputs": [
    {
     "ename": "Error",
     "evalue": "Items currently need to be explicitly made pub along with all fields of structs.",
     "output_type": "error",
     "traceback": [
      "Items currently need to be explicitly made pub along with all fields of structs."
     ]
    }
   ],
   "source": [
    "fn main() {\n",
    "    // `Vec` has non-copy semantics.\n",
    "    let haystack = vec![1, 2, 3];\n",
    "\n",
    "    let contains = move |needle| haystack.contains(needle);\n",
    "\n",
    "    println!(\"{}\", contains(&1));\n",
    "    println!(\"{}\", contains(&4));\n",
    "\n",
    "    // `println!(\"There're {} elements in vec\", haystack.len());`\n",
    "    // ^ Uncommenting above line will result in compile-time error\n",
    "    // because borrow checker doesn't allow re-using variable after it\n",
    "    // has been moved.\n",
    "    \n",
    "    // Removing `move` from closure's signature will cause closure\n",
    "    // to borrow _haystack_ variable immutably, hence _haystack_ is still\n",
    "    // available and uncommenting above line will not cause an error.\n",
    "}\n"
   ]
  },
  {
   "cell_type": "markdown",
   "metadata": {
    "editable": false,
    "deletable": false
   },
   "source": [
    "## See also:\n",
    "\n",
    "[`Box`](https://doc.rust-lang.org/rust-by-example/std/box.html) and [`std::mem::drop`](https://doc.rust-lang.org/std/mem/fn.drop.html) "
   ]
  },
  {
   "cell_type": "markdown",
   "metadata": {
    "editable": false,
    "deletable": false
   },
   "source": [
    "---\n",
    "# 9.2.2. [As Input parameters](#9-Functions)\n",
    "\n",
    "While Rust chooses how to capture variables on the fly mostly without type annotation, this ambiguity is not allowed when writing functions. When taking a closure as an input parameter, the closure's complete type must be annotated using one of a few `traits`. In order of decreasing restriction, they are:\n",
    "\n",
    "* `Fn`: the closure captures by reference (`&T`)\n",
    "* `FnMut`: the closure captures by mutable reference (`&mut T`)\n",
    "* `FnOnce`: the closure captures by value (`T`)\n",
    "\n",
    "On a variable-by-variable basis, the compiler will capture variables in the least restrictive manner possible.\n",
    "\n",
    "For instance, consider a parameter annotated as `FnOnce`. This specifies that the closure *may* capture by `&T`, `&mut T`, or `T`, but the compiler will ultimately choose based on how the captured variables are used in the closure.\n",
    "\n",
    "This is because if a move is possible, then any type of borrow should also be possible. Note that the reverse is not true. If the parameter is annotated as `Fn`, then capturing variables by `&mut T` or `T` are not allowed.\n",
    "\n",
    "In the following example, try swapping the usage of `Fn`, `FnMut`, and `FnOnce` to see what happens:"
   ]
  },
  {
   "cell_type": "code",
   "execution_count": 8,
   "metadata": {
    "editable": true,
    "deletable": false
   },
   "outputs": [
    {
     "ename": "Error",
     "evalue": "Items currently need to be explicitly made pub along with all fields of structs.",
     "output_type": "error",
     "traceback": [
      "Items currently need to be explicitly made pub along with all fields of structs."
     ]
    }
   ],
   "source": [
    "// A function which takes a closure as an argument and calls it.\n",
    "fn apply<F>(f: F) where\n",
    "    // The closure takes no input and returns nothing.\n",
    "    F: FnOnce() {\n",
    "    // ^ TODO: Try changing this to `Fn` or `FnMut`.\n",
    "\n",
    "    f();\n",
    "}\n",
    "\n",
    "// A function which takes a closure and returns an `i32`.\n",
    "fn apply_to_3<F>(f: F) -> i32 where\n",
    "    // The closure takes an `i32` and returns an `i32`.\n",
    "    F: Fn(i32) -> i32 {\n",
    "\n",
    "    f(3)\n",
    "}\n",
    "\n",
    "fn main() {\n",
    "    use std::mem;\n",
    "\n",
    "    let greeting = \"hello\";\n",
    "    // A non-copy type.\n",
    "    // `to_owned` creates owned data from borrowed one\n",
    "    let mut farewell = \"goodbye\".to_owned();\n",
    "\n",
    "    // Capture 2 variables: `greeting` by reference and\n",
    "    // `farewell` by value.\n",
    "    let diary = || {\n",
    "        // `greeting` is by reference: requires `Fn`.\n",
    "        println!(\"I said {}.\", greeting);\n",
    "\n",
    "        // Mutation forces `farewell` to be captured by\n",
    "        // mutable reference. Now requires `FnMut`.\n",
    "        farewell.push_str(\"!!!\");\n",
    "        println!(\"Then I screamed {}.\", farewell);\n",
    "        println!(\"Now I can sleep. zzzzz\");\n",
    "\n",
    "        // Manually calling drop forces `farewell` to\n",
    "        // be captured by value. Now requires `FnOnce`.\n",
    "        mem::drop(farewell);\n",
    "    };\n",
    "\n",
    "    // Call the function which applies the closure.\n",
    "    apply(diary);\n",
    "\n",
    "    // `double` satisfies `apply_to_3`'s trait bound\n",
    "    let double = |x| 2 * x;\n",
    "\n",
    "    println!(\"3 doubled: {}\", apply_to_3(double));\n",
    "}\n"
   ]
  },
  {
   "cell_type": "markdown",
   "metadata": {
    "editable": false,
    "deletable": false
   },
   "source": [
    "## See also:\n",
    "\n",
    "[`std::mem::drop`](https://doc.rust-lang.org/std/mem/fn.drop.html), [`Fn`](https://doc.rust-lang.org/std/ops/trait.Fn.html), [`FnMut`](https://doc.rust-lang.org/std/ops/trait.FnMut.html), and [`FnOnce`](https://doc.rust-lang.org/std/ops/trait.FnOnce.html) "
   ]
  },
  {
   "cell_type": "markdown",
   "metadata": {
    "editable": false,
    "deletable": false
   },
   "source": [
    "---\n",
    "# 9.2.3. [Type anonymity](#9-Functions)\n",
    "\n",
    "Closures succinctly capture variables from enclosing scopes. Does this have any consequences? It surely does. Observe how using a closure as a function parameter requires [generics](https://doc.rust-lang.org/rust-by-example/generics.html), which is necessary because of how they are defined:"
   ]
  },
  {
   "cell_type": "code",
   "execution_count": 9,
   "metadata": {
    "editable": true,
    "deletable": false
   },
   "outputs": [
    {
     "ename": "Error",
     "evalue": "Items currently need to be explicitly made pub along with all fields of structs.",
     "output_type": "error",
     "traceback": [
      "Items currently need to be explicitly made pub along with all fields of structs."
     ]
    }
   ],
   "source": [
    "// `F` must be generic.\n",
    "fn apply<F>(f: F) where\n",
    "    F: FnOnce() {\n",
    "    f();\n",
    "}"
   ]
  },
  {
   "cell_type": "markdown",
   "metadata": {
    "editable": false,
    "deletable": false
   },
   "source": [
    "When a closure is defined, the compiler implicitly creates a new anonymous structure to store the captured variables inside, meanwhile implementing the functionality via one of the `traits`: `Fn`, `FnMut`, or `FnOnce` for this unknown type. This type is assigned to the variable which is stored until calling.\n",
    "\n",
    "Since this new type is of unknown type, any usage in a function will require generics. However, an unbounded type parameter `<T>` would still be ambiguous and not be allowed. Thus, bounding by one of the `traits`: `Fn`, `FnMut`, or `FnOnce` (which it implements) is sufficient to specify its type."
   ]
  },
  {
   "cell_type": "code",
   "execution_count": 10,
   "metadata": {
    "editable": true,
    "deletable": false
   },
   "outputs": [
    {
     "ename": "Error",
     "evalue": "Items currently need to be explicitly made pub along with all fields of structs.",
     "output_type": "error",
     "traceback": [
      "Items currently need to be explicitly made pub along with all fields of structs."
     ]
    }
   ],
   "source": [
    "// `F` must implement `Fn` for a closure which takes no\n",
    "// inputs and returns nothing - exactly what is required\n",
    "// for `print`.\n",
    "fn apply<F>(f: F) where\n",
    "    F: Fn() {\n",
    "    f();\n",
    "}\n",
    "\n",
    "fn main() {\n",
    "    let x = 7;\n",
    "\n",
    "    // Capture `x` into an anonymous type and implement\n",
    "    // `Fn` for it. Store it in `print`.\n",
    "    let print = || println!(\"{}\", x);\n",
    "\n",
    "    apply(print);\n",
    "}\n"
   ]
  },
  {
   "cell_type": "markdown",
   "metadata": {
    "editable": false,
    "deletable": false
   },
   "source": [
    "## See also:\n",
    "\n",
    "[A thorough analysis](https://huonw.github.io/blog/2015/05/finding-closure-in-rust/), [`Fn`](https://doc.rust-lang.org/std/ops/trait.Fn.html), [`FnMut`](https://doc.rust-lang.org/std/ops/trait.FnMut.html), and [`FnOnce`](https://doc.rust-lang.org/std/ops/trait.FnOnce.html)"
   ]
  },
  {
   "cell_type": "markdown",
   "metadata": {
    "editable": false,
    "deletable": false
   },
   "source": [
    "---\n",
    "# 9.2.4. [Input functions](#9-Functions)\n",
    "\n",
    "Since closures may be used as arguments, you might wonder if the same can be said about functions. And indeed they can! If you declare a function that takes a closure as parameter, then any function that satisfies the trait bound of that closure can be passed as a parameter."
   ]
  },
  {
   "cell_type": "code",
   "execution_count": 11,
   "metadata": {
    "editable": true,
    "deletable": false
   },
   "outputs": [
    {
     "ename": "Error",
     "evalue": "Items currently need to be explicitly made pub along with all fields of structs.",
     "output_type": "error",
     "traceback": [
      "Items currently need to be explicitly made pub along with all fields of structs."
     ]
    }
   ],
   "source": [
    "// Define a function which takes a generic `F` argument\n",
    "// bounded by `Fn`, and calls it\n",
    "fn call_me<F: Fn()>(f: F) {\n",
    "    f();\n",
    "}\n",
    "\n",
    "// Define a wrapper function satisfying the `Fn` bound\n",
    "fn function() {\n",
    "    println!(\"I'm a function!\");\n",
    "}\n",
    "\n",
    "fn main() {\n",
    "    // Define a closure satisfying the `Fn` bound\n",
    "    let closure = || println!(\"I'm a closure!\");\n",
    "\n",
    "    call_me(closure);\n",
    "    call_me(function);\n",
    "}\n"
   ]
  },
  {
   "cell_type": "markdown",
   "metadata": {
    "editable": false,
    "deletable": false
   },
   "source": [
    "As an additional note, the `Fn`, `FnMut`, and `FnOnce` `traits` dictate how a closure captures variables from the enclosing scope.\n",
    "\n",
    "## See also:\n",
    "\n",
    "[`Fn`](https://doc.rust-lang.org/std/ops/trait.Fn.html), [`FnMut`](https://doc.rust-lang.org/std/ops/trait.FnMut.html), and [`FnOnce`](https://doc.rust-lang.org/std/ops/trait.FnOnce.html)"
   ]
  },
  {
   "cell_type": "markdown",
   "metadata": {
    "editable": false,
    "deletable": false
   },
   "source": [
    "---\n",
    "# 9.2.5. [As output parameters](#9-Functions)\n",
    "\n",
    "Closures as input parameters are possible, so returning closures as output parameters should also be possible. However, returning closure types are problematic because Rust currently only supports returning concrete (non-generic) types. Anonymous closure types are, by definition, unknown and so returning a closure is only possible by making it concrete. This can be done via boxing.\n",
    "\n",
    "The valid traits for returns are slightly different than before:\n",
    "\n",
    "* `Fn`: normal\n",
    "* `FnMut`: normal\n",
    "* `FnOnce`: There are some unusual things at play here, so the `FnBox` type is currently needed, and is unstable. This is expected to change in the future.\n",
    "\n",
    "Beyond this, the `move` keyword must be used, which signals that all captures occur by value. This is required because any captures by reference would be dropped as soon as the function exited, leaving invalid references in the closure."
   ]
  },
  {
   "cell_type": "code",
   "execution_count": 12,
   "metadata": {
    "editable": true,
    "deletable": false
   },
   "outputs": [
    {
     "ename": "Error",
     "evalue": "Items currently need to be explicitly made pub along with all fields of structs.",
     "output_type": "error",
     "traceback": [
      "Items currently need to be explicitly made pub along with all fields of structs."
     ]
    }
   ],
   "source": [
    "fn create_fn() -> Box<Fn()> {\n",
    "    let text = \"Fn\".to_owned();\n",
    "\n",
    "    Box::new(move || println!(\"This is a: {}\", text))\n",
    "}\n",
    "\n",
    "fn create_fnmut() -> Box<FnMut()> {\n",
    "    let text = \"FnMut\".to_owned();\n",
    "\n",
    "    Box::new(move || println!(\"This is a: {}\", text))\n",
    "}\n",
    "\n",
    "fn main() {\n",
    "    let fn_plain = create_fn();\n",
    "    let mut fn_mut = create_fnmut();\n",
    "\n",
    "    fn_plain();\n",
    "    fn_mut();\n",
    "}\n"
   ]
  },
  {
   "cell_type": "markdown",
   "metadata": {
    "editable": false,
    "deletable": false
   },
   "source": [
    "## See also:\n",
    "\n",
    "[Boxing](https://doc.rust-lang.org/rust-by-example/std/box.html), [`Fn`](https://doc.rust-lang.org/std/ops/trait.Fn.html), [`FnMut`](https://doc.rust-lang.org/std/ops/trait.FnMut.html), and [Generics](https://doc.rust-lang.org/rust-by-example/generics.html)."
   ]
  },
  {
   "cell_type": "markdown",
   "metadata": {
    "editable": false,
    "deletable": false
   },
   "source": [
    "---\n",
    "# 9.2.6. [Examples in std](#9-Functions)\n",
    "\n",
    "This section contains a few examples of using closures from the `std` library.\n"
   ]
  },
  {
   "cell_type": "markdown",
   "metadata": {
    "editable": false,
    "deletable": false
   },
   "source": [
    "---\n",
    "# 9.2.6.1. [Iterator::any](#9-Functions)\n",
    "\n",
    "`Iterator::any` is a function which when passed an iterator, will return `true` if any element satisfies the predicate. Otherwise `false`. Its signature:\n",
    "\n",
    "```rust\n",
    "pub trait Iterator {\n",
    "    // The type being iterated over.\n",
    "    type Item;\n",
    "\n",
    "    // `any` takes `&mut self` meaning the caller may be borrowed\n",
    "    // and modified, but not consumed.\n",
    "    fn any<F>(&mut self, f: F) -> bool where\n",
    "        // `FnMut` meaning any captured variable may at most be\n",
    "        // modified, not consumed. `Self::Item` states it takes\n",
    "        // arguments to the closure by value.\n",
    "        F: FnMut(Self::Item) -> bool {}\n",
    "}\n",
    "```"
   ]
  },
  {
   "cell_type": "code",
   "execution_count": 15,
   "metadata": {
    "editable": true,
    "deletable": false
   },
   "outputs": [
    {
     "ename": "Error",
     "evalue": "Items currently need to be explicitly made pub along with all fields of structs.",
     "output_type": "error",
     "traceback": [
      "Items currently need to be explicitly made pub along with all fields of structs."
     ]
    }
   ],
   "source": [
    "fn main() {\n",
    "    let vec1 = vec![1, 2, 3];\n",
    "    let vec2 = vec![4, 5, 6];\n",
    "\n",
    "    // `iter()` for vecs yields `&i32`. Destructure to `i32`.\n",
    "    println!(\"2 in vec1: {}\", vec1.iter()     .any(|&x| x == 2));\n",
    "    // `into_iter()` for vecs yields `i32`. No destructuring required.\n",
    "    println!(\"2 in vec2: {}\", vec2.into_iter().any(| x| x == 2));\n",
    "\n",
    "    let array1 = [1, 2, 3];\n",
    "    let array2 = [4, 5, 6];\n",
    "\n",
    "    // `iter()` for arrays yields `&i32`.\n",
    "    println!(\"2 in array1: {}\", array1.iter()     .any(|&x| x == 2));\n",
    "    // `into_iter()` for arrays unusually yields `&i32`.\n",
    "    println!(\"2 in array2: {}\", array2.into_iter().any(|&x| x == 2));\n",
    "}\n"
   ]
  },
  {
   "cell_type": "markdown",
   "metadata": {
    "editable": false,
    "deletable": false
   },
   "source": [
    "## See also:\n",
    "\n",
    "[`std::iter::Iterator::any`](https://doc.rust-lang.org/std/iter/trait.Iterator.html#method.any)"
   ]
  },
  {
   "cell_type": "markdown",
   "metadata": {
    "editable": false,
    "deletable": false
   },
   "source": [
    "---\n",
    "# 9.2.6.2. [Iterator::find](#9-Functions)\n",
    "\n",
    "[`Iterator::find`] is a function which when passed an iterator, will return the first element which satisfies the predicate as an `Option`. Its signature:\n",
    "\n",
    "```rust\n",
    "pub trait Iterator {\n",
    "    // The type being iterated over.\n",
    "    type Item;\n",
    "\n",
    "    // `find` takes `&mut self` meaning the caller may be borrowed\n",
    "    // and modified, but not consumed.\n",
    "    fn find<P>(&mut self, predicate: P) -> Option<Self::Item> where\n",
    "        // `FnMut` meaning any captured variable may at most be\n",
    "        // modified, not consumed. `&Self::Item` states it takes\n",
    "        // arguments to the closure by reference.\n",
    "        P: FnMut(&Self::Item) -> bool {}\n",
    "}\n",
    "```"
   ]
  },
  {
   "cell_type": "code",
   "execution_count": 17,
   "metadata": {
    "editable": true,
    "deletable": false
   },
   "outputs": [
    {
     "ename": "Error",
     "evalue": "Items currently need to be explicitly made pub along with all fields of structs.",
     "output_type": "error",
     "traceback": [
      "Items currently need to be explicitly made pub along with all fields of structs."
     ]
    }
   ],
   "source": [
    "fn main() {\n",
    "    let vec1 = vec![1, 2, 3];\n",
    "    let vec2 = vec![4, 5, 6];\n",
    "\n",
    "    // `iter()` for vecs yields `&i32`.\n",
    "    let mut iter = vec1.iter();\n",
    "    // `into_iter()` for vecs yields `i32`.\n",
    "    let mut into_iter = vec2.into_iter();\n",
    "\n",
    "    // A reference to what is yielded is `&&i32`. Destructure to `i32`.\n",
    "    println!(\"Find 2 in vec1: {:?}\", iter     .find(|&&x| x == 2));\n",
    "    // A reference to what is yielded is `&i32`. Destructure to `i32`.\n",
    "    println!(\"Find 2 in vec2: {:?}\", into_iter.find(| &x| x == 2));\n",
    "\n",
    "    let array1 = [1, 2, 3];\n",
    "    let array2 = [4, 5, 6];\n",
    "\n",
    "    // `iter()` for arrays yields `&i32`\n",
    "    println!(\"Find 2 in array1: {:?}\", array1.iter()     .find(|&&x| x == 2));\n",
    "    // `into_iter()` for arrays unusually yields `&i32`\n",
    "    println!(\"Find 2 in array2: {:?}\", array2.into_iter().find(|&&x| x == 2));\n",
    "}\n"
   ]
  },
  {
   "cell_type": "markdown",
   "metadata": {
    "editable": false,
    "deletable": false
   },
   "source": [
    "## See also:\n",
    "\n",
    "[`std::iter::Iterator::find`](https://doc.rust-lang.org/std/iter/trait.Iterator.html#method.find)"
   ]
  },
  {
   "cell_type": "markdown",
   "metadata": {
    "editable": false,
    "deletable": false
   },
   "source": [
    "---\n",
    "# 9.3. [Higher Order Functions](#9-Functions)\n",
    "\n",
    "Rust provides Higher Order Functions (HOF). These are functions that take one or more functions and/or produce a more useful function. HOFs and lazy iterators give Rust its functional flavor."
   ]
  },
  {
   "cell_type": "code",
   "execution_count": 18,
   "metadata": {
    "editable": true,
    "deletable": false
   },
   "outputs": [
    {
     "ename": "Error",
     "evalue": "Items currently need to be explicitly made pub along with all fields of structs.",
     "output_type": "error",
     "traceback": [
      "Items currently need to be explicitly made pub along with all fields of structs."
     ]
    }
   ],
   "source": [
    "fn is_odd(n: u32) -> bool {\n",
    "    n % 2 == 1\n",
    "}\n",
    "\n",
    "fn main() {\n",
    "    println!(\"Find the sum of all the squared odd numbers under 1000\");\n",
    "    let upper = 1000;\n",
    "\n",
    "    // Imperative approach\n",
    "    // Declare accumulator variable\n",
    "    let mut acc = 0;\n",
    "    // Iterate: 0, 1, 2, ... to infinity\n",
    "    for n in 0.. {\n",
    "        // Square the number\n",
    "        let n_squared = n * n;\n",
    "\n",
    "        if n_squared >= upper {\n",
    "            // Break loop if exceeded the upper limit\n",
    "            break;\n",
    "        } else if is_odd(n_squared) {\n",
    "            // Accumulate value, if it's odd\n",
    "            acc += n_squared;\n",
    "        }\n",
    "    }\n",
    "    println!(\"imperative style: {}\", acc);\n",
    "\n",
    "    // Functional approach\n",
    "    let sum_of_squared_odd_numbers: u32 =\n",
    "        (0..).map(|n| n * n)                             // All natural numbers squared\n",
    "             .take_while(|&n_squared| n_squared < upper) // Below upper limit\n",
    "             .filter(|&n_squared| is_odd(n_squared))     // That are odd\n",
    "             .fold(0, |acc, n_squared| acc + n_squared); // Sum them\n",
    "    println!(\"functional style: {}\", sum_of_squared_odd_numbers);\n",
    "}\n"
   ]
  },
  {
   "cell_type": "markdown",
   "metadata": {
    "editable": false,
    "deletable": false
   },
   "source": [
    "[Option](https://doc.rust-lang.org/core/option/enum.Option.html) and [Iterator](https://doc.rust-lang.org/core/iter/trait.Iterator.html) implement their fair share of HOFs."
   ]
  },
  {
   "cell_type": "markdown",
   "metadata": {
    "editable": false,
    "deletable": false
   },
   "source": [
    "---\n",
    "# 9.4. [Diverging functions](#9-Functions)\n",
    "\n",
    "Diverging functions never return. They are marked using `!`, which is an empty type."
   ]
  },
  {
   "cell_type": "code",
   "execution_count": 19,
   "metadata": {
    "editable": true,
    "deletable": false
   },
   "outputs": [
    {
     "ename": "Error",
     "evalue": "Items currently need to be explicitly made pub along with all fields of structs.",
     "output_type": "error",
     "traceback": [
      "Items currently need to be explicitly made pub along with all fields of structs."
     ]
    }
   ],
   "source": [
    "fn foo() -> ! {\n",
    "    panic!(\"This call never returns.\");\n",
    "}"
   ]
  },
  {
   "cell_type": "markdown",
   "metadata": {
    "editable": false,
    "deletable": false
   },
   "source": [
    "As opposed to all the other types, this one cannot be instantiated, because the set of all possible values this type can have is empty. Note, that it is different from the `()` type, which has exactly one possible value.\n",
    "\n",
    "For example, this function returns as usual, although there is no information in the return value."
   ]
  },
  {
   "cell_type": "code",
   "execution_count": 20,
   "metadata": {
    "editable": true,
    "deletable": false
   },
   "outputs": [
    {
     "ename": "Error",
     "evalue": "Items currently need to be explicitly made pub along with all fields of structs.",
     "output_type": "error",
     "traceback": [
      "Items currently need to be explicitly made pub along with all fields of structs."
     ]
    }
   ],
   "source": [
    "fn some_fn() {\n",
    "    ()\n",
    "}\n",
    "\n",
    "fn main() {\n",
    "    let a: () = some_fn();\n",
    "    println!(\"This function returns and you can see this line.\")\n",
    "}\n"
   ]
  },
  {
   "cell_type": "markdown",
   "metadata": {
    "editable": false,
    "deletable": false
   },
   "source": [
    "As opposed to this function, which will never return the control back to the caller.\n",
    "\n",
    "```rust\n",
    "#![feature(never_type)]\n",
    "\n",
    "fn main() {\n",
    "    let x: ! = panic!(\"This call never returns.\");\n",
    "    println!(\"You will never see this line!\");\n",
    "}\n",
    "```\n",
    "\n",
    "Although this might seem like an abstract concept, it is in fact very useful and often handy. The main advantage of this type is that it can be cast to any other one and therefore used at places where an exact type is required, for instance in `match` branches. This allows us to write code like this:"
   ]
  },
  {
   "cell_type": "code",
   "execution_count": 22,
   "metadata": {
    "editable": true,
    "deletable": false
   },
   "outputs": [
    {
     "ename": "Error",
     "evalue": "Items currently need to be explicitly made pub along with all fields of structs.",
     "output_type": "error",
     "traceback": [
      "Items currently need to be explicitly made pub along with all fields of structs."
     ]
    }
   ],
   "source": [
    "fn main() {\n",
    "    fn sum_odd_numbers(up_to: u32) -> u32 {\n",
    "        let mut acc = 0;\n",
    "        for i in 0..up_to {\n",
    "            // Notice that the return type of this match expression must be u32\n",
    "            // because of the type of the \"addition\" variable.\n",
    "            let addition: u32 = match i%2 == 1 {\n",
    "                // The \"i\" variable is of type u32, which is perfectly fine.\n",
    "                true => i,\n",
    "                // On the other hand, the \"continue\" expression does not return\n",
    "                // u32, but it is still fine, because it never returns and therefore\n",
    "                // does not violate the type requirements of the match expression.\n",
    "                false => continue,\n",
    "            };\n",
    "            acc += addition;\n",
    "        }\n",
    "        acc\n",
    "    }\n",
    "    println!(\"Sum of odd numbers up to 9 (excluding): {}\", sum_odd_numbers(9));\n",
    "}"
   ]
  },
  {
   "cell_type": "markdown",
   "metadata": {
    "editable": false,
    "deletable": false
   },
   "source": [
    "It is also the return type of functions that loop forever (e.g. `loop {}`) like network servers or functions that terminates the process (e.g. `exit()`)."
   ]
  }
 ],
 "metadata": {
  "kernelspec": {
   "display_name": "Rust",
   "language": "rust",
   "name": "rust"
  },
  "language_info": {
   "codemirror_mode": "rust",
   "file_extension": ".rs",
   "mimetype": "text/rust",
   "name": "Rust",
   "pygment_lexer": "rust",
   "version": ""
  }
 },
 "nbformat": 4,
 "nbformat_minor": 2
}