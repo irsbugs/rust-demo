{
 "cells": [
  {
   "cell_type": "markdown",
   "metadata": {
    "editable": false,
    "deletable": false
   },
   "source": [
    "# 16 [Traits](#16.-Traits)\n",
    "\n",
    "* ### 16.1 [Derive](#16.1.-Derive)\n",
    "\n",
    "* ### 16.2 [Operator Overloading](#16.2.-Operator-Overloading)\n",
    "\n",
    "* ### 16.3 [Drop](#16.3.-Drop)\n",
    "\n",
    "* ### 16.4 [Iterators](#16.4.-Iterators)\n",
    "\n",
    "* ### 16.5 [Clone](#16.5.-Clone)"
   ]
  },
  {
   "cell_type": "markdown",
   "metadata": {
    "editable": false,
    "deletable": false
   },
   "source": [
    "---\n",
    "# 16. [Traits](#16-Traits)\n",
    "\n",
    "A `trait` is a collection of methods defined for an unknown type: `Self`. They can access other methods declared in the same trait.\n",
    "\n",
    "Traits can be implemented for any data type. In the example below, we define `Animal`, a group of methods. The `Animal` `trait` is then implemented for the `Sheep` data type, allowing the use of methods from `Animal` with a `Sheep`."
   ]
  },
  {
   "cell_type": "code",
   "execution_count": 4,
   "metadata": {
    "editable": true,
    "deletable": false
   },
   "outputs": [
    {
     "ename": "Error",
     "evalue": "Items currently need to be explicitly made pub along with all fields of structs.",
     "output_type": "error",
     "traceback": [
      "Items currently need to be explicitly made pub along with all fields of structs."
     ]
    }
   ],
   "source": [
    "struct Sheep { naked: bool, name: &'static str }\n",
    "\n",
    "trait Animal {\n",
    "    // Static method signature; `Self` refers to the implementor type.\n",
    "    fn new(name: &'static str) -> Self;\n",
    "\n",
    "    // Instance method signatures; these will return a string.\n",
    "    fn name(&self) -> &'static str;\n",
    "    fn noise(&self) -> &'static str;\n",
    "\n",
    "    // Traits can provide default method definitions.\n",
    "    fn talk(&self) {\n",
    "        println!(\"{} says {}\", self.name(), self.noise());\n",
    "    }\n",
    "}\n",
    "\n",
    "impl Sheep {\n",
    "    fn is_naked(&self) -> bool {\n",
    "        self.naked\n",
    "    }\n",
    "\n",
    "    fn shear(&mut self) {\n",
    "        if self.is_naked() {\n",
    "            // Implementor methods can use the implementor's trait methods.\n",
    "            println!(\"{} is already naked...\", self.name());\n",
    "        } else {\n",
    "            println!(\"{} gets a haircut!\", self.name);\n",
    "\n",
    "            self.naked = true;\n",
    "        }\n",
    "    }\n",
    "}\n",
    "\n",
    "// Implement the `Animal` trait for `Sheep`.\n",
    "impl Animal for Sheep {\n",
    "    // `Self` is the implementor type: `Sheep`.\n",
    "    fn new(name: &'static str) -> Sheep {\n",
    "        Sheep { name: name, naked: false }\n",
    "    }\n",
    "\n",
    "    fn name(&self) -> &'static str {\n",
    "        self.name\n",
    "    }\n",
    "\n",
    "    fn noise(&self) -> &'static str {\n",
    "        if self.is_naked() {\n",
    "            \"baaaaah?\"\n",
    "        } else {\n",
    "            \"baaaaah!\"\n",
    "        }\n",
    "    }\n",
    "    \n",
    "    // Default trait methods can be overridden.\n",
    "    fn talk(&self) {\n",
    "        // For example, we can add some quiet contemplation.\n",
    "        println!(\"{} pauses briefly... {}\", self.name, self.noise());\n",
    "    }\n",
    "}\n",
    "\n",
    "fn main() {\n",
    "    // Type annotation is necessary in this case.\n",
    "    let mut dolly: Sheep = Animal::new(\"Dolly\");\n",
    "    // TODO ^ Try removing the type annotations.\n",
    "\n",
    "    dolly.talk();\n",
    "    dolly.shear();\n",
    "    dolly.talk();\n",
    "}"
   ]
  },
  {
   "cell_type": "markdown",
   "metadata": {
    "editable": false,
    "deletable": false
   },
   "source": [
    "---\n",
    "# 16.1. [Derive](#16-Traits)\n",
    "\n",
    "The compiler is capable of providing basic implementations for some traits via the `#[derive]` [attribute](https://doc.rust-lang.org/rust-by-example/attribute.html). These traits can still be manually implemented if a more complex behavior is required.\n",
    "\n",
    "The following is a list of derivable traits:\n",
    "\n",
    "* Comparison traits: [`Eq`](https://doc.rust-lang.org/std/cmp/trait.Eq.html), [`PartialEq`](https://doc.rust-lang.org/std/cmp/trait.PartialEq.html), [`Ord`](https://doc.rust-lang.org/std/cmp/trait.Ord.html), [`PartialOrd`](https://doc.rust-lang.org/std/cmp/trait.PartialOrd.html).\n",
    "* [`Clone`](https://doc.rust-lang.org/std/clone/trait.Clone.html), to create `T` from `&T` via a copy.\n",
    "* [`Copy`](https://doc.rust-lang.org/core/marker/trait.Copy.html), to give a type 'copy semantics' instead of 'move semantics'.\n",
    "* [`Hash`](https://doc.rust-lang.org/std/hash/trait.Hash.html), to compute a hash from `&T`.\n",
    "* [`Default`](https://doc.rust-lang.org/std/default/trait.Default.html), to create an empty instance of a data type.\n",
    "* [`Debug`](https://doc.rust-lang.org/std/fmt/trait.Debug.html), to format a value using the `{:?}` formatter.\n"
   ]
  },
  {
   "cell_type": "code",
   "execution_count": null,
   "metadata": {
    "editable": true,
    "deletable": false
   },
   "outputs": [],
   "source": [
    "// `Centimeters`, a tuple struct that can be compared\n",
    "#[derive(PartialEq, PartialOrd)]\n",
    "struct Centimeters(f64);\n",
    "\n",
    "// `Inches`, a tuple struct that can be printed\n",
    "#[derive(Debug)]\n",
    "struct Inches(i32);\n",
    "\n",
    "impl Inches {\n",
    "    fn to_centimeters(&self) -> Centimeters {\n",
    "        let &Inches(inches) = self;\n",
    "\n",
    "        Centimeters(inches as f64 * 2.54)\n",
    "    }\n",
    "}\n",
    "\n",
    "// `Seconds`, a tuple struct no additional attributes\n",
    "struct Seconds(i32);\n",
    "\n",
    "fn main() {\n",
    "    let _one_second = Seconds(1);\n",
    "\n",
    "    // Error: `Seconds` can't be printed; it doesn't implement the `Debug` trait\n",
    "    //println!(\"One second looks like: {:?}\", _one_second);\n",
    "    // TODO ^ Try uncommenting this line\n",
    "\n",
    "    // Error: `Seconds` can't be compared; it doesn't implement the `PartialEq` trait\n",
    "    //let _this_is_true = (_one_second == _one_second);\n",
    "    // TODO ^ Try uncommenting this line\n",
    "\n",
    "    let foot = Inches(12);\n",
    "\n",
    "    println!(\"One foot equals {:?}\", foot);\n",
    "\n",
    "    let meter = Centimeters(100.0);\n",
    "\n",
    "    let cmp =\n",
    "        if foot.to_centimeters() < meter {\n",
    "            \"smaller\"\n",
    "        } else {\n",
    "            \"bigger\"\n",
    "        };\n",
    "\n",
    "    println!(\"One foot is {} than one meter.\", cmp);\n",
    "}\n"
   ]
  },
  {
   "cell_type": "markdown",
   "metadata": {
    "editable": false,
    "deletable": false
   },
   "source": [
    "## See also:\n",
    "\n",
    "[`derive`](https://doc.rust-lang.org/reference/attributes.html#derive)"
   ]
  },
  {
   "cell_type": "markdown",
   "metadata": {
    "editable": false,
    "deletable": false
   },
   "source": [
    "---\n",
    "# 16.2. [Operator Overloading](#16-Traits)\n",
    "\n",
    "In Rust, many of the operators can be overloaded via traits. That is, some operators can be used to accomplish different tasks based on their input arguments. This is possible because operators are syntactic sugar for method calls. For example, the `+` operator in `a + b` calls the `add` method (as in `a.add(b)`). This `add` method is part of the `Add` trait. Hence, the `+` operator can be used by any implementor of the `Add` trait.\n",
    "\n",
    "A list of the traits, such as Add, that overload operators can be found in core::ops."
   ]
  },
  {
   "cell_type": "code",
   "execution_count": null,
   "metadata": {
    "editable": true,
    "deletable": false
   },
   "outputs": [],
   "source": [
    "use std::ops;\n",
    "\n",
    "struct Foo;\n",
    "struct Bar;\n",
    "\n",
    "#[derive(Debug)]\n",
    "struct FooBar;\n",
    "\n",
    "#[derive(Debug)]\n",
    "struct BarFoo;\n",
    "\n",
    "// The `std::ops::Add` trait is used to specify the functionality of `+`.\n",
    "// Here, we make `Add<Bar>` - the trait for addition with a RHS of type `Bar`.\n",
    "// The following block implements the operation: Foo + Bar = FooBar\n",
    "impl ops::Add<Bar> for Foo {\n",
    "    type Output = FooBar;\n",
    "\n",
    "    fn add(self, _rhs: Bar) -> FooBar {\n",
    "        println!(\"> Foo.add(Bar) was called\");\n",
    "\n",
    "        FooBar\n",
    "    }\n",
    "}\n",
    "\n",
    "// By reversing the types, we end up implementing non-commutative addition.\n",
    "// Here, we make `Add<Foo>` - the trait for addition with a RHS of type `Foo`.\n",
    "// This block implements the operation: Bar + Foo = BarFoo\n",
    "impl ops::Add<Foo> for Bar {\n",
    "    type Output = BarFoo;\n",
    "\n",
    "    fn add(self, _rhs: Foo) -> BarFoo {\n",
    "        println!(\"> Bar.add(Foo) was called\");\n",
    "\n",
    "        BarFoo\n",
    "    }\n",
    "}\n",
    "\n",
    "fn main() {\n",
    "    println!(\"Foo + Bar = {:?}\", Foo + Bar);\n",
    "    println!(\"Bar + Foo = {:?}\", Bar + Foo);\n",
    "}\n"
   ]
  },
  {
   "cell_type": "markdown",
   "metadata": {
    "editable": false,
    "deletable": false
   },
   "source": [
    "## See Also\n",
    "\n",
    "[Add](https://doc.rust-lang.org/core/ops/trait.Add.html), [Syntax Index](https://doc.rust-lang.org/book/appendix-02-operators.html)"
   ]
  },
  {
   "cell_type": "markdown",
   "metadata": {
    "editable": false,
    "deletable": false
   },
   "source": [
    "---\n",
    "# 16.3. [Drop](#16-Traits)\n",
    "\n",
    "The [`Drop`](https://doc.rust-lang.org/std/ops/trait.Drop.html) trait only has one method: `drop`, which is called automatically when an object goes out of scope. The main use of the `Drop` trait is to free the resources that the implementor instance owns.\n",
    "\n",
    "`Box`, `Vec`, `String`, `File`, and `Process` are some examples of types that implement the `Drop` trait to free resources. The `Drop` trait can also be manually implemented for any custom data type.\n",
    "\n",
    "The following example adds a print to console to the `drop` function to announce when it is called."
   ]
  },
  {
   "cell_type": "code",
   "execution_count": 5,
   "metadata": {
    "editable": true,
    "deletable": false
   },
   "outputs": [
    {
     "ename": "Error",
     "evalue": "Items currently need to be explicitly made pub along with all fields of structs.",
     "output_type": "error",
     "traceback": [
      "Items currently need to be explicitly made pub along with all fields of structs."
     ]
    }
   ],
   "source": [
    "struct Droppable {\n",
    "    name: &'static str,\n",
    "}\n",
    "\n",
    "// This trivial implementation of `drop` adds a print to console.\n",
    "impl Drop for Droppable {\n",
    "    fn drop(&mut self) {\n",
    "        println!(\"> Dropping {}\", self.name);\n",
    "    }\n",
    "}\n",
    "\n",
    "fn main() {\n",
    "    let _a = Droppable { name: \"a\" };\n",
    "\n",
    "    // block A\n",
    "    {\n",
    "        let _b = Droppable { name: \"b\" };\n",
    "\n",
    "        // block B\n",
    "        {\n",
    "            let _c = Droppable { name: \"c\" };\n",
    "            let _d = Droppable { name: \"d\" };\n",
    "\n",
    "            println!(\"Exiting block B\");\n",
    "        }\n",
    "        println!(\"Just exited block B\");\n",
    "\n",
    "        println!(\"Exiting block A\");\n",
    "    }\n",
    "    println!(\"Just exited block A\");\n",
    "\n",
    "    // Variable can be manually dropped using the `drop` function\n",
    "    drop(_a);\n",
    "    // TODO ^ Try commenting this line\n",
    "\n",
    "    println!(\"end of the main function\");\n",
    "\n",
    "    // `_a` *won't* be `drop`ed again here, because it already has been\n",
    "    // (manually) `drop`ed\n",
    "}\n"
   ]
  },
  {
   "cell_type": "markdown",
   "metadata": {
    "editable": false,
    "deletable": false
   },
   "source": [
    "---\n",
    "# 16.4. [Iterators](#16-Traits)\n",
    "\n",
    "The [`Iterator`](https://doc.rust-lang.org/core/iter/trait.Iterator.html) trait is used to implement iterators over collections such as arrays.\n",
    "\n",
    "The trait requires only a method to be defined for the `next` element, which may be manually defined in an `impl` block or automatically defined (as in arrays and ranges).\n",
    "\n",
    "As a point of convenience for common situations, the `for` construct turns some collections into iterators using the [`.into_iter()`](https://doc.rust-lang.org/std/iter/trait.IntoIterator.html) method."
   ]
  },
  {
   "cell_type": "code",
   "execution_count": 6,
   "metadata": {
    "editable": true,
    "deletable": false
   },
   "outputs": [
    {
     "ename": "Error",
     "evalue": "Items currently need to be explicitly made pub along with all fields of structs.",
     "output_type": "error",
     "traceback": [
      "Items currently need to be explicitly made pub along with all fields of structs."
     ]
    }
   ],
   "source": [
    "struct Fibonacci {\n",
    "    curr: u32,\n",
    "    next: u32,\n",
    "}\n",
    "\n",
    "// Implement `Iterator` for `Fibonacci`.\n",
    "// The `Iterator` trait only requires a method to be defined for the `next` element.\n",
    "impl Iterator for Fibonacci {\n",
    "    type Item = u32;\n",
    "    \n",
    "    // Here, we define the sequence using `.curr` and `.next`.\n",
    "    // The return type is `Option<T>`:\n",
    "    //     * When the `Iterator` is finished, `None` is returned.\n",
    "    //     * Otherwise, the next value is wrapped in `Some` and returned.\n",
    "    fn next(&mut self) -> Option<u32> {\n",
    "        let new_next = self.curr + self.next;\n",
    "\n",
    "        self.curr = self.next;\n",
    "        self.next = new_next;\n",
    "\n",
    "        // Since there's no endpoint to a Fibonacci sequence, the `Iterator` \n",
    "        // will never return `None`, and `Some` is always returned.\n",
    "        Some(self.curr)\n",
    "    }\n",
    "}\n",
    "\n",
    "// Returns a Fibonacci sequence generator\n",
    "fn fibonacci() -> Fibonacci {\n",
    "    Fibonacci { curr: 1, next: 1 }\n",
    "}\n",
    "\n",
    "fn main() {\n",
    "    // `0..3` is an `Iterator` that generates: 0, 1, and 2.\n",
    "    let mut sequence = 0..3;\n",
    "\n",
    "    println!(\"Four consecutive `next` calls on 0..3\");\n",
    "    println!(\"> {:?}\", sequence.next());\n",
    "    println!(\"> {:?}\", sequence.next());\n",
    "    println!(\"> {:?}\", sequence.next());\n",
    "    println!(\"> {:?}\", sequence.next());\n",
    "\n",
    "    // `for` works through an `Iterator` until it returns `None`.\n",
    "    // Each `Some` value is unwrapped and bound to a variable (here, `i`).\n",
    "    println!(\"Iterate through 0..3 using `for`\");\n",
    "    for i in 0..3 {\n",
    "        println!(\"> {}\", i);\n",
    "    }\n",
    "\n",
    "    // The `take(n)` method reduces an `Iterator` to its first `n` terms.\n",
    "    println!(\"The first four terms of the Fibonacci sequence are: \");\n",
    "    for i in fibonacci().take(4) {\n",
    "        println!(\"> {}\", i);\n",
    "    }\n",
    "\n",
    "    // The `skip(n)` method shortens an `Iterator` by dropping its first `n` terms.\n",
    "    println!(\"The next four terms of the Fibonacci sequence are: \");\n",
    "    for i in fibonacci().skip(4).take(4) {\n",
    "        println!(\"> {}\", i);\n",
    "    }\n",
    "\n",
    "    let array = [1u32, 3, 3, 7];\n",
    "\n",
    "    // The `iter` method produces an `Iterator` over an array/slice.\n",
    "    println!(\"Iterate the following array {:?}\", &array);\n",
    "    for i in array.iter() {\n",
    "        println!(\"> {}\", i);\n",
    "    }\n",
    "}\n"
   ]
  },
  {
   "cell_type": "markdown",
   "metadata": {
    "editable": false,
    "deletable": false
   },
   "source": [
    "---\n",
    "# 16.5. [Clone](#16-Traits)\n",
    "\n",
    "When dealing with resources, the default behavior is to transfer them during assignments or function calls. However, sometimes we need to make a copy of the resource as well.\n",
    "\n",
    "The [`Clone`](https://doc.rust-lang.org/std/clone/trait.Clone.html) trait helps us do exactly this. Most commonly, we can use the `.clone()` method defined by the `Clone` trait."
   ]
  },
  {
   "cell_type": "code",
   "execution_count": 7,
   "metadata": {
    "editable": true,
    "deletable": false
   },
   "outputs": [
    {
     "ename": "Error",
     "evalue": "Items currently need to be explicitly made pub along with all fields of structs.",
     "output_type": "error",
     "traceback": [
      "Items currently need to be explicitly made pub along with all fields of structs."
     ]
    }
   ],
   "source": [
    "// A unit struct without resources\n",
    "#[derive(Debug, Clone, Copy)]\n",
    "struct Nil;\n",
    "\n",
    "// A tuple struct with resources that implements the `Clone` trait\n",
    "#[derive(Clone, Debug)]\n",
    "struct Pair(Box<i32>, Box<i32>);\n",
    "\n",
    "fn main() {\n",
    "    // Instantiate `Nil`\n",
    "    let nil = Nil;\n",
    "    // Copy `Nil`, there are no resources to move\n",
    "    let copied_nil = nil;\n",
    "\n",
    "    // Both `Nil`s can be used independently\n",
    "    println!(\"original: {:?}\", nil);\n",
    "    println!(\"copy: {:?}\", copied_nil);\n",
    "\n",
    "    // Instantiate `Pair`\n",
    "    let pair = Pair(Box::new(1), Box::new(2));\n",
    "    println!(\"original: {:?}\", pair);\n",
    "\n",
    "    // Copy `pair` into `moved_pair`, moves resources\n",
    "    let moved_pair = pair;\n",
    "    println!(\"copy: {:?}\", moved_pair);\n",
    "\n",
    "    // Error! `pair` has lost its resources\n",
    "    //println!(\"original: {:?}\", pair);\n",
    "    // TODO ^ Try uncommenting this line\n",
    "    \n",
    "    // Clone `moved_pair` into `cloned_pair` (resources are included)\n",
    "    let cloned_pair = moved_pair.clone();\n",
    "    // Drop the original pair using std::mem::drop\n",
    "    drop(moved_pair);\n",
    "\n",
    "    // Error! `moved_pair` has been dropped\n",
    "    //println!(\"copy: {:?}\", moved_pair);\n",
    "    // TODO ^ Try uncommenting this line\n",
    "\n",
    "    // The result from .clone() can still be used!\n",
    "    println!(\"clone: {:?}\", cloned_pair);\n",
    "}\n"
   ]
  }
 ],
 "metadata": {
  "kernelspec": {
   "display_name": "Rust",
   "language": "rust",
   "name": "rust"
  },
  "language_info": {
   "codemirror_mode": "rust",
   "file_extension": ".rs",
   "mimetype": "text/rust",
   "name": "Rust",
   "pygment_lexer": "rust",
   "version": ""
  }
 },
 "nbformat": 4,
 "nbformat_minor": 2
}