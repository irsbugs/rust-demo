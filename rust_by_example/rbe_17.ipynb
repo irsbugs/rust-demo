{
 "cells": [
  {
   "cell_type": "markdown",
   "metadata": {
    "editable": false,
    "deletable": false
   },
   "source": [
    "# 17 [macro_rules!](#17-macro_rules!)\n",
    "\n",
    "* ### 17.1 [Syntax](#17.1.-Syntax)\n",
    "\n",
    "    * ### 17.1.1 [Designators](#17.1.1.-Designators)\n",
    "\n",
    "    * ### 17.1.2 [Overload](#17.1.2.-Overload)\n",
    "\n",
    "    * ### 17.1.3 [Repeat](#17.1.3.-Repeat)\n",
    "\n",
    "* ### 17.2 [DRY - Don't Repeat Yourself](#17.2.-DRY---Don't-Repeat-Yourself)\n",
    "\n",
    "* ### 17.3 [DSL - Domain Specific Language](#17.3.-DSL---Domain-Specific-Language)\n",
    "\n",
    "* ### 17.4 [Variadics](#17.4.-Variadics)"
   ]
  },
  {
   "cell_type": "markdown",
   "metadata": {
    "editable": false,
    "deletable": false
   },
   "source": [
    "---\n",
    "# 17. [macro_rules!](#17-macro_rules!)\n",
    "\n",
    "Rust provides a powerful macro system that allows metaprogramming. As you've seen in previous chapters, macros look like functions, except that their name ends with a bang `!`, but instead of generating a function call, macros are expanded into source code that gets compiled with the rest of the program. However, unlike macros in C and other languages, Rust macros are expanded into abstract syntax trees, rather than string preprocessing, so you don't get unexpected precedence bugs.\n",
    "\n",
    "Macros are created using the `macro_rules!` macro."
   ]
  },
  {
   "cell_type": "code",
   "execution_count": 4,
   "metadata": {
    "editable": true,
    "deletable": false
   },
   "outputs": [
    {
     "ename": "Error",
     "evalue": "Items currently need to be explicitly made pub along with all fields of structs.",
     "output_type": "error",
     "traceback": [
      "Items currently need to be explicitly made pub along with all fields of structs."
     ]
    }
   ],
   "source": [
    "// This is a simple macro named `say_hello`.\n",
    "macro_rules! say_hello {\n",
    "    // `()` indicates that the macro takes no argument.\n",
    "    () => (\n",
    "        // The macro will expand into the contents of this block.\n",
    "        println!(\"Hello!\");\n",
    "    )\n",
    "}\n",
    "\n",
    "fn main() {\n",
    "    // This call will expand into `println!(\"Hello\");`\n",
    "    say_hello!()\n",
    "}\n"
   ]
  },
  {
   "cell_type": "markdown",
   "metadata": {
    "editable": false,
    "deletable": false
   },
   "source": [
    "So why are macros useful?\n",
    "\n",
    "1. Don't repeat yourself. There are many cases where you may need similar functionality in multiple places but with different types. Often, writing a macro is a useful way to avoid repeating code. (More on this later)\n",
    "\n",
    "2. Domain-specific languages. Macros allow you to define special syntax for a specific purpose. (More on this later)\n",
    "\n",
    "3. Variadic interfaces. Sometime you want to define an interface that takes a variable number of arguments. An example is `println!` which could take any number of arguments, depending on the format string!. (More on this later)\n"
   ]
  },
  {
   "cell_type": "markdown",
   "metadata": {
    "editable": false,
    "deletable": false
   },
   "source": [
    "---\n",
    "# 17.1. [Syntax](#17-macro_rules!)\n",
    "\n",
    "In following subsections, we will show how to define macros in Rust. There are three basic ideas:\n",
    "\n",
    "* [Patterns and Designators](https://doc.rust-lang.org/rust-by-example/macros/designators.html)\n",
    "* [Overloading](https://doc.rust-lang.org/rust-by-example/macros/overload.html)\n",
    "* [Repetition](https://doc.rust-lang.org/rust-by-example/macros/repeat.html)\n"
   ]
  },
  {
   "cell_type": "markdown",
   "metadata": {
    "editable": false,
    "deletable": false
   },
   "source": [
    "---\n",
    "# 17.1.1. [Designators](#17-macro_rules!)\n",
    "\n",
    "The arguments of a macro are prefixed by a dollar sign `$` and type annotated with a *designator*:"
   ]
  },
  {
   "cell_type": "code",
   "execution_count": 5,
   "metadata": {
    "editable": true,
    "deletable": false
   },
   "outputs": [
    {
     "ename": "Error",
     "evalue": "Items currently need to be explicitly made pub along with all fields of structs.",
     "output_type": "error",
     "traceback": [
      "Items currently need to be explicitly made pub along with all fields of structs."
     ]
    }
   ],
   "source": [
    "macro_rules! create_function {\n",
    "    // This macro takes an argument of designator `ident` and\n",
    "    // creates a function named `$func_name`.\n",
    "    // The `ident` designator is used for variable/function names.\n",
    "    ($func_name:ident) => (\n",
    "        fn $func_name() {\n",
    "            // The `stringify!` macro converts an `ident` into a string.\n",
    "            println!(\"You called {:?}()\",\n",
    "                     stringify!($func_name));\n",
    "        }\n",
    "    )\n",
    "}\n",
    "\n",
    "// Create functions named `foo` and `bar` with the above macro.\n",
    "create_function!(foo);\n",
    "create_function!(bar);\n",
    "\n",
    "macro_rules! print_result {\n",
    "    // This macro takes an expression of type `expr` and prints\n",
    "    // it as a string along with its result.\n",
    "    // The `expr` designator is used for expressions.\n",
    "    ($expression:expr) => (\n",
    "        // `stringify!` will convert the expression *as it is* into a string.\n",
    "        println!(\"{:?} = {:?}\",\n",
    "                 stringify!($expression),\n",
    "                 $expression);\n",
    "    )\n",
    "}\n",
    "\n",
    "fn main() {\n",
    "    foo();\n",
    "    bar();\n",
    "\n",
    "    print_result!(1u32 + 1);\n",
    "\n",
    "    // Recall that blocks are expressions too!\n",
    "    print_result!({\n",
    "        let x = 1u32;\n",
    "\n",
    "        x * x + 2 * x - 1\n",
    "    });\n",
    "}\n"
   ]
  },
  {
   "cell_type": "markdown",
   "metadata": {
    "editable": false,
    "deletable": false
   },
   "source": [
    "These are some of the available designators:\n",
    "\n",
    "* `block`\n",
    "* `expr` is used for expressions\n",
    "* `ident` is used for variable/function names\n",
    "* `item`\n",
    "* `literal` is used for literal constants\n",
    "* `pat` (*pattern*)\n",
    "* `path`\n",
    "* `stmt` (*statement*)\n",
    "* `tt` (*token tree*)\n",
    "* `ty` (*type*)\n",
    "* `vis` (*visibility qualifier*)\n",
    "\n",
    "For a complete list, see the [Rust Reference](https://doc.rust-lang.org/reference/macros-by-example.html)."
   ]
  },
  {
   "cell_type": "markdown",
   "metadata": {
    "editable": false,
    "deletable": false
   },
   "source": [
    "---\n",
    "# 17.1.2. [Overload](#17-macro_rules!)\n",
    "\n",
    "Macros can be overloaded to accept different combinations of arguments. In that regard, `macro_rules!` can work similarly to a match block:"
   ]
  },
  {
   "cell_type": "code",
   "execution_count": 6,
   "metadata": {
    "editable": true,
    "deletable": false
   },
   "outputs": [
    {
     "ename": "Error",
     "evalue": "Items currently need to be explicitly made pub along with all fields of structs.",
     "output_type": "error",
     "traceback": [
      "Items currently need to be explicitly made pub along with all fields of structs."
     ]
    }
   ],
   "source": [
    "// `test!` will compare `$left` and `$right`\n",
    "// in different ways depending on how you invoke it:\n",
    "macro_rules! test {\n",
    "    // Arguments don't need to be separated by a comma.\n",
    "    // Any template can be used!\n",
    "    ($left:expr; and $right:expr) => (\n",
    "        println!(\"{:?} and {:?} is {:?}\",\n",
    "                 stringify!($left),\n",
    "                 stringify!($right),\n",
    "                 $left && $right)\n",
    "    );\n",
    "    // ^ each arm must end with a semicolon.\n",
    "    ($left:expr; or $right:expr) => (\n",
    "        println!(\"{:?} or {:?} is {:?}\",\n",
    "                 stringify!($left),\n",
    "                 stringify!($right),\n",
    "                 $left || $right)\n",
    "    );\n",
    "}\n",
    "\n",
    "fn main() {\n",
    "    test!(1i32 + 1 == 2i32; and 2i32 * 2 == 4i32);\n",
    "    test!(true; or false);\n",
    "}\n"
   ]
  },
  {
   "cell_type": "markdown",
   "metadata": {
    "editable": false,
    "deletable": false
   },
   "source": [
    "---\n",
    "# 17.1.3. [Repeat](#17-macro_rules!)\n",
    "\n",
    "Macros can use `+` in the argument list to indicate that an argument may repeat at least once, or `*`, to indicate that the argument may repeat zero or more times.\n",
    "\n",
    "In the following example, surrounding the matcher with `$(...),+` will match one or more expression, separated by commas. Also note that the semicolon is optional on the last case."
   ]
  },
  {
   "cell_type": "code",
   "execution_count": 7,
   "metadata": {
    "editable": true,
    "deletable": false
   },
   "outputs": [
    {
     "ename": "Error",
     "evalue": "Items currently need to be explicitly made pub along with all fields of structs.",
     "output_type": "error",
     "traceback": [
      "Items currently need to be explicitly made pub along with all fields of structs."
     ]
    }
   ],
   "source": [
    "// `min!` will calculate the minimum of any number of arguments.\n",
    "macro_rules! find_min {\n",
    "    // Base case:\n",
    "    ($x:expr) => ($x);\n",
    "    // `$x` followed by at least one `$y,`\n",
    "    ($x:expr, $($y:expr),+) => (\n",
    "        // Call `find_min!` on the tail `$y`\n",
    "        std::cmp::min($x, find_min!($($y),+))\n",
    "    )\n",
    "}\n",
    "\n",
    "fn main() {\n",
    "    println!(\"{}\", find_min!(1u32));\n",
    "    println!(\"{}\", find_min!(1u32 + 2 , 2u32));\n",
    "    println!(\"{}\", find_min!(5u32, 2u32 * 3, 4u32));\n",
    "}\n"
   ]
  },
  {
   "cell_type": "markdown",
   "metadata": {
    "editable": false,
    "deletable": false
   },
   "source": [
    "---\n",
    "# 17.2. [DRY - Don't Repeat Yourself](#17-macro_rules!)\n",
    "\n",
    "Macros allow writing DRY code by factoring out the common parts of functions and/or test suites. Here is an example that implements and tests the `+=`, `*=` and `-=` operators on `Vec<T>`:"
   ]
  },
  {
   "cell_type": "code",
   "execution_count": 9,
   "metadata": {
    "editable": true,
    "deletable": false
   },
   "outputs": [
    {
     "ename": "Error",
     "evalue": "Items currently need to be explicitly made pub along with all fields of structs.",
     "output_type": "error",
     "traceback": [
      "Items currently need to be explicitly made pub along with all fields of structs."
     ]
    }
   ],
   "source": [
    "use std::ops::{Add, Mul, Sub};\n",
    "\n",
    "macro_rules! assert_equal_len {\n",
    "    // The `tt` (token tree) designator is used for\n",
    "    // operators and tokens.\n",
    "    ($a:ident, $b:ident, $func:ident, $op:tt) => (\n",
    "        assert!($a.len() == $b.len(),\n",
    "                \"{:?}: dimension mismatch: {:?} {:?} {:?}\",\n",
    "                stringify!($func),\n",
    "                ($a.len(),),\n",
    "                stringify!($op),\n",
    "                ($b.len(),));\n",
    "    )\n",
    "}\n",
    "\n",
    "macro_rules! op {\n",
    "    ($func:ident, $bound:ident, $op:tt, $method:ident) => (\n",
    "        fn $func<T: $bound<T, Output=T> + Copy>(xs: &mut Vec<T>, ys: &Vec<T>) {\n",
    "            assert_equal_len!(xs, ys, $func, $op);\n",
    "\n",
    "            for (x, y) in xs.iter_mut().zip(ys.iter()) {\n",
    "                *x = $bound::$method(*x, *y);\n",
    "                // *x = x.$method(*y);\n",
    "            }\n",
    "        }\n",
    "    )\n",
    "}\n",
    "\n",
    "// Implement `add_assign`, `mul_assign`, and `sub_assign` functions.\n",
    "op!(add_assign, Add, +=, add);\n",
    "op!(mul_assign, Mul, *=, mul);\n",
    "op!(sub_assign, Sub, -=, sub);\n",
    "\n",
    "mod test {\n",
    "    use std::iter;\n",
    "    macro_rules! test {\n",
    "        ($func:ident, $x:expr, $y:expr, $z:expr) => {\n",
    "            #[test]\n",
    "            fn $func() {\n",
    "                for size in 0usize..10 {\n",
    "                    let mut x: Vec<_> = iter::repeat($x).take(size).collect();\n",
    "                    let y: Vec<_> = iter::repeat($y).take(size).collect();\n",
    "                    let z: Vec<_> = iter::repeat($z).take(size).collect();\n",
    "\n",
    "                    super::$func(&mut x, &y);\n",
    "\n",
    "                    assert_eq!(x, z);\n",
    "                }\n",
    "            }\n",
    "        }\n",
    "    }\n",
    "\n",
    "    // Test `add_assign`, `mul_assign`, and `sub_assign`.\n",
    "    test!(add_assign, 1u32, 2u32, 3u32);\n",
    "    test!(mul_assign, 2u32, 3u32, 6u32);\n",
    "    test!(sub_assign, 3u32, 2u32, 1u32);\n",
    "}\n"
   ]
  },
  {
   "cell_type": "markdown",
   "metadata": {
    "editable": false,
    "deletable": false
   },
   "source": [
    "```bash\n",
    "$ rustc --test dry.rs && ./dry\n",
    "running 3 tests\n",
    "test test::mul_assign ... ok\n",
    "test test::add_assign ... ok\n",
    "test test::sub_assign ... ok\n",
    "\n",
    "test result: ok. 3 passed; 0 failed; 0 ignored; 0 measured\n",
    "```"
   ]
  },
  {
   "cell_type": "markdown",
   "metadata": {
    "editable": false,
    "deletable": false
   },
   "source": [
    "---\n",
    "# 17.3. [DSL - Domain Specific Language](#17-macro_rules!)\n",
    "\n",
    "A DSL is a mini \"language\" embedded in a Rust macro. It is completely valid Rust because the macro system expands into normal Rust constructs, but it looks like a small language. This allows you to define concise or intuitive syntax for some special functionality (within bounds).\n",
    "\n",
    "Suppose that I want to define a little calculator API. I would like to supply an expression and have the output printed to console."
   ]
  },
  {
   "cell_type": "code",
   "execution_count": 10,
   "metadata": {
    "editable": true,
    "deletable": false
   },
   "outputs": [
    {
     "ename": "Error",
     "evalue": "Items currently need to be explicitly made pub along with all fields of structs.",
     "output_type": "error",
     "traceback": [
      "Items currently need to be explicitly made pub along with all fields of structs."
     ]
    }
   ],
   "source": [
    "macro_rules! calculate {\n",
    "    (eval $e:expr) => {{\n",
    "        {\n",
    "            let val: usize = $e; // Force types to be integers\n",
    "            println!(\"{} = {}\", stringify!{$e}, val);\n",
    "        }\n",
    "    }};\n",
    "}\n",
    "\n",
    "fn main() {\n",
    "    calculate! {\n",
    "        eval 1 + 2 // hehehe `eval` is _not_ a Rust keyword!\n",
    "    }\n",
    "\n",
    "    calculate! {\n",
    "        eval (1 + 2) * (3 / 4)\n",
    "    }\n",
    "}\n"
   ]
  },
  {
   "cell_type": "markdown",
   "metadata": {
    "editable": false,
    "deletable": false
   },
   "source": [
    "Output:\n",
    "\n",
    "```rust\n",
    "1 + 2 = 3\n",
    "(1 + 2) * (3 / 4) = 0\n",
    "```\n",
    "\n",
    "This was a very simple example, but much more complex interfaces have been developed, such as [`lazy_static`](https://crates.io/crates/lazy_static) or [`clap`](https://crates.io/crates/clap).\n",
    "\n",
    "Also, note the two pairs of braces in the macro. The outer ones are part of the syntax of `macro_rules!`, in addition to `()` or `[]`."
   ]
  },
  {
   "cell_type": "markdown",
   "metadata": {
    "editable": false,
    "deletable": false
   },
   "source": [
    "---\n",
    "# 17.4. [Variadics](#17-macro_rules!)\n",
    "\n",
    "A *variadic* interface takes an arbitrary number of arguments. For example, `println!` can take an arbitrary number of arguments, as determined by the format string.\n",
    "\n",
    "We can extend our `calculate!` macro from the previous section to be variadic:"
   ]
  },
  {
   "cell_type": "code",
   "execution_count": 11,
   "metadata": {
    "editable": true,
    "deletable": false
   },
   "outputs": [
    {
     "ename": "Error",
     "evalue": "Items currently need to be explicitly made pub along with all fields of structs.",
     "output_type": "error",
     "traceback": [
      "Items currently need to be explicitly made pub along with all fields of structs."
     ]
    }
   ],
   "source": [
    "macro_rules! calculate {\n",
    "    // The pattern for a single `eval`\n",
    "    (eval $e:expr) => {{\n",
    "        {\n",
    "            let val: usize = $e; // Force types to be integers\n",
    "            println!(\"{} = {}\", stringify!{$e}, val);\n",
    "        }\n",
    "    }};\n",
    "\n",
    "    // Decompose multiple `eval`s recursively\n",
    "    (eval $e:expr, $(eval $es:expr),+) => {{\n",
    "        calculate! { eval $e }\n",
    "        calculate! { $(eval $es),+ }\n",
    "    }};\n",
    "}\n",
    "\n",
    "fn main() {\n",
    "    calculate! { // Look ma! Variadic `calculate!`!\n",
    "        eval 1 + 2,\n",
    "        eval 3 + 4,\n",
    "        eval (2 * 3) + 1\n",
    "    }\n",
    "}\n"
   ]
  },
  {
   "cell_type": "markdown",
   "metadata": {
    "editable": false,
    "deletable": false
   },
   "source": [
    "Output:\n",
    "\n",
    "```rust\n",
    "1 + 2 = 3\n",
    "3 + 4 = 7\n",
    "(2 * 3) + 1 = 7\n",
    "```"
   ]
  }
 ],
 "metadata": {
  "kernelspec": {
   "display_name": "Rust",
   "language": "rust",
   "name": "rust"
  },
  "language_info": {
   "codemirror_mode": "rust",
   "file_extension": ".rs",
   "mimetype": "text/rust",
   "name": "Rust",
   "pygment_lexer": "rust",
   "version": ""
  }
 },
 "nbformat": 4,
 "nbformat_minor": 2
}