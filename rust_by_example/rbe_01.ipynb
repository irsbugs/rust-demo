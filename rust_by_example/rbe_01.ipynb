{
 "cells": [
  {
   "cell_type": "markdown",
   "metadata": {
    "editable": false,
    "deletable": false
   },
   "source": [
    "# 1 [Hello World](#1.-Hello-World)\n",
    "* ### 1.1 [Comments](#1.1.-Comments)\n",
    "* ### 1.2 [Formatted print](#1.2.-Formatted-print)\n",
    "    * ### 1.2.1 [Debug](#1.2.1.-Debug)\n",
    "    * ### 1.2.2 [Display](#1.2.2.-Display)\n",
    "        * ### 1.2.2.1 [Testcase: List](#1.2.2.1.-Testcase:-List)\n",
    "    * ### 1.2.3 [Formatting](#1.2.3.-Formatting)"
   ]
  },
  {
   "cell_type": "markdown",
   "metadata": {
    "editable": false,
    "deletable": false
   },
   "source": [
    "---\n",
    "# 1. [Hello World](#1-Hello-World)\n",
    "\n",
    "This is the source code of the traditional Hello World program."
   ]
  },
  {
   "cell_type": "code",
   "execution_count": null,
   "metadata": {
    "editable": true,
    "deletable": false
   },
   "outputs": [],
   "source": [
    "// This is a comment, and will be ignored by the compiler\n",
    "// You can test this code by clicking the \"Run\" button above.\n",
    "// or if prefer to use your keyboard, you can use the \"Shift + Enter\" shortcut\n",
    "\n",
    "// This code is editable, feel free to hack it!\n",
    "// You can always return to the original code by clicking the \"Reset\" button ->\n",
    "\n",
    "main(); // Used by EvCxR Jupyter - Remove for .rs files.\n",
    "\n",
    "// This is the main function\n",
    "pub fn main() {\n",
    "    // The statements here will be executed when the compiled binary is called\n",
    "\n",
    "    // Print text to the console\n",
    "    println!(\"Hello World!\");\n",
    "}\n"
   ]
  },
  {
   "cell_type": "markdown",
   "metadata": {
    "editable": false,
    "deletable": false
   },
   "source": [
    "`println!` is a [macro](https://doc.rust-lang.org/rust-by-example/macros.html) that prints text to the console.\n",
    "\n",
    "A binary can be generated using the Rust compiler: `rustc`.\n",
    "\n",
    "`$ rustc hello.rs`\n",
    "\n",
    "`rustc` will produce a `hello` binary that can be executed.\n",
    "\n",
    "```$ ./hello\n",
    "Hello World!```\n",
    "\n",
    "## Activity\n",
    "\n",
    "Click 'Run' above to see the expected output. Next, add a new line with a second `println!` macro so that the output shows:\n",
    "\n",
    "```Hello World!\n",
    "I'm a Rustacean!```\n"
   ]
  },
  {
   "cell_type": "code",
   "execution_count": null,
   "metadata": {
    "editable": true,
    "deletable": false
   },
   "outputs": [],
   "source": [
    "// Activity #1 Add a new line with a second println! macro so that the output shows:\n",
    "// Hello World! \n",
    "// I'm a Rustacean!\n",
    "\n",
    "main(); // Used by EvCxR Jupyter - Remove for .rs files.\n",
    "\n",
    "// This is the main function\n",
    "pub fn main() {\n",
    "    // The statements here will be executed when the compiled binary is called\n",
    "    // Print text to the console\n",
    "    println!(\"Hello World!\");\n",
    "    println!(\"I'm a Rustacean!\");  \n",
    "}"
   ]
  },
  {
   "cell_type": "markdown",
   "metadata": {
    "editable": false,
    "deletable": false
   },
   "source": [
    "---\n",
    "# 1.1. [Comments](#1-Hello-World)\n",
    "\n",
    "Any program requires comments and indeed Rust supports a few different varieties:\n",
    "\n",
    "* Regular *comments* which are ignored by the compiler:\n",
    "\n",
    "\n",
    "* `// Line comments which go to the end of the line.`\n",
    "\n",
    "* `/* Block comments which go to the closing delimiter. */`\n",
    "\n",
    "\n",
    "* Doc *comments* which are parsed into HTML library [documentation](https://doc.rust-lang.org/rust-by-example/meta/doc.html):\n",
    "\n",
    "\n",
    "* `/// Generate library docs for the following item.`\n",
    "\n",
    "* `//! Generate library docs for the enclosing item.`\n"
   ]
  },
  {
   "cell_type": "code",
   "execution_count": null,
   "metadata": {
    "editable": true,
    "deletable": false
   },
   "outputs": [],
   "source": [
    "main(); // Used by EvCxR Jupyter - Remove for .rs files.\n",
    "\n",
    "pub fn main() {\n",
    "    // This is an example of a line comment\n",
    "    // Notice how there are two slashes at the beginning of the line\n",
    "    // And that nothing written inside these will be read by the compiler\n",
    "\n",
    "    // println!(\"Hello, world!\");\n",
    "\n",
    "    // Run it. See? Now try deleting the two slashes, and run it again.\n",
    "\n",
    "    /* \n",
    "     * This is another type of comment, the block comment. In general,\n",
    "     * the line comment is the recommended comment style however the\n",
    "     * block comment is extremely useful for temporarily disabling\n",
    "     * a large chunk of code. /* Block comments can be /* nested, */ */\n",
    "     * so it takes only a few keystrokes to comment out all the lines\n",
    "     * in this main() function. /*/*/* Try it yourself! */*/*/\n",
    "     */\n",
    "\n",
    "    /*\n",
    "    Note, the previous column of `*` was entirely for style. There's\n",
    "    no actual need for it.\n",
    "    */\n",
    "\n",
    "    // Observe how block comments allow easy expression manipulation\n",
    "    // which line comments do not. Deleting the comment delimiters\n",
    "    // will change the result:\n",
    "    let x = 5 + /* 90 + */ 5;\n",
    "    println!(\"Is `x` 10 or 100? x = {}\", x);\n",
    "}"
   ]
  },
  {
   "cell_type": "markdown",
   "metadata": {
    "editable": false,
    "deletable": false
   },
   "source": [
    "## See also:\n",
    "\n",
    "[Library documentation](https://doc.rust-lang.org/rust-by-example/meta/doc.html)"
   ]
  },
  {
   "cell_type": "markdown",
   "metadata": {
    "editable": false,
    "deletable": false
   },
   "source": [
    "---\n",
    "# 1.2. [Formatted print](#1-Hello-World)\n",
    "\n",
    "Printing is handled by a series of [`macros`](https://doc.rust-lang.org/rust-by-example/macros.html) defined in [`std::fmt`](https://doc.rust-lang.org/std/fmt/) some of which include:\n",
    "\n",
    "* `format!`: write formatted text to [`String`](https://doc.rust-lang.org/rust-by-example/std/str.html)\n",
    "* `print!`: same as `format!` but the text is printed to the console (io::stdout).\n",
    "* `println!`: same as `print!` but a newline is appended.\n",
    "* `eprint!`: same as `format!` but the text is printed to the standard error (io::stderr).\n",
    "* `eprintln!`: same as `eprint!` but a newline is appended.\n",
    "\n",
    "All parse text in the same fashion. A plus is that the formatting correctness will be checked at compile time."
   ]
  },
  {
   "cell_type": "code",
   "execution_count": null,
   "metadata": {
    "editable": true,
    "deletable": false
   },
   "outputs": [],
   "source": [
    "main(); // Used by EvCxR Jupyter - Remove for .rs files.\n",
    "\n",
    "pub fn main() {\n",
    "    // In general, the `{}` will be automatically replaced with any\n",
    "    // arguments. These will be stringified.\n",
    "    println!(\"{} days\", 31);\n",
    "\n",
    "    // Without a suffix, 31 becomes an i32. You can change what type 31 is,\n",
    "    // with a suffix.\n",
    "\n",
    "    // There are various optional patterns this works with. Positional\n",
    "    // arguments can be used.\n",
    "    println!(\"{0}, this is {1}. {1}, this is {0}\", \"Alice\", \"Bob\");\n",
    "\n",
    "    // As can named arguments.\n",
    "    println!(\"{subject} {verb} {object}\",\n",
    "             object=\"the lazy dog\",\n",
    "             subject=\"the quick brown fox\",\n",
    "             verb=\"jumps over\");\n",
    "\n",
    "    // Special formatting can be specified after a `:`.\n",
    "    println!(\"{} of {:b} people know binary, the other half doesn't\", 1, 2);\n",
    "\n",
    "    // You can right-align text with a specified width. This will output\n",
    "    // \"     1\". 5 white spaces and a \"1\".\n",
    "    println!(\"{number:>width$}\", number=1, width=6);\n",
    "\n",
    "    // You can pad numbers with extra zeroes. This will output \"000001\".\n",
    "    println!(\"{number:>0width$}\", number=1, width=6);\n",
    "\n",
    "    // It will even check to make sure the correct number of arguments are\n",
    "    // used.\n",
    "    println!(\"My name is {0}, {1} {0}\", \"Bond\");\n",
    "    // FIXME ^ Add the missing argument: \"James\"\n",
    "\n",
    "    // Create a structure which contains an `i32`. Name it `Structure`.\n",
    "    #[allow(dead_code)]\n",
    "    struct Structure(i32);\n",
    "\n",
    "    // However, custom types such as this structure require more complicated\n",
    "    // handling. This will not work.\n",
    "    println!(\"This struct `{}` won't print...\", Structure(3));\n",
    "    // FIXME ^ Comment out this line.\n",
    "}\n"
   ]
  },
  {
   "cell_type": "markdown",
   "metadata": {
    "editable": false,
    "deletable": false
   },
   "source": [
    "[`std::fmt`](https://doc.rust-lang.org/std/fmt/) contains many [`traits`](https://doc.rust-lang.org/rust-by-example/trait.html) which govern the display of text. The base form of two important ones are listed below:\n",
    "\n",
    "* `fmt::Debug`: Uses the `{:?}` marker. Format text for debugging purposes.\n",
    "* `fmt::Display`: Uses the `{}` marker. Format text in a more elegant, user friendly fashion.\n",
    "\n",
    "Here, `fmt::Display` was used because the std library provides implementations for these types. To print text for custom types, more steps are required.\n",
    "\n",
    "Implementing the `fmt::Display` trait automagically implements the [`ToString`](https://doc.rust-lang.org/std/string/trait.ToString.html) trait which allows us to [convert](https://doc.rust-lang.org/rust-by-example/conversion/string.html) the type to [`String`](https://doc.rust-lang.org/rust-by-example/std/str.html).\n",
    "\n",
    "## Activities\n",
    "\n",
    "* Fix the two issues in the above code (see FIXME) so that it runs without error.\n",
    "* Add a `println!` macro that prints: `Pi is roughly 3.142` by controlling the number of decimal places shown. For the purposes of this exercise, use `let pi = 3.141592` as an estimate for Pi. (Hint: you may need to check the [`std::fmt`](https://doc.rust-lang.org/std/fmt/) documentation for setting the number of decimals to display)\n",
    "\n",
    "## See also\n",
    "\n",
    "[`std::fmt`](https://doc.rust-lang.org/std/fmt/), [`macros`](https://doc.rust-lang.org/rust-by-example/macros.html), [`struct`](https://doc.rust-lang.org/rust-by-example/custom_types/structs.html), and [`traits`](https://doc.rust-lang.org/rust-by-example/trait.html)"
   ]
  },
  {
   "cell_type": "code",
   "execution_count": null,
   "metadata": {
    "editable": true,
    "deletable": false
   },
   "outputs": [],
   "source": [
    "// Activity 1: Fix the two issues in the above code (see FIXME) \n",
    "// so that it runs without error.\n",
    "main(); // Used by EvCxR Jupyter - Remove for .rs files.\n",
    "\n",
    "pub fn main() {\n",
    "    // In general, the `{}` will be automatically replaced with any\n",
    "    // arguments. These will be stringified.\n",
    "    println!(\"{} days\", 31);\n",
    "\n",
    "    // Without a suffix, 31 becomes an i32. You can change what type 31 is,\n",
    "    // with a suffix.\n",
    "\n",
    "    // There are various optional patterns this works with. Positional\n",
    "    // arguments can be used.\n",
    "    println!(\"{0}, this is {1}. {1}, this is {0}\", \"Alice\", \"Bob\");\n",
    "\n",
    "    // As can named arguments.\n",
    "    println!(\"{subject} {verb} {object}\",\n",
    "             object=\"the lazy dog\",\n",
    "             subject=\"the quick brown fox\",\n",
    "             verb=\"jumps over\");\n",
    "\n",
    "    // Special formatting can be specified after a `:`.\n",
    "    println!(\"{} of {:b} people know binary, the other half doesn't\", 1, 2);\n",
    "\n",
    "\n",
    "    // You can right-align text with a specified width. This will output\n",
    "    // \"     1\". 5 white spaces and a \"1\".\n",
    "    println!(\"{number:>width$}\", number=1, width=6);\n",
    "\n",
    "    // You can pad numbers with extra zeroes. This will output \"000001\".\n",
    "    println!(\"{number:>0width$}\", number=1, width=6);\n",
    "\n",
    "    // It will even check to make sure the correct number of arguments are\n",
    "    // used.\n",
    "    println!(\"My name is {0}, {1} {0}\", \"Bond\", \"James\");\n",
    "    // FIXME ^ Add the missing argument: \"James\" <-- DONE\n",
    "\n",
    "    // Create a structure which contains an `i32`. Name it `Structure`.\n",
    "    #[allow(dead_code)]\n",
    "    struct Structure(i32);\n",
    "\n",
    "    // However, custom types such as this structure require more complicated\n",
    "    // handling. This will not work.\n",
    "    //println!(\"This struct `{}` won't print...\", Structure(3));\n",
    "    // FIXME ^ Comment out this line. <-- DONE\n",
    "    \n",
    "}"
   ]
  },
  {
   "cell_type": "code",
   "execution_count": null,
   "metadata": {
    "editable": true,
    "deletable": false
   },
   "outputs": [],
   "source": [
    "// Activity 2: Display Pi to 3 decimal places.\n",
    "main(); // Used by EvCxR Jupyter - Remove for .rs files.\n",
    "\n",
    "pub fn main() {\n",
    "    let pi = 3.141592;\n",
    "    println!(\"Pi is roughly {:.*}.\", 3, pi);   \n",
    "}    "
   ]
  },
  {
   "cell_type": "markdown",
   "metadata": {
    "editable": false,
    "deletable": false
   },
   "source": [
    "---\n",
    "# 1.2.1. [Debug](#1-Hello-World)\n",
    "\n",
    "All types which want to use `std::fmt` formatting `traits` require an implementation to be printable. Automatic implementations are only provided for types such as in the `std` library. All others *must* be manually implemented somehow.\n",
    "\n",
    "The `fmt::Debug` `trait` makes this very straightforward. *All* types can `derive` (automatically create) the `fmt::Debug` implementation. This is not true for `fmt::Display` which must be manually implemented."
   ]
  },
  {
   "cell_type": "code",
   "execution_count": null,
   "metadata": {
    "editable": true,
    "deletable": false
   },
   "outputs": [],
   "source": [
    "// FAILS - FIX - EXTRA TROUBLESHOOTING CODE ADDED\n",
    "\n",
    "// This structure cannot be printed either with `fmt::Display` or\n",
    "// with `fmt::Debug`\n",
    "//pub struct UnPrintable(i32);\n",
    "\n",
    "// this is OK\n",
    "//pub struct UnPrintable {\n",
    "//    pub a: i32,\n",
    "//}\n",
    "\n",
    "\n",
    "pub struct UnPrintable {}\n",
    "\n",
    "//println!(\"{}\", UnPrintable(2));\n",
    "\n",
    "\n",
    "/*\n",
    "pub struct Point {\n",
    "    pub x: i32,\n",
    "    pub y: i32,\n",
    "}\n",
    "\n",
    "main();\n",
    "\n",
    "pub fn main() {\n",
    "    let origin = Point { x: 0, y: 0 }; // origin: Point\n",
    "    let max_point = Point { x: 10, y: 10 }; // origin: Point\n",
    "    println!(\"The origin is at ({}, {})\", origin.x, origin.y);\n",
    "    println!(\"The max_point is at ({}, {})\", max_point.x, max_point.y);\n",
    "}\n",
    "*/\n",
    "\n",
    "/*\n",
    "pub struct Point {\n",
    "    x: i32,\n",
    "    y: i32,\n",
    "}\n",
    "\n",
    "fn main() {\n",
    "    let origin = Point { x: 0, y: 0 }; // origin: Point\n",
    "\n",
    "    println!(\"The origin is at ({}, {})\", origin.x, origin.y);\n",
    "}\n",
    "*/\n",
    "\n",
    "pub struct OpenBox<T> {\n",
    "        pub contents: T,\n",
    "    }\n",
    "\n",
    "//println!(\"{}\", OpenBox(\"test\"));\n",
    "\n",
    "// The `derive` attribute automatically creates the implementation\n",
    "// required to make this `struct` printable with `fmt::Debug`.\n",
    "#[derive(Debug)]\n",
    "//pub struct DebugPrintable(i32) {}\n",
    "pub struct DebugPrintable {}\n",
    "\n",
    "println!(\"{:?}\", DebugPrintable)\n"
   ]
  },
  {
   "cell_type": "markdown",
   "metadata": {
    "editable": false,
    "deletable": false
   },
   "source": [
    "All `std` library types automatically are printable with `{:?}` too:"
   ]
  },
  {
   "cell_type": "code",
   "execution_count": null,
   "metadata": {
    "editable": true,
    "deletable": false
   },
   "outputs": [],
   "source": [
    "// FAILS - FIX\n",
    "\n",
    "// Derive the `fmt::Debug` implementation for `Structure`. `Structure`\n",
    "// is a structure which contains a single `i32`.\n",
    "#[derive(Debug)]\n",
    "//pub struct Structure(i32);\n",
    "\n",
    "// Put a `Structure` inside of the structure `Deep`. Make it printable\n",
    "// also.\n",
    "#[derive(Debug)]\n",
    "// pub struct Deep(Structure);\n",
    "\n",
    "main(); // Used by EvCxR Jupyter - Remove for .rs files.\n",
    "\n",
    "pub fn main() {\n",
    "    // Printing with `{:?}` is similar to with `{}`.\n",
    "    println!(\"{:?} months in a year.\", 12);\n",
    "    println!(\"{1:?} {0:?} is the {actor:?} name.\",\n",
    "             \"Slater\",\n",
    "             \"Christian\",\n",
    "             actor=\"actor's\");\n",
    "\n",
    "    /*\n",
    "    // `Structure` is printable!\n",
    "    println!(\"Now {:?} will print!\", Structure(3));\n",
    "    \n",
    "    // The problem with `derive` is there is no control over how\n",
    "    // the results look. What if I want this to just show a `7`?\n",
    "    println!(\"Now {:?} will print!\", Deep(Structure(7)));\n",
    "    \n",
    "    */\n",
    "}\n"
   ]
  },
  {
   "cell_type": "markdown",
   "metadata": {
    "editable": false,
    "deletable": false
   },
   "source": [
    "So `fmt::Debug` definitely makes this printable but sacrifices some elegance. Rust also provides \"pretty printing\" with `{:#?}`."
   ]
  },
  {
   "cell_type": "code",
   "execution_count": 3,
   "metadata": {
    "editable": true,
    "deletable": false
   },
   "outputs": [
    {
     "name": "stdout",
     "output_type": "stream",
     "text": [
      "Person {\n",
      "    name: \"Peter\",\n",
      "    age: 27,\n",
      "}\n"
     ]
    }
   ],
   "source": [
    "#[derive(Debug)]\n",
    "pub struct Person<'a> {\n",
    "    pub name: &'a str,\n",
    "    pub age: u8\n",
    "}\n",
    "\n",
    "main(); // Used by EvCxR Jupyter - Remove for .rs files.\n",
    "\n",
    "pub fn main() {\n",
    "    let name = \"Peter\";\n",
    "    let age = 27;\n",
    "    let peter = Person { name, age };\n",
    "\n",
    "    // Pretty print\n",
    "    println!(\"{:#?}\", peter);\n",
    "}"
   ]
  },
  {
   "cell_type": "markdown",
   "metadata": {
    "editable": false,
    "deletable": false
   },
   "source": [
    "One can manually implement `fmt::Display` to control the display.\n",
    "\n",
    "## See also\n",
    "\n",
    "[attributes](https://doc.rust-lang.org/reference/attributes.html), [`derive`](https://doc.rust-lang.org/rust-by-example/trait/derive.html), [`std::fmt`](https://doc.rust-lang.org/std/fmt/), and [`struct`](https://doc.rust-lang.org/rust-by-example/custom_types/structs.html)"
   ]
  },
  {
   "cell_type": "markdown",
   "metadata": {
    "editable": false,
    "deletable": false
   },
   "source": [
    "---\n",
    "# 1.2.2. [Display](#1-Hello-World)\n",
    "\n",
    "`fmt::Debug` hardly looks compact and clean, so it is often advantageous to customize the output appearance. This is done by manually implementing [`fmt::Display`](https://doc.rust-lang.org/std/fmt/), which uses the `{}` print marker. Implementing it looks like this:\n"
   ]
  },
  {
   "cell_type": "code",
   "execution_count": null,
   "metadata": {
    "editable": true,
    "deletable": false
   },
   "outputs": [],
   "source": [
    "// FAILS - FIX\n",
    "\n",
    "// Import (via `use`) the `fmt` module to make it available.\n",
    "use std::fmt;\n",
    "\n",
    "// Define a structure which `fmt::Display` will be implemented for. This is simply\n",
    "// a tuple struct containing an `i32` bound to the name `Structure`.\n",
    "pub struct Structure(i32);\n",
    "\n",
    "// In order to use the `{}` marker, the trait `fmt::Display` must be implemented\n",
    "// manually for the type.\n",
    "impl fmt::Display for Structure {\n",
    "    // This trait requires `fmt` with this exact signature.\n",
    "    fn fmt(&self, f: &mut fmt::Formatter) -> fmt::Result {\n",
    "        // Write strictly the first element into the supplied output\n",
    "        // stream: `f`. Returns `fmt::Result` which indicates whether the\n",
    "        // operation succeeded or failed. Note that `write!` uses syntax which\n",
    "        // is very similar to `println!`.\n",
    "        write!(f, \"{}\", self.0)\n",
    "    }\n",
    "}"
   ]
  },
  {
   "cell_type": "markdown",
   "metadata": {
    "editable": false,
    "deletable": false
   },
   "source": [
    "`fmt::Display` may be cleaner than `fmt::Debug` but this presents a problem for the `std` library. How should ambiguous types be displayed? For example, if the `std` library implemented a single style for all `Vec<T>`, what style should it be? Either of these two?\n",
    "\n",
    "* `Vec<path>`: `/:/etc:/home/username:/bin` (split on `:`)\n",
    "* `Vec<number>`: 1,2,3 (split on `,`)\n",
    "\n",
    "No, because there is no ideal style for all types and the `std` library doesn't presume to dictate one. `fmt::Display` is not implemented for `Vec<T>` or for any other generic containers. `fmt::Debug` must then be used for these generic cases.\n",
    "\n",
    "This is not a problem though because for any new *container* type which is *not* generic,`fmt::Display` can be implemented."
   ]
  },
  {
   "cell_type": "code",
   "execution_count": null,
   "metadata": {
    "editable": true,
    "deletable": false
   },
   "outputs": [],
   "source": [
    "// FAILS - FIX - pub struct MinMax(i64, i64);\n",
    "\n",
    "use std::fmt; // Import `fmt`\n",
    "\n",
    "\n",
    "// A structure holding two numbers. `Debug` will be derived so the results can\n",
    "// be contrasted with `Display`.\n",
    "#[derive(Debug)]\n",
    "pub struct MinMax(i64, i64);\n",
    "\n",
    "// Implement `Display` for `MinMax`.\n",
    "impl fmt::Display for MinMax {\n",
    "    fn fmt(&self, f: &mut fmt::Formatter) -> fmt::Result {\n",
    "        // Use `self.number` to refer to each positional data point.\n",
    "        write!(f, \"({}, {})\", self.0, self.1)\n",
    "    }\n",
    "}\n",
    "\n",
    "// Define a structure where the fields are nameable for comparison.\n",
    "#[derive(Debug)]\n",
    "pub struct Point2D {\n",
    "    pub x: f64,\n",
    "    pub y: f64,\n",
    "}\n",
    "\n",
    "// Similarly, implement for Point2D\n",
    "impl fmt::Display for Point2D {\n",
    "    fn fmt(&self, f: &mut fmt::Formatter) -> fmt::Result {\n",
    "        // Customize so only `x` and `y` are denoted.\n",
    "        write!(f, \"x: {}, y: {}\", self.x, self.y)\n",
    "    }\n",
    "}\n",
    "\n",
    "main(); // Used by EvCxR Jupyter - Remove for .rs files.\n",
    "\n",
    "pub fn main() {\n",
    "    let minmax = MinMax(0, 14);\n",
    "\n",
    "    println!(\"Compare structures:\");\n",
    "    println!(\"Display: {}\", minmax);\n",
    "    println!(\"Debug: {:?}\", minmax);\n",
    "\n",
    "    let big_range =   MinMax(-300, 300);\n",
    "    let small_range = MinMax(-3, 3);\n",
    "\n",
    "    println!(\"The big range is {big} and the small is {small}\",\n",
    "             small = small_range,\n",
    "             big = big_range);\n",
    "\n",
    "    let point = Point2D { x: 3.3, y: 7.2 };\n",
    "\n",
    "    println!(\"Compare points:\");\n",
    "    println!(\"Display: {}\", point);\n",
    "    println!(\"Debug: {:?}\", point);\n",
    "\n",
    "    // Error. Both `Debug` and `Display` were implemented but `{:b}`\n",
    "    // requires `fmt::Binary` to be implemented. This will not work.\n",
    "    // println!(\"What does Point2D look like in binary: {:b}?\", point);\n",
    "}\n"
   ]
  },
  {
   "cell_type": "markdown",
   "metadata": {
    "editable": false,
    "deletable": false
   },
   "source": [
    "So, `fmt::Display` has been implemented but `fmt::Binary` has not, and therefore cannot be used. `std::fmt` has many such [`traits`](https://doc.rust-lang.org/rust-by-example/trait.html) and each requires its own implementation. This is detailed further in [`std::fmt`](https://doc.rust-lang.org/std/fmt/).\n",
    "\n",
    "## Activity\n",
    "\n",
    "After checking the output of the above example, use the `Point2D` struct as guide to add a Complex struct to the example. When printed in the same way, the output should be:"
   ]
  },
  {
   "cell_type": "code",
   "execution_count": null,
   "metadata": {
    "editable": true,
    "deletable": false
   },
   "outputs": [],
   "source": [
    "// TO DO - Add Activity solution!!\n",
    "Display: 3.3 + 7.2i\n",
    "Debug: Complex { real: 3.3, imag: 7.2 }"
   ]
  },
  {
   "cell_type": "markdown",
   "metadata": {
    "editable": false,
    "deletable": false
   },
   "source": [
    "## See also\n",
    "\n",
    "[`derive`](https://doc.rust-lang.org/rust-by-example/trait/derive.html), [`std::fmt`](https://doc.rust-lang.org/std/fmt/), [macros](https://doc.rust-lang.org/rust-by-example/macros.html), [`struct`](https://doc.rust-lang.org/rust-by-example/custom_types/structs.html), [`trait`](https://doc.rust-lang.org/rust-by-example/trait.html), and [use](https://doc.rust-lang.org/rust-by-example/mod/use.html)"
   ]
  },
  {
   "cell_type": "markdown",
   "metadata": {
    "editable": false,
    "deletable": false
   },
   "source": [
    "---\n",
    "# 1.2.2.1. [Testcase: List](#1-Hello-World)\n",
    "\n",
    "Implementing `fmt::Display` for a structure where the elements must each be handled sequentially is tricky. The problem is that each `write!` generates a `fmt::Result`. Proper handling of this requires dealing with *all* the results. Rust provides the ? operator for exactly this purpose.\n",
    "\n",
    "Using `?` on `write!` looks like this:\n",
    "\n",
    "```rust\n",
    "// Try `write!` to see if it errors. If it errors, return\n",
    "// the error. Otherwise continue.\n",
    "write!(f, \"{}\", value)?;\n",
    "```\n",
    "Alternatively, you can also use the `try!` macro, which works the same way. This is a bit more verbose and no longer recommended, but you may still see it in older Rust code. Using `try!` looks like this:\n",
    "\n",
    "```rust\n",
    "try!(write!(f, \"{}\", value));\n",
    "```\n",
    "\n",
    "With `?` available, implementing `fmt::Display` for a `Vec` is straightforward:"
   ]
  },
  {
   "cell_type": "code",
   "execution_count": null,
   "metadata": {
    "editable": true,
    "deletable": false
   },
   "outputs": [],
   "source": [
    "// FAILS - FIX - pub struct List(Vec<i32>);\n",
    "\n",
    "use std::fmt; // Import the `fmt` module.\n",
    "\n",
    "// Define a structure named `List` containing a `Vec`.\n",
    "pub struct List(Vec<i32>);\n",
    "\n",
    "impl fmt::Display for List {\n",
    "    fn fmt(&self, f: &mut fmt::Formatter) -> fmt::Result {\n",
    "        // Extract the value using tuple indexing\n",
    "        // and create a reference to `vec`.\n",
    "        let vec = &self.0;\n",
    "\n",
    "        write!(f, \"[\")?;\n",
    "\n",
    "        // Iterate over `v` in `vec` while enumerating the iteration\n",
    "        // count in `count`.\n",
    "        for (count, v) in vec.iter().enumerate() {\n",
    "            // For every element except the first, add a comma.\n",
    "            // Use the ? operator, or try!, to return on errors.\n",
    "            if count != 0 { write!(f, \", \")?; }\n",
    "            write!(f, \"{}\", v)?;\n",
    "        }\n",
    "\n",
    "        // Close the opened bracket and return a fmt::Result value\n",
    "        write!(f, \"]\")\n",
    "    }\n",
    "}\n",
    "\n",
    "main();  // Used by EvCxR Jupyter - Remove for .rs files.\n",
    "\n",
    "pub fn main() {\n",
    "    let v = List(vec![1, 2, 3]);\n",
    "    println!(\"{}\", v);\n",
    "}\n"
   ]
  },
  {
   "cell_type": "markdown",
   "metadata": {
    "editable": false,
    "deletable": false
   },
   "source": [
    "## Activity\n",
    "\n",
    "Try changing the program so that the index of each element in the vector is also printed. The new output should look like this:\n",
    "\n",
    "`[0: 1, 1: 2, 2: 3]`\n",
    "\n",
    "## See also\n",
    "\n",
    "[`for`](https://doc.rust-lang.org/rust-by-example/flow_control/for.html), [`ref`](https://doc.rust-lang.org/rust-by-example/scope/borrow/ref.html), [`Result`](https://doc.rust-lang.org/rust-by-example/std/result.html), [`struct`](https://doc.rust-lang.org/rust-by-example/custom_types/structs.html), [`?`](https://doc.rust-lang.org/rust-by-example/std/result/question_mark.html), and [`vec!`](https://doc.rust-lang.org/rust-by-example/std/vec.html)"
   ]
  },
  {
   "cell_type": "markdown",
   "metadata": {
    "editable": false,
    "deletable": false
   },
   "source": [
    "---\n",
    "# 1.2.3. [Formatting](#1-Hello-World)\n",
    "\n",
    "We've seen that formatting is specified via a format string:\n",
    "\n",
    "* `format!(\"{}\", foo) -> \"3735928559\"`\n",
    "* `format!(\"0x{:X}\", foo) -> \"0xDEADBEEF\"`\n",
    "* `format!(\"0o{:o}\", foo) -> \"0o33653337357\"`\n",
    "\n",
    "The same variable (`foo`) can be formatted differently depending on which *argument type* is used: `X` vs `o` vs *unspecified*.\n",
    "\n",
    "This formatting functionality is implemented via traits, and there is one trait for each argument type. The most common formatting trait is `Display`, which handles cases where the argument type is left unspecified: `{}` for instance. "
   ]
  },
  {
   "cell_type": "code",
   "execution_count": null,
   "metadata": {
    "editable": true,
    "deletable": false
   },
   "outputs": [],
   "source": [
    "use std::fmt::{self, Formatter, Display};\n",
    "\n",
    "pub struct City {\n",
    "    pub name: &'static str,\n",
    "    // Latitude\n",
    "    pub lat: f32,\n",
    "    // Longitude\n",
    "    pub lon: f32,\n",
    "}\n",
    "\n",
    "impl Display for City {\n",
    "    // `f` is a buffer, this method must write the formatted string into it\n",
    "    fn fmt(&self, f: &mut Formatter) -> fmt::Result {\n",
    "        let lat_c = if self.lat >= 0.0 { 'N' } else { 'S' };\n",
    "        let lon_c = if self.lon >= 0.0 { 'E' } else { 'W' };\n",
    "\n",
    "        // `write!` is like `format!`, but it will write the formatted string\n",
    "        // into a buffer (the first argument)\n",
    "        write!(f, \"{}: {:.3}\u00b0{} {:.3}\u00b0{}\",\n",
    "               self.name, self.lat.abs(), lat_c, self.lon.abs(), lon_c)\n",
    "    }\n",
    "}\n",
    "\n",
    "#[derive(Debug)]\n",
    "pub struct Color {\n",
    "    pub red: u8,\n",
    "    pub green: u8,\n",
    "    pub blue: u8,\n",
    "}\n",
    "\n",
    "// Activity: Add an implementation for Color so that Display {} rather than {:?} Debug\n",
    "impl Display for Color {\n",
    "    // `f` is a buffer, this method must write the formatted string into it\n",
    "    fn fmt(&self, f: &mut Formatter) -> fmt::Result {\n",
    "        // `write!` is like `format!`, but it will write the formatted string\n",
    "        // into a buffer (the first argument)\n",
    "        write!(f, \"Color (Red:{}, Green:{}, Blue:{})\",\n",
    "               self.red, self.green, self.blue)\n",
    "    }\n",
    "}\n",
    "main(); // Used by EvCxR Jupyter - Remove for .rs files.\n",
    "\n",
    "pub fn main() {\n",
    "    for city in [\n",
    "        City { name: \"Dublin\", lat: 53.347778, lon: -6.259722 },\n",
    "        City { name: \"Oslo\", lat: 59.95, lon: 10.75 },\n",
    "        City { name: \"Vancouver\", lat: 49.25, lon: -123.1 },\n",
    "    ].iter() {\n",
    "        println!(\"{}\", *city);\n",
    "    }\n",
    "    for color in [\n",
    "        Color { red: 128, green: 255, blue: 90 },\n",
    "        Color { red: 0, green: 3, blue: 254 },\n",
    "        Color { red: 0, green: 0, blue: 0 },\n",
    "    ].iter() {\n",
    "        // Switch this to use {} once you've added an implementation\n",
    "        // for fmt::Display\n",
    "        println!(\"{:?}\", *color);\n",
    "        // After Activity of adding: impl Display for Color \n",
    "        println!(\"{}\", *color);\n",
    "    }\n",
    "}"
   ]
  },
  {
   "cell_type": "markdown",
   "metadata": {
    "editable": false,
    "deletable": false
   },
   "source": [
    "You can view a [full list of formatting traits](https://doc.rust-lang.org/std/fmt/#formatting-traits) and their argument types in the `std::fmt` documentation.\n",
    "\n",
    "## Activity\n",
    "\n",
    "Add an implementation of the `fmt::Display` trait for the Color `struct` above so that the output displays as:\n",
    "\n",
    "``    \n",
    "    RGB (128, 255, 90) 0x80FF5A\n",
    "RGB (0, 3, 254) 0x0003FE\n",
    "RGB (0, 0, 0) 0x000000\n",
    "``\n",
    "\n",
    "\n",
    "Two hints if you get stuck:\n",
    "\n",
    "* You [may need to list each color more than once](https://doc.rust-lang.org/std/fmt/#named-parameters),\n",
    "* You [can pad with zeros to a width of 2](https://doc.rust-lang.org/std/fmt/#width) with `:02`.\n",
    "\n",
    "## See also\n",
    "\n",
    "[`std::fmt`](https://doc.rust-lang.org/std/fmt/)\n"
   ]
  },
  {
   "cell_type": "code",
   "execution_count": null,
   "metadata": {
    "editable": true,
    "deletable": false
   },
   "outputs": [],
   "source": [
    "// Activity #1\n",
    "\n",
    "use std::fmt::{self, Formatter, Display};\n",
    "\n",
    "#[derive(Debug)]\n",
    "pub struct Color {\n",
    "    //pub red: u8,\n",
    "    //pub green: u8,\n",
    "    //pub blue: u8,\n",
    "    pub red: u8,\n",
    "    pub green: u8,\n",
    "    pub blue: u8,\n",
    "}\n",
    "\n",
    "// Activity: Add an implementation for Color so that Display {} rather than {:?} Debug\n",
    "impl Display for Color {\n",
    "    // `f` is a buffer, this method must write the formatted string into it\n",
    "    fn fmt(&self, f: &mut Formatter) -> fmt::Result {\n",
    "        // `write!` is like `format!`, but it will write the formatted string\n",
    "        // into a buffer (the first argument)\n",
    "        write!(f, \"RGB ({}, {}, {}) 0x{:02X}{:02X}{:02X}\",\n",
    "               self.red, self.green, self.blue, self.red, self.green, self.blue)\n",
    "    }\n",
    "}\n",
    "main(); // Used by EvCxR Jupyter - Remove for .rs files.\n",
    "\n",
    "pub fn main() {\n",
    "    for color in [\n",
    "        Color { red: 128, green: 255, blue: 90 },\n",
    "        Color { red: 0, green: 3, blue: 254 },\n",
    "        Color { red: 0, green: 0, blue: 0 },\n",
    "               \n",
    "    ].iter() {\n",
    "        // Switch this to use {} once you've added an implementation\n",
    "        // for fmt::Display\n",
    "        //println!(\"{:?}\", *color);\n",
    "        println!(\"{}\", *color);\n",
    "    }\n",
    "}"
   ]
  }
 ],
 "metadata": {
  "kernelspec": {
   "display_name": "Rust",
   "language": "rust",
   "name": "rust"
  },
  "language_info": {
   "codemirror_mode": "rust",
   "file_extension": ".rs",
   "mimetype": "text/rust",
   "name": "Rust",
   "pygment_lexer": "rust",
   "version": ""
  }
 },
 "nbformat": 4,
 "nbformat_minor": 2
}