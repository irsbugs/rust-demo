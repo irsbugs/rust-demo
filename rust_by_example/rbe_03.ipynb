{
 "cells": [
  {
   "cell_type": "markdown",
   "metadata": {
    "editable": false,
    "deletable": false
   },
   "source": [
    "# 3 [Custom Types](#3.-Custom-Types)\n",
    "* ### 3.1 [Structures](#3.1.-Structures)\n",
    "* ### 3.2 [Enums](#3.2.-Enums)\n",
    " * ### 3.2.1 [use](#3.2.1.-use)\n",
    "* ### 3.2.2 [C-like](#3.2.2.-C-like)\n",
    "* ### 3.2.3 [Testcase: linked-list](#3.2.3.-Testcase:-linked-list)\n",
    "* ### 3.3 [constants](#3.3.-constants)"
   ]
  },
  {
   "cell_type": "markdown",
   "metadata": {
    "editable": false,
    "deletable": false
   },
   "source": [
    "---\n",
    "# 3. [Custom Types](#3-Custom-Types)\n",
    "\n",
    "Rust custom data types are formed mainly through the two keywords:\n",
    "\n",
    "* `struct`: define a structure\n",
    "* `enum`: define an enumeration\n",
    "\n",
    "Constants can also be created via the `const` and `static` keywords."
   ]
  },
  {
   "cell_type": "markdown",
   "metadata": {
    "editable": false,
    "deletable": false
   },
   "source": [
    "---\n",
    "# 3.1. [Structures](#3-Custom-Types)\n",
    "\n",
    "There are three types of structures (\"structs\") that can be created using the `struct` keyword:\n",
    "\n",
    "* Tuple structs, which are, basically, named tuples.\n",
    "* The classic [C structs](https://en.wikipedia.org/wiki/Struct_(C_programming_language))\n",
    "* Unit structs, which are field-less, are useful for generics.\n"
   ]
  },
  {
   "cell_type": "code",
   "execution_count": null,
   "metadata": {
    "editable": true,
    "deletable": false
   },
   "outputs": [],
   "source": [
    "#[derive(Debug)]\n",
    "struct Person<'a> {\n",
    "    name: &'a str,\n",
    "    age: u8,\n",
    "}\n",
    "\n",
    "// A unit struct\n",
    "struct Nil;\n",
    "\n",
    "// A tuple struct\n",
    "struct Pair(i32, f32);\n",
    "\n",
    "// A struct with two fields\n",
    "struct Point {\n",
    "    x: f32,\n",
    "    y: f32,\n",
    "}\n",
    "\n",
    "// Structs can be reused as fields of another struct\n",
    "#[allow(dead_code)]\n",
    "struct Rectangle {\n",
    "    p1: Point,\n",
    "    p2: Point,\n",
    "}\n",
    "\n",
    "fn main() {\n",
    "    // Create struct with field init shorthand\n",
    "    let name = \"Peter\";\n",
    "    let age = 27;\n",
    "    let peter = Person { name, age };\n",
    "\n",
    "    // Print debug struct\n",
    "    println!(\"{:?}\", peter);\n",
    "\n",
    "\n",
    "    // Instantiate a `Point`\n",
    "    let point: Point = Point { x: 0.3, y: 0.4 };\n",
    "\n",
    "    // Access the fields of the point\n",
    "    println!(\"point coordinates: ({}, {})\", point.x, point.y);\n",
    "\n",
    "    // Make a new point by using struct update syntax to use the fields of our other one\n",
    "    let new_point = Point { x: 0.1, ..point };\n",
    "    // `new_point.y` will be the same as `point.y` because we used that field from `point`\n",
    "    println!(\"second point: ({}, {})\", new_point.x, new_point.y);\n",
    "\n",
    "    // Destructure the point using a `let` binding\n",
    "    let Point { x: my_x, y: my_y } = point;\n",
    "\n",
    "    let _rectangle = Rectangle {\n",
    "        // struct instantiation is an expression too\n",
    "        p1: Point { x: my_y, y: my_x },\n",
    "        p2: point,\n",
    "    };\n",
    "\n",
    "    // Instantiate a unit struct\n",
    "    let _nil = Nil;\n",
    "\n",
    "    // Instantiate a tuple struct\n",
    "    let pair = Pair(1, 0.1);\n",
    "\n",
    "    // Access the fields of a tuple struct\n",
    "    println!(\"pair contains {:?} and {:?}\", pair.0, pair.1);\n",
    "\n",
    "    // Destructure a tuple struct\n",
    "    let Pair(integer, decimal) = pair;\n",
    "\n",
    "    println!(\"pair contains {:?} and {:?}\", integer, decimal);\n",
    "}\n"
   ]
  },
  {
   "cell_type": "markdown",
   "metadata": {
    "editable": false,
    "deletable": false
   },
   "source": [
    "## Activity\n",
    "\n",
    "1. Add a function `rect_area` which calculates the area of a rectangle (try using nested destructuring).\n",
    "\n",
    "2. Add a function `square` which takes a `Point` and a `f32` as arguments, and returns a `Rectangle` with its lower left corner on the point, and a width and height corresponding to the `f32`.\n",
    "\n",
    "## See also:\n",
    "\n",
    "[`attributes`](https://doc.rust-lang.org/rust-by-example/attribute.html) and [destructuring](https://doc.rust-lang.org/rust-by-example/flow_control/match/destructuring.html)"
   ]
  },
  {
   "cell_type": "markdown",
   "metadata": {
    "editable": false,
    "deletable": false
   },
   "source": [
    "---\n",
    "# 3.2. [Enums](#3-Custom-Types)\n",
    "\n",
    "The `enum` keyword allows the creation of a type which may be one of a few different variants. Any variant which is valid as a `struct` is also valid as an `enum`."
   ]
  },
  {
   "cell_type": "code",
   "execution_count": null,
   "metadata": {
    "editable": true,
    "deletable": false
   },
   "outputs": [],
   "source": [
    "// Create an `enum` to classify a web event. Note how both\n",
    "// names and type information together specify the variant:\n",
    "// `PageLoad != PageUnload` and `KeyPress(char) != Paste(String)`.\n",
    "// Each is different and independent.\n",
    "enum WebEvent {\n",
    "    // An `enum` may either be `unit-like`,\n",
    "    PageLoad,\n",
    "    PageUnload,\n",
    "    // like tuple structs,\n",
    "    KeyPress(char),\n",
    "    Paste(String),\n",
    "    // or like structures.\n",
    "    Click { x: i64, y: i64 },\n",
    "}\n",
    "\n",
    "// A function which takes a `WebEvent` enum as an argument and\n",
    "// returns nothing.\n",
    "fn inspect(event: WebEvent) {\n",
    "    match event {\n",
    "        WebEvent::PageLoad => println!(\"page loaded\"),\n",
    "        WebEvent::PageUnload => println!(\"page unloaded\"),\n",
    "        // Destructure `c` from inside the `enum`.\n",
    "        WebEvent::KeyPress(c) => println!(\"pressed '{}'.\", c),\n",
    "        WebEvent::Paste(s) => println!(\"pasted \\\"{}\\\".\", s),\n",
    "        // Destructure `Click` into `x` and `y`.\n",
    "        WebEvent::Click { x, y } => {\n",
    "            println!(\"clicked at x={}, y={}.\", x, y);\n",
    "        },\n",
    "    }\n",
    "}\n",
    "\n",
    "fn main() {\n",
    "    let pressed = WebEvent::KeyPress('x');\n",
    "    // `to_owned()` creates an owned `String` from a string slice.\n",
    "    let pasted  = WebEvent::Paste(\"my text\".to_owned());\n",
    "    let click   = WebEvent::Click { x: 20, y: 80 };\n",
    "    let load    = WebEvent::PageLoad;\n",
    "    let unload  = WebEvent::PageUnload;\n",
    "\n",
    "    inspect(pressed);\n",
    "    inspect(pasted);\n",
    "    inspect(click);\n",
    "    inspect(load);\n",
    "    inspect(unload);\n",
    "}\n",
    "\n"
   ]
  },
  {
   "cell_type": "markdown",
   "metadata": {
    "editable": false,
    "deletable": false
   },
   "source": [
    "## See also:\n",
    "\n",
    "[`match`](https://doc.rust-lang.org/rust-by-example/flow_control/match.html), [`fn`](https://doc.rust-lang.org/rust-by-example/fn.html), and [`String`](https://doc.rust-lang.org/rust-by-example/std/str.html)"
   ]
  },
  {
   "cell_type": "markdown",
   "metadata": {
    "editable": false,
    "deletable": false
   },
   "source": [
    "---\n",
    "# 3.2.1. [use](#3-Custom-Types)\n",
    "\n",
    "The `use` declaration can be used so manual scoping isn't needed:"
   ]
  },
  {
   "cell_type": "code",
   "execution_count": null,
   "metadata": {
    "editable": true,
    "deletable": false
   },
   "outputs": [],
   "source": [
    "// An attribute to hide warnings for unused code.\n",
    "#![allow(dead_code)]\n",
    "\n",
    "enum Status {\n",
    "    Rich,\n",
    "    Poor,\n",
    "}\n",
    "\n",
    "enum Work {\n",
    "    Civilian,\n",
    "    Soldier,\n",
    "}\n",
    "\n",
    "fn main() {\n",
    "    // Explicitly `use` each name so they are available without\n",
    "    // manual scoping.\n",
    "    use crate::Status::{Poor, Rich};\n",
    "    // Automatically `use` each name inside `Work`.\n",
    "    use crate::Work::*;\n",
    "\n",
    "    // Equivalent to `Status::Poor`.\n",
    "    let status = Poor;\n",
    "    // Equivalent to `Work::Civilian`.\n",
    "    let work = Civilian;\n",
    "\n",
    "    match status {\n",
    "        // Note the lack of scoping because of the explicit `use` above.\n",
    "        Rich => println!(\"The rich have lots of money!\"),\n",
    "        Poor => println!(\"The poor have no money...\"),\n",
    "    }\n",
    "\n",
    "    match work {\n",
    "        // Note again the lack of scoping.\n",
    "        Civilian => println!(\"Civilians work!\"),\n",
    "        Soldier  => println!(\"Soldiers fight!\"),\n",
    "    }\n",
    "}\n"
   ]
  },
  {
   "cell_type": "markdown",
   "metadata": {
    "editable": false,
    "deletable": false
   },
   "source": [
    "## See also:\n",
    "\n",
    "[`match`](https://doc.rust-lang.org/rust-by-example/flow_control/match.html) and [`use`](https://doc.rust-lang.org/rust-by-example/mod/use.html)"
   ]
  },
  {
   "cell_type": "markdown",
   "metadata": {
    "editable": false,
    "deletable": false
   },
   "source": [
    "---\n",
    "# 3.2.2. [C-like](#3-Custom-Types)\n",
    "\n",
    "`enum` can also be used as C-like enums."
   ]
  },
  {
   "cell_type": "code",
   "execution_count": null,
   "metadata": {
    "editable": true,
    "deletable": false
   },
   "outputs": [],
   "source": [
    "// An attribute to hide warnings for unused code.\n",
    "#![allow(dead_code)]\n",
    "\n",
    "// enum with implicit discriminator (starts at 0)\n",
    "enum Number {\n",
    "    Zero,\n",
    "    One,\n",
    "    Two,\n",
    "}\n",
    "\n",
    "// enum with explicit discriminator\n",
    "enum Color {\n",
    "    Red = 0xff0000,\n",
    "    Green = 0x00ff00,\n",
    "    Blue = 0x0000ff,\n",
    "}\n",
    "\n",
    "fn main() {\n",
    "    // `enums` can be cast as integers.\n",
    "    println!(\"zero is {}\", Number::Zero as i32);\n",
    "    println!(\"one is {}\", Number::One as i32);\n",
    "\n",
    "    println!(\"roses are #{:06x}\", Color::Red as i32);\n",
    "    println!(\"violets are #{:06x}\", Color::Blue as i32);\n",
    "}\n"
   ]
  },
  {
   "cell_type": "markdown",
   "metadata": {
    "editable": false,
    "deletable": false
   },
   "source": [
    "## See also:\n",
    "\n",
    "[casting](https://doc.rust-lang.org/rust-by-example/types/cast.html)"
   ]
  },
  {
   "cell_type": "markdown",
   "metadata": {
    "editable": false,
    "deletable": false
   },
   "source": [
    "---\n",
    "# 3.2.3. [Testcase: linked-list](#3-Custom-Types)\n",
    "\n",
    "A common use for `enums` is to create a linked-list:"
   ]
  },
  {
   "cell_type": "code",
   "execution_count": null,
   "metadata": {
    "editable": true,
    "deletable": false
   },
   "outputs": [],
   "source": [
    "use crate::List::*;\n",
    "\n",
    "enum List {\n",
    "    // Cons: Tuple struct that wraps an element and a pointer to the next node\n",
    "    Cons(u32, Box<List>),\n",
    "    // Nil: A node that signifies the end of the linked list\n",
    "    Nil,\n",
    "}\n",
    "\n",
    "// Methods can be attached to an enum\n",
    "impl List {\n",
    "    // Create an empty list\n",
    "    fn new() -> List {\n",
    "        // `Nil` has type `List`\n",
    "        Nil\n",
    "    }\n",
    "\n",
    "    // Consume a list, and return the same list with a new element at its front\n",
    "    fn prepend(self, elem: u32) -> List {\n",
    "        // `Cons` also has type List\n",
    "        Cons(elem, Box::new(self))\n",
    "    }\n",
    "\n",
    "    // Return the length of the list\n",
    "    fn len(&self) -> u32 {\n",
    "        // `self` has to be matched, because the behavior of this method\n",
    "        // depends on the variant of `self`\n",
    "        // `self` has type `&List`, and `*self` has type `List`, matching on a\n",
    "        // concrete type `T` is preferred over a match on a reference `&T`\n",
    "        match *self {\n",
    "            // Can't take ownership of the tail, because `self` is borrowed;\n",
    "            // instead take a reference to the tail\n",
    "            Cons(_, ref tail) => 1 + tail.len(),\n",
    "            // Base Case: An empty list has zero length\n",
    "            Nil => 0\n",
    "        }\n",
    "    }\n",
    "\n",
    "    // Return representation of the list as a (heap allocated) string\n",
    "    fn stringify(&self) -> String {\n",
    "        match *self {\n",
    "            Cons(head, ref tail) => {\n",
    "                // `format!` is similar to `print!`, but returns a heap\n",
    "                // allocated string instead of printing to the console\n",
    "                format!(\"{}, {}\", head, tail.stringify())\n",
    "            },\n",
    "            Nil => {\n",
    "                format!(\"Nil\")\n",
    "            },\n",
    "        }\n",
    "    }\n",
    "}\n",
    "\n",
    "fn main() {\n",
    "    // Create an empty linked list\n",
    "    let mut list = List::new();\n",
    "\n",
    "    // Prepend some elements\n",
    "    list = list.prepend(1);\n",
    "    list = list.prepend(2);\n",
    "    list = list.prepend(3);\n",
    "\n",
    "    // Show the final state of the list\n",
    "    println!(\"linked list has length: {}\", list.len());\n",
    "    println!(\"{}\", list.stringify());\n",
    "}\n"
   ]
  },
  {
   "cell_type": "markdown",
   "metadata": {
    "editable": false,
    "deletable": false
   },
   "source": [
    "## See also:\n",
    "\n",
    "[`Box`](https://doc.rust-lang.org/rust-by-example/std/box.html) and [methods](https://doc.rust-lang.org/rust-by-example/std/box.html)"
   ]
  },
  {
   "cell_type": "markdown",
   "metadata": {
    "editable": false,
    "deletable": false
   },
   "source": [
    "---\n",
    "# 3.3. [constants](#3-Custom-Types)\n",
    "\n",
    "Rust has two different types of constants which can be declared in any scope including global. Both require explicit type annotation:\n",
    "\n",
    "* const: An unchangeable value (the common case).\n",
    "* static: A possibly `mut`able variable with [`'static`](https://doc.rust-lang.org/rust-by-example/scope/lifetime/static_lifetime.html) lifetime. The static lifetime is inferred and does not have to be specified. Accessing or modifying a mutable static variable is [`unsafe`](https://doc.rust-lang.org/rust-by-example/unsafe.html).\n"
   ]
  },
  {
   "cell_type": "code",
   "execution_count": null,
   "metadata": {
    "editable": true,
    "deletable": false
   },
   "outputs": [],
   "source": [
    "// Globals are declared outside all other scopes.\n",
    "static LANGUAGE: &str = \"Rust\";\n",
    "const THRESHOLD: i32 = 10;\n",
    "\n",
    "fn is_big(n: i32) -> bool {\n",
    "    // Access constant in some function\n",
    "    n > THRESHOLD\n",
    "}\n",
    "\n",
    "fn main() {\n",
    "    let n = 16;\n",
    "\n",
    "    // Access constant in the main thread\n",
    "    println!(\"This is {}\", LANGUAGE);\n",
    "    println!(\"The threshold is {}\", THRESHOLD);\n",
    "    println!(\"{} is {}\", n, if is_big(n) { \"big\" } else { \"small\" });\n",
    "\n",
    "    // Error! Cannot modify a `const`.\n",
    "    THRESHOLD = 5;\n",
    "    // FIXME ^ Comment out this line\n",
    "}"
   ]
  },
  {
   "cell_type": "markdown",
   "metadata": {
    "editable": false,
    "deletable": false
   },
   "source": [
    "## See also:\n",
    "\n",
    "[The `const`/`static` RFC](https://github.com/rust-lang/rfcs/blob/master/text/0246-const-vs-static.md), [`'static` lifetime](https://doc.rust-lang.org/rust-by-example/scope/lifetime/static_lifetime.html)"
   ]
  }
 ],
 "metadata": {
  "kernelspec": {
   "display_name": "Rust",
   "language": "rust",
   "name": "rust"
  },
  "language_info": {
   "codemirror_mode": "rust",
   "file_extension": ".rs",
   "mimetype": "text/rust",
   "name": "Rust",
   "pygment_lexer": "rust",
   "version": ""
  }
 },
 "nbformat": 4,
 "nbformat_minor": 2
}