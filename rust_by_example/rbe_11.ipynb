{
 "cells": [
  {
   "cell_type": "markdown",
   "metadata": {
    "editable": false,
    "deletable": false
   },
   "source": [
    "# 11 [Crates](#11.-Crates)\n",
    "* ### 11.1 [Library](#11.1.-Library)\n",
    "* ### 11.2 [extern crate](#11.2.-extern-crate)"
   ]
  },
  {
   "cell_type": "markdown",
   "metadata": {
    "editable": false,
    "deletable": false
   },
   "source": [
    "---\n",
    "# 11. [Crates](#11-Crates)\n",
    "\n",
    "A crate is a compilation unit in Rust. Whenever `rustc some_file.rs` is called, `some_file.rs` is treated as the crate file. If `some_file.rs` has `mod` declarations in it, then the contents of the module files would be inserted in places where `mod` declarations in the crate file are found, *before* running the compiler over it. In other words, modules do *not* get compiled individually, only crates get compiled.\n",
    "\n",
    "A crate can be compiled into a binary or into a library. By default, *rustc* will produce a binary from a crate. This behavior can be overridden by passing the *--crate-type* flag to *rustc*."
   ]
  },
  {
   "cell_type": "markdown",
   "metadata": {
    "editable": false,
    "deletable": false
   },
   "source": [
    "---\n",
    "# 11.1. [Library](#11-Crates)\n",
    "\n",
    "Let's create a library, and then see how to link it to another crate.\n",
    "\n",
    "```Rust\n",
    "pub fn public_function() {\n",
    "    println!(\"called rary's `public_function()`\");\n",
    "}\n",
    "\n",
    "fn private_function() {\n",
    "    println!(\"called rary's `private_function()`\");\n",
    "}\n",
    "\n",
    "pub fn indirect_access() {\n",
    "    print!(\"called rary's `indirect_access()`, that\\n> \");\n",
    "\n",
    "    private_function();\n",
    "}\n",
    "```\n",
    "\n",
    "``` Bash\n",
    "$ rustc --crate-type=lib rary.rs\n",
    "$ ls lib*\n",
    "library.rlib\n",
    "```\n",
    "\n",
    "Libraries get prefixed with \"lib\", and by default they get named after their crate file, but this default name can be overridden using the [`crate_name` attribute](https://doc.rust-lang.org/rust-by-example/attribute/crate.html)."
   ]
  },
  {
   "cell_type": "markdown",
   "metadata": {
    "editable": false,
    "deletable": false
   },
   "source": [
    "---\n",
    "# 11.2. [extern crate](#11-Crates)\n",
    "\n",
    "To link a crate to this new library, the `extern crate` declaration must be used. This will not only link the library, but also import all its items under a module named the same as the library. The visibility rules that apply to modules also apply to libraries.\n",
    "\n",
    "```Rust\n",
    "// Link to `library`, import items under the `rary` module\n",
    "extern crate rary;\n",
    "\n",
    "fn main() {\n",
    "    rary::public_function();\n",
    "\n",
    "    // Error! `private_function` is private\n",
    "    //rary::private_function();\n",
    "\n",
    "    rary::indirect_access();\n",
    "}\n",
    "```\n",
    "\n",
    "```Bash\n",
    "# Where library.rlib is the path to the compiled library, assumed that it's\n",
    "# in the same directory here:\n",
    "$ rustc executable.rs --extern rary=library.rlib && ./executable\n",
    "called rary's `public_function()`\n",
    "called rary's `indirect_access()`, that\n",
    "> called rary's `private_function()`\n",
    "```\n"
   ]
  }
 ],
 "metadata": {
  "kernelspec": {
   "display_name": "Rust",
   "language": "rust",
   "name": "rust"
  },
  "language_info": {
   "codemirror_mode": "rust",
   "file_extension": ".rs",
   "mimetype": "text/rust",
   "name": "Rust",
   "pygment_lexer": "rust",
   "version": ""
  }
 },
 "nbformat": 4,
 "nbformat_minor": 2
}