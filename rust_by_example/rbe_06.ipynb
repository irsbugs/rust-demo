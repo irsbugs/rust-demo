{
 "cells": [
  {
   "cell_type": "markdown",
   "metadata": {
    "editable": false,
    "deletable": false
   },
   "source": [
    "# 6 [Conversion](#6.-Conversion)\n",
    "* ### 6.1 [From and Into](#6.1-From-and-Into)\n",
    "* ### 6.2 [To and from Strings](#6.2.-To-and-from-Strings)"
   ]
  },
  {
   "cell_type": "markdown",
   "metadata": {
    "editable": false,
    "deletable": false
   },
   "source": [
    "---\n",
    "# 6. [Conversion](#6-Conversion)\n",
    "\n",
    "Rust addresses conversion between types by the use of [traits](https://doc.rust-lang.org/rust-by-example/trait.html). The generic conversions will use the [`From`](https://doc.rust-lang.org/std/convert/trait.From.html) and [`Into`](https://doc.rust-lang.org/std/convert/trait.Into.html) traits. However there are more specific ones for the more common cases, in particular when converting to and from `String`s."
   ]
  },
  {
   "cell_type": "markdown",
   "metadata": {
    "editable": false,
    "deletable": false
   },
   "source": [
    "---\n",
    "# 6.1. [From and Into](#6-Conversion)\n",
    "\n",
    "The [`From`](https://doc.rust-lang.org/std/convert/trait.From.html) and [`Into`](https://doc.rust-lang.org/std/convert/trait.Into.html) traits are inherently linked, and this is actually part of its implementation. If you are able to convert type A from type B, then it should be easy to believe that we should be able to convert type B to type A.\n",
    "\n",
    "## `From`\n",
    "\n",
    "The [`From`](https://doc.rust-lang.org/std/convert/trait.From.html) trait allows for a type to define how to create itself from another type, hence providing a very simple mechanism for converting between several types. There are numerous implementations of this trait within the standard library for conversion of primitive and common types.\n",
    "\n",
    "For example we can easily convert a `str` into a `String`"
   ]
  },
  {
   "cell_type": "code",
   "execution_count": 3,
   "metadata": {
    "editable": true,
    "deletable": false
   },
   "outputs": [],
   "source": [
    "let my_str = \"hello\";\n",
    "let my_string = String::from(my_str);"
   ]
  },
  {
   "cell_type": "markdown",
   "metadata": {
    "editable": false,
    "deletable": false
   },
   "source": [
    "We can do similar for defining a conversion for our own type."
   ]
  },
  {
   "cell_type": "code",
   "execution_count": 4,
   "metadata": {
    "editable": true,
    "deletable": false
   },
   "outputs": [
    {
     "ename": "Error",
     "evalue": "Items currently need to be explicitly made pub along with all fields of structs.",
     "output_type": "error",
     "traceback": [
      "Items currently need to be explicitly made pub along with all fields of structs."
     ]
    }
   ],
   "source": [
    "use std::convert::From;\n",
    "\n",
    "#[derive(Debug)]\n",
    "struct Number {\n",
    "    value: i32,\n",
    "}\n",
    "\n",
    "impl From<i32> for Number {\n",
    "    fn from(item: i32) -> Self {\n",
    "        Number { value: item }\n",
    "    }\n",
    "}\n",
    "\n",
    "fn main() {\n",
    "    let num = Number::from(30);\n",
    "    println!(\"My number is {:?}\", num);\n",
    "}\n"
   ]
  },
  {
   "cell_type": "markdown",
   "metadata": {
    "editable": false,
    "deletable": false
   },
   "source": [
    "## `Into`\n",
    "\n",
    "The [`Into`](https://doc.rust-lang.org/std/convert/trait.Into.html) trait is simply the reciprocal of the `From` trait. That is, if you have implemented the `From` trait for your type you get the `Into` implementation for free.\n",
    "\n",
    "Using the `Into` trait will typically require specification of the type to convert into as the compiler is unable to determine this most of the time. However this is a small trade-off considering we get the functionality for free."
   ]
  },
  {
   "cell_type": "code",
   "execution_count": 5,
   "metadata": {
    "editable": true,
    "deletable": false
   },
   "outputs": [
    {
     "ename": "Error",
     "evalue": "Items currently need to be explicitly made pub along with all fields of structs.",
     "output_type": "error",
     "traceback": [
      "Items currently need to be explicitly made pub along with all fields of structs."
     ]
    }
   ],
   "source": [
    "use std::convert::From;\n",
    "\n",
    "#[derive(Debug)]\n",
    "struct Number {\n",
    "    value: i32,\n",
    "}\n",
    "\n",
    "impl From<i32> for Number {\n",
    "    fn from(item: i32) -> Self {\n",
    "        Number { value: item }\n",
    "    }\n",
    "}\n",
    "\n",
    "fn main() {\n",
    "    let int = 5;\n",
    "    // Try removing the type declaration\n",
    "    let num: Number = int.into();\n",
    "    println!(\"My number is {:?}\", num);\n",
    "}\n"
   ]
  },
  {
   "cell_type": "markdown",
   "metadata": {
    "editable": false,
    "deletable": false
   },
   "source": [
    "---\n",
    "# 6.2. [To and from Strings](#6-Conversion)\n",
    "\n",
    "## Converting to String\n",
    "\n",
    "To convert any type to a `String` is as simple as implementing the [`ToString`](https://doc.rust-lang.org/std/string/trait.ToString.html) trait for the type. Rather than doing so directly, you should implement the [`fmt::Display`](https://doc.rust-lang.org/std/fmt/trait.Display.html) trait which automagically provides [`ToString`](https://doc.rust-lang.org/std/string/trait.ToString.html) and also allows printing the type as discussed in the section on [`print!`](https://doc.rust-lang.org/rust-by-example/hello/print.html)."
   ]
  },
  {
   "cell_type": "code",
   "execution_count": 6,
   "metadata": {
    "editable": true,
    "deletable": false
   },
   "outputs": [
    {
     "ename": "Error",
     "evalue": "Items currently need to be explicitly made pub along with all fields of structs.",
     "output_type": "error",
     "traceback": [
      "Items currently need to be explicitly made pub along with all fields of structs."
     ]
    }
   ],
   "source": [
    "\n",
    "struct Circle {\n",
    "    radius: i32\n",
    "}\n",
    "\n",
    "impl fmt::Display for Circle {\n",
    "    fn fmt(&self, f: &mut fmt::Formatter) -> fmt::Result {\n",
    "        write!(f, \"Circle of radius {}\", self.radius)\n",
    "    }\n",
    "}\n",
    "\n",
    "fn main() {\n",
    "    let circle = Circle { radius: 6 };\n",
    "    println!(\"{}\", circle.to_string());\n",
    "}\n"
   ]
  },
  {
   "cell_type": "markdown",
   "metadata": {
    "editable": false,
    "deletable": false
   },
   "source": [
    "## Parsing a String\n",
    "\n",
    "One of the more common types to convert a string into is a number. The idiomatic approach to this is to use the [`parse`](https://doc.rust-lang.org/std/primitive.str.html#method.parse) function and provide the type for the function to parse the string value into, this can be done either without type inference or using the 'turbofish' syntax.\n",
    "\n",
    "This will convert the string into the type specified so long as the [`FromStr`](https://doc.rust-lang.org/std/str/trait.FromStr.html) trait is implemented for that type. This is implemented for numerous types within the standard library. To obtain this functionality on a user defined type simply implement the [`FromStr`](https://doc.rust-lang.org/std/str/trait.FromStr.html) trait for that type."
   ]
  },
  {
   "cell_type": "code",
   "execution_count": null,
   "metadata": {
    "editable": true,
    "deletable": false
   },
   "outputs": [],
   "source": [
    "fn main() {\n",
    "    let parsed: i32 = \"5\".parse().unwrap();\n",
    "    let turbo_parsed = \"10\".parse::<i32>().unwrap();\n",
    "\n",
    "    let sum = parsed + turbo_parsed;\n",
    "    println!(\"Sum: {:?}\", sum);\n",
    "}"
   ]
  }
 ],
 "metadata": {
  "kernelspec": {
   "display_name": "Rust",
   "language": "rust",
   "name": "rust"
  },
  "language_info": {
   "codemirror_mode": "rust",
   "file_extension": ".rs",
   "mimetype": "text/rust",
   "name": "Rust",
   "pygment_lexer": "rust",
   "version": ""
  }
 },
 "nbformat": 4,
 "nbformat_minor": 2
}