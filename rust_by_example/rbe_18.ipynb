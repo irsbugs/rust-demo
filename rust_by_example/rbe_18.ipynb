{
 "cells": [
  {
   "cell_type": "markdown",
   "metadata": {
    "editable": false,
    "deletable": false
   },
   "source": [
    "# 18 [Error Handling](#18.-Error-Handling)\n",
    "\n",
    "* ### 18.1 [panic](#18.1.-panic)\n",
    "\n",
    "* ### 18.2 [Option & unwrap](#18.2.-Option-&-unwrap)\n",
    "\n",
    "    * ### 18.2.1 [Combinators: map](#18.2.1.-Combinators:-map)\n",
    "\n",
    "    * ### 18.2.2 [Combinators: and_then](#18.2.2.-Combinators:-and_then)\n",
    "\n",
    "* ### 18.3 [Result](#18.3.-Result)\n",
    "\n",
    "    * ### 18.3.1 [map for Result](#18.3.1.-map-for-Result)\n",
    "\n",
    "    * ### 18.3.2 [aliases for Result](#18.3.2.-aliases-for-Result)\n",
    "\n",
    "    * ### 18.3.3 [Early returns](#18.3.3.-Early-returns)\n",
    "\n",
    "    * ### 18.3.4 [Introducing ?](#18.3.4.-Introducing-?)\n",
    "\n",
    "* ### 18.4 [Multiple error types](#18.4.-Multiple-error-types)\n",
    "\n",
    "    * ### 18.4.1 [Pulling Results out of Options](#18.4.1.-Pulling-Results-out-of-Options)\n",
    "\n",
    "    * ### 18.4.2 [Defining an error type](#18.4.2.-Defining-an-error-type)\n",
    "\n",
    "    * ### 18.4.3 [Boxing errors](#18.4.3.-Boxing-errors)\n",
    "\n",
    "    * ### 18.4.4 [Other uses of ?](#18.4.4.-Other-uses-of-?)\n",
    "\n",
    "    * ### 18.4.5 [Wrapping errors](#18.4.5.-Wrapping-errors)\n",
    "\n",
    "* ### 18.5 [Iterating over results](#18.5.-Iterating-over-results)\n"
   ]
  },
  {
   "cell_type": "markdown",
   "metadata": {
    "editable": false,
    "deletable": false
   },
   "source": [
    "---\n",
    "# 18. [Error Handling](#18-Error-Handling)\n",
    "\n",
    "Error handling is the process of handling the possibility of failure. For example, failing to read a file and then continuing to use that *bad* input would clearly be problematic. Noticing and explicitly managing those errors saves the rest of the program from various pitfalls.\n",
    "\n",
    "There are various ways to deal with errors in Rust, which are described in the following subchapters. They all have more or less subtle differences and different use cases. As a rule of thumb:\n",
    "\n",
    "An explicit `panic` is mainly useful for tests and dealing with unrecoverable errors. For prototyping it can be useful, for example when dealing with functions that haven't been implemented yet, but in those cases the more descriptive `unimplemented` is better. In tests `panic` is a reasonable way to explicitly fail.\n",
    "\n",
    "The `Option` type is for when a value is optional or when the lack of a value is not an error condition. For example the parent of a directory - `/` and `C:` don't have one. When dealing with `Option`s, `unwrap` is fine for prototyping and cases where it's absolutely certain that there is guaranteed to be a value. However `expect` is more useful since it lets you specify an error message in case something goes wrong anyway.\n",
    "\n",
    "When there is a chance that things do go wrong and the caller has to deal with the problem, use `Result`. You can `unwrap` and `expect` them as well (please don't do that unless it's a test or quick prototype).\n",
    "\n",
    "For a more rigorous discussion of error handling, refer to the error handling section in the [official book](https://doc.rust-lang.org/book/ch09-00-error-handling.html)."
   ]
  },
  {
   "cell_type": "markdown",
   "metadata": {
    "editable": false,
    "deletable": false
   },
   "source": [
    "---\n",
    "# 18.1. [panic](#18-Error-Handling)\n",
    "\n",
    "The simplest error handling mechanism we will see is `panic`. It prints an error message, starts unwinding the task, and usually exits the program. Here, we explicitly call `panic` on our error condition:"
   ]
  },
  {
   "cell_type": "code",
   "execution_count": null,
   "metadata": {
    "editable": true,
    "deletable": false
   },
   "outputs": [],
   "source": [
    "fn give_princess(gift: &str) {\n",
    "    // Princesses hate snakes, so we need to stop if she disapproves!\n",
    "    if gift == \"snake\" { panic!(\"AAAaaaaa!!!!\"); }\n",
    "\n",
    "    println!(\"I love {}s!!!!!\", gift);\n",
    "}\n",
    "\n",
    "fn main() {\n",
    "    give_princess(\"teddy bear\");\n",
    "    give_princess(\"snake\");\n",
    "}"
   ]
  },
  {
   "cell_type": "markdown",
   "metadata": {
    "editable": false,
    "deletable": false
   },
   "source": [
    "---\n",
    "# 18.2. [Option & unwrap](#18-Error-Handling)\n",
    "\n",
    "In the last example, we showed that we can induce program failure at will. We told our program to `panic` if the princess received an inappropriate gift - a snake. But what if the princess expected a gift and didn't receive one? That case would be just as bad, so it needs to be handled!\n",
    "\n",
    "We could test this against the null string (`\"\"`) as we do with a snake. Since we're using Rust, let's instead have the compiler point out cases where there's no gift.\n",
    "\n",
    "An enum called `Option<T>` in the `std` library is used when absence is a possibility. It manifests itself as one of two \"options\":\n",
    "\n",
    "* `Some(T)`: An element of type T was found\n",
    "* `None`: No element was found\n",
    "\n",
    "These cases can either be explicitly handled via `match` or implicitly with `unwrap`. Implicit handling will either return the inner element or `panic`.\n",
    "\n",
    "Note that it's possible to manually customize `panic` with [expect](https://doc.rust-lang.org/std/option/enum.Option.html#method.expect), but `unwrap` otherwise leaves us with a less meaningful output than explicit handling. In the following example, explicit handling yields a more controlled result while retaining the option to `panic` if desired."
   ]
  },
  {
   "cell_type": "code",
   "execution_count": null,
   "metadata": {
    "editable": true,
    "deletable": false
   },
   "outputs": [],
   "source": [
    "// The commoner has seen it all, and can handle any gift well.\n",
    "// All gifts are handled explicitly using `match`.\n",
    "fn give_commoner(gift: Option<&str>) {\n",
    "    // Specify a course of action for each case.\n",
    "    match gift {\n",
    "        Some(\"snake\") => println!(\"Yuck! I'm throwing that snake in a fire.\"),\n",
    "        Some(inner)   => println!(\"{}? How nice.\", inner),\n",
    "        None          => println!(\"No gift? Oh well.\"),\n",
    "    }\n",
    "}\n",
    "\n",
    "// Our sheltered princess will `panic` at the sight of snakes.\n",
    "// All gifts are handled implicitly using `unwrap`.\n",
    "fn give_princess(gift: Option<&str>) {\n",
    "    // `unwrap` returns a `panic` when it receives a `None`.\n",
    "    let inside = gift.unwrap();\n",
    "    if inside == \"snake\" { panic!(\"AAAaaaaa!!!!\"); }\n",
    "\n",
    "    println!(\"I love {}s!!!!!\", inside);\n",
    "}\n",
    "\n",
    "fn main() {\n",
    "    let food  = Some(\"cabbage\");\n",
    "    let snake = Some(\"snake\");\n",
    "    let void  = None;\n",
    "\n",
    "    give_commoner(food);\n",
    "    give_commoner(snake);\n",
    "    give_commoner(void);\n",
    "\n",
    "    let bird = Some(\"robin\");\n",
    "    let nothing = None;\n",
    "\n",
    "    give_princess(bird);\n",
    "    give_princess(nothing);\n",
    "}\n"
   ]
  },
  {
   "cell_type": "markdown",
   "metadata": {
    "editable": false,
    "deletable": false
   },
   "source": [
    "---\n",
    "# 18.2.1. [Combinators: map](#18-Error-Handling)\n",
    "\n",
    "`match` is a valid method for handling `Option`s. However, you may eventually find heavy usage tedious, especially with operations only valid with an input. In these cases, [combinators](https://doc.rust-lang.org/book/glossary.html#combinators) can be used to manage control flow in a modular fashion.\n",
    "\n",
    "Option has a built in method called `map()`, a combinator for the simple mapping of `Some -> Some` and `None -> None`. Multiple `map()` calls can be chained together for even more flexibility.\n",
    "\n",
    "In the following example, `process()` replaces all functions previous to it while staying compact."
   ]
  },
  {
   "cell_type": "code",
   "execution_count": null,
   "metadata": {
    "editable": true,
    "deletable": false
   },
   "outputs": [],
   "source": [
    "#![allow(dead_code)]\n",
    "\n",
    "#[derive(Debug)] enum Food { Apple, Carrot, Potato }\n",
    "\n",
    "#[derive(Debug)] struct Peeled(Food);\n",
    "#[derive(Debug)] struct Chopped(Food);\n",
    "#[derive(Debug)] struct Cooked(Food);\n",
    "\n",
    "// Peeling food. If there isn't any, then return `None`.\n",
    "// Otherwise, return the peeled food.\n",
    "fn peel(food: Option<Food>) -> Option<Peeled> {\n",
    "    match food {\n",
    "        Some(food) => Some(Peeled(food)),\n",
    "        None       => None,\n",
    "    }\n",
    "}\n",
    "\n",
    "// Chopping food. If there isn't any, then return `None`.\n",
    "// Otherwise, return the chopped food.\n",
    "fn chop(peeled: Option<Peeled>) -> Option<Chopped> {\n",
    "    match peeled {\n",
    "        Some(Peeled(food)) => Some(Chopped(food)),\n",
    "        None               => None,\n",
    "    }\n",
    "}\n",
    "\n",
    "// Cooking food. Here, we showcase `map()` instead of `match` for case handling.\n",
    "fn cook(chopped: Option<Chopped>) -> Option<Cooked> {\n",
    "    chopped.map(|Chopped(food)| Cooked(food))\n",
    "}\n",
    "\n",
    "// A function to peel, chop, and cook food all in sequence.\n",
    "// We chain multiple uses of `map()` to simplify the code.\n",
    "fn process(food: Option<Food>) -> Option<Cooked> {\n",
    "    food.map(|f| Peeled(f))\n",
    "        .map(|Peeled(f)| Chopped(f))\n",
    "        .map(|Chopped(f)| Cooked(f))\n",
    "}\n",
    "\n",
    "// Check whether there's food or not before trying to eat it!\n",
    "fn eat(food: Option<Cooked>) {\n",
    "    match food {\n",
    "        Some(food) => println!(\"Mmm. I love {:?}\", food),\n",
    "        None       => println!(\"Oh no! It wasn't edible.\"),\n",
    "    }\n",
    "}\n",
    "\n",
    "fn main() {\n",
    "    let apple = Some(Food::Apple);\n",
    "    let carrot = Some(Food::Carrot);\n",
    "    let potato = None;\n",
    "\n",
    "    let cooked_apple = cook(chop(peel(apple)));\n",
    "    let cooked_carrot = cook(chop(peel(carrot)));\n",
    "    // Let's try the simpler looking `process()` now.\n",
    "    let cooked_potato = process(potato);\n",
    "\n",
    "    eat(cooked_apple);\n",
    "    eat(cooked_carrot);\n",
    "    eat(cooked_potato);\n",
    "}\n"
   ]
  },
  {
   "cell_type": "markdown",
   "metadata": {
    "editable": false,
    "deletable": false
   },
   "source": [
    "## See also:\n",
    "\n",
    "[closures](https://doc.rust-lang.org/rust-by-example/fn/closures.html), [`Option`](https://doc.rust-lang.org/std/option/enum.Option.html), [`Option::map()`](https://doc.rust-lang.org/std/option/enum.Option.html#method.map)"
   ]
  },
  {
   "cell_type": "markdown",
   "metadata": {
    "editable": false,
    "deletable": false
   },
   "source": [
    "---\n",
    "# 18.2.2. [Combinators: and_then](#18-Error-Handling)\n",
    "\n",
    "`map()` was described as a chainable way to simplify `match` statements. However, using `map()` on a function that returns an `Option<T>` results in the nested `Option<Option<T>>`. Chaining multiple calls together can then become confusing. That's where another combinator called `and_then()`, known in some languages as flatmap, comes in.\n",
    "\n",
    "`and_then()` calls its function input with the wrapped value and returns the result. If the `Option` is `None`, then it returns `None` instead.\n",
    "\n",
    "In the following example, `cookable_v2()` results in an `Option<Food>`. Using `map()` instead of `and_then()` would have given an `Option<Option<Food>>`, which is an invalid type for `eat()`.\n",
    "\n"
   ]
  },
  {
   "cell_type": "code",
   "execution_count": null,
   "metadata": {
    "editable": true,
    "deletable": false
   },
   "outputs": [],
   "source": [
    "#![allow(dead_code)]\n",
    "\n",
    "#[derive(Debug)] enum Food { CordonBleu, Steak, Sushi }\n",
    "#[derive(Debug)] enum Day { Monday, Tuesday, Wednesday }\n",
    "\n",
    "// We don't have the ingredients to make Sushi.\n",
    "fn have_ingredients(food: Food) -> Option<Food> {\n",
    "    match food {\n",
    "        Food::Sushi => None,\n",
    "        _           => Some(food),\n",
    "    }\n",
    "}\n",
    "\n",
    "// We have the recipe for everything except Cordon Bleu.\n",
    "fn have_recipe(food: Food) -> Option<Food> {\n",
    "    match food {\n",
    "        Food::CordonBleu => None,\n",
    "        _                => Some(food),\n",
    "    }\n",
    "}\n",
    "\n",
    "// To make a dish, we need both the recipe and the ingredients.\n",
    "// We can represent the logic with a chain of `match`es:\n",
    "fn cookable_v1(food: Food) -> Option<Food> {\n",
    "    match have_recipe(food) {\n",
    "        None       => None,\n",
    "        Some(food) => match have_ingredients(food) {\n",
    "            None       => None,\n",
    "            Some(food) => Some(food),\n",
    "        },\n",
    "    }\n",
    "}\n",
    "\n",
    "// This can conveniently be rewritten more compactly with `and_then()`:\n",
    "fn cookable_v2(food: Food) -> Option<Food> {\n",
    "    have_recipe(food).and_then(have_ingredients)\n",
    "}\n",
    "\n",
    "fn eat(food: Food, day: Day) {\n",
    "    match cookable_v2(food) {\n",
    "        Some(food) => println!(\"Yay! On {:?} we get to eat {:?}.\", day, food),\n",
    "        None       => println!(\"Oh no. We don't get to eat on {:?}?\", day),\n",
    "    }\n",
    "}\n",
    "\n",
    "fn main() {\n",
    "    let (cordon_bleu, steak, sushi) = (Food::CordonBleu, Food::Steak, Food::Sushi);\n",
    "\n",
    "    eat(cordon_bleu, Day::Monday);\n",
    "    eat(steak, Day::Tuesday);\n",
    "    eat(sushi, Day::Wednesday);\n",
    "}\n"
   ]
  },
  {
   "cell_type": "markdown",
   "metadata": {
    "editable": false,
    "deletable": false
   },
   "source": [
    "## See also:\n",
    "\n",
    "[closures](https://doc.rust-lang.org/rust-by-example/fn/closures.html), [`Option`](https://doc.rust-lang.org/std/option/enum.Option.html), and [`Option::and_then()`](https://doc.rust-lang.org/std/option/enum.Option.html#method.and_then)"
   ]
  },
  {
   "cell_type": "markdown",
   "metadata": {
    "editable": false,
    "deletable": false
   },
   "source": [
    "---\n",
    "# 18.3. [Result](#18-Error-Handling)\n",
    "\n",
    "[`Result`](https://doc.rust-lang.org/std/result/enum.Result.html) is a richer version of the [`Option`](https://doc.rust-lang.org/std/option/enum.Option.html) type that describes possible *error* instead of possible *absence*.\n",
    "\n",
    "That is, `Result<T, E>` could have one of two outcomes:\n",
    "\n",
    "* `Ok<T>`: An element `T` was found\n",
    "* `Err<E>`: An error was found with element `E`\n",
    "\n",
    "By convention, the expected outcome is `Ok` while the unexpected outcome is `Err`.\n",
    "\n",
    "Like `Option`, `Result` has many methods associated with it. `unwrap()`, for example, either yields the element `T` or `panic`s. For case handling, there are many combinators between `Result` and `Option` that overlap.\n",
    "\n",
    "In working with Rust, you will likely encounter methods that return the `Result` type, such as the `parse()` method. It might not always be possible to parse a string into the other type, so `parse()` returns a `Result` indicating possible failure.\n",
    "\n",
    "Let's see what happens when we successfully and unsuccessfully `parse()` a string:"
   ]
  },
  {
   "cell_type": "code",
   "execution_count": null,
   "metadata": {
    "editable": true,
    "deletable": false
   },
   "outputs": [],
   "source": [
    "fn multiply(first_number_str: &str, second_number_str: &str) -> i32 {\n",
    "    // Let's try using `unwrap()` to get the number out. Will it bite us?\n",
    "    let first_number = first_number_str.parse::<i32>().unwrap();\n",
    "    let second_number = second_number_str.parse::<i32>().unwrap();\n",
    "    first_number * second_number\n",
    "}\n",
    "\n",
    "fn main() {\n",
    "    let twenty = multiply(\"10\", \"2\");\n",
    "    println!(\"double is {}\", twenty);\n",
    "\n",
    "    let tt = multiply(\"t\", \"2\");\n",
    "    println!(\"double is {}\", tt);\n",
    "}\n"
   ]
  },
  {
   "cell_type": "markdown",
   "metadata": {
    "editable": false,
    "deletable": false
   },
   "source": [
    "In the unsuccessful case, `parse()` leaves us with an error for `unwrap()` to `panic` on. Additionally, the `panic` exits our program and provides an unpleasant error message.\n",
    "\n",
    "To improve the quality of our error message, we should be more specific about the return type and consider explicitly handling the error.\n",
    "\n",
    "## Using Result in main\n",
    "\n",
    "The `Result` type can also be the return type of the `main` function if specified explicitly. Typically the `main` function will be of the form:"
   ]
  },
  {
   "cell_type": "code",
   "execution_count": null,
   "metadata": {
    "editable": true,
    "deletable": false
   },
   "outputs": [],
   "source": [
    "fn main() {\n",
    "    println!(\"Hello World!\");\n",
    "}"
   ]
  },
  {
   "cell_type": "markdown",
   "metadata": {
    "editable": false,
    "deletable": false
   },
   "source": [
    "However `main` is also able to have a return type of `Result`. If an error occurs within the `main` function it will return an error code and print a debug representation of the error (using the [`Debug`](https://doc.rust-lang.org/std/fmt/trait.Debug.html) trait). The following example shows such a scenario and touches on aspects covered in [the following section](https://doc.rust-lang.org/rust-by-example/error/result/early_returns.html)."
   ]
  },
  {
   "cell_type": "code",
   "execution_count": null,
   "metadata": {
    "editable": true,
    "deletable": false
   },
   "outputs": [],
   "source": [
    "use std::num::ParseIntError;\n",
    "\n",
    "fn main() -> Result<(), ParseIntError> {\n",
    "    let number_str = \"10\";\n",
    "    let number = match number_str.parse::<i32>() {\n",
    "        Ok(number)  => number,\n",
    "        Err(e) => return Err(e),\n",
    "    };\n",
    "    println!(\"{}\", number);\n",
    "    Ok(())\n",
    "}"
   ]
  },
  {
   "cell_type": "markdown",
   "metadata": {
    "editable": false,
    "deletable": false
   },
   "source": [
    "---\n",
    "# 18.3.1. [map for Result](#18-Error-Handling)\n",
    "\n",
    "Panicking in the previous example's `multiply` does not make for robust code. Generally, we want to return the error to the caller so it can decide what is the right way to respond to errors.\n",
    "\n",
    "We first need to know what kind of error type we are dealing with. To determine the Err type, we look to [`parse()`](https://doc.rust-lang.org/std/primitive.str.html#method.parse), which is implemented with the [`FromStr`](https://doc.rust-lang.org/std/str/trait.FromStr.html) trait for [`i32`](https://doc.rust-lang.org/std/primitive.i32.html). As a result, the `Err` type is specified as [`ParseIntError`](https://doc.rust-lang.org/std/num/struct.ParseIntError.html).\n",
    "\n",
    "In the example below, the straightforward `match` statement leads to code that is overall more cumbersome.\n",
    "\n"
   ]
  },
  {
   "cell_type": "code",
   "execution_count": null,
   "metadata": {
    "editable": true,
    "deletable": false
   },
   "outputs": [],
   "source": [
    "use std::num::ParseIntError;\n",
    "\n",
    "// With the return type rewritten, we use pattern matching without `unwrap()`.\n",
    "fn multiply(first_number_str: &str, second_number_str: &str) -> Result<i32, ParseIntError> {\n",
    "    match first_number_str.parse::<i32>() {\n",
    "        Ok(first_number)  => {\n",
    "            match second_number_str.parse::<i32>() {\n",
    "                Ok(second_number)  => {\n",
    "                    Ok(first_number * second_number)\n",
    "                },\n",
    "                Err(e) => Err(e),\n",
    "            }\n",
    "        },\n",
    "        Err(e) => Err(e),\n",
    "    }\n",
    "}\n",
    "\n",
    "fn print(result: Result<i32, ParseIntError>) {\n",
    "    match result {\n",
    "        Ok(n)  => println!(\"n is {}\", n),\n",
    "        Err(e) => println!(\"Error: {}\", e),\n",
    "    }\n",
    "}\n",
    "\n",
    "fn main() {\n",
    "    // This still presents a reasonable answer.\n",
    "    let twenty = multiply(\"10\", \"2\");\n",
    "    print(twenty);\n",
    "\n",
    "    // The following now provides a much more helpful error message.\n",
    "    let tt = multiply(\"t\", \"2\");\n",
    "    print(tt);\n",
    "}\n"
   ]
  },
  {
   "cell_type": "markdown",
   "metadata": {
    "editable": false,
    "deletable": false
   },
   "source": [
    "Luckily, `Option`'s `map`, `and_then`, and many other combinators are also implemented for `Result`. [`Result`](https://doc.rust-lang.org/std/result/enum.Result.html) contains a complete listing."
   ]
  },
  {
   "cell_type": "code",
   "execution_count": null,
   "metadata": {
    "editable": true,
    "deletable": false
   },
   "outputs": [],
   "source": [
    "use std::num::ParseIntError;\n",
    "\n",
    "// As with `Option`, we can use combinators such as `map()`.\n",
    "// This function is otherwise identical to the one above and reads:\n",
    "// Modify n if the value is valid, otherwise pass on the error.\n",
    "fn multiply(first_number_str: &str, second_number_str: &str) -> Result<i32, ParseIntError> {\n",
    "    first_number_str.parse::<i32>().and_then(|first_number| {\n",
    "        second_number_str.parse::<i32>().map(|second_number| first_number * second_number)\n",
    "    })\n",
    "}\n",
    "\n",
    "fn print(result: Result<i32, ParseIntError>) {\n",
    "    match result {\n",
    "        Ok(n)  => println!(\"n is {}\", n),\n",
    "        Err(e) => println!(\"Error: {}\", e),\n",
    "    }\n",
    "}\n",
    "\n",
    "fn main() {\n",
    "    // This still presents a reasonable answer.\n",
    "    let twenty = multiply(\"10\", \"2\");\n",
    "    print(twenty);\n",
    "\n",
    "    // The following now provides a much more helpful error message.\n",
    "    let tt = multiply(\"t\", \"2\");\n",
    "    print(tt);\n",
    "}\n"
   ]
  },
  {
   "cell_type": "markdown",
   "metadata": {
    "editable": false,
    "deletable": false
   },
   "source": [
    "---\n",
    "# 18.3.2. [aliases for Result](#18-Error-Handling)\n",
    "\n",
    "How about when we want to reuse a specific `Result` type many times? Recall that Rust allows us to create [aliases](https://doc.rust-lang.org/rust-by-example/types/alias.html). Conveniently, we can define one for the specific `Result` in question.\n",
    "\n",
    "At a module level, creating aliases can be particularly helpful. Errors found in a specific module often have the same `Err` type, so a single alias can succinctly define *all* associated Results. This is so useful that the `std` library even supplies one: [`io::Result`](https://doc.rust-lang.org/std/io/type.Result.html)!\n",
    "\n",
    "Here's a quick example to show off the syntax:"
   ]
  },
  {
   "cell_type": "code",
   "execution_count": null,
   "metadata": {
    "editable": true,
    "deletable": false
   },
   "outputs": [],
   "source": [
    "use std::num::ParseIntError;\n",
    "\n",
    "// Define a generic alias for a `Result` with the error type `ParseIntError`.\n",
    "type AliasedResult<T> = Result<T, ParseIntError>;\n",
    "\n",
    "// Use the above alias to refer to our specific `Result` type.\n",
    "fn multiply(first_number_str: &str, second_number_str: &str) -> AliasedResult<i32> {\n",
    "    first_number_str.parse::<i32>().and_then(|first_number| {\n",
    "        second_number_str.parse::<i32>().map(|second_number| first_number * second_number)\n",
    "    })\n",
    "}\n",
    "\n",
    "// Here, the alias again allows us to save some space.\n",
    "fn print(result: AliasedResult<i32>) {\n",
    "    match result {\n",
    "        Ok(n)  => println!(\"n is {}\", n),\n",
    "        Err(e) => println!(\"Error: {}\", e),\n",
    "    }\n",
    "}\n",
    "\n",
    "fn main() {\n",
    "    print(multiply(\"10\", \"2\"));\n",
    "    print(multiply(\"t\", \"2\"));\n",
    "}\n"
   ]
  },
  {
   "cell_type": "markdown",
   "metadata": {
    "editable": false,
    "deletable": false
   },
   "source": [
    "## See also:\n",
    "\n",
    "[`io::Result`](https://doc.rust-lang.org/std/io/type.Result.html)"
   ]
  },
  {
   "cell_type": "markdown",
   "metadata": {
    "editable": false,
    "deletable": false
   },
   "source": [
    "---\n",
    "# 18.3.3. [Early returns](#18-Error-Handling)\n",
    "\n",
    "In the previous example, we explicitly handled the errors using combinators. Another way to deal with this case analysis is to use a combination of `match` statements and *early returns*.\n",
    "\n",
    "That is, we can simply stop executing the function and return the error if one occurs. For some, this form of code can be easier to both read and write. Consider this version of the previous example, rewritten using early returns:"
   ]
  },
  {
   "cell_type": "code",
   "execution_count": null,
   "metadata": {
    "editable": true,
    "deletable": false
   },
   "outputs": [],
   "source": [
    "use std::num::ParseIntError;\n",
    "\n",
    "fn multiply(first_number_str: &str, second_number_str: &str) -> Result<i32, ParseIntError> {\n",
    "    let first_number = match first_number_str.parse::<i32>() {\n",
    "        Ok(first_number)  => first_number,\n",
    "        Err(e) => return Err(e),\n",
    "    };\n",
    "\n",
    "    let second_number = match second_number_str.parse::<i32>() {\n",
    "        Ok(second_number)  => second_number,\n",
    "        Err(e) => return Err(e),\n",
    "    };\n",
    "\n",
    "    Ok(first_number * second_number)\n",
    "}\n",
    "\n",
    "fn print(result: Result<i32, ParseIntError>) {\n",
    "    match result {\n",
    "        Ok(n)  => println!(\"n is {}\", n),\n",
    "        Err(e) => println!(\"Error: {}\", e),\n",
    "    }\n",
    "}\n",
    "\n",
    "fn main() {\n",
    "    print(multiply(\"10\", \"2\"));\n",
    "    print(multiply(\"t\", \"2\"));\n",
    "}\n"
   ]
  },
  {
   "cell_type": "markdown",
   "metadata": {
    "editable": false,
    "deletable": false
   },
   "source": [
    "At this point, we've learned to explicitly handle errors using combinators and early returns. While we generally want to avoid panicking, explicitly handling all of our errors is cumbersome.\n",
    "\n",
    "In the next section, we'll introduce `?` for the cases where we simply need to `unwrap` without possibly inducing `panic`."
   ]
  },
  {
   "cell_type": "markdown",
   "metadata": {
    "editable": false,
    "deletable": false
   },
   "source": [
    "---\n",
    "# 18.3.4. [Introducing ?](#18-Error-Handling)\n",
    "\n",
    "Sometimes we just want the simplicity of `unwrap` without the possibility of a `panic`. Until now, `unwrap` has forced us to nest deeper and deeper when what we really wanted was to get the variable *out*. This is exactly the purpose of `?`.\n",
    "\n",
    "Upon finding an `Err`, there are two valid actions to take:\n",
    "\n",
    "* `panic!` which we already decided to try to avoid if possible\n",
    "* `return` because an `Err` means it cannot be handled\n",
    "\n",
    "`?` is *almost*\u00b9 exactly equivalent to an `unwrap` which `return`s instead of `panic`s on `Err`s. Let's see how we can simplify the earlier example that used combinators:"
   ]
  },
  {
   "cell_type": "code",
   "execution_count": null,
   "metadata": {
    "editable": true,
    "deletable": false
   },
   "outputs": [],
   "source": [
    "use std::num::ParseIntError;\n",
    "\n",
    "fn multiply(first_number_str: &str, second_number_str: &str) -> Result<i32, ParseIntError> {\n",
    "    let first_number = first_number_str.parse::<i32>()?;\n",
    "    let second_number = second_number_str.parse::<i32>()?;\n",
    "\n",
    "    Ok(first_number * second_number)\n",
    "}\n",
    "\n",
    "fn print(result: Result<i32, ParseIntError>) {\n",
    "    match result {\n",
    "        Ok(n)  => println!(\"n is {}\", n),\n",
    "        Err(e) => println!(\"Error: {}\", e),\n",
    "    }\n",
    "}\n",
    "\n",
    "fn main() {\n",
    "    print(multiply(\"10\", \"2\"));\n",
    "    print(multiply(\"t\", \"2\"));\n",
    "}\n"
   ]
  },
  {
   "cell_type": "markdown",
   "metadata": {
    "editable": false,
    "deletable": false
   },
   "source": [
    "## The try! macro\n",
    "\n",
    "Before there was `?`, the same functionality was achieved with the `try!` macro. The `?` operator is now recommended, but you may still find `try!` when looking at older code. The same `multiply` function from the previous example would look like this using `try!`:"
   ]
  },
  {
   "cell_type": "code",
   "execution_count": null,
   "metadata": {
    "editable": true,
    "deletable": false
   },
   "outputs": [],
   "source": [
    "use std::num::ParseIntError;\n",
    "\n",
    "fn multiply(first_number_str: &str, second_number_str: &str) -> Result<i32, ParseIntError> {\n",
    "    let first_number = try!(first_number_str.parse::<i32>());\n",
    "    let second_number = try!(second_number_str.parse::<i32>());\n",
    "\n",
    "    Ok(first_number * second_number)\n",
    "}\n",
    "\n",
    "fn print(result: Result<i32, ParseIntError>) {\n",
    "    match result {\n",
    "        Ok(n)  => println!(\"n is {}\", n),\n",
    "        Err(e) => println!(\"Error: {}\", e),\n",
    "    }\n",
    "}\n",
    "\n",
    "fn main() {\n",
    "    print(multiply(\"10\", \"2\"));\n",
    "    print(multiply(\"t\", \"2\"));\n",
    "}\n"
   ]
  },
  {
   "cell_type": "markdown",
   "metadata": {
    "editable": false,
    "deletable": false
   },
   "source": [
    "\u00b9 See [re-enter ?](https://doc.rust-lang.org/rust-by-example/error/multiple_error_types/reenter_question_mark.html) for more details. "
   ]
  },
  {
   "cell_type": "markdown",
   "metadata": {
    "editable": false,
    "deletable": false
   },
   "source": [
    "---\n",
    "# 18.4. [Multiple error types](#18-Error-Handling)\n",
    "\n",
    "The previous examples have always been very convenient; `Result`s interact with other `Result`s and `Option`s interact with other `Option`s.\n",
    "\n",
    "Sometimes an `Option` needs to interact with a `Result`, or a `Result<T, Error1>` needs to interact with a `Result<T, Error2>`. In those cases, we want to manage our different error types in a way that makes them composable and easy to interact with.\n",
    "\n",
    "In the following code, two instances of `unwrap` generate different error types. `Vec::first` returns an `Option`, while `parse::<i32>` returns a `Result<i32, ParseIntError>`:"
   ]
  },
  {
   "cell_type": "code",
   "execution_count": null,
   "metadata": {
    "editable": true,
    "deletable": false
   },
   "outputs": [],
   "source": [
    "fn double_first(vec: Vec<&str>) -> i32 {\n",
    "    let first = vec.first().unwrap(); // Generate error 1\n",
    "    2 * first.parse::<i32>().unwrap() // Generate error 2\n",
    "}\n",
    "\n",
    "fn main() {\n",
    "    let numbers = vec![\"42\", \"93\", \"18\"];\n",
    "    let empty = vec![];\n",
    "    let strings = vec![\"tofu\", \"93\", \"18\"];\n",
    "\n",
    "    println!(\"The first doubled is {}\", double_first(numbers));\n",
    "\n",
    "    println!(\"The first doubled is {}\", double_first(empty));\n",
    "    // Error 1: the input vector is empty\n",
    "\n",
    "    println!(\"The first doubled is {}\", double_first(strings));\n",
    "    // Error 2: the element doesn't parse to a number\n",
    "}\n"
   ]
  },
  {
   "cell_type": "markdown",
   "metadata": {
    "editable": false,
    "deletable": false
   },
   "source": [
    "Over the next sections, we'll see several strategies for handling these kind of problems.\n"
   ]
  },
  {
   "cell_type": "markdown",
   "metadata": {
    "editable": false,
    "deletable": false
   },
   "source": [
    "---\n",
    "# 18.4.1. [Pulling Results out of Options](#18-Error-Handling)\n",
    "\n",
    "The most basic way of handling mixed error types is to just embed them in each other."
   ]
  },
  {
   "cell_type": "code",
   "execution_count": null,
   "metadata": {
    "editable": true,
    "deletable": false
   },
   "outputs": [],
   "source": [
    "use std::num::ParseIntError;\n",
    "\n",
    "fn double_first(vec: Vec<&str>) -> Option<Result<i32, ParseIntError>> {\n",
    "    vec.first().map(|first| {\n",
    "        first.parse::<i32>().map(|n| 2 * n)\n",
    "    })\n",
    "}\n",
    "\n",
    "fn main() {\n",
    "    let numbers = vec![\"42\", \"93\", \"18\"];\n",
    "    let empty = vec![];\n",
    "    let strings = vec![\"tofu\", \"93\", \"18\"];\n",
    "\n",
    "    println!(\"The first doubled is {:?}\", double_first(numbers));\n",
    "\n",
    "    println!(\"The first doubled is {:?}\", double_first(empty));\n",
    "    // Error 1: the input vector is empty\n",
    "\n",
    "    println!(\"The first doubled is {:?}\", double_first(strings));\n",
    "    // Error 2: the element doesn't parse to a number\n",
    "}\n"
   ]
  },
  {
   "cell_type": "markdown",
   "metadata": {
    "editable": false,
    "deletable": false
   },
   "source": [
    "There are times when we'll want to stop processing on errors (like with `?`) but keep going when the `Option` is `None`. A couple of combinators come in handy to swap the `Result` and `Option`."
   ]
  },
  {
   "cell_type": "code",
   "execution_count": null,
   "metadata": {
    "editable": true,
    "deletable": false
   },
   "outputs": [],
   "source": [
    "use std::num::ParseIntError;\n",
    "\n",
    "fn double_first(vec: Vec<&str>) -> Result<Option<i32>, ParseIntError> {\n",
    "    let opt = vec.first().map(|first| {\n",
    "        first.parse::<i32>().map(|n| 2 * n)\n",
    "    });\n",
    "\n",
    "    let opt = opt.map_or(Ok(None), |r| r.map(Some))?;\n",
    "\n",
    "    Ok(opt)\n",
    "}\n",
    "\n",
    "fn main() {\n",
    "    let numbers = vec![\"42\", \"93\", \"18\"];\n",
    "    let empty = vec![];\n",
    "    let strings = vec![\"tofu\", \"93\", \"18\"];\n",
    "\n",
    "    println!(\"The first doubled is {:?}\", double_first(numbers));\n",
    "    println!(\"The first doubled is {:?}\", double_first(empty));\n",
    "    println!(\"The first doubled is {:?}\", double_first(strings));\n",
    "}\n"
   ]
  },
  {
   "cell_type": "markdown",
   "metadata": {
    "editable": false,
    "deletable": false
   },
   "source": [
    "---\n",
    "# 18.4.2. [Defining an error type](#18-Error-Handling)\n",
    "\n",
    "Sometimes it simplifies the code to mask all of the different errors with a single type of error. We'll show this with a custom error.\n",
    "\n",
    "Rust allows us to define our own error types. In general, a \"good\" error type:\n",
    "\n",
    "* Represents different errors with the same type\n",
    "* Presents nice error messages to the user\n",
    "* Is easy to compare with other types\n",
    "    - Good: `Err(EmptyVec)`\n",
    "    - Bad: `Err(\"Please use a vector with at least one element\".to_owned())`\n",
    "* Can hold information about the error\n",
    "    - Good: `Err(BadChar(c, position))`\n",
    "    - Bad: `Err(\"+ cannot be used here\".to_owned())`\n",
    "* Composes well with other errors\n"
   ]
  },
  {
   "cell_type": "code",
   "execution_count": null,
   "metadata": {
    "editable": true,
    "deletable": false
   },
   "outputs": [],
   "source": [
    "use std::error;\n",
    "use std::fmt;\n",
    "\n",
    "type Result<T> = std::result::Result<T, DoubleError>;\n",
    "\n",
    "// Define our error types. These may be customized for our error handling cases.\n",
    "// Now we will be able to write our own errors, defer to an underlying error\n",
    "// implementation, or do something in between.\n",
    "#[derive(Debug, Clone)]\n",
    "struct DoubleError;\n",
    "\n",
    "// Generation of an error is completely separate from how it is displayed.\n",
    "// There's no need to be concerned about cluttering complex logic with the display style.\n",
    "//\n",
    "// Note that we don't store any extra info about the errors. This means we can't state\n",
    "// which string failed to parse without modifying our types to carry that information.\n",
    "impl fmt::Display for DoubleError {\n",
    "    fn fmt(&self, f: &mut fmt::Formatter) -> fmt::Result {\n",
    "        write!(f, \"invalid first item to double\")\n",
    "    }\n",
    "}\n",
    "\n",
    "// This is important for other errors to wrap this one.\n",
    "impl error::Error for DoubleError {\n",
    "    fn source(&self) -> Option<&(dyn error::Error + 'static)> {\n",
    "        // Generic error, underlying cause isn't tracked.\n",
    "        None\n",
    "    }\n",
    "}\n",
    "\n",
    "fn double_first(vec: Vec<&str>) -> Result<i32> {\n",
    "    vec.first()\n",
    "        // Change the error to our new type.\n",
    "        .ok_or(DoubleError)\n",
    "        .and_then(|s| {\n",
    "            s.parse::<i32>()\n",
    "                // Update to the new error type here also.\n",
    "                .map_err(|_| DoubleError)\n",
    "                .map(|i| 2 * i)\n",
    "        })\n",
    "}\n",
    "\n",
    "fn print(result: Result<i32>) {\n",
    "    match result {\n",
    "        Ok(n) => println!(\"The first doubled is {}\", n),\n",
    "        Err(e) => println!(\"Error: {}\", e),\n",
    "    }\n",
    "}\n",
    "\n",
    "fn main() {\n",
    "    let numbers = vec![\"42\", \"93\", \"18\"];\n",
    "    let empty = vec![];\n",
    "    let strings = vec![\"tofu\", \"93\", \"18\"];\n",
    "\n",
    "    print(double_first(numbers));\n",
    "    print(double_first(empty));\n",
    "    print(double_first(strings));\n",
    "}\n"
   ]
  },
  {
   "cell_type": "markdown",
   "metadata": {
    "editable": false,
    "deletable": false
   },
   "source": [
    "---\n",
    "# 18.4.3. [Boxing errors](#18-Error-Handling)\n",
    "\n",
    "A way to write simple code while preserving the original errors is to [`Box`](https://doc.rust-lang.org/std/boxed/struct.Box.html) them. The drawback is that the underlying error type is only known at runtime and not [statically determined](https://doc.rust-lang.org/book/ch17-02-trait-objects.html#trait-objects-perform-dynamic-dispatch).\n",
    "\n",
    "The stdlib helps in boxing our errors by having `Box` implement conversion from any type that implements the `Error` trait into the trait object `Box<Error>`, via [`From`](https://doc.rust-lang.org/std/convert/trait.From.html)."
   ]
  },
  {
   "cell_type": "code",
   "execution_count": null,
   "metadata": {
    "editable": true,
    "deletable": false
   },
   "outputs": [],
   "source": [
    "use std::error;\n",
    "use std::fmt;\n",
    "\n",
    "// Change the alias to `Box<error::Error>`.\n",
    "type Result<T> = std::result::Result<T, Box<error::Error>>;\n",
    "\n",
    "#[derive(Debug, Clone)]\n",
    "struct EmptyVec;\n",
    "\n",
    "impl fmt::Display for EmptyVec {\n",
    "    fn fmt(&self, f: &mut fmt::Formatter) -> fmt::Result {\n",
    "        write!(f, \"invalid first item to double\")\n",
    "    }\n",
    "}\n",
    "\n",
    "impl error::Error for EmptyVec {\n",
    "    fn description(&self) -> &str {\n",
    "        \"invalid first item to double\"\n",
    "    }\n",
    "\n",
    "    fn cause(&self) -> Option<&error::Error> {\n",
    "        // Generic error, underlying cause isn't tracked.\n",
    "        None\n",
    "    }\n",
    "}\n",
    "\n",
    "fn double_first(vec: Vec<&str>) -> Result<i32> {\n",
    "    vec.first()\n",
    "        .ok_or_else(|| EmptyVec.into()) // Converts to Box\n",
    "        .and_then(|s| {\n",
    "            s.parse::<i32>()\n",
    "                .map_err(|e| e.into()) // Converts to Box\n",
    "                .map(|i| 2 * i)\n",
    "        })\n",
    "}\n",
    "\n",
    "fn print(result: Result<i32>) {\n",
    "    match result {\n",
    "        Ok(n) => println!(\"The first doubled is {}\", n),\n",
    "        Err(e) => println!(\"Error: {}\", e),\n",
    "    }\n",
    "}\n",
    "\n",
    "fn main() {\n",
    "    let numbers = vec![\"42\", \"93\", \"18\"];\n",
    "    let empty = vec![];\n",
    "    let strings = vec![\"tofu\", \"93\", \"18\"];\n",
    "\n",
    "    print(double_first(numbers));\n",
    "    print(double_first(empty));\n",
    "    print(double_first(strings));\n",
    "}\n"
   ]
  },
  {
   "cell_type": "markdown",
   "metadata": {
    "editable": false,
    "deletable": false
   },
   "source": [
    "## See also:\n",
    "\n",
    "[Dynamic dispatch](https://doc.rust-lang.org/book/ch17-02-trait-objects.html#trait-objects-perform-dynamic-dispatch) and [`Error` trait](https://doc.rust-lang.org/std/error/trait.Error.html)"
   ]
  },
  {
   "cell_type": "markdown",
   "metadata": {
    "editable": false,
    "deletable": false
   },
   "source": [
    "---\n",
    "# 18.4.4. [Other uses of ?](#18-Error-Handling)\n",
    "\n",
    "Notice in the previous example that our immediate reaction to calling `parse` is to `map` the error from a library error into a boxed error:\n",
    "\n",
    "```rust\n",
    ".and_then(|s| s.parse::<i32>()\n",
    "    .map_err(|e| e.into())\n",
    "```\n",
    "\n",
    "Since this is a simple and common operation, it would be convenient if it could be elided. Alas, because `and_then` is not sufficiently flexible, it cannot. However, we can instead use `?`.\n",
    "\n",
    "`?` was previously explained as either `unwrap` or `return Err(err)`. This is only mostly true. It actually means `unwrap` or `return Err(From::from(err))`. Since `From::from` is a conversion utility between different types, this means that if you `?` where the error is convertible to the return type, it will convert automatically.\n",
    "\n",
    "Here, we rewrite the previous example using `?`. As a result, the `map_err` will go away when `From::from` is implemented for our error type:"
   ]
  },
  {
   "cell_type": "code",
   "execution_count": null,
   "metadata": {
    "editable": true,
    "deletable": false
   },
   "outputs": [],
   "source": [
    "use std::error;\n",
    "use std::fmt;\n",
    "use std::num::ParseIntError;\n",
    "\n",
    "// Change the alias to `Box<error::Error>`.\n",
    "type Result<T> = std::result::Result<T, Box<error::Error>>;\n",
    "\n",
    "#[derive(Debug)]\n",
    "struct EmptyVec;\n",
    "\n",
    "impl fmt::Display for EmptyVec {\n",
    "    fn fmt(&self, f: &mut fmt::Formatter) -> fmt::Result {\n",
    "        write!(f, \"invalid first item to double\")\n",
    "    }\n",
    "}\n",
    "\n",
    "impl error::Error for EmptyVec {\n",
    "    fn description(&self) -> &str {\n",
    "        \"invalid first item to double\"\n",
    "    }\n",
    "\n",
    "    fn cause(&self) -> Option<&error::Error> {\n",
    "        // Generic error, underlying cause isn't tracked.\n",
    "        None\n",
    "    }\n",
    "}\n",
    "\n",
    "// The same structure as before but rather than chain all `Results`\n",
    "// and `Options` along, we `?` to get the inner value out immediately.\n",
    "fn double_first(vec: Vec<&str>) -> Result<i32> {\n",
    "    let first = vec.first().ok_or(EmptyVec)?;\n",
    "    let parsed = first.parse::<i32>()?;\n",
    "    Ok(2 * parsed)\n",
    "}\n",
    "\n",
    "fn print(result: Result<i32>) {\n",
    "    match result {\n",
    "        Ok(n)  => println!(\"The first doubled is {}\", n),\n",
    "        Err(e) => println!(\"Error: {}\", e),\n",
    "    }\n",
    "}\n",
    "\n",
    "fn main() {\n",
    "    let numbers = vec![\"42\", \"93\", \"18\"];\n",
    "    let empty = vec![];\n",
    "    let strings = vec![\"tofu\", \"93\", \"18\"];\n",
    "\n",
    "    print(double_first(numbers));\n",
    "    print(double_first(empty));\n",
    "    print(double_first(strings));\n",
    "}\n"
   ]
  },
  {
   "cell_type": "markdown",
   "metadata": {
    "editable": false,
    "deletable": false
   },
   "source": [
    "This is actually fairly clean now. Compared with the original `panic`, it is very similar to replacing the `unwrap` calls with `?` except that the return types are `Result`. As a result, they must be destructured at the top level.\n",
    "\n",
    "## See also:\n",
    "\n",
    "[`From::from`](https://doc.rust-lang.org/std/convert/trait.From.html) and [`?`](https://doc.rust-lang.org/reference/expressions/operator-expr.html#the-question-mark-operator)"
   ]
  },
  {
   "cell_type": "markdown",
   "metadata": {
    "editable": false,
    "deletable": false
   },
   "source": [
    "---\n",
    "# 18.4.5. [Wrapping errors](#18-Error-Handling)\n",
    "\n",
    "An alternative to boxing errors is to wrap them in your own error type."
   ]
  },
  {
   "cell_type": "code",
   "execution_count": null,
   "metadata": {
    "editable": true,
    "deletable": false
   },
   "outputs": [],
   "source": [
    "use std::error;\n",
    "use std::num::ParseIntError;\n",
    "use std::fmt;\n",
    "\n",
    "type Result<T> = std::result::Result<T, DoubleError>;\n",
    "\n",
    "#[derive(Debug)]\n",
    "enum DoubleError {\n",
    "    EmptyVec,\n",
    "    // We will defer to the parse error implementation for their error.\n",
    "    // Supplying extra info requires adding more data to the type.\n",
    "    Parse(ParseIntError),\n",
    "}\n",
    "\n",
    "impl fmt::Display for DoubleError {\n",
    "    fn fmt(&self, f: &mut fmt::Formatter) -> fmt::Result {\n",
    "        match *self {\n",
    "            DoubleError::EmptyVec =>\n",
    "                write!(f, \"please use a vector with at least one element\"),\n",
    "            // This is a wrapper, so defer to the underlying types' implementation of `fmt`.\n",
    "            DoubleError::Parse(ref e) => e.fmt(f),\n",
    "        }\n",
    "    }\n",
    "}\n",
    "\n",
    "impl error::Error for DoubleError {\n",
    "    fn source(&self) -> Option<&(dyn error::Error + 'static)> {\n",
    "        match *self {\n",
    "            DoubleError::EmptyVec => None,\n",
    "            // The cause is the underlying implementation error type. Is implicitly\n",
    "            // cast to the trait object `&error::Error`. This works because the\n",
    "            // underlying type already implements the `Error` trait.\n",
    "            DoubleError::Parse(ref e) => Some(e),\n",
    "        }\n",
    "    }\n",
    "}\n",
    "\n",
    "// Implement the conversion from `ParseIntError` to `DoubleError`.\n",
    "// This will be automatically called by `?` if a `ParseIntError`\n",
    "// needs to be converted into a `DoubleError`.\n",
    "impl From<ParseIntError> for DoubleError {\n",
    "    fn from(err: ParseIntError) -> DoubleError {\n",
    "        DoubleError::Parse(err)\n",
    "    }\n",
    "}\n",
    "\n",
    "fn double_first(vec: Vec<&str>) -> Result<i32> {\n",
    "    let first = vec.first().ok_or(DoubleError::EmptyVec)?;\n",
    "    let parsed = first.parse::<i32>()?;\n",
    "\n",
    "    Ok(2 * parsed)\n",
    "}\n",
    "\n",
    "fn print(result: Result<i32>) {\n",
    "    match result {\n",
    "        Ok(n)  => println!(\"The first doubled is {}\", n),\n",
    "        Err(e) => println!(\"Error: {}\", e),\n",
    "    }\n",
    "}\n",
    "\n",
    "fn main() {\n",
    "    let numbers = vec![\"42\", \"93\", \"18\"];\n",
    "    let empty = vec![];\n",
    "    let strings = vec![\"tofu\", \"93\", \"18\"];\n",
    "\n",
    "    print(double_first(numbers));\n",
    "    print(double_first(empty));\n",
    "    print(double_first(strings));\n",
    "}\n"
   ]
  },
  {
   "cell_type": "markdown",
   "metadata": {
    "editable": false,
    "deletable": false
   },
   "source": [
    "This adds a bit more boilerplate for handling errors and might not be needed in all applications. There are some libraries that can take care of the boilerplate for you.\n",
    "\n",
    "## See also:\n",
    "\n",
    "[`From::from`](https://doc.rust-lang.org/std/convert/trait.From.html) and [`Enums`](https://doc.rust-lang.org/rust-by-example/custom_types/enum.html)"
   ]
  },
  {
   "cell_type": "markdown",
   "metadata": {
    "editable": false,
    "deletable": false
   },
   "source": [
    "---\n",
    "# 18.5. [Iterating over results](#18-Error-Handling)\n",
    "\n",
    "An `Iter::map` operation might fail, for example:"
   ]
  },
  {
   "cell_type": "code",
   "execution_count": null,
   "metadata": {
    "editable": true,
    "deletable": false
   },
   "outputs": [],
   "source": [
    "fn main() {\n",
    "    let strings = vec![\"tofu\", \"93\", \"18\"];\n",
    "    let possible_numbers: Vec<_> = strings\n",
    "        .into_iter()\n",
    "        .map(|s| s.parse::<i32>())\n",
    "        .collect();\n",
    "    println!(\"Results: {:?}\", possible_numbers);\n",
    "}\n"
   ]
  },
  {
   "cell_type": "markdown",
   "metadata": {
    "editable": false,
    "deletable": false
   },
   "source": [
    "Let's step through strategies for handling this.\n",
    "\n",
    "## Ignore the failed items with filter_map()\n",
    "\n",
    "`filter_map` calls a function and filters out the results that are `None`."
   ]
  },
  {
   "cell_type": "code",
   "execution_count": null,
   "metadata": {
    "editable": true,
    "deletable": false
   },
   "outputs": [],
   "source": [
    "fn main() {\n",
    "    let strings = vec![\"tofu\", \"93\", \"18\"];\n",
    "    let numbers: Vec<_> = strings\n",
    "        .into_iter()\n",
    "        .map(|s| s.parse::<i32>())\n",
    "        .filter_map(Result::ok)\n",
    "        .collect();\n",
    "    println!(\"Results: {:?}\", numbers);\n",
    "}\n"
   ]
  },
  {
   "cell_type": "markdown",
   "metadata": {
    "editable": false,
    "deletable": false
   },
   "source": [
    "## Fail the entire operation with collect()\n",
    "\n",
    "`Result` implements `FromIter` so that a vector of results `(Vec<Result<T, E>>)` can be turned into a result with a vector `(Result<Vec<T>, E>)`. Once an `Result::Err` is found, the iteration will terminate."
   ]
  },
  {
   "cell_type": "code",
   "execution_count": null,
   "metadata": {
    "editable": true,
    "deletable": false
   },
   "outputs": [],
   "source": [
    "fn main() {\n",
    "    let strings = vec![\"tofu\", \"93\", \"18\"];\n",
    "    let numbers: Result<Vec<_>, _> = strings\n",
    "        .into_iter()\n",
    "        .map(|s| s.parse::<i32>())\n",
    "        .collect();\n",
    "    println!(\"Results: {:?}\", numbers);\n",
    "}\n"
   ]
  },
  {
   "cell_type": "markdown",
   "metadata": {
    "editable": false,
    "deletable": false
   },
   "source": [
    "This same technique can be used with `Option`.\n",
    "\n",
    "## Collect all valid values and failures with partition()"
   ]
  },
  {
   "cell_type": "code",
   "execution_count": null,
   "metadata": {
    "editable": true,
    "deletable": false
   },
   "outputs": [],
   "source": [
    "fn main() {\n",
    "    let strings = vec![\"tofu\", \"93\", \"18\"];\n",
    "    let (numbers, errors): (Vec<_>, Vec<_>) = strings\n",
    "        .into_iter()\n",
    "        .map(|s| s.parse::<i32>())\n",
    "        .partition(Result::is_ok);\n",
    "    println!(\"Numbers: {:?}\", numbers);\n",
    "    println!(\"Errors: {:?}\", errors);\n",
    "}\n"
   ]
  },
  {
   "cell_type": "markdown",
   "metadata": {
    "editable": false,
    "deletable": false
   },
   "source": [
    "When you look at the results, you'll note that everything is still wrapped in `Result`. A little more boilerplate is needed for this."
   ]
  },
  {
   "cell_type": "code",
   "execution_count": null,
   "metadata": {
    "editable": true,
    "deletable": false
   },
   "outputs": [],
   "source": [
    "fn main() {\n",
    "    let strings = vec![\"tofu\", \"93\", \"18\"];\n",
    "    let (numbers, errors): (Vec<_>, Vec<_>) = strings\n",
    "        .into_iter()\n",
    "        .map(|s| s.parse::<i32>())\n",
    "        .partition(Result::is_ok);\n",
    "    let numbers: Vec<_> = numbers.into_iter().map(Result::unwrap).collect();\n",
    "    let errors: Vec<_> = errors.into_iter().map(Result::unwrap_err).collect();\n",
    "    println!(\"Numbers: {:?}\", numbers);\n",
    "    println!(\"Errors: {:?}\", errors);\n",
    "}\n"
   ]
  }
 ],
 "metadata": {
  "kernelspec": {
   "display_name": "Rust",
   "language": "rust",
   "name": "rust"
  },
  "language_info": {
   "codemirror_mode": "rust",
   "file_extension": ".rs",
   "mimetype": "text/rust",
   "name": "Rust",
   "pygment_lexer": "rust",
   "version": ""
  }
 },
 "nbformat": 4,
 "nbformat_minor": 2
}