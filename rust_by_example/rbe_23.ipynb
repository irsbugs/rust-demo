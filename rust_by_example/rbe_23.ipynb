{
 "cells": [
  {
   "cell_type": "markdown",
   "metadata": {
    "editable": false,
    "deletable": false
   },
   "source": [
    "# 23 [Compatibility](#23.-Compatibility)\n",
    "\n",
    "* ### 23.1 [Raw Identifiers](#23.1.-Raw-Identifiers)\n"
   ]
  },
  {
   "cell_type": "markdown",
   "metadata": {
    "editable": false,
    "deletable": false
   },
   "source": [
    "---\n",
    "# 23. [Compatibility](#23-Compatibility)\n",
    "\n",
    "The Rust language is fastly evolving, and because of this certain compatibility issues can arise, despite efforts to ensure forwards-compatibility wherever possible.\n",
    "\n",
    "* [Raw identifiers](https://doc.rust-lang.org/rust-by-example/compatibility/raw_identifiers.html)\n"
   ]
  },
  {
   "cell_type": "markdown",
   "metadata": {
    "editable": false,
    "deletable": false
   },
   "source": [
    "---\n",
    "# 23.1. [Raw Identifiers](#23-Compatibility)\n",
    "\n",
    "Rust, like many programming languages, has the concept of \"keywords\". These identifiers mean something to the language, and so you cannot use them in places like variable names, function names, and other places. Raw identifiers let you use keywords where they would not normally be allowed. This is particularly useful when Rust introduces new keywords, and a library using an older edition of Rust has a variable or function with the same name as a keyword introduced in a newer edition.\n",
    "\n",
    "For example, consider a crate `foo` compiled with the 2015 edition of Rust that exports a function named `try`. This keyword is reserved for a new feature in the 2018 edition, so without raw identifiers, we would have no way to name the function.\n",
    "\n",
    "```rust\n",
    "extern crate foo;\n",
    "\n",
    "fn main() {\n",
    "    foo::try();\n",
    "}\n",
    "```\n",
    "You'll get this error:\n",
    "\n",
    "error: expected identifier, found keyword `try`\n",
    "\n",
    "```rust\n",
    " --> src/main.rs:4:4\n",
    "  |\n",
    "4 | foo::try();\n",
    "  |      ^^^ expected identifier, found keyword\n",
    "```\n",
    "\n",
    "You can write this with a raw identifier:\n",
    "\n",
    "```rust\n",
    "extern crate foo;\n",
    "\n",
    "fn main() {\n",
    "    foo::r#try();\n",
    "}\n",
    "```"
   ]
  }
 ],
 "metadata": {
  "kernelspec": {
   "display_name": "Rust",
   "language": "rust",
   "name": "rust"
  },
  "language_info": {
   "codemirror_mode": "rust",
   "file_extension": ".rs",
   "mimetype": "text/rust",
   "name": "Rust",
   "pygment_lexer": "rust",
   "version": ""
  }
 },
 "nbformat": 4,
 "nbformat_minor": 2
}