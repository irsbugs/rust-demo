{
 "cells": [
  {
   "cell_type": "markdown",
   "metadata": {
    "editable": false,
    "deletable": false
   },
   "source": [
    "# 20 [Std misc](#20.-Std-misc)\n",
    "\n",
    "* ### 20.1 [Threads](#20.1.-Threads)\n",
    "* ### 20.1.1 [Testcase: map-reduce](#20.1.1.-Testcase:-map-reduce)\n",
    "* ### 20.2 [Channels](#20.2.-Channels)\n",
    "* ### 20.3 [Path](#20.3.-Path)\n",
    "* ### 20.4 [File I/O](#20.4.-File-I/O)\n",
    "    * ### 20.4.1 [open](#20.4.1.-open)\n",
    "    * ### 20.4.2 [create](#20.4.2.-create)\n",
    "    * ### 20.4.3 [read lines](#20.4.3.-read-lines)\n",
    "* ### 20.5 [Child process](#20.5.-Child-process)\n",
    "    * ### 20.5.1 [Pipes](#20.5.1.-Pipes)\n",
    "    * ### 20.5.2 [Wait](#20.5.2.-Wait)\n",
    "* ### 20.6 [Filesystem Operations](#20.6.-Filesystem-Operations)\n",
    "* ### 20.7 [Program arguments](#20.7.-Program-arguments)\n",
    "    * ### 20.7.1 [Argument parsing](#20.7.1.-Argument-parsing)\n",
    "* ### 20.8 [Foreign Function Interface](#20.8.-Foreign-Function-Interface)"
   ]
  },
  {
   "cell_type": "markdown",
   "metadata": {
    "editable": false,
    "deletable": false
   },
   "source": [
    "---\n",
    "# 20. [Std misc](#20-Std-misc)\n",
    "\n",
    "Many other types are provided by the std library to support things such as:\n",
    "\n",
    "* Threads\n",
    "* Channels\n",
    "* File I/O\n",
    "\n",
    "These expand beyond what the [primitives](https://doc.rust-lang.org/rust-by-example/primitives.html) provide.\n",
    "\n",
    "## See also:\n",
    "\n",
    "[primitives](https://doc.rust-lang.org/rust-by-example/primitives.html) and [the std library](https://doc.rust-lang.org/std/)"
   ]
  },
  {
   "cell_type": "markdown",
   "metadata": {
    "editable": false,
    "deletable": false
   },
   "source": [
    "---\n",
    "# 20.1. [Threads](#20-Std-misc)\n",
    "\n",
    "Rust provides a mechanism for spawning native OS threads via the `spawn` function, the argument of this function is a moving closure."
   ]
  },
  {
   "cell_type": "code",
   "execution_count": 3,
   "metadata": {
    "editable": true,
    "deletable": false
   },
   "outputs": [
    {
     "ename": "Error",
     "evalue": "Items currently need to be explicitly made pub along with all fields of structs.",
     "output_type": "error",
     "traceback": [
      "Items currently need to be explicitly made pub along with all fields of structs."
     ]
    }
   ],
   "source": [
    "use std::thread;\n",
    "\n",
    "static NTHREADS: i32 = 10;\n",
    "\n",
    "// This is the `main` thread\n",
    "fn main() {\n",
    "    // Make a vector to hold the children which are spawned.\n",
    "    let mut children = vec![];\n",
    "\n",
    "    for i in 0..NTHREADS {\n",
    "        // Spin up another thread\n",
    "        children.push(thread::spawn(move || {\n",
    "            println!(\"this is thread number {}\", i);\n",
    "        }));\n",
    "    }\n",
    "\n",
    "    for child in children {\n",
    "        // Wait for the thread to finish. Returns a result.\n",
    "        let _ = child.join();\n",
    "    }\n",
    "}\n"
   ]
  },
  {
   "cell_type": "markdown",
   "metadata": {
    "editable": false,
    "deletable": false
   },
   "source": [
    "These threads will be scheduled by the OS."
   ]
  },
  {
   "cell_type": "markdown",
   "metadata": {
    "editable": false,
    "deletable": false
   },
   "source": [
    "---\n",
    "# 20.1.1. [Testcase: map-reduce](#20-Std-misc)\n",
    "\n",
    "Rust makes it very easy to parallelise data processing, without many of the headaches traditionally associated with such an attempt.\n",
    "\n",
    "The standard library provides great threading primitives out of the box. These, combined with Rust's concept of Ownership and aliasing rules, automatically prevent data races.\n",
    "\n",
    "The aliasing rules (one writable reference XOR many readable references) automatically prevent you from manipulating state that is visible to other threads. (Where synchronisation is needed, there are synchronisation primitives like `Mutex`es or `Channel`s.)\n",
    "\n",
    "In this example, we will calculate the sum of all digits in a block of numbers. We will do this by parcelling out chunks of the block into different threads. Each thread will sum its tiny block of digits, and subsequently we will sum the intermediate sums produced by each thread.\n",
    "\n",
    "Note that, although we're passing references across thread boundaries, Rust understands that we're only passing read-only references, and that thus no unsafety or data races can occur. Because we're `move`-ing the data segments into the thread, Rust will also ensure the data is kept alive until the threads exit, so no dangling pointers occur.\n",
    "\n"
   ]
  },
  {
   "cell_type": "code",
   "execution_count": 4,
   "metadata": {
    "editable": true,
    "deletable": false
   },
   "outputs": [
    {
     "ename": "Error",
     "evalue": "Items currently need to be explicitly made pub along with all fields of structs.",
     "output_type": "error",
     "traceback": [
      "Items currently need to be explicitly made pub along with all fields of structs."
     ]
    }
   ],
   "source": [
    "use std::thread;\n",
    "\n",
    "// This is the `main` thread\n",
    "fn main() {\n",
    "\n",
    "    // This is our data to process.\n",
    "    // We will calculate the sum of all digits via a threaded  map-reduce algorithm.\n",
    "    // Each whitespace separated chunk will be handled in a different thread.\n",
    "    //\n",
    "    // TODO: see what happens to the output if you insert spaces!\n",
    "    let data = \"86967897737416471853297327050364959\n",
    "11861322575564723963297542624962850\n",
    "70856234701860851907960690014725639\n",
    "38397966707106094172783238747669219\n",
    "52380795257888236525459303330302837\n",
    "58495327135744041048897885734297812\n",
    "69920216438980873548808413720956532\n",
    "16278424637452589860345374828574668\";\n",
    "\n",
    "    // Make a vector to hold the child-threads which we will spawn.\n",
    "    let mut children = vec![];\n",
    "\n",
    "    /*************************************************************************\n",
    "     * \"Map\" phase\n",
    "     *\n",
    "     * Divide our data into segments, and apply initial processing\n",
    "     ************************************************************************/\n",
    "\n",
    "    // split our data into segments for individual calculation\n",
    "    // each chunk will be a reference (&str) into the actual data\n",
    "    let chunked_data = data.split_whitespace();\n",
    "\n",
    "    // Iterate over the data segments.\n",
    "    // .enumerate() adds the current loop index to whatever is iterated\n",
    "    // the resulting tuple \"(index, element)\" is then immediately\n",
    "    // \"destructured\" into two variables, \"i\" and \"data_segment\" with a\n",
    "    // \"destructuring assignment\"\n",
    "    for (i, data_segment) in chunked_data.enumerate() {\n",
    "        println!(\"data segment {} is \\\"{}\\\"\", i, data_segment);\n",
    "\n",
    "        // Process each data segment in a separate thread\n",
    "        //\n",
    "        // spawn() returns a handle to the new thread,\n",
    "        // which we MUST keep to access the returned value\n",
    "        //\n",
    "        // 'move || -> u32' is syntax for a closure that:\n",
    "        // * takes no arguments ('||')\n",
    "        // * takes ownership of its captured variables ('move') and\n",
    "        // * returns an unsigned 32-bit integer ('-> u32')\n",
    "        //\n",
    "        // Rust is smart enough to infer the '-> u32' from\n",
    "        // the closure itself so we could have left that out.\n",
    "        //\n",
    "        // TODO: try removing the 'move' and see what happens\n",
    "        children.push(thread::spawn(move || -> u32 {\n",
    "            // Calculate the intermediate sum of this segment:\n",
    "            let result = data_segment\n",
    "                        // iterate over the characters of our segment..\n",
    "                        .chars()\n",
    "                        // .. convert text-characters to their number value..\n",
    "                        .map(|c| c.to_digit(10).expect(\"should be a digit\"))\n",
    "                        // .. and sum the resulting iterator of numbers\n",
    "                        .sum();\n",
    "\n",
    "            // println! locks stdout, so no text-interleaving occurs\n",
    "            println!(\"processed segment {}, result={}\", i, result);\n",
    "\n",
    "            // \"return\" not needed, because Rust is an \"expression language\", the\n",
    "            // last evaluated expression in each block is automatically its value.\n",
    "            result\n",
    "\n",
    "        }));\n",
    "    }\n",
    "\n",
    "\n",
    "    /*************************************************************************\n",
    "     * \"Reduce\" phase\n",
    "     *\n",
    "     * Collect our intermediate results, and combine them into a final result\n",
    "     ************************************************************************/\n",
    "\n",
    "    // collect each thread's intermediate results into a new Vec\n",
    "    let mut intermediate_sums = vec![];\n",
    "    for child in children {\n",
    "        // collect each child thread's return-value\n",
    "        let intermediate_sum = child.join().unwrap();\n",
    "        intermediate_sums.push(intermediate_sum);\n",
    "    }\n",
    "\n",
    "    // combine all intermediate sums into a single final sum.\n",
    "    //\n",
    "    // we use the \"turbofish\" ::<> to provide sum() with a type hint.\n",
    "    //\n",
    "    // TODO: try without the turbofish, by instead explicitly\n",
    "    // specifying the type of final_result\n",
    "    let final_result = intermediate_sums.iter().sum::<u32>();\n",
    "\n",
    "    println!(\"Final sum result: {}\", final_result);\n",
    "}\n",
    "\n"
   ]
  },
  {
   "cell_type": "markdown",
   "metadata": {
    "editable": false,
    "deletable": false
   },
   "source": [
    "## Assignments\n",
    "\n",
    "It is not wise to let our number of threads depend on user inputted data. What if the user decides to insert a lot of spaces? Do we *really* want to spawn 2,000 threads? Modify the program so that the data is always chunked into a limited number of chunks, defined by a static constant at the beginning of the program.\n",
    "\n",
    "## See also:\n",
    "\n",
    "* [Threads](https://doc.rust-lang.org/rust-by-example/std_misc/threads.html)\n",
    "* [vectors](https://doc.rust-lang.org/rust-by-example/std/vec.html) and [iterators](https://doc.rust-lang.org/rust-by-example/trait/iter.html)\n",
    "* [closures](https://doc.rust-lang.org/rust-by-example/fn/closures.html), [move](https://doc.rust-lang.org/rust-by-example/scope/move.html) semantics and [`move` closures](https://doc.rust-lang.org/book/ch13-01-closures.html#closures-can-capture-their-environment)\n",
    "* [destructuring](https://doc.rust-lang.org/book/ch18-03-pattern-syntax.html#destructuring-to-break-apart-values) assignments\n",
    "* [turbofish notation](https://doc.rust-lang.org/std/iter/trait.Iterator.html#method.collect) to help type inference\n",
    "* [unwrap vs. expect](https://doc.rust-lang.org/rust-by-example/error/option_unwrap.html)\n",
    "* [enumerate](https://doc.rust-lang.org/book/loops.html#enumerate)\n"
   ]
  },
  {
   "cell_type": "markdown",
   "metadata": {
    "editable": false,
    "deletable": false
   },
   "source": [
    "---\n",
    "# 20.2. [Channels](#20-Std-misc)\n",
    "\n",
    "Rust provides asynchronous `channels` for communication between threads. Channels allow a unidirectional flow of information between two end-points: the `Sender` and the `Receiver`"
   ]
  },
  {
   "cell_type": "code",
   "execution_count": 5,
   "metadata": {
    "editable": true,
    "deletable": false
   },
   "outputs": [
    {
     "ename": "Error",
     "evalue": "Items currently need to be explicitly made pub along with all fields of structs.",
     "output_type": "error",
     "traceback": [
      "Items currently need to be explicitly made pub along with all fields of structs."
     ]
    }
   ],
   "source": [
    "use std::sync::mpsc::{Sender, Receiver};\n",
    "use std::sync::mpsc;\n",
    "use std::thread;\n",
    "\n",
    "static NTHREADS: i32 = 3;\n",
    "\n",
    "fn main() {\n",
    "    // Channels have two endpoints: the `Sender<T>` and the `Receiver<T>`,\n",
    "    // where `T` is the type of the message to be transferred\n",
    "    // (type annotation is superfluous)\n",
    "    let (tx, rx): (Sender<i32>, Receiver<i32>) = mpsc::channel();\n",
    "    let mut children = Vec::new();\n",
    "\n",
    "    for id in 0..NTHREADS {\n",
    "        // The sender endpoint can be copied\n",
    "        let thread_tx = tx.clone();\n",
    "\n",
    "        // Each thread will send its id via the channel\n",
    "        let child = thread::spawn(move || {\n",
    "            // The thread takes ownership over `thread_tx`\n",
    "            // Each thread queues a message in the channel\n",
    "            thread_tx.send(id).unwrap();\n",
    "\n",
    "            // Sending is a non-blocking operation, the thread will continue\n",
    "            // immediately after sending its message\n",
    "            println!(\"thread {} finished\", id);\n",
    "        });\n",
    "\n",
    "        children.push(child);\n",
    "    }\n",
    "\n",
    "    // Here, all the messages are collected\n",
    "    let mut ids = Vec::with_capacity(NTHREADS as usize);\n",
    "    for _ in 0..NTHREADS {\n",
    "        // The `recv` method picks a message from the channel\n",
    "        // `recv` will block the current thread if there are no messages available\n",
    "        ids.push(rx.recv());\n",
    "    }\n",
    "    \n",
    "    // Wait for the threads to complete any remaining work\n",
    "    for child in children {\n",
    "        child.join().expect(\"oops! the child thread panicked\");\n",
    "    }\n",
    "\n",
    "    // Show the order in which the messages were sent\n",
    "    println!(\"{:?}\", ids);\n",
    "}\n"
   ]
  },
  {
   "cell_type": "markdown",
   "metadata": {
    "editable": false,
    "deletable": false
   },
   "source": [
    "---\n",
    "# 20.3. [Path](#20-Std-misc)\n",
    "\n",
    "The `Path` struct represents file paths in the underlying filesystem. There are two flavors of `Path`: `posix::Path`, for UNIX-like systems, and `windows::Path`, for Windows. The prelude exports the appropriate platform-specific `Path` variant.\n",
    "\n",
    "A `Path` can be created from an OsStr, and provides several methods to get information from the file/directory the path points to.\n",
    "\n",
    "Note that a `Path` is *not* internally represented as an UTF-8 string, but instead is stored as a vector of bytes (`Vec<u8>`). Therefore, converting a `Path` to a `&str` is *not* free and may fail (an `Option` is returned)."
   ]
  },
  {
   "cell_type": "code",
   "execution_count": 6,
   "metadata": {
    "editable": true,
    "deletable": false
   },
   "outputs": [
    {
     "ename": "Error",
     "evalue": "Items currently need to be explicitly made pub along with all fields of structs.",
     "output_type": "error",
     "traceback": [
      "Items currently need to be explicitly made pub along with all fields of structs."
     ]
    }
   ],
   "source": [
    "use std::path::Path;\n",
    "\n",
    "fn main() {\n",
    "    // Create a `Path` from an `&'static str`\n",
    "    let path = Path::new(\".\");\n",
    "\n",
    "    // The `display` method returns a `Show`able structure\n",
    "    let _display = path.display();\n",
    "\n",
    "    // `join` merges a path with a byte container using the OS specific\n",
    "    // separator, and returns the new path\n",
    "    let new_path = path.join(\"a\").join(\"b\");\n",
    "\n",
    "    // Convert the path into a string slice\n",
    "    match new_path.to_str() {\n",
    "        None => panic!(\"new path is not a valid UTF-8 sequence\"),\n",
    "        Some(s) => println!(\"new path is {}\", s),\n",
    "    }\n",
    "}\n"
   ]
  },
  {
   "cell_type": "markdown",
   "metadata": {
    "editable": false,
    "deletable": false
   },
   "source": [
    "Be sure to check at other `Path` methods (`posix::Path` or `windows::Path`) and the `Metadata` struct.\n",
    "\n",
    "## See also\n",
    "\n",
    "[OsStr](https://doc.rust-lang.org/std/ffi/struct.OsStr.html) and [Metadata](https://doc.rust-lang.org/std/fs/struct.Metadata.html)."
   ]
  },
  {
   "cell_type": "markdown",
   "metadata": {
    "editable": false,
    "deletable": false
   },
   "source": [
    "---\n",
    "# 20.4. [File I/O](#20-Std-misc)\n",
    "\n",
    "The `File` struct represents a file that has been opened (it wraps a file descriptor), and gives read and/or write access to the underlying file.\n",
    "\n",
    "Since many things can go wrong when doing file I/O, all the File methods return the `io::Result<T>` type, which is an alias for `Result<T, io::Error>`.\n",
    "\n",
    "This makes the failure of all I/O operations *explicit*. Thanks to this, the programmer can see all the failure paths, and is encouraged to handle them in a proactive manner."
   ]
  },
  {
   "cell_type": "markdown",
   "metadata": {
    "editable": false,
    "deletable": false
   },
   "source": [
    "---\n",
    "# 20.4.1. [open](#20-Std-misc)\n",
    "\n",
    "The `open` static method can be used to open a file in read-only mode.\n",
    "\n",
    "A `File` owns a resource, the file descriptor and takes care of closing the file when it is `drop`ed."
   ]
  },
  {
   "cell_type": "code",
   "execution_count": 7,
   "metadata": {
    "editable": true,
    "deletable": false
   },
   "outputs": [
    {
     "ename": "Error",
     "evalue": "Items currently need to be explicitly made pub along with all fields of structs.",
     "output_type": "error",
     "traceback": [
      "Items currently need to be explicitly made pub along with all fields of structs."
     ]
    }
   ],
   "source": [
    "use std::error::Error;\n",
    "use std::fs::File;\n",
    "use std::io::prelude::*;\n",
    "use std::path::Path;\n",
    "\n",
    "fn main() {\n",
    "    // Create a path to the desired file\n",
    "    let path = Path::new(\"hello.txt\");\n",
    "    let display = path.display();\n",
    "\n",
    "    // Open the path in read-only mode, returns `io::Result<File>`\n",
    "    let mut file = match File::open(&path) {\n",
    "        // The `description` method of `io::Error` returns a string that\n",
    "        // describes the error\n",
    "        Err(why) => panic!(\"couldn't open {}: {}\", display,\n",
    "                                                   why.description()),\n",
    "        Ok(file) => file,\n",
    "    };\n",
    "\n",
    "    // Read the file contents into a string, returns `io::Result<usize>`\n",
    "    let mut s = String::new();\n",
    "    match file.read_to_string(&mut s) {\n",
    "        Err(why) => panic!(\"couldn't read {}: {}\", display,\n",
    "                                                   why.description()),\n",
    "        Ok(_) => print!(\"{} contains:\\n{}\", display, s),\n",
    "    }\n",
    "\n",
    "    // `file` goes out of scope, and the \"hello.txt\" file gets closed\n",
    "}\n"
   ]
  },
  {
   "cell_type": "markdown",
   "metadata": {
    "editable": false,
    "deletable": false
   },
   "source": [
    "Here's the expected successful output:\n",
    "\n",
    "```bash\n",
    "$ echo \"Hello World!\" > hello.txt\n",
    "$ rustc open.rs && ./open\n",
    "hello.txt contains:\n",
    "Hello World!\n",
    "```\n",
    "\n",
    "(You are encouraged to test the previous example under different failure conditions: `hello.txt` doesn't exist, or `hello.txt` is not readable, etc.)"
   ]
  },
  {
   "cell_type": "markdown",
   "metadata": {
    "editable": false,
    "deletable": false
   },
   "source": [
    "---\n",
    "# 20.4.2. [create](#20-Std-misc)\n",
    "\n",
    "The `create` static method opens a file in write-only mode. If the file already existed, the old content is destroyed. Otherwise, a new file is created."
   ]
  },
  {
   "cell_type": "code",
   "execution_count": 8,
   "metadata": {
    "editable": true,
    "deletable": false
   },
   "outputs": [
    {
     "ename": "Error",
     "evalue": "Items currently need to be explicitly made pub along with all fields of structs.",
     "output_type": "error",
     "traceback": [
      "Items currently need to be explicitly made pub along with all fields of structs."
     ]
    }
   ],
   "source": [
    "static LOREM_IPSUM: &str =\n",
    "    \"Lorem ipsum dolor sit amet, consectetur adipisicing elit, sed do eiusmod\n",
    "tempor incididunt ut labore et dolore magna aliqua. Ut enim ad minim veniam,\n",
    "quis nostrud exercitation ullamco laboris nisi ut aliquip ex ea commodo\n",
    "consequat. Duis aute irure dolor in reprehenderit in voluptate velit esse\n",
    "cillum dolore eu fugiat nulla pariatur. Excepteur sint occaecat cupidatat non\n",
    "proident, sunt in culpa qui officia deserunt mollit anim id est laborum.\n",
    "\";\n",
    "\n",
    "use std::error::Error;\n",
    "use std::fs::File;\n",
    "use std::io::prelude::*;\n",
    "use std::path::Path;\n",
    "\n",
    "fn main() {\n",
    "    let path = Path::new(\"out/lorem_ipsum.txt\");\n",
    "    let display = path.display();\n",
    "\n",
    "    // Open a file in write-only mode, returns `io::Result<File>`\n",
    "    let mut file = match File::create(&path) {\n",
    "        Err(why) => panic!(\"couldn't create {}: {}\", display, why.description()),\n",
    "        Ok(file) => file,\n",
    "    };\n",
    "\n",
    "    // Write the `LOREM_IPSUM` string to `file`, returns `io::Result<()>`\n",
    "    match file.write_all(LOREM_IPSUM.as_bytes()) {\n",
    "        Err(why) => panic!(\"couldn't write to {}: {}\", display, why.description()),\n",
    "        Ok(_) => println!(\"successfully wrote to {}\", display),\n",
    "    }\n",
    "}"
   ]
  },
  {
   "cell_type": "markdown",
   "metadata": {
    "editable": false,
    "deletable": false
   },
   "source": [
    "Here's the expected successful output:\n",
    "\n",
    "```bash\n",
    "$ mkdir out\n",
    "$ rustc create.rs && ./create\n",
    "successfully wrote to out/lorem_ipsum.txt\n",
    "$ cat out/lorem_ipsum.txt\n",
    "Lorem ipsum dolor sit amet, consectetur adipisicing elit, sed do eiusmod\n",
    "tempor incididunt ut labore et dolore magna aliqua. Ut enim ad minim veniam,\n",
    "quis nostrud exercitation ullamco laboris nisi ut aliquip ex ea commodo\n",
    "consequat. Duis aute irure dolor in reprehenderit in voluptate velit esse\n",
    "cillum dolore eu fugiat nulla pariatur. Excepteur sint occaecat cupidatat non\n",
    "proident, sunt in culpa qui officia deserunt mollit anim id est laborum.\n",
    "```\n",
    "\n",
    "(As in the previous example, you are encouraged to test this example under failure conditions.)\n",
    "\n",
    "There is [`OpenOptions`](https://doc.rust-lang.org/std/fs/struct.OpenOptions.html) struct that can be used to configure how a file is opened."
   ]
  },
  {
   "cell_type": "markdown",
   "metadata": {
    "editable": false,
    "deletable": false
   },
   "source": [
    "---\n",
    "# 20.4.3. [read lines](#20-Std-misc)\n",
    "\n",
    "The method `lines()` returns an iterator over the lines of a file.\n",
    "\n",
    "`File::open` expects a generic, `AsRef<Path>`. That's what `read_lines()` expects as input.\n",
    "\n",
    "```rust\n",
    "use std::fs::File;\n",
    "use std::io::{self, BufRead};\n",
    "use std::path::Path;\n",
    "\n",
    "fn main() {\n",
    "    // File hosts must exist in current path before this produces output\n",
    "    if let Ok(lines) = read_lines(\"./hosts\") {\n",
    "        // Consumes the iterator, returns an (Optional) String\n",
    "        for line in lines {\n",
    "            if let Ok(ip) = line {\n",
    "                println!(\"{}\", ip);\n",
    "            }      \n",
    "        }   \n",
    "    }\n",
    "}\n",
    "\n",
    "// The output is wrapped in a Result to allow matching on errors\n",
    "// Returns an Iterator to the Reader of the lines of the file.\n",
    "fn read_lines<P>(filename: P) -> io::Result<io::Lines<io::BufReader<File>>>\n",
    "where P: AsRef<Path>, {\n",
    "    let file = File::open(filename)?;\n",
    "    Ok(io::BufReader::new(file).lines())\n",
    "}\n",
    "```\n",
    "\n",
    "Running this program simply prints the lines individually.\n",
    "\n",
    "```bash\n",
    "$ echo -e \"127.0.0.1\\n192.168.0.1\\n\" > hosts\n",
    "$ rustc read_lines.rs && ./read_lines\n",
    "127.0.0.1\n",
    "192.168.0.1\n",
    "\n",
    "```\n",
    "This process is more efficient than creating a `String` in memory especially working with larger files.\n"
   ]
  },
  {
   "cell_type": "markdown",
   "metadata": {
    "editable": false,
    "deletable": false
   },
   "source": [
    "---\n",
    "# 20.5. [Child process](#20-Std-misc)\n",
    "\n",
    "The `process::Output` struct represents the output of a finished child process, and the `process::Command` struct is a process builder.\n",
    "\n",
    "```rust\n",
    "use std::process::Command;\n",
    "\n",
    "fn main() {\n",
    "    let output = Command::new(\"rustc\")\n",
    "        .arg(\"--version\")\n",
    "        .output().unwrap_or_else(|e| {\n",
    "            panic!(\"failed to execute process: {}\", e)\n",
    "    });\n",
    "\n",
    "    if output.status.success() {\n",
    "        let s = String::from_utf8_lossy(&output.stdout);\n",
    "\n",
    "        print!(\"rustc succeeded and stdout was:\\n{}\", s);\n",
    "    } else {\n",
    "        let s = String::from_utf8_lossy(&output.stderr);\n",
    "\n",
    "        print!(\"rustc failed and stderr was:\\n{}\", s);\n",
    "    }\n",
    "}\n",
    "\n",
    "```\n",
    "\n",
    "(You are encouraged to try the previous example with an incorrect flag passed to `rustc`)"
   ]
  },
  {
   "cell_type": "markdown",
   "metadata": {
    "editable": false,
    "deletable": false
   },
   "source": [
    "---\n",
    "# 20.5.1. [Pipes](#20-Std-misc)\n",
    "\n",
    "The `std::Child` struct represents a running child process, and exposes the `stdin`, `stdout` and `stderr` handles for interaction with the underlying process via pipes.\n",
    "\n",
    "```rust\n",
    "use std::error::Error;\n",
    "use std::io::prelude::*;\n",
    "use std::process::{Command, Stdio};\n",
    "\n",
    "static PANGRAM: &'static str =\n",
    "\"the quick brown fox jumped over the lazy dog\\n\";\n",
    "\n",
    "fn main() {\n",
    "    // Spawn the `wc` command\n",
    "    let process = match Command::new(\"wc\")\n",
    "                                .stdin(Stdio::piped())\n",
    "                                .stdout(Stdio::piped())\n",
    "                                .spawn() {\n",
    "        Err(why) => panic!(\"couldn't spawn wc: {}\", why.description()),\n",
    "        Ok(process) => process,\n",
    "    };\n",
    "\n",
    "    // Write a string to the `stdin` of `wc`.\n",
    "    //\n",
    "    // `stdin` has type `Option<ChildStdin>`, but since we know this instance\n",
    "    // must have one, we can directly `unwrap` it.\n",
    "    match process.stdin.unwrap().write_all(PANGRAM.as_bytes()) {\n",
    "        Err(why) => panic!(\"couldn't write to wc stdin: {}\",\n",
    "                           why.description()),\n",
    "        Ok(_) => println!(\"sent pangram to wc\"),\n",
    "    }\n",
    "\n",
    "    // Because `stdin` does not live after the above calls, it is `drop`ed,\n",
    "    // and the pipe is closed.\n",
    "    //\n",
    "    // This is very important, otherwise `wc` wouldn't start processing the\n",
    "    // input we just sent.\n",
    "\n",
    "    // The `stdout` field also has type `Option<ChildStdout>` so must be unwrapped.\n",
    "    let mut s = String::new();\n",
    "    match process.stdout.unwrap().read_to_string(&mut s) {\n",
    "        Err(why) => panic!(\"couldn't read wc stdout: {}\",\n",
    "                           why.description()),\n",
    "        Ok(_) => print!(\"wc responded with:\\n{}\", s),\n",
    "    }\n",
    "}\n",
    "\n",
    "```"
   ]
  },
  {
   "cell_type": "markdown",
   "metadata": {
    "editable": false,
    "deletable": false
   },
   "source": [
    "---\n",
    "# 20.5.2. [Wait](#20-Std-misc)\n",
    "\n",
    "If you'd like to wait for a `process::Child` to finish, you must call `Child::wait`, which will return a `process::ExitStatus`.\n",
    "\n",
    "```rust\n",
    "use std::process::Command;\n",
    "\n",
    "fn main() {\n",
    "    let mut child = Command::new(\"sleep\").arg(\"5\").spawn().unwrap();\n",
    "    let _result = child.wait().unwrap();\n",
    "\n",
    "    println!(\"reached end of main\");\n",
    "}\n",
    "```\n",
    "\n",
    "```bash\n",
    "$ rustc wait.rs && ./wait\n",
    "# `wait` keeps running for 5 seconds until the `sleep 5` command finishes\n",
    "reached end of main\n",
    "```\n"
   ]
  },
  {
   "cell_type": "markdown",
   "metadata": {
    "editable": false,
    "deletable": false
   },
   "source": [
    "---\n",
    "# 20.6. [Filesystem Operations](#20-Std-misc)\n",
    "\n",
    "The `std::fs` module contains several functions that deal with the filesystem.\n",
    "\n",
    "```rust\n",
    "use std::fs;\n",
    "use std::fs::{File, OpenOptions};\n",
    "use std::io;\n",
    "use std::io::prelude::*;\n",
    "use std::os::unix;\n",
    "use std::path::Path;\n",
    "\n",
    "// A simple implementation of `% cat path`\n",
    "fn cat(path: &Path) -> io::Result<String> {\n",
    "    let mut f = File::open(path)?;\n",
    "    let mut s = String::new();\n",
    "    match f.read_to_string(&mut s) {\n",
    "        Ok(_) => Ok(s),\n",
    "        Err(e) => Err(e),\n",
    "    }\n",
    "}\n",
    "\n",
    "// A simple implementation of `% echo s > path`\n",
    "fn echo(s: &str, path: &Path) -> io::Result<()> {\n",
    "    let mut f = File::create(path)?;\n",
    "\n",
    "    f.write_all(s.as_bytes())\n",
    "}\n",
    "\n",
    "// A simple implementation of `% touch path` (ignores existing files)\n",
    "fn touch(path: &Path) -> io::Result<()> {\n",
    "    match OpenOptions::new().create(true).write(true).open(path) {\n",
    "        Ok(_) => Ok(()),\n",
    "        Err(e) => Err(e),\n",
    "    }\n",
    "}\n",
    "\n",
    "fn main() {\n",
    "    println!(\"`mkdir a`\");\n",
    "    // Create a directory, returns `io::Result<()>`\n",
    "    match fs::create_dir(\"a\") {\n",
    "        Err(why) => println!(\"! {:?}\", why.kind()),\n",
    "        Ok(_) => {},\n",
    "    }\n",
    "\n",
    "    println!(\"`echo hello > a/b.txt`\");\n",
    "    // The previous match can be simplified using the `unwrap_or_else` method\n",
    "    echo(\"hello\", &Path::new(\"a/b.txt\")).unwrap_or_else(|why| {\n",
    "        println!(\"! {:?}\", why.kind());\n",
    "    });\n",
    "\n",
    "    println!(\"`mkdir -p a/c/d`\");\n",
    "    // Recursively create a directory, returns `io::Result<()>`\n",
    "    fs::create_dir_all(\"a/c/d\").unwrap_or_else(|why| {\n",
    "        println!(\"! {:?}\", why.kind());\n",
    "    });\n",
    "\n",
    "    println!(\"`touch a/c/e.txt`\");\n",
    "    touch(&Path::new(\"a/c/e.txt\")).unwrap_or_else(|why| {\n",
    "        println!(\"! {:?}\", why.kind());\n",
    "    });\n",
    "\n",
    "    println!(\"`ln -s ../b.txt a/c/b.txt`\");\n",
    "    // Create a symbolic link, returns `io::Result<()>`\n",
    "    if cfg!(target_family = \"unix\") {\n",
    "        unix::fs::symlink(\"../b.txt\", \"a/c/b.txt\").unwrap_or_else(|why| {\n",
    "        println!(\"! {:?}\", why.kind());\n",
    "        });\n",
    "    }\n",
    "\n",
    "    println!(\"`cat a/c/b.txt`\");\n",
    "    match cat(&Path::new(\"a/c/b.txt\")) {\n",
    "        Err(why) => println!(\"! {:?}\", why.kind()),\n",
    "        Ok(s) => println!(\"> {}\", s),\n",
    "    }\n",
    "\n",
    "    println!(\"`ls a`\");\n",
    "    // Read the contents of a directory, returns `io::Result<Vec<Path>>`\n",
    "    match fs::read_dir(\"a\") {\n",
    "        Err(why) => println!(\"! {:?}\", why.kind()),\n",
    "        Ok(paths) => for path in paths {\n",
    "            println!(\"> {:?}\", path.unwrap().path());\n",
    "        },\n",
    "    }\n",
    "\n",
    "    println!(\"`rm a/c/e.txt`\");\n",
    "    // Remove a file, returns `io::Result<()>`\n",
    "    fs::remove_file(\"a/c/e.txt\").unwrap_or_else(|why| {\n",
    "        println!(\"! {:?}\", why.kind());\n",
    "    });\n",
    "\n",
    "    println!(\"`rmdir a/c/d`\");\n",
    "    // Remove an empty directory, returns `io::Result<()>`\n",
    "    fs::remove_dir(\"a/c/d\").unwrap_or_else(|why| {\n",
    "        println!(\"! {:?}\", why.kind());\n",
    "    });\n",
    "}\n",
    "```\n",
    "Here's the expected successful output:\n",
    "\n",
    "```bash\n",
    "$ rustc fs.rs && ./fs\n",
    "`mkdir a`\n",
    "`echo hello > a/b.txt`\n",
    "`mkdir -p a/c/d`\n",
    "`touch a/c/e.txt`\n",
    "`ln -s ../b.txt a/c/b.txt`\n",
    "`cat a/c/b.txt`\n",
    "> hello\n",
    "`ls a`\n",
    "> \"a/b.txt\"\n",
    "> \"a/c\"\n",
    "`rm a/c/e.txt`\n",
    "`rmdir a/c/d`\n",
    "```\n",
    "\n",
    "And the final state of the a directory is:\n",
    "\n",
    "```bash\n",
    "$ tree a\n",
    "a\n",
    "|-- b.txt\n",
    "`-- c\n",
    "    `-- b.txt -> ../b.txt\n",
    "\n",
    "1 directory, 2 files\n",
    "```\n",
    "\n",
    "An alternative way to define the function cat is with ? notation:\n",
    "\n",
    "```rust\n",
    "fn cat(path: &Path) -> io::Result<String> {\n",
    "    let mut f = File::open(path)?;\n",
    "    let mut s = String::new();\n",
    "    f.read_to_string(&mut s)?;\n",
    "    Ok(s)\n",
    "}\n",
    "\n",
    "```\n",
    "## See also:\n",
    "\n",
    "cfg!\n",
    "\n"
   ]
  },
  {
   "cell_type": "markdown",
   "metadata": {
    "editable": false,
    "deletable": false
   },
   "source": [
    "---\n",
    "# 20.7. [Program arguments](#20-Std-misc)\n",
    "\n",
    "## Standard Library\n",
    "\n",
    "The command line arguments can be accessed using `std::env::args`, which returns an iterator that yields a `String` for each argument:"
   ]
  },
  {
   "cell_type": "code",
   "execution_count": 2,
   "metadata": {
    "editable": true,
    "deletable": false
   },
   "outputs": [
    {
     "ename": "Error",
     "evalue": "Items currently need to be explicitly made pub along with all fields of structs.",
     "output_type": "error",
     "traceback": [
      "Items currently need to be explicitly made pub along with all fields of structs."
     ]
    }
   ],
   "source": [
    "use std::env;\n",
    "\n",
    "fn main() {\n",
    "    let args: Vec<String> = env::args().collect();\n",
    "\n",
    "    // The first argument is the path that was used to call the program.\n",
    "    println!(\"My path is {}.\", args[0]);\n",
    "\n",
    "    // The rest of the arguments are the passed command line parameters.\n",
    "    // Call the program like this:\n",
    "    //   $ ./args arg1 arg2\n",
    "    println!(\"I got {:?} arguments: {:?}.\", args.len() - 1, &args[1..]);\n",
    "}\n"
   ]
  },
  {
   "cell_type": "markdown",
   "metadata": {
    "editable": false,
    "deletable": false
   },
   "source": [
    "```bash\n",
    "$ ./args 1 2 3\n",
    "My path is ./args.\n",
    "I got 3 arguments: [\"1\", \"2\", \"3\"].\n",
    "```\n",
    "\n",
    "## Crates\n",
    "\n",
    "Alternatively, there are numerous crates that can provide extra functionality when creating command-line applications. The [Rust Cookbook](https://rust-lang-nursery.github.io/rust-cookbook/cli/arguments.html) exhibits best practices on how to use one of the more popular command line argument crates, `clap`."
   ]
  },
  {
   "cell_type": "markdown",
   "metadata": {
    "editable": false,
    "deletable": false
   },
   "source": [
    "---\n",
    "# 20.7.1. [Argument parsing](#20-Std-misc)\n",
    "\n",
    "Matching can be used to parse simple arguments:"
   ]
  },
  {
   "cell_type": "code",
   "execution_count": 10,
   "metadata": {
    "editable": true,
    "deletable": false
   },
   "outputs": [
    {
     "ename": "Error",
     "evalue": "Items currently need to be explicitly made pub along with all fields of structs.",
     "output_type": "error",
     "traceback": [
      "Items currently need to be explicitly made pub along with all fields of structs."
     ]
    }
   ],
   "source": [
    "use std::env;\n",
    "\n",
    "fn increase(number: i32) {\n",
    "    println!(\"{}\", number + 1);\n",
    "}\n",
    "\n",
    "fn decrease(number: i32) {\n",
    "    println!(\"{}\", number - 1);\n",
    "}\n",
    "\n",
    "fn help() {\n",
    "    println!(\"usage:\n",
    "match_args <string>\n",
    "    Check whether given string is the answer.\n",
    "match_args {{increase|decrease}} <integer>\n",
    "    Increase or decrease given integer by one.\");\n",
    "}\n",
    "\n",
    "fn main() {\n",
    "    let args: Vec<String> = env::args().collect();\n",
    "\n",
    "    match args.len() {\n",
    "        // no arguments passed\n",
    "        1 => {\n",
    "            println!(\"My name is 'match_args'. Try passing some arguments!\");\n",
    "        },\n",
    "        // one argument passed\n",
    "        2 => {\n",
    "            match args[1].parse() {\n",
    "                Ok(42) => println!(\"This is the answer!\"),\n",
    "                _ => println!(\"This is not the answer.\"),\n",
    "            }\n",
    "        },\n",
    "        // one command and one argument passed\n",
    "        3 => {\n",
    "            let cmd = &args[1];\n",
    "            let num = &args[2];\n",
    "            // parse the number\n",
    "            let number: i32 = match num.parse() {\n",
    "                Ok(n) => {\n",
    "                    n\n",
    "                },\n",
    "                Err(_) => {\n",
    "                    eprintln!(\"error: second argument not an integer\");\n",
    "                    help();\n",
    "                    return;\n",
    "                },\n",
    "            };\n",
    "            // parse the command\n",
    "            match &cmd[..] {\n",
    "                \"increase\" => increase(number),\n",
    "                \"decrease\" => decrease(number),\n",
    "                _ => {\n",
    "                    eprintln!(\"error: invalid command\");\n",
    "                    help();\n",
    "                },\n",
    "            }\n",
    "        },\n",
    "        // all the other cases\n",
    "        _ => {\n",
    "            // show a help message\n",
    "            help();\n",
    "        }\n",
    "    }\n",
    "}\n"
   ]
  },
  {
   "cell_type": "markdown",
   "metadata": {
    "editable": false,
    "deletable": false
   },
   "source": [
    "```bash\n",
    "$ ./match_args Rust\n",
    "This is not the answer.\n",
    "$ ./match_args 42\n",
    "This is the answer!\n",
    "$ ./match_args do something\n",
    "error: second argument not an integer\n",
    "usage:\n",
    "match_args <string>\n",
    "    Check whether given string is the answer.\n",
    "match_args {increase|decrease} <integer>\n",
    "    Increase or decrease given integer by one.\n",
    "$ ./match_args do 42\n",
    "error: invalid command\n",
    "usage:\n",
    "match_args <string>\n",
    "    Check whether given string is the answer.\n",
    "match_args {increase|decrease} <integer>\n",
    "    Increase or decrease given integer by one.\n",
    "$ ./match_args increase 42\n",
    "43\n",
    "```\n"
   ]
  },
  {
   "cell_type": "markdown",
   "metadata": {
    "editable": false,
    "deletable": false
   },
   "source": [
    "---\n",
    "# 20.8. [Foreign Function Interface](#20-Std-misc)\n",
    "\n",
    "Rust provides a Foreign Function Interface (FFI) to C libraries. Foreign functions must be declared inside an `extern` block annotated with a `#[link]` attribute containing the name of the foreign library.\n",
    "\n",
    "```rust\n",
    "use std::fmt;\n",
    "\n",
    "// this extern block links to the libm library\n",
    "#[link(name = \"m\")]\n",
    "extern {\n",
    "    // this is a foreign function\n",
    "    // that computes the square root of a single precision complex number\n",
    "    fn csqrtf(z: Complex) -> Complex;\n",
    "\n",
    "    fn ccosf(z: Complex) -> Complex;\n",
    "}\n",
    "\n",
    "// Since calling foreign functions is considered unsafe,\n",
    "// it's common to write safe wrappers around them.\n",
    "fn cos(z: Complex) -> Complex {\n",
    "    unsafe { ccosf(z) }\n",
    "}\n",
    "\n",
    "fn main() {\n",
    "    // z = -1 + 0i\n",
    "    let z = Complex { re: -1., im: 0. };\n",
    "\n",
    "    // calling a foreign function is an unsafe operation\n",
    "    let z_sqrt = unsafe { csqrtf(z) };\n",
    "\n",
    "    println!(\"the square root of {:?} is {:?}\", z, z_sqrt);\n",
    "\n",
    "    // calling safe API wrapped around unsafe operation\n",
    "    println!(\"cos({:?}) = {:?}\", z, cos(z));\n",
    "}\n",
    "\n",
    "// Minimal implementation of single precision complex numbers\n",
    "#[repr(C)]\n",
    "#[derive(Clone, Copy)]\n",
    "struct Complex {\n",
    "    re: f32,\n",
    "    im: f32,\n",
    "}\n",
    "\n",
    "impl fmt::Debug for Complex {\n",
    "    fn fmt(&self, f: &mut fmt::Formatter) -> fmt::Result {\n",
    "        if self.im < 0. {\n",
    "            write!(f, \"{}-{}i\", self.re, -self.im)\n",
    "        } else {\n",
    "            write!(f, \"{}+{}i\", self.re, self.im)\n",
    "        }\n",
    "    }\n",
    "}\n",
    "\n",
    "```\n"
   ]
  }
 ],
 "metadata": {
  "kernelspec": {
   "display_name": "Rust",
   "language": "rust",
   "name": "rust"
  },
  "language_info": {
   "codemirror_mode": "rust",
   "file_extension": ".rs",
   "mimetype": "text/rust",
   "name": "Rust",
   "pygment_lexer": "rust",
   "version": ""
  }
 },
 "nbformat": 4,
 "nbformat_minor": 2
}