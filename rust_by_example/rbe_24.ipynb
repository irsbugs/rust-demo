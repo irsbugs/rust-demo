{
 "cells": [
  {
   "cell_type": "markdown",
   "metadata": {
    "editable": false,
    "deletable": false
   },
   "source": [
    "# 24 [Meta](#24.-Meta) \n",
    "\n",
    "* ### 24.1 [Documentation](#24.1.-Documentation)"
   ]
  },
  {
   "cell_type": "markdown",
   "metadata": {
    "editable": false,
    "deletable": false
   },
   "source": [
    "---\n",
    "# 24. [Meta](#24-Meta) \n",
    "\n",
    "Some topics aren't exactly relevant to how you program but provide you tooling or infrastructure support which just makes things better for everyone. These topics include:\n",
    "\n",
    "* Documentation: Generate library documentation for users via the included `rustdoc`.\n",
    "* Testing: Create testsuites for libraries to give confidence that your library does exactly what it's supposed to.\n",
    "* Benchmarking: Create benchmarks for functionality to be confident that they run quickly.\n"
   ]
  },
  {
   "cell_type": "markdown",
   "metadata": {
    "editable": false,
    "deletable": false
   },
   "source": [
    "---\n",
    "# 24.1. [Documentation](#24-Meta) \n",
    "\n",
    "Use `cargo doc` to build documentation in `target/doc`.\n",
    "\n",
    "Use `cargo test` to run all tests (including documentation tests), and `cargo test --doc` to only run documentation tests.\n",
    "\n",
    "These commands will appropriately invoke `rustdoc` (and `rustc`) as required.\n",
    "\n",
    "## Doc comments\n",
    "\n",
    "Doc comments are very useful for big projects that require documentation. When running Rustdoc, these are the comments that get compiled into documentation. They are denoted by a `///`, and support [Markdown](https://en.wikipedia.org/wiki/Markdown).\n",
    "\n",
    "\n",
    "```rust\n",
    "#![crate_name = \"doc\"]\n",
    "\n",
    "/// A human being is represented here\n",
    "pub struct Person {\n",
    "    /// A person must have a name, no matter how much Juliet may hate it\n",
    "    name: String,\n",
    "}\n",
    "\n",
    "impl Person {\n",
    "    /// Returns a person with the name given them\n",
    "    ///\n",
    "    /// # Arguments\n",
    "    ///\n",
    "    /// * `name` - A string slice that holds the name of the person\n",
    "    ///\n",
    "    /// # Example\n",
    "    ///\n",
    "    /// (three ticks go here)\n",
    "    /// // You can have rust code between fences inside the comments\n",
    "    /// // If you pass --test to Rustdoc, it will even test it for you!\n",
    "    /// use doc::Person;\n",
    "    /// let person = Person::new(\"name\");\n",
    "    /// (three ticks go here)\n",
    "    pub fn new(name: &str) -> Person {\n",
    "        Person {\n",
    "            name: name.to_string(),\n",
    "        }\n",
    "    }\n",
    "\n",
    "    /// Gives a friendly hello!\n",
    "    ///\n",
    "    /// Says \"Hello, [name]\" to the `Person` it is called on.\n",
    "    pub fn hello(& self) {\n",
    "        println!(\"Hello, {}!\", self.name);\n",
    "    }\n",
    "}\n",
    "\n",
    "fn main() {\n",
    "    let john = Person::new(\"John\");\n",
    "\n",
    "    john.hello();\n",
    "}\n",
    "\n",
    "```\n",
    "To run the tests, first build the code as a library, then tell rustdoc where to find the library so it can link it into each doctest program:\n",
    "\n",
    "```bash\n",
    "$ rustc doc.rs --crate-type lib\n",
    "$ rustdoc --test --extern doc=\"libdoc.rlib\" doc.rs\n",
    "```\n",
    "## See also:\n",
    "\n",
    "* [The Rust Book: Making Useful Documentation Comments](https://doc.rust-lang.org/book/ch14-02-publishing-to-crates-io.html#making-useful-documentation-comments)\n",
    "* [The Rustdoc Book](https://doc.rust-lang.org/rustdoc/index.html)\n",
    "* [The Reference: Doc comments](https://doc.rust-lang.org/stable/reference/comments.html#doc-comments)\n",
    "* [RFC 1574: API Documentation Conventions](https://rust-lang.github.io/rfcs/1574-more-api-documentation-conventions.html#appendix-a-full-conventions-text)\n",
    "* [RFC 1946: Relative links to other items from doc comments (intra-rustdoc links)](https://rust-lang.github.io/rfcs/1946-intra-rustdoc-links.html)\n",
    "* [Is there any documentation style guide for comments? (reddit)](https://www.reddit.com/r/rust/comments/ahb50s/is_there_any_documentation_style_guide_for/)\n",
    "\n"
   ]
  }
 ],
 "metadata": {
  "kernelspec": {
   "display_name": "Rust",
   "language": "rust",
   "name": "rust"
  },
  "language_info": {
   "codemirror_mode": "rust",
   "file_extension": ".rs",
   "mimetype": "text/rust",
   "name": "Rust",
   "pygment_lexer": "rust",
   "version": ""
  }
 },
 "nbformat": 4,
 "nbformat_minor": 2
}