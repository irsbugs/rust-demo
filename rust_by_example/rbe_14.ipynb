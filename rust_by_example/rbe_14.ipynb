{
 "cells": [
  {
   "cell_type": "markdown",
   "metadata": {
    "editable": false,
    "deletable": false
   },
   "source": [
    "# 14 [Generics](#14.-Generics)\n",
    "* ### 14.1 [Functions](#14.1.-Functions)\n",
    "* ### 14.2 [Implementation](#14.2.-Implementation)\n",
    "* ### 14.3 [Traits](#14.3.-Traits)\n",
    "* ### 14.4 [Bounds](#14.4.-Bounds)\n",
    "    * ### 14.4.1 [Testcase: empty bounds](#14.4.1.-Testcase:-empty-bounds)\n",
    "* ### 14.5 [Multiple bounds](#14.5.-Multiple-bounds)\n",
    "* ### 14.6 [Where clauses](#14.6.-Where-clauses)\n",
    "* ### 14.7 [New Type Idiom](#14.7.-New-Type-Idiom)\n",
    "* ### 14.8 [Associated Items](#14.8.-Associated-Items)\n",
    "    * ### 14.8.1 [The Problem](#14.8.1.-The-Problem)\n",
    "    * ### 14.8.2 [Associated Items](#14.8.2.-Associated-Items)\n",
    "* ### 14.9 [Phantom type parameters](#14.9.-Phantom-type-parameters)\n",
    "    * ### 14.9.1 [Testcase: unit clarification](#14.9.1.-Testcase:-unit-clarification)\n"
   ]
  },
  {
   "cell_type": "markdown",
   "metadata": {
    "editable": false,
    "deletable": false
   },
   "source": [
    "---\n",
    "# 14. [Generics](#14-Generics)\n",
    "\n",
    "\n",
    "*Generics* is the topic of generalizing types and functionalities to broader cases. This is extremely useful for reducing code duplication in many ways, but can call for rather involving syntax. Namely, being generic requires taking great care to specify over which types a generic type is actually considered valid. The simplest and most common use of generics is for type parameters.\n",
    "\n",
    "A type parameter is specified as generic by the use of angle brackets and upper [camel case](https://en.wikipedia.org/wiki/CamelCase): `<Aaa, Bbb, ...>`. \"Generic type parameters\" are typically represented as `<T>`. In Rust, \"generic\" also describes anything that accepts one or more generic type parameters `<T>`. Any type specified as a generic type parameter is generic, and everything else is concrete (non-generic).\n",
    "\n",
    "For example, defining a generic function named `foo` that takes an argument `T` of any type:\n",
    "\n",
    "``` rust\n",
    "fn foo<T>(arg: T) { ... }\n",
    "```\n",
    "\n",
    "Because `T` has been specified as a generic type parameter using `<T>`, it is considered generic when used here as `(arg: T)`. This is the case even if `T` has previously been defined as a `struct`.\n",
    "\n",
    "This example shows some of the syntax in action:"
   ]
  },
  {
   "cell_type": "code",
   "execution_count": 2,
   "metadata": {
    "editable": true,
    "deletable": false
   },
   "outputs": [
    {
     "ename": "Error",
     "evalue": "Items currently need to be explicitly made pub along with all fields of structs.",
     "output_type": "error",
     "traceback": [
      "Items currently need to be explicitly made pub along with all fields of structs."
     ]
    }
   ],
   "source": [
    "// A concrete type `A`.\n",
    "struct A;\n",
    "\n",
    "// In defining the type `Single`, the first use of `A` is not preceded by `<A>`.\n",
    "// Therefore, `Single` is a concrete type, and `A` is defined as above.\n",
    "struct Single(A);\n",
    "//            ^ Here is `Single`s first use of the type `A`.\n",
    "\n",
    "// Here, `<T>` precedes the first use of `T`, so `SingleGen` is a generic type.\n",
    "// Because the type parameter `T` is generic, it could be anything, including\n",
    "// the concrete type `A` defined at the top.\n",
    "struct SingleGen<T>(T);\n",
    "\n",
    "fn main() {\n",
    "    // `Single` is concrete and explicitly takes `A`.\n",
    "    let _s = Single(A);\n",
    "    \n",
    "    // Create a variable `_char` of type `SingleGen<char>`\n",
    "    // and give it the value `SingleGen('a')`.\n",
    "    // Here, `SingleGen` has a type parameter explicitly specified.\n",
    "    let _char: SingleGen<char> = SingleGen('a');\n",
    "\n",
    "    // `SingleGen` can also have a type parameter implicitly specified:\n",
    "    let _t    = SingleGen(A); // Uses `A` defined at the top.\n",
    "    let _i32  = SingleGen(6); // Uses `i32`.\n",
    "    let _char = SingleGen('a'); // Uses `char`.\n",
    "}\n"
   ]
  },
  {
   "cell_type": "markdown",
   "metadata": {
    "editable": false,
    "deletable": false
   },
   "source": [
    "## See also:\n",
    "\n",
    "[struct](https://doc.rust-lang.org/rust-by-example/custom_types/structs.html)s"
   ]
  },
  {
   "cell_type": "markdown",
   "metadata": {
    "editable": false,
    "deletable": false
   },
   "source": [
    "---\n",
    "# 14.1. [Functions](#14-Generics)\n",
    "\n",
    "The same set of rules can be applied to functions: a type `T` becomes generic when preceded by `<T>`.\n",
    "\n",
    "Using generic functions sometimes requires explicitly specifying type parameters. This may be the case if the function is called where the return type is generic, or if the compiler doesn't have enough information to infer the necessary type parameters.\n",
    "\n",
    "A function call with explicitly specified type parameters looks like: `fun::<A, B, ...>()`."
   ]
  },
  {
   "cell_type": "code",
   "execution_count": null,
   "metadata": {
    "editable": true,
    "deletable": false
   },
   "outputs": [],
   "source": [
    "struct A;          // Concrete type `A`.\n",
    "struct S(A);       // Concrete type `S`.\n",
    "struct SGen<T>(T); // Generic type `SGen`.\n",
    "\n",
    "// The following functions all take ownership of the variable passed into\n",
    "// them and immediately go out of scope, freeing the variable.\n",
    "\n",
    "// Define a function `reg_fn` that takes an argument `_s` of type `S`.\n",
    "// This has no `<T>` so this is not a generic function.\n",
    "fn reg_fn(_s: S) {}\n",
    "\n",
    "// Define a function `gen_spec_t` that takes an argument `_s` of type `SGen<T>`.\n",
    "// It has been explicitly given the type parameter `A`, but because `A` has not \n",
    "// been specified as a generic type parameter for `gen_spec_t`, it is not generic.\n",
    "fn gen_spec_t(_s: SGen<A>) {}\n",
    "\n",
    "// Define a function `gen_spec_i32` that takes an argument `_s` of type `SGen<i32>`.\n",
    "// It has been explicitly given the type parameter `i32`, which is a specific type.\n",
    "// Because `i32` is not a generic type, this function is also not generic.\n",
    "fn gen_spec_i32(_s: SGen<i32>) {}\n",
    "\n",
    "// Define a function `generic` that takes an argument `_s` of type `SGen<T>`.\n",
    "// Because `SGen<T>` is preceded by `<T>`, this function is generic over `T`.\n",
    "fn generic<T>(_s: SGen<T>) {}\n",
    "\n",
    "fn main() {\n",
    "    // Using the non-generic functions\n",
    "    reg_fn(S(A));          // Concrete type.\n",
    "    gen_spec_t(SGen(A));   // Implicitly specified type parameter `A`.\n",
    "    gen_spec_i32(SGen(6)); // Implicitly specified type parameter `i32`.\n",
    "\n",
    "    // Explicitly specified type parameter `char` to `generic()`.\n",
    "    generic::<char>(SGen('a'));\n",
    "\n",
    "    // Implicitly specified type parameter `char` to `generic()`.\n",
    "    generic(SGen('c'));\n",
    "}\n"
   ]
  },
  {
   "cell_type": "markdown",
   "metadata": {
    "editable": false,
    "deletable": false
   },
   "source": [
    "## See also:\n",
    "\n",
    "[functions](https://doc.rust-lang.org/rust-by-example/fn.html) and [struct](https://doc.rust-lang.org/rust-by-example/custom_types/structs.html)s"
   ]
  },
  {
   "cell_type": "markdown",
   "metadata": {
    "editable": false,
    "deletable": false
   },
   "source": [
    "---\n",
    "# 14.2. [Implementation](#14-Generics)\n",
    "\n",
    "Similar to functions, implementations require care to remain generic."
   ]
  },
  {
   "cell_type": "code",
   "execution_count": null,
   "metadata": {
    "editable": true,
    "deletable": false
   },
   "outputs": [],
   "source": [
    "struct S; // Concrete type `S`\n",
    "struct GenericVal<T>(T,); // Generic type `GenericVal`\n",
    "\n",
    "// impl of GenericVal where we explicitly specify type parameters:\n",
    "impl GenericVal<f32> {} // Specify `f32`\n",
    "impl GenericVal<S> {} // Specify `S` as defined above\n",
    "\n",
    "// `<T>` Must precede the type to remain generic\n",
    "impl <T> GenericVal<T> {}"
   ]
  },
  {
   "cell_type": "code",
   "execution_count": null,
   "metadata": {
    "editable": true,
    "deletable": false
   },
   "outputs": [],
   "source": [
    "struct Val {\n",
    "    val: f64\n",
    "}\n",
    "\n",
    "struct GenVal<T>{\n",
    "    gen_val: T\n",
    "}\n",
    "\n",
    "// impl of Val\n",
    "impl Val {\n",
    "    fn value(&self) -> &f64 { &self.val }\n",
    "}\n",
    "\n",
    "// impl of GenVal for a generic type `T`\n",
    "impl <T> GenVal<T> {\n",
    "    fn value(&self) -> &T { &self.gen_val }\n",
    "}\n",
    "\n",
    "fn main() {\n",
    "    let x = Val { val: 3.0 };\n",
    "    let y = GenVal { gen_val: 3i32 };\n",
    "    \n",
    "    println!(\"{}, {}\", x.value(), y.value());\n",
    "}\n"
   ]
  },
  {
   "cell_type": "markdown",
   "metadata": {
    "editable": false,
    "deletable": false
   },
   "source": [
    "## See also:\n",
    "\n",
    "[functions returning references](https://doc.rust-lang.org/rust-by-example/scope/lifetime/fn.html), [`impl`](https://doc.rust-lang.org/rust-by-example/fn/methods.html), and [`struct`](https://doc.rust-lang.org/rust-by-example/custom_types/structs.html)"
   ]
  },
  {
   "cell_type": "markdown",
   "metadata": {
    "editable": false,
    "deletable": false
   },
   "source": [
    "---\n",
    "# 14.3. [Traits](#14-Generics)\n",
    "\n",
    "Of course `trait`s can also be generic. Here we define one which reimplements the `Drop` `trait` as a generic method to `drop` itself and an input."
   ]
  },
  {
   "cell_type": "code",
   "execution_count": null,
   "metadata": {
    "editable": true,
    "deletable": false
   },
   "outputs": [],
   "source": [
    "// Non-copyable types.\n",
    "struct Empty;\n",
    "struct Null;\n",
    "\n",
    "// A trait generic over `T`.\n",
    "trait DoubleDrop<T> {\n",
    "    // Define a method on the caller type which takes an\n",
    "    // additional single parameter `T` and does nothing with it.\n",
    "    fn double_drop(self, _: T);\n",
    "}\n",
    "\n",
    "// Implement `DoubleDrop<T>` for any generic parameter `T` and\n",
    "// caller `U`.\n",
    "impl<T, U> DoubleDrop<T> for U {\n",
    "    // This method takes ownership of both passed arguments,\n",
    "    // deallocating both.\n",
    "    fn double_drop(self, _: T) {}\n",
    "}\n",
    "\n",
    "fn main() {\n",
    "    let empty = Empty;\n",
    "    let null  = Null;\n",
    "\n",
    "    // Deallocate `empty` and `null`.\n",
    "    empty.double_drop(null);\n",
    "\n",
    "    //empty;\n",
    "    //null;\n",
    "    // ^ TODO: Try uncommenting these lines.\n",
    "}"
   ]
  },
  {
   "cell_type": "markdown",
   "metadata": {
    "editable": false,
    "deletable": false
   },
   "source": [
    "## See also:\n",
    "\n",
    "[`Drop`](https://doc.rust-lang.org/std/ops/trait.Drop.html), [`struct`](https://doc.rust-lang.org/rust-by-example/custom_types/structs.html), and [`trait`](https://doc.rust-lang.org/rust-by-example/trait.html)"
   ]
  },
  {
   "cell_type": "markdown",
   "metadata": {
    "editable": false,
    "deletable": false
   },
   "source": [
    "---\n",
    "# 14.4. [Bounds](#14-Generics)\n",
    "\n",
    "When working with generics, the type parameters often must use traits as bounds to stipulate what functionality a type implements. For example, the following example uses the trait `Display` to print and so it requires `T` to be bound by `Display`; that is, `T` *must* implement `Display`.\n",
    "\n",
    "``` rust\n",
    "// Define a function `printer` that takes a generic type `T` which\n",
    "// must implement trait `Display`.\n",
    "fn printer<T: Display>(t: T) {\n",
    "    println!(\"{}\", t);\n",
    "}\n",
    "```\n",
    "\n",
    "Bounding restricts the generic to types that conform to the bounds. That is:\n",
    "\n",
    "``` rust\n",
    "struct S<T: Display>(T);\n",
    "\n",
    "// Error! `Vec<T>` does not implement `Display`. This\n",
    "// specialization will fail.\n",
    "let s = S(vec![1]);\n",
    "```\n",
    "Another effect of bounding is that generic instances are allowed to access the [methods](https://doc.rust-lang.org/rust-by-example/fn/methods.html) of traits specified in the bounds. For example:"
   ]
  },
  {
   "cell_type": "code",
   "execution_count": null,
   "metadata": {
    "editable": true,
    "deletable": false
   },
   "outputs": [],
   "source": [
    "// A trait which implements the print marker: `{:?}`.\n",
    "use std::fmt::Debug;\n",
    "\n",
    "trait HasArea {\n",
    "    fn area(&self) -> f64;\n",
    "}\n",
    "\n",
    "impl HasArea for Rectangle {\n",
    "    fn area(&self) -> f64 { self.length * self.height }\n",
    "}\n",
    "\n",
    "#[derive(Debug)]\n",
    "struct Rectangle { length: f64, height: f64 }\n",
    "#[allow(dead_code)]\n",
    "struct Triangle  { length: f64, height: f64 }\n",
    "\n",
    "// The generic `T` must implement `Debug`. Regardless\n",
    "// of the type, this will work properly.\n",
    "fn print_debug<T: Debug>(t: &T) {\n",
    "    println!(\"{:?}\", t);\n",
    "}\n",
    "\n",
    "// `T` must implement `HasArea`. Any type which meets\n",
    "// the bound can access `HasArea`'s function `area`.\n",
    "fn area<T: HasArea>(t: &T) -> f64 { t.area() }\n",
    "\n",
    "fn main() {\n",
    "    let rectangle = Rectangle { length: 3.0, height: 4.0 };\n",
    "    let _triangle = Triangle  { length: 3.0, height: 4.0 };\n",
    "\n",
    "    print_debug(&rectangle);\n",
    "    println!(\"Area: {}\", area(&rectangle));\n",
    "\n",
    "    //print_debug(&_triangle);\n",
    "    //println!(\"Area: {}\", area(&_triangle));\n",
    "    // ^ TODO: Try uncommenting these.\n",
    "    // | Error: Does not implement either `Debug` or `HasArea`. \n",
    "}\n"
   ]
  },
  {
   "cell_type": "markdown",
   "metadata": {
    "editable": false,
    "deletable": false
   },
   "source": [
    "As an additional note, [`where`](https://doc.rust-lang.org/rust-by-example/generics/where.html) clauses can also be used to apply bounds in some cases to be more expressive.\n",
    "\n",
    "## See also:\n",
    "\n",
    "[`std::fmt`](https://doc.rust-lang.org/rust-by-example/hello/print.html), [`struct`](https://doc.rust-lang.org/rust-by-example/custom_types/structs.html)s, and [`trait`](https://doc.rust-lang.org/rust-by-example/trait.html)s"
   ]
  },
  {
   "cell_type": "markdown",
   "metadata": {
    "editable": false,
    "deletable": false
   },
   "source": [
    "---\n",
    "# 14.4.1. [Testcase: empty bounds](#14-Generics)\n",
    "\n",
    "A consequence of how bounds work is that even if a `trait` doesn't include any functionality, you can still use it as a bound. `Eq` and `Ord` are examples of such `trait`s from the `std` library."
   ]
  },
  {
   "cell_type": "code",
   "execution_count": null,
   "metadata": {
    "editable": true,
    "deletable": false
   },
   "outputs": [],
   "source": [
    "struct Cardinal;\n",
    "struct BlueJay;\n",
    "struct Turkey;\n",
    "\n",
    "trait Red {}\n",
    "trait Blue {}\n",
    "\n",
    "impl Red for Cardinal {}\n",
    "impl Blue for BlueJay {}\n",
    "\n",
    "// These functions are only valid for types which implement these\n",
    "// traits. The fact that the traits are empty is irrelevant.\n",
    "fn red<T: Red>(_: &T)   -> &'static str { \"red\" }\n",
    "fn blue<T: Blue>(_: &T) -> &'static str { \"blue\" }\n",
    "\n",
    "fn main() {\n",
    "    let cardinal = Cardinal;\n",
    "    let blue_jay = BlueJay;\n",
    "    let _turkey   = Turkey;\n",
    "\n",
    "    // `red()` won't work on a blue jay nor vice versa\n",
    "    // because of the bounds.\n",
    "    println!(\"A cardinal is {}\", red(&cardinal));\n",
    "    println!(\"A blue jay is {}\", blue(&blue_jay));\n",
    "    //println!(\"A turkey is {}\", red(&_turkey));\n",
    "    // ^ TODO: Try uncommenting this line.\n",
    "}\n"
   ]
  },
  {
   "cell_type": "markdown",
   "metadata": {
    "editable": false,
    "deletable": false
   },
   "source": [
    "## See also:\n",
    "\n",
    "[`std::cmp::Eq`](https://doc.rust-lang.org/std/cmp/trait.Eq.html), [`std::cmp::Ord`](https://doc.rust-lang.org/std/cmp/trait.Ord.html)s, and [`trait`](https://doc.rust-lang.org/rust-by-example/trait.html)s"
   ]
  },
  {
   "cell_type": "markdown",
   "metadata": {
    "editable": false,
    "deletable": false
   },
   "source": [
    "---\n",
    "# 14.5. [Multiple bounds](#14-Generics)\n",
    "\n",
    "Multiple bounds can be applied with a `+`. Like normal, different types are separated with `,`."
   ]
  },
  {
   "cell_type": "code",
   "execution_count": null,
   "metadata": {
    "editable": true,
    "deletable": false
   },
   "outputs": [],
   "source": [
    "use std::fmt::{Debug, Display};\n",
    "\n",
    "fn compare_prints<T: Debug + Display>(t: &T) {\n",
    "    println!(\"Debug: `{:?}`\", t);\n",
    "    println!(\"Display: `{}`\", t);\n",
    "}\n",
    "\n",
    "fn compare_types<T: Debug, U: Debug>(t: &T, u: &U) {\n",
    "    println!(\"t: `{:?}`\", t);\n",
    "    println!(\"u: `{:?}`\", u);\n",
    "}\n",
    "\n",
    "fn main() {\n",
    "    let string = \"words\";\n",
    "    let array = [1, 2, 3];\n",
    "    let vec = vec![1, 2, 3];\n",
    "\n",
    "    compare_prints(&string);\n",
    "    //compare_prints(&array);\n",
    "    // TODO ^ Try uncommenting this.\n",
    "\n",
    "    compare_types(&array, &vec);\n",
    "}\n"
   ]
  },
  {
   "cell_type": "markdown",
   "metadata": {
    "editable": false,
    "deletable": false
   },
   "source": [
    "## See also:\n",
    "\n",
    "[`std::fmt`](https://doc.rust-lang.org/rust-by-example/hello/print.html) and [`trait`](https://doc.rust-lang.org/rust-by-example/trait.html)s"
   ]
  },
  {
   "cell_type": "markdown",
   "metadata": {
    "editable": false,
    "deletable": false
   },
   "source": [
    "---\n",
    "# 14.6. [Where clauses](#14-Generics)\n",
    "\n",
    "A bound can also be expressed using a `where` clause immediately before the opening `{`, rather than at the type's first mention. Additionally, `where` clauses can apply bounds to arbitrary types, rather than just to type parameters.\n",
    "\n",
    "Some cases that a `where` clause is useful:\n",
    "\n",
    "* When specifying generic types and bounds separately is clearer:\n",
    "\n",
    "``` rust\n",
    "impl <A: TraitB + TraitC, D: TraitE + TraitF> MyTrait<A, D> for YourType {}\n",
    "\n",
    "// Expressing bounds with a `where` clause\n",
    "impl <A, D> MyTrait<A, D> for YourType where\n",
    "    A: TraitB + TraitC,\n",
    "    D: TraitE + TraitF {}\n",
    "```\n",
    "\n",
    "* When using a `where` clause is more expressive than using normal syntax. The `impl` in this example cannot be directly expressed without a `where` clause:\n"
   ]
  },
  {
   "cell_type": "code",
   "execution_count": null,
   "metadata": {
    "editable": true,
    "deletable": false
   },
   "outputs": [],
   "source": [
    "use std::fmt::Debug;\n",
    "\n",
    "trait PrintInOption {\n",
    "    fn print_in_option(self);\n",
    "}\n",
    "\n",
    "// Because we would otherwise have to express this as `T: Debug` or \n",
    "// use another method of indirect approach, this requires a `where` clause:\n",
    "impl<T> PrintInOption for T where\n",
    "    Option<T>: Debug {\n",
    "    // We want `Option<T>: Debug` as our bound because that is what's\n",
    "    // being printed. Doing otherwise would be using the wrong bound.\n",
    "    fn print_in_option(self) {\n",
    "        println!(\"{:?}\", Some(self));\n",
    "    }\n",
    "}\n",
    "\n",
    "fn main() {\n",
    "    let vec = vec![1, 2, 3];\n",
    "\n",
    "    vec.print_in_option();\n",
    "}\n"
   ]
  },
  {
   "cell_type": "markdown",
   "metadata": {
    "editable": false,
    "deletable": false
   },
   "source": [
    "## See also:\n",
    "\n",
    "[RFC](https://github.com/rust-lang/rfcs/blob/master/text/0135-where.md), [`struct`](https://doc.rust-lang.org/rust-by-example/custom_types/structs.html), and [`trait`](https://doc.rust-lang.org/rust-by-example/trait.html)"
   ]
  },
  {
   "cell_type": "markdown",
   "metadata": {
    "editable": false,
    "deletable": false
   },
   "source": [
    "---\n",
    "# 14.7. [New Type Idiom](#14-Generics)\n",
    "\n",
    "The `newtype` idiom gives compile time guarantees that the right type of value is supplied to a program.\n",
    "\n",
    "For example, an age verification function that checks age in years, must be given a value of type `Years`."
   ]
  },
  {
   "cell_type": "code",
   "execution_count": null,
   "metadata": {
    "editable": true,
    "deletable": false
   },
   "outputs": [],
   "source": [
    "struct Years(i64);\n",
    "\n",
    "struct Days(i64);\n",
    "\n",
    "impl Years {\n",
    "    pub fn to_days(&self) -> Days {\n",
    "        Days(self.0 * 365)\n",
    "    }\n",
    "}\n",
    "\n",
    "\n",
    "impl Days {\n",
    "    /// truncates partial years\n",
    "    pub fn to_years(&self) -> Years {\n",
    "        Years(self.0 / 365)\n",
    "    }\n",
    "}\n",
    "\n",
    "fn old_enough(age: &Years) -> bool {\n",
    "    age.0 >= 18\n",
    "}\n",
    "\n",
    "fn main() {\n",
    "    let age = Years(5);\n",
    "    let age_days = age.to_days();\n",
    "    println!(\"Old enough {}\", old_enough(&age));\n",
    "    println!(\"Old enough {}\", old_enough(&age_days.to_years()));\n",
    "    // println!(\"Old enough {}\", old_enough(&age_days));\n",
    "}\n"
   ]
  },
  {
   "cell_type": "markdown",
   "metadata": {
    "editable": false,
    "deletable": false
   },
   "source": [
    "Uncomment the last print statement to observe that the type supplied must be `Years`.\n",
    "\n",
    "To obtain the `newtype`'s value as the base type, you may use tuple syntax like so:"
   ]
  },
  {
   "cell_type": "code",
   "execution_count": null,
   "metadata": {
    "editable": true,
    "deletable": false
   },
   "outputs": [],
   "source": [
    "struct Years(i64);\n",
    "\n",
    "fn main() {\n",
    "    let years = Years(42);\n",
    "    let years_as_primitive: i64 = years.0;\n",
    "}\n"
   ]
  },
  {
   "cell_type": "markdown",
   "metadata": {
    "editable": false,
    "deletable": false
   },
   "source": [
    "## See also:\n",
    "\n",
    "[`structs`](https://doc.rust-lang.org/rust-by-example/custom_types/structs.html)"
   ]
  },
  {
   "cell_type": "markdown",
   "metadata": {
    "editable": false,
    "deletable": false
   },
   "source": [
    "---\n",
    "# 14.8. [Associated Items](#14-Generics)\n",
    "\n",
    "\"Associated Items\" refers to a set of rules pertaining to [`item`](https://doc.rust-lang.org/reference/items.html)s of various types. It is an extension to `trait` generics, and allows `trait`s to internally define new items.\n",
    "\n",
    "One such item is called an *associated type*, providing simpler usage patterns when the `trait` is generic over its container type.\n",
    "\n",
    "## See also:\n",
    "\n",
    "[RFC](https://github.com/rust-lang/rfcs/blob/master/text/0195-associated-items.md)"
   ]
  },
  {
   "cell_type": "markdown",
   "metadata": {
    "editable": false,
    "deletable": false
   },
   "source": [
    "---\n",
    "# 14.8.1. [The Problem](#14-Generics)\n",
    "\n",
    "A `trait` that is generic over its container type has type specification requirements - users of the `trait` must specify all of its generic types.\n",
    "\n",
    "In the example below, the `Contains` `trait` allows the use of the generic types `A` and `B`. The trait is then implemented for the `Container` type, specifying `i32` for `A` and `B` so that it can be used with `fn difference()`.\n",
    "\n",
    "Because `Contains` is generic, we are forced to explicitly state *all* of the generic types for `fn difference()`. In practice, we want a way to express that `A` and `B` are determined by the *input* `C`. As you will see in the next section, associated types provide exactly that capability."
   ]
  },
  {
   "cell_type": "code",
   "execution_count": null,
   "metadata": {
    "editable": true,
    "deletable": false
   },
   "outputs": [],
   "source": [
    "struct Container(i32, i32);\n",
    "\n",
    "// A trait which checks if 2 items are stored inside of container.\n",
    "// Also retrieves first or last value.\n",
    "trait Contains<A, B> {\n",
    "    fn contains(&self, _: &A, _: &B) -> bool; // Explicitly requires `A` and `B`.\n",
    "    fn first(&self) -> i32; // Doesn't explicitly require `A` or `B`.\n",
    "    fn last(&self) -> i32;  // Doesn't explicitly require `A` or `B`.\n",
    "}\n",
    "\n",
    "impl Contains<i32, i32> for Container {\n",
    "    // True if the numbers stored are equal.\n",
    "    fn contains(&self, number_1: &i32, number_2: &i32) -> bool {\n",
    "        (&self.0 == number_1) && (&self.1 == number_2)\n",
    "    }\n",
    "\n",
    "    // Grab the first number.\n",
    "    fn first(&self) -> i32 { self.0 }\n",
    "\n",
    "    // Grab the last number.\n",
    "    fn last(&self) -> i32 { self.1 }\n",
    "}\n",
    "\n",
    "// `C` contains `A` and `B`. In light of that, having to express `A` and\n",
    "// `B` again is a nuisance.\n",
    "fn difference<A, B, C>(container: &C) -> i32 where\n",
    "    C: Contains<A, B> {\n",
    "    container.last() - container.first()\n",
    "}\n",
    "\n",
    "fn main() {\n",
    "    let number_1 = 3;\n",
    "    let number_2 = 10;\n",
    "\n",
    "    let container = Container(number_1, number_2);\n",
    "\n",
    "    println!(\"Does container contain {} and {}: {}\",\n",
    "        &number_1, &number_2,\n",
    "        container.contains(&number_1, &number_2));\n",
    "    println!(\"First number: {}\", container.first());\n",
    "    println!(\"Last number: {}\", container.last());\n",
    "\n",
    "    println!(\"The difference is: {}\", difference(&container));\n",
    "}"
   ]
  },
  {
   "cell_type": "markdown",
   "metadata": {
    "editable": false,
    "deletable": false
   },
   "source": [
    "## See also:\n",
    "\n",
    "[`struct`](https://doc.rust-lang.org/rust-by-example/custom_types/structs.html)s, and [`trait`](https://doc.rust-lang.org/rust-by-example/trait.html)s"
   ]
  },
  {
   "cell_type": "markdown",
   "metadata": {
    "editable": false,
    "deletable": false
   },
   "source": [
    "---\n",
    "# 14.8.2. [Associated Items](#14-Generics)\n",
    "\n",
    "The use of \"Associated types\" improves the overall readability of code by moving inner types locally into a trait as *output* types. Syntax for the `trait` definition is as follows:"
   ]
  },
  {
   "cell_type": "code",
   "execution_count": null,
   "metadata": {
    "editable": true,
    "deletable": false
   },
   "outputs": [],
   "source": [
    "// `A` and `B` are defined in the trait via the `type` keyword.\n",
    "// (Note: `type` in this context is different from `type` when used for\n",
    "// aliases).\n",
    "trait Contains {\n",
    "    type A;\n",
    "    type B;\n",
    "\n",
    "    // Updated syntax to refer to these new types generically.\n",
    "    fn contains(&self, &Self::A, &Self::B) -> bool;\n",
    "}"
   ]
  },
  {
   "cell_type": "markdown",
   "metadata": {
    "editable": false,
    "deletable": false
   },
   "source": [
    "Note that functions that use the `trait` `Contains` are no longer required to express `A` or `B` at all:\n",
    "\n",
    "``` rust\n",
    "// Without using associated types\n",
    "fn difference<A, B, C>(container: &C) -> i32 where\n",
    "    C: Contains<A, B> { ... }\n",
    "\n",
    "// Using associated types\n",
    "fn difference<C: Contains>(container: &C) -> i32 { ... }\n",
    "```\n",
    "\n",
    "Let's rewrite the example from the previous section using associated types:"
   ]
  },
  {
   "cell_type": "code",
   "execution_count": null,
   "metadata": {
    "editable": true,
    "deletable": false
   },
   "outputs": [],
   "source": [
    "struct Container(i32, i32);\n",
    "\n",
    "// A trait which checks if 2 items are stored inside of container.\n",
    "// Also retrieves first or last value.\n",
    "trait Contains {\n",
    "    // Define generic types here which methods will be able to utilize.\n",
    "    type A;\n",
    "    type B;\n",
    "\n",
    "    fn contains(&self, &Self::A, &Self::B) -> bool;\n",
    "    fn first(&self) -> i32;\n",
    "    fn last(&self) -> i32;\n",
    "}\n",
    "\n",
    "impl Contains for Container {\n",
    "    // Specify what types `A` and `B` are. If the `input` type\n",
    "    // is `Container(i32, i32)`, the `output` types are determined\n",
    "    // as `i32` and `i32`.\n",
    "    type A = i32;\n",
    "    type B = i32;\n",
    "\n",
    "    // `&Self::A` and `&Self::B` are also valid here.\n",
    "    fn contains(&self, number_1: &i32, number_2: &i32) -> bool {\n",
    "        (&self.0 == number_1) && (&self.1 == number_2)\n",
    "    }\n",
    "    // Grab the first number.\n",
    "    fn first(&self) -> i32 { self.0 }\n",
    "\n",
    "    // Grab the last number.\n",
    "    fn last(&self) -> i32 { self.1 }\n",
    "}\n",
    "\n",
    "fn difference<C: Contains>(container: &C) -> i32 {\n",
    "    container.last() - container.first()\n",
    "}\n",
    "\n",
    "fn main() {\n",
    "    let number_1 = 3;\n",
    "    let number_2 = 10;\n",
    "\n",
    "    let container = Container(number_1, number_2);\n",
    "\n",
    "    println!(\"Does container contain {} and {}: {}\",\n",
    "        &number_1, &number_2,\n",
    "        container.contains(&number_1, &number_2));\n",
    "    println!(\"First number: {}\", container.first());\n",
    "    println!(\"Last number: {}\", container.last());\n",
    "    \n",
    "    println!(\"The difference is: {}\", difference(&container));\n",
    "}\n"
   ]
  },
  {
   "cell_type": "markdown",
   "metadata": {
    "editable": false,
    "deletable": false
   },
   "source": [
    "---\n",
    "# 14.9. [Phantom type parameters](#14-Generics)\n",
    "\n",
    "A phantom type parameter is one that doesn't show up at runtime, but is checked statically (and only) at compile time.\n",
    "\n",
    "Data types can use extra generic type parameters to act as markers or to perform type checking at compile time. These extra parameters hold no storage values, and have no runtime behavior.\n",
    "\n",
    "In the following example, we combine `std::marker::PhantomData` with the phantom type parameter concept to create tuples containing different data types.\n",
    "\n"
   ]
  },
  {
   "cell_type": "code",
   "execution_count": null,
   "metadata": {
    "editable": true,
    "deletable": false
   },
   "outputs": [],
   "source": [
    "use std::marker::PhantomData;\n",
    "\n",
    "// A phantom tuple struct which is generic over `A` with hidden parameter `B`.\n",
    "#[derive(PartialEq)] // Allow equality test for this type.\n",
    "struct PhantomTuple<A, B>(A,PhantomData<B>);\n",
    "\n",
    "// A phantom type struct which is generic over `A` with hidden parameter `B`.\n",
    "#[derive(PartialEq)] // Allow equality test for this type.\n",
    "struct PhantomStruct<A, B> { first: A, phantom: PhantomData<B> }\n",
    "\n",
    "// Note: Storage is allocated for generic type `A`, but not for `B`.\n",
    "//       Therefore, `B` cannot be used in computations.\n",
    "\n",
    "fn main() {\n",
    "    // Here, `f32` and `f64` are the hidden parameters.\n",
    "    // PhantomTuple type specified as `<char, f32>`.\n",
    "    let _tuple1: PhantomTuple<char, f32> = PhantomTuple('Q', PhantomData);\n",
    "    // PhantomTuple type specified as `<char, f64>`.\n",
    "    let _tuple2: PhantomTuple<char, f64> = PhantomTuple('Q', PhantomData);\n",
    "\n",
    "    // Type specified as `<char, f32>`.\n",
    "    let _struct1: PhantomStruct<char, f32> = PhantomStruct {\n",
    "        first: 'Q',\n",
    "        phantom: PhantomData,\n",
    "    };\n",
    "    // Type specified as `<char, f64>`.\n",
    "    let _struct2: PhantomStruct<char, f64> = PhantomStruct {\n",
    "        first: 'Q',\n",
    "        phantom: PhantomData,\n",
    "    };\n",
    "    \n",
    "    // Compile-time Error! Type mismatch so these cannot be compared:\n",
    "    //println!(\"_tuple1 == _tuple2 yields: {}\",\n",
    "    //          _tuple1 == _tuple2);\n",
    "    \n",
    "    // Compile-time Error! Type mismatch so these cannot be compared:\n",
    "    //println!(\"_struct1 == _struct2 yields: {}\",\n",
    "    //          _struct1 == _struct2);\n",
    "}"
   ]
  },
  {
   "cell_type": "markdown",
   "metadata": {
    "editable": false,
    "deletable": false
   },
   "source": [
    "## See also:\n",
    "\n",
    "[Derive](https://doc.rust-lang.org/rust-by-example/trait/derive.html), [struct](https://doc.rust-lang.org/rust-by-example/custom_types/structs.html), and [TupleStructs](https://doc.rust-lang.org/rust-by-example/custom_types/structs.html)"
   ]
  },
  {
   "cell_type": "markdown",
   "metadata": {
    "editable": false,
    "deletable": false
   },
   "source": [
    "---\n",
    "# 14.9.1. [Testcase: unit clarification](#14-Generics)\n",
    "\n",
    "A useful method of unit conversions can be examined by implementing `Add` with a phantom type parameter. The `Add` `trait` is examined below:\n",
    "\n",
    "``` rust\n",
    "// This construction would impose: `Self + RHS = Output`\n",
    "// where RHS defaults to Self if not specified in the implementation.\n",
    "pub trait Add<RHS = Self> {\n",
    "    type Output;\n",
    "\n",
    "    fn add(self, rhs: RHS) -> Self::Output;\n",
    "}\n",
    "\n",
    "// `Output` must be `T<U>` so that `T<U> + T<U> = T<U>`.\n",
    "impl<U> Add for T<U> {\n",
    "    type Output = T<U>;\n",
    "    ...\n",
    "}\n",
    "```\n",
    "\n",
    "The whole implementation:\n"
   ]
  },
  {
   "cell_type": "code",
   "execution_count": null,
   "metadata": {
    "editable": true,
    "deletable": false
   },
   "outputs": [],
   "source": [
    "use std::ops::Add;\n",
    "use std::marker::PhantomData;\n",
    "\n",
    "/// Create void enumerations to define unit types.\n",
    "#[derive(Debug, Clone, Copy)]\n",
    "enum Inch {}\n",
    "#[derive(Debug, Clone, Copy)]\n",
    "enum Mm {}\n",
    "\n",
    "/// `Length` is a type with phantom type parameter `Unit`,\n",
    "/// and is not generic over the length type (that is `f64`).\n",
    "///\n",
    "/// `f64` already implements the `Clone` and `Copy` traits.\n",
    "#[derive(Debug, Clone, Copy)]\n",
    "struct Length<Unit>(f64, PhantomData<Unit>);\n",
    "\n",
    "/// The `Add` trait defines the behavior of the `+` operator.\n",
    "impl<Unit> Add for Length<Unit> {\n",
    "     type Output = Length<Unit>;\n",
    "\n",
    "    // add() returns a new `Length` struct containing the sum.\n",
    "    fn add(self, rhs: Length<Unit>) -> Length<Unit> {\n",
    "        // `+` calls the `Add` implementation for `f64`.\n",
    "        Length(self.0 + rhs.0, PhantomData)\n",
    "    }\n",
    "}\n",
    "\n",
    "fn main() {\n",
    "    // Specifies `one_foot` to have phantom type parameter `Inch`.\n",
    "    let one_foot:  Length<Inch> = Length(12.0, PhantomData);\n",
    "    // `one_meter` has phantom type parameter `Mm`.\n",
    "    let one_meter: Length<Mm>   = Length(1000.0, PhantomData);\n",
    "\n",
    "    // `+` calls the `add()` method we implemented for `Length<Unit>`.\n",
    "    //\n",
    "    // Since `Length` implements `Copy`, `add()` does not consume\n",
    "    // `one_foot` and `one_meter` but copies them into `self` and `rhs`.\n",
    "    let two_feet = one_foot + one_foot;\n",
    "    let two_meters = one_meter + one_meter;\n",
    "\n",
    "    // Addition works.\n",
    "    println!(\"one foot + one_foot = {:?} in\", two_feet.0);\n",
    "    println!(\"one meter + one_meter = {:?} mm\", two_meters.0);\n",
    "\n",
    "    // Nonsensical operations fail as they should:\n",
    "    // Compile-time Error: type mismatch.\n",
    "    //let one_feter = one_foot + one_meter;\n",
    "}\n"
   ]
  },
  {
   "cell_type": "markdown",
   "metadata": {
    "editable": false,
    "deletable": false
   },
   "source": [
    "## See also:\n",
    "\n",
    "[Borrowing (`&`)](https://doc.rust-lang.org/rust-by-example/scope/borrow.html), [Bounds (`X: Y`)](https://doc.rust-lang.org/rust-by-example/generics/bounds.html), [enum](https://doc.rust-lang.org/rust-by-example/custom_types/enum.html), [impl & self](https://doc.rust-lang.org/rust-by-example/fn/methods.html), [Overloading](https://doc.rust-lang.org/rust-by-example/trait/ops.html), [ref](https://doc.rust-lang.org/rust-by-example/scope/borrow/ref.html), [Traits (`X for Y`)](https://doc.rust-lang.org/rust-by-example/trait.html), and [TupleStructs](https://doc.rust-lang.org/rust-by-example/custom_types/structs.html)."
   ]
  }
 ],
 "metadata": {
  "kernelspec": {
   "display_name": "Rust",
   "language": "rust",
   "name": "rust"
  },
  "language_info": {
   "codemirror_mode": "rust",
   "file_extension": ".rs",
   "mimetype": "text/rust",
   "name": "Rust",
   "pygment_lexer": "rust",
   "version": ""
  }
 },
 "nbformat": 4,
 "nbformat_minor": 2
}