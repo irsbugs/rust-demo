{
 "cells": [
  {
   "cell_type": "markdown",
   "metadata": {
    "editable": false,
    "deletable": false
   },
   "source": [
    "# 13 [Attributes](#13.-Attributes)\n",
    "\n",
    "* ### 13.1 [dead_code](#13.1.-dead_code)\n",
    "* ### 13.2 [Crates](#13.2.-Crates)\n",
    "* ### 13.3 [cfg](#13.3.-cfg)\n",
    "    * ### 13.3.1 [Custom](#13.3.1.-Custom)"
   ]
  },
  {
   "cell_type": "markdown",
   "metadata": {
    "editable": false,
    "deletable": false
   },
   "source": [
    "---\n",
    "# 13. [Attributes](#13-Attributes)\n",
    "\n",
    "An attribute is metadata applied to some module, crate or item. This metadata can be used to/for:\n",
    "\n",
    "* [conditional compilation of code](https://doc.rust-lang.org/rust-by-example/attribute/cfg.html)\n",
    "* [set crate name, version and type (binary or library)](https://doc.rust-lang.org/rust-by-example/attribute/crate.html)\n",
    "* disable [lints](https://en.wikipedia.org/wiki/Lint_%28software%29) (warnings)\n",
    "* enable compiler features (macros, glob imports, etc.)\n",
    "* link to a foreign library\n",
    "* mark functions as unit tests\n",
    "* mark functions that will be part of a benchmark\n",
    "\n",
    "When attributes apply to a whole crate, their syntax is `#![crate_attribute]`, and when they apply to a module or item, the syntax is `#[item_attribute]` (notice the missing bang `!`).\n",
    "\n",
    "Attributes can take arguments with different syntaxes:\n",
    "\n",
    "* ```rust \n",
    "#[attribute = \"value\"]```\n",
    "* ```rust \n",
    "#[attribute(key = \"value\")]```\n",
    "* ```rust \n",
    "#[attribute(value)]```\n",
    "\n",
    "Attributes can have multiple values and can be separated over multiple lines, too:\n",
    "* ``` rust\n",
    "#[attribute(value, value2)]\n",
    "```\n",
    "* ``` rust\n",
    "#[attribute(value, value2, value3, value4, value5)]\n",
    "```"
   ]
  },
  {
   "cell_type": "markdown",
   "metadata": {
    "editable": false,
    "deletable": false
   },
   "source": [
    "---\n",
    "# 13.1. [dead_code](#13-Attributes)\n",
    "\n",
    "The compiler provides a dead_code [*lint*](https://en.wikipedia.org/wiki/Lint%28software%29) that will warn about unused functions. An *attribute* can be used to disable the lint.\n"
   ]
  },
  {
   "cell_type": "code",
   "execution_count": 2,
   "metadata": {
    "editable": true,
    "deletable": false
   },
   "outputs": [
    {
     "ename": "Error",
     "evalue": "Items currently need to be explicitly made pub along with all fields of structs.",
     "output_type": "error",
     "traceback": [
      "Items currently need to be explicitly made pub along with all fields of structs."
     ]
    }
   ],
   "source": [
    "fn used_function() {}\n",
    "\n",
    "// `#[allow(dead_code)]` is an attribute that disables the `dead_code` lint\n",
    "#[allow(dead_code)]\n",
    "fn unused_function() {}\n",
    "\n",
    "fn noisy_unused_function() {}\n",
    "// FIXME ^ Add an attribute to suppress the warning\n",
    "\n",
    "fn main() {\n",
    "    used_function();\n",
    "}"
   ]
  },
  {
   "cell_type": "markdown",
   "metadata": {
    "editable": false,
    "deletable": false
   },
   "source": [
    "Note that in real programs, you should eliminate dead code. In these examples we'll allow dead code in some places because of the interactive nature of the examples."
   ]
  },
  {
   "cell_type": "markdown",
   "metadata": {
    "editable": false,
    "deletable": false
   },
   "source": [
    "---\n",
    "# 13.2. [Crates](#13-Attributes)\n",
    "\n",
    "The `crate_type` attribute can be used to tell the compiler whether a crate is a binary or a library (and even which type of library), and the `crate_name` attribute can be used to set the name of the crate.\n",
    "\n",
    "However, it is important to note that both the `crate_type` and `crate_name` attributes have no effect whatsoever when using Cargo, the Rust package manager. Since Cargo is used for the majority of Rust projects, this means real-world uses of `crate_type` and `crate_name` are relatively limited."
   ]
  },
  {
   "cell_type": "code",
   "execution_count": null,
   "metadata": {
    "editable": true,
    "deletable": false
   },
   "outputs": [],
   "source": [
    "// This crate is a library\n",
    "#![crate_type = \"lib\"]\n",
    "// The library is named \"rary\"\n",
    "#![crate_name = \"rary\"]\n",
    "\n",
    "pub fn public_function() {\n",
    "    println!(\"called rary's `public_function()`\");\n",
    "}\n",
    "\n",
    "fn private_function() {\n",
    "    println!(\"called rary's `private_function()`\");\n",
    "}\n",
    "\n",
    "pub fn indirect_access() {\n",
    "    print!(\"called rary's `indirect_access()`, that\\n> \");\n",
    "\n",
    "    private_function();\n",
    "}\n"
   ]
  },
  {
   "cell_type": "markdown",
   "metadata": {
    "editable": false,
    "deletable": false
   },
   "source": [
    "When the `crate_type` attribute is used, we no longer need to pass the `--crate-type` flag to `rustc`.\n",
    "\n",
    "``` bash\n",
    "$ rustc lib.rs\n",
    "$ ls lib*\n",
    "library.rlib\n",
    "```"
   ]
  },
  {
   "cell_type": "markdown",
   "metadata": {
    "editable": false,
    "deletable": false
   },
   "source": [
    "---\n",
    "# 13.3. [cfg](#13-Attributes)\n",
    "\n",
    "Conditional compilation is possible through two different operators:\n",
    "\n",
    "* the `cfg` attribute: `#[cfg(...)]` in attribute position\n",
    "* the `cfg!` macro: `cfg!(...)` in boolean expressions\n",
    "\n",
    "Both utilize identical argument syntax."
   ]
  },
  {
   "cell_type": "code",
   "execution_count": null,
   "metadata": {
    "editable": true,
    "deletable": false
   },
   "outputs": [],
   "source": [
    "// This function only gets compiled if the target OS is linux\n",
    "#[cfg(target_os = \"linux\")]\n",
    "fn are_you_on_linux() {\n",
    "    println!(\"You are running linux!\");\n",
    "}\n",
    "\n",
    "// And this function only gets compiled if the target OS is *not* linux\n",
    "#[cfg(not(target_os = \"linux\"))]\n",
    "fn are_you_on_linux() {\n",
    "    println!(\"You are *not* running linux!\");\n",
    "}\n",
    "\n",
    "fn main() {\n",
    "    are_you_on_linux();\n",
    "    \n",
    "    println!(\"Are you sure?\");\n",
    "    if cfg!(target_os = \"linux\") {\n",
    "        println!(\"Yes. It's definitely linux!\");\n",
    "    } else {\n",
    "        println!(\"Yes. It's definitely *not* linux!\");\n",
    "    }\n",
    "}\n"
   ]
  },
  {
   "cell_type": "markdown",
   "metadata": {
    "editable": false,
    "deletable": false
   },
   "source": [
    "## See also:\n",
    "\n",
    "[the reference](https://doc.rust-lang.org/reference/attributes.html#conditional-compilation), [cfg!](https://doc.rust-lang.org/std/macro.cfg!.html), and [macros](https://doc.rust-lang.org/rust-by-example/macros.html)."
   ]
  },
  {
   "cell_type": "markdown",
   "metadata": {
    "editable": false,
    "deletable": false
   },
   "source": [
    "---\n",
    "# 13.3.1. [Custom](#13-Attributes)\n",
    "\n",
    "Some conditionals like `target_os` are implicitly provided by `rustc`, but custom conditionals must be passed to `rustc` using the `--cfg` flag."
   ]
  },
  {
   "cell_type": "code",
   "execution_count": null,
   "metadata": {
    "editable": true,
    "deletable": false
   },
   "outputs": [],
   "source": [
    "#[cfg(some_condition)]\n",
    "fn conditional_function() {\n",
    "    println!(\"condition met!\");\n",
    "}\n",
    "\n",
    "fn main() {\n",
    "    conditional_function();\n",
    "}"
   ]
  },
  {
   "cell_type": "markdown",
   "metadata": {
    "editable": false,
    "deletable": false
   },
   "source": [
    "Try to run this to see what happens without the custom `cfg` flag.\n",
    "\n",
    "With the custom `cfg` flag:\n",
    "\n",
    "``` bash\n",
    "$ rustc --cfg some_condition custom.rs && ./custom\n",
    "condition met!\n",
    "```\n"
   ]
  }
 ],
 "metadata": {
  "kernelspec": {
   "display_name": "Rust",
   "language": "rust",
   "name": "rust"
  },
  "language_info": {
   "codemirror_mode": "rust",
   "file_extension": ".rs",
   "mimetype": "text/rust",
   "name": "Rust",
   "pygment_lexer": "rust",
   "version": ""
  }
 },
 "nbformat": 4,
 "nbformat_minor": 2
}