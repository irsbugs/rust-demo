{
 "cells": [
  {
   "cell_type": "markdown",
   "metadata": {
    "editable": false,
    "deletable": false
   },
   "source": [
    "# 2 [Primitives](#2.-Primitives)\n",
    "* ### 2.1 [Literals and operators](#2.1.-Literals-and-operators)\n",
    "* ### 2.2 [Tuples](#2.2.-Tuples)\n",
    "* ### 2.3 [Arrays and Slices](#2.3.-Arrays-and-Slices)"
   ]
  },
  {
   "cell_type": "markdown",
   "metadata": {
    "editable": false,
    "deletable": false
   },
   "source": [
    "---\n",
    "# 2. [Primitives](#2-Primitives)\n",
    "\n",
    "Rust provides access to a wide variety of `primitives`. A sample includes:\n",
    "Scalar Types\n",
    "\n",
    "* signed integers: `i8`, `i16`, `i32`, `i64`, `i128` and `isize` (pointer size)\n",
    "* unsigned integers: `u8`, `u16`, `u32`, `u64`, `u128` and `usize` (pointer size)\n",
    "* floating point: `f32`, `f64`\n",
    "* `char` Unicode scalar values like `'a'`, `'\u03b1'` and `'\u221e'` (4 bytes each)\n",
    "* `bool` either `true` or `false`\n",
    "* and the unit type `()`, whose only possible value is an empty tuple: `()`\n",
    "\n",
    "Despite the value of a unit type being a tuple, it is not considered a compound type because it does not contain multiple values.\n",
    "Compound Types\n",
    "\n",
    "* arrays like `[1, 2, 3]`\n",
    "* tuples like `(1, true)`\n",
    "\n",
    "Variables can always be type *annotated*. Numbers may additionally be annotated via a *suffix* or *by default*. Integers default to `i32` and floats to `f64`. Note that Rust can also infer types from context."
   ]
  },
  {
   "cell_type": "code",
   "execution_count": null,
   "metadata": {
    "editable": true,
    "deletable": false
   },
   "outputs": [],
   "source": [
    "fn main() {\n",
    "    // Variables can be type annotated.\n",
    "    let logical: bool = true;\n",
    "\n",
    "    let a_float: f64 = 1.0;  // Regular annotation\n",
    "    let an_integer   = 5i32; // Suffix annotation\n",
    "\n",
    "    // Or a default will be used.\n",
    "    let default_float   = 3.0; // `f64`\n",
    "    let default_integer = 7;   // `i32`\n",
    "    \n",
    "    // A type can also be inferred from context \n",
    "    let mut inferred_type = 12; // Type i64 is inferred from another line\n",
    "    inferred_type = 4294967296i64;\n",
    "    \n",
    "    // A mutable variable's value can be changed.\n",
    "    let mut mutable = 12; // Mutable `i32`\n",
    "    mutable = 21;\n",
    "    \n",
    "    // Error! The type of a variable can't be changed.\n",
    "    mutable = true;\n",
    "    \n",
    "    // Variables can be overwritten with shadowing.\n",
    "    let mutable = true;\n",
    "}"
   ]
  },
  {
   "cell_type": "markdown",
   "metadata": {
    "editable": false,
    "deletable": false
   },
   "source": [
    "## See also:\n",
    "\n",
    "[the `std` library](https://doc.rust-lang.org/std/), [`mut`](https://doc.rust-lang.org/rust-by-example/variable_bindings/mut.html), [inference](https://doc.rust-lang.org/rust-by-example/types/inference.html), and [shadowing](https://doc.rust-lang.org/rust-by-example/variable_bindings/scope.html)"
   ]
  },
  {
   "cell_type": "markdown",
   "metadata": {
    "editable": false,
    "deletable": false
   },
   "source": [
    "---\n",
    "# 2.1. [Literals and operators](#2-Primitives)\n",
    "\n",
    "Integers `1`, floats `1.2`, characters `'a'`, strings `\"abc\"`, booleans `true` and the unit type `()` can be expressed using literals.\n",
    "\n",
    "Integers can, alternatively, be expressed using hexadecimal, octal or binary notation using these prefixes respectively: `0x`, `0o` or `0b`.\n",
    "\n",
    "Underscores can be inserted in numeric literals to improve readability, e.g. `1_000` is the same as `1000`, and `0.000_001` is the same as `0.000001`.\n",
    "\n",
    "We need to tell the compiler the type of the literals we use. For now, we'll use the `u32` suffix to indicate that the literal is an unsigned 32-bit integer, and the `i32` suffix to indicate that it's a signed 32-bit integer.\n",
    "\n",
    "The operators available and their precedence [in Rust](https://doc.rust-lang.org/reference/expressions.html#expression-precedence) are similar to other [C-like languages](https://en.wikipedia.org/wiki/Operator_precedence#Programming_languages)."
   ]
  },
  {
   "cell_type": "code",
   "execution_count": 2,
   "metadata": {
    "editable": true,
    "deletable": false
   },
   "outputs": [
    {
     "ename": "Error",
     "evalue": "Items currently need to be explicitly made pub along with all fields of structs.",
     "output_type": "error",
     "traceback": [
      "Items currently need to be explicitly made pub along with all fields of structs."
     ]
    }
   ],
   "source": [
    "fn main() {\n",
    "    // Integer addition\n",
    "    println!(\"1 + 2 = {}\", 1u32 + 2);\n",
    "\n",
    "    // Integer subtraction\n",
    "    println!(\"1 - 2 = {}\", 1i32 - 2);\n",
    "    // TODO ^ Try changing `1i32` to `1u32` to see why the type is important\n",
    "\n",
    "    // Short-circuiting boolean logic\n",
    "    println!(\"true AND false is {}\", true && false);\n",
    "    println!(\"true OR false is {}\", true || false);\n",
    "    println!(\"NOT true is {}\", !true);\n",
    "\n",
    "    // Bitwise operations\n",
    "    println!(\"0011 AND 0101 is {:04b}\", 0b0011u32 & 0b0101);\n",
    "    println!(\"0011 OR 0101 is {:04b}\", 0b0011u32 | 0b0101);\n",
    "    println!(\"0011 XOR 0101 is {:04b}\", 0b0011u32 ^ 0b0101);\n",
    "    println!(\"1 << 5 is {}\", 1u32 << 5);\n",
    "    println!(\"0x80 >> 2 is 0x{:x}\", 0x80u32 >> 2);\n",
    "\n",
    "    // Use underscores to improve readability!\n",
    "    println!(\"One million is written as {}\", 1_000_000u32);\n",
    "}\n"
   ]
  },
  {
   "cell_type": "markdown",
   "metadata": {
    "editable": false,
    "deletable": false
   },
   "source": [
    "# 2.2. [Tuples](#2-Primitives)\n",
    "\n",
    "A tuple is a collection of values of different types. Tuples are constructed using parentheses `()`, and each tuple itself is a value with type signature `(T1, T2, ...)`, where `T1`, `T2` are the types of its members. Functions can use tuples to return multiple values, as tuples can hold any number of values."
   ]
  },
  {
   "cell_type": "code",
   "execution_count": null,
   "metadata": {
    "editable": true,
    "deletable": false
   },
   "outputs": [],
   "source": [
    "// Tuples can be used as function arguments and as return values\n",
    "fn reverse(pair: (i32, bool)) -> (bool, i32) {\n",
    "    // `let` can be used to bind the members of a tuple to variables\n",
    "    let (integer, boolean) = pair;\n",
    "\n",
    "    (boolean, integer)\n",
    "}\n",
    "\n",
    "// The following struct is for the activity.\n",
    "#[derive(Debug)]\n",
    "struct Matrix(f32, f32, f32, f32);\n",
    "\n",
    "fn main() {\n",
    "    // A tuple with a bunch of different types\n",
    "    let long_tuple = (1u8, 2u16, 3u32, 4u64,\n",
    "                      -1i8, -2i16, -3i32, -4i64,\n",
    "                      0.1f32, 0.2f64,\n",
    "                      'a', true);\n",
    "\n",
    "    // Values can be extracted from the tuple using tuple indexing\n",
    "    println!(\"long tuple first value: {}\", long_tuple.0);\n",
    "    println!(\"long tuple second value: {}\", long_tuple.1);\n",
    "\n",
    "    // Tuples can be tuple members\n",
    "    let tuple_of_tuples = ((1u8, 2u16, 2u32), (4u64, -1i8), -2i16);\n",
    "\n",
    "    // Tuples are printable\n",
    "    println!(\"tuple of tuples: {:?}\", tuple_of_tuples);\n",
    "    \n",
    "    // But long Tuples cannot be printed\n",
    "    // let too_long_tuple = (1, 2, 3, 4, 5, 6, 7, 8, 9, 10, 11, 12, 13);\n",
    "    // println!(\"too long tuple: {:?}\", too_long_tuple);\n",
    "    // TODO ^ Uncomment the above 2 lines to see the compiler error\n",
    "\n",
    "    let pair = (1, true);\n",
    "    println!(\"pair is {:?}\", pair);\n",
    "\n",
    "    println!(\"the reversed pair is {:?}\", reverse(pair));\n",
    "\n",
    "    // To create one element tuples, the comma is required to tell them apart\n",
    "    // from a literal surrounded by parentheses\n",
    "    println!(\"one element tuple: {:?}\", (5u32,));\n",
    "    println!(\"just an integer: {:?}\", (5u32));\n",
    "\n",
    "    //tuples can be destructured to create bindings\n",
    "    let tuple = (1, \"hello\", 4.5, true);\n",
    "\n",
    "    let (a, b, c, d) = tuple;\n",
    "    println!(\"{:?}, {:?}, {:?}, {:?}\", a, b, c, d);\n",
    "\n",
    "    let matrix = Matrix(1.1, 1.2, 2.1, 2.2);\n",
    "    println!(\"{:?}\", matrix);\n",
    "\n",
    "}\n"
   ]
  },
  {
   "cell_type": "markdown",
   "metadata": {
    "editable": false,
    "deletable": false
   },
   "source": [
    "## Activity\n",
    "\n",
    "1 *Recap*: Add the `fmt::Display` trait to the Matrix `struct` in the above example, so that if you switch from printing the debug format `{:?}` to the display format `{}`, you see the following output:\n",
    "\n",
    "```rust \n",
    "( 1.1 1.2 )\n",
    "( 2.1 2.2 )```\n",
    "\n",
    "You may want to refer back to the example for [print display](https://doc.rust-lang.org/rust-by-example/hello/print/print_display.html).\n",
    "\n",
    "2 Add a `transpose` function using the `reverse` function as a template, which accepts a matrix as an argument, and returns a matrix in which two elements have been swapped. For example:\n",
    "\n",
    "```rust\n",
    "println!(\"Matrix:\\n{}\", matrix);\n",
    "println!(\"Transpose:\\n{}\", transpose(matrix));\n",
    "```\n",
    "\n",
    "results in the output:\n",
    "\n",
    "```rust\n",
    "Matrix:\n",
    "( 1.1 1.2 )\n",
    "( 2.1 2.2 )\n",
    "Transpose:\n",
    "( 1.1 2.1 )\n",
    "( 1.2 2.2 )\n",
    "```"
   ]
  },
  {
   "cell_type": "markdown",
   "metadata": {
    "editable": false,
    "deletable": false
   },
   "source": [
    "---\n",
    "# 2.3. [Arrays and Slices](#2-Primitives)\n",
    "\n",
    "An array is a collection of objects of the same type `T`, stored in contiguous memory. Arrays are created using brackets `[]`, and their size, which is known at compile time, is part of their type signature `[T; size]`.\n",
    "\n",
    "Slices are similar to arrays, but their size is not known at compile time. Instead, a slice is a two-word object, the first word is a pointer to the data, and the second word is the length of the slice. The word size is the same as usize, determined by the processor architecture eg 64 bits on an x86-64. Slices can be used to borrow a section of an array, and have the type signature `&[T]`.\n"
   ]
  },
  {
   "cell_type": "code",
   "execution_count": 2,
   "metadata": {
    "editable": true,
    "deletable": false
   },
   "outputs": [
    {
     "ename": "Error",
     "evalue": "Items currently need to be explicitly made pub along with all fields of structs.",
     "output_type": "error",
     "traceback": [
      "Items currently need to be explicitly made pub along with all fields of structs."
     ]
    }
   ],
   "source": [
    "use std::mem;\n",
    "\n",
    "// This function borrows a slice\n",
    "fn analyze_slice(slice: &[i32]) {\n",
    "    println!(\"first element of the slice: {}\", slice[0]);\n",
    "    println!(\"the slice has {} elements\", slice.len());\n",
    "}\n",
    "\n",
    "fn main() {\n",
    "    // Fixed-size array (type signature is superfluous)\n",
    "    let xs: [i32; 5] = [1, 2, 3, 4, 5];\n",
    "\n",
    "    // All elements can be initialized to the same value\n",
    "    let ys: [i32; 500] = [0; 500];\n",
    "\n",
    "    // Indexing starts at 0\n",
    "    println!(\"first element of the array: {}\", xs[0]);\n",
    "    println!(\"second element of the array: {}\", xs[1]);\n",
    "\n",
    "    // `len` returns the size of the array\n",
    "    println!(\"array size: {}\", xs.len());\n",
    "\n",
    "    // Arrays are stack allocated\n",
    "    println!(\"array occupies {} bytes\", mem::size_of_val(&xs));\n",
    "\n",
    "    // Arrays can be automatically borrowed as slices\n",
    "    println!(\"borrow the whole array as a slice\");\n",
    "    analyze_slice(&xs);\n",
    "\n",
    "    // Slices can point to a section of an array\n",
    "    println!(\"borrow a section of the array as a slice\");\n",
    "    analyze_slice(&ys[1 .. 4]);\n",
    "\n",
    "    // Out of bound indexing causes compile error\n",
    "    println!(\"{}\", xs[5]);\n",
    "}\n"
   ]
  }
 ],
 "metadata": {
  "kernelspec": {
   "display_name": "Rust",
   "language": "rust",
   "name": "rust"
  },
  "language_info": {
   "codemirror_mode": "rust",
   "file_extension": ".rs",
   "mimetype": "text/rust",
   "name": "Rust",
   "pygment_lexer": "rust",
   "version": ""
  }
 },
 "nbformat": 4,
 "nbformat_minor": 2
}