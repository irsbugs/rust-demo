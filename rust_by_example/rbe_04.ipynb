{
 "cells": [
  {
   "cell_type": "markdown",
   "metadata": {
    "editable": false,
    "deletable": false
   },
   "source": [
    "# 4 [Variable Bindings](#4.-Variable-Bindings)\n",
    "* ### 4.1 [Mutability](#4.1.-Mutability)\n",
    "* ### 4.2 [Scope and Shadowing](#4.2.-Scope-and-Shadowing)\n",
    "* ### 4.3 [Declare first](#4.3.-Declare-first)"
   ]
  },
  {
   "cell_type": "markdown",
   "metadata": {
    "editable": false,
    "deletable": false
   },
   "source": [
    "---\n",
    "# 4. [Variable Bindings](#4-Variable-Bindings)\n",
    "\n",
    "Rust provides type safety via static typing. Variable bindings can be type annotated when declared. However, in most cases, the compiler will be able to infer the type of the variable from the context, heavily reducing the annotation burden.\n",
    "\n",
    "Values (like literals) can be bound to variables, using the `let` binding."
   ]
  },
  {
   "cell_type": "code",
   "execution_count": null,
   "metadata": {
    "editable": true,
    "deletable": false
   },
   "outputs": [],
   "source": [
    "fn main() {\n",
    "    let an_integer = 1u32;\n",
    "    let a_boolean = true;\n",
    "    let unit = ();\n",
    "\n",
    "    // copy `an_integer` into `copied_integer`\n",
    "    let copied_integer = an_integer;\n",
    "\n",
    "    println!(\"An integer: {:?}\", copied_integer);\n",
    "    println!(\"A boolean: {:?}\", a_boolean);\n",
    "    println!(\"Meet the unit value: {:?}\", unit);\n",
    "\n",
    "    // The compiler warns about unused variable bindings; these warnings can\n",
    "    // be silenced by prefixing the variable name with an underscore\n",
    "    let _unused_variable = 3u32;\n",
    "\n",
    "    let noisy_unused_variable = 2u32;\n",
    "    // FIXME ^ Prefix with an underscore to suppress the warning\n",
    "}\n"
   ]
  },
  {
   "cell_type": "markdown",
   "metadata": {
    "editable": false,
    "deletable": false
   },
   "source": [
    "---\n",
    "# 4.1. [Mutability](#4-Variable-Bindings)\n",
    "\n",
    "Variable bindings are immutable by default, but this can be overridden using the `mut` modifier."
   ]
  },
  {
   "cell_type": "code",
   "execution_count": null,
   "metadata": {
    "editable": true,
    "deletable": false
   },
   "outputs": [],
   "source": [
    "fn main() {\n",
    "    let _immutable_binding = 1;\n",
    "    let mut mutable_binding = 1;\n",
    "\n",
    "    println!(\"Before mutation: {}\", mutable_binding);\n",
    "\n",
    "    // Ok\n",
    "    mutable_binding += 1;\n",
    "\n",
    "    println!(\"After mutation: {}\", mutable_binding);\n",
    "\n",
    "    // Error!\n",
    "    _immutable_binding += 1;\n",
    "    // FIXME ^ Comment out this line\n",
    "}\n"
   ]
  },
  {
   "cell_type": "markdown",
   "metadata": {
    "editable": false,
    "deletable": false
   },
   "source": [
    "The compiler will throw a detailed diagnostic about mutability errors."
   ]
  },
  {
   "cell_type": "markdown",
   "metadata": {
    "editable": false,
    "deletable": false
   },
   "source": [
    "---\n",
    "# 4.2. [Scope and Shadowing](#4-Variable-Bindings)\n",
    "\n",
    "Variable bindings have a scope, and are constrained to live in a *block*. A block is a collection of statements enclosed by braces `{}`. Also, [variable shadowing](https://en.wikipedia.org/wiki/Variable_shadowing) is allowed."
   ]
  },
  {
   "cell_type": "code",
   "execution_count": null,
   "metadata": {
    "editable": true,
    "deletable": false
   },
   "outputs": [],
   "source": [
    "fn main() {\n",
    "    // This binding lives in the main function\n",
    "    let long_lived_binding = 1;\n",
    "\n",
    "    // This is a block, and has a smaller scope than the main function\n",
    "    {\n",
    "        // This binding only exists in this block\n",
    "        let short_lived_binding = 2;\n",
    "\n",
    "        println!(\"inner short: {}\", short_lived_binding);\n",
    "\n",
    "        // This binding *shadows* the outer one\n",
    "        let long_lived_binding = 5_f32;\n",
    "\n",
    "        println!(\"inner long: {}\", long_lived_binding);\n",
    "    }\n",
    "    // End of the block\n",
    "\n",
    "    // Error! `short_lived_binding` doesn't exist in this scope\n",
    "    println!(\"outer short: {}\", short_lived_binding);\n",
    "    // FIXME ^ Comment out this line\n",
    "\n",
    "    println!(\"outer long: {}\", long_lived_binding);\n",
    "    \n",
    "    // This binding also *shadows* the previous binding\n",
    "    let long_lived_binding = 'a';\n",
    "    \n",
    "    println!(\"outer long: {}\", long_lived_binding);\n",
    "}\n"
   ]
  },
  {
   "cell_type": "markdown",
   "metadata": {
    "editable": false,
    "deletable": false
   },
   "source": [
    "---\n",
    "# 4.3. [Declare first](#4-Variable-Bindings)\n",
    "\n",
    "It's possible to declare variable bindings first, and initialize them later. However, this form is seldom used, as it may lead to the use of uninitialized variables."
   ]
  },
  {
   "cell_type": "code",
   "execution_count": null,
   "metadata": {
    "editable": true,
    "deletable": false
   },
   "outputs": [],
   "source": [
    "fn main() {\n",
    "    // Declare a variable binding\n",
    "    let a_binding;\n",
    "\n",
    "    {\n",
    "        let x = 2;\n",
    "\n",
    "        // Initialize the binding\n",
    "        a_binding = x * x;\n",
    "    }\n",
    "\n",
    "    println!(\"a binding: {}\", a_binding);\n",
    "\n",
    "    let another_binding;\n",
    "\n",
    "    // Error! Use of uninitialized binding\n",
    "    println!(\"another binding: {}\", another_binding);\n",
    "    // FIXME ^ Comment out this line\n",
    "\n",
    "    another_binding = 1;\n",
    "\n",
    "    println!(\"another binding: {}\", another_binding);\n",
    "}\n"
   ]
  },
  {
   "cell_type": "markdown",
   "metadata": {
    "editable": false,
    "deletable": false
   },
   "source": [
    "The compiler forbids use of uninitialized variables, as this would lead to undefined behavior."
   ]
  }
 ],
 "metadata": {
  "kernelspec": {
   "display_name": "Rust",
   "language": "rust",
   "name": "rust"
  },
  "language_info": {
   "codemirror_mode": "rust",
   "file_extension": ".rs",
   "mimetype": "text/rust",
   "name": "Rust",
   "pygment_lexer": "rust",
   "version": ""
  }
 },
 "nbformat": 4,
 "nbformat_minor": 2
}