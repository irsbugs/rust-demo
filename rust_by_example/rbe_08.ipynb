{
 "cells": [
  {
   "cell_type": "markdown",
   "metadata": {
    "editable": false,
    "deletable": false
   },
   "source": [
    "# 8 [Flow Control](#8.-Flow-Control)\n",
    "* ### 8.1 [if/else](#8.1.-if/else)\n",
    "* ### 8.2 [loop](#8.2.-loop)\n",
    "    * ### 8.2.1 [Nesting and labels](#8.2.1.-Nesting-and-labels)\n",
    "    * ### 8.2.2 [Returning from loops](#8.2.2.-Returning-from-loops)\n",
    "* ### 8.3 [while](#8.3.-while)\n",
    "* ### 8.4 [for and range](#8.4.-for-and-range)\n",
    "* ### 8.5 [match](#8.5.-match)\n",
    "    * ### 8.5.1 [Destructuring](#8.5.1.-Destructuring)\n",
    "        * ### 8.5.1.1 [tuples](#8.5.1.1.-tuples)\n",
    "        * ### 8.5.1.2 [enums](#8.5.1.2.-enums)\n",
    "        * ### 8.5.1.3 [pointers/ref](#8.5.1.3.-pointers/ref)\n",
    "        * ### 8.5.1.4 [structs](#8.5.1.4.-structs)\n",
    "    * ### 8.5.2 [Guards](#8.5.2.-Guards)\n",
    "    * ### 8.5.3 [Binding](#8.5.3.-Binding)\n",
    "* ### 8.6 [if let](#8.6.-if-let)\n",
    "* ### 8.7 [while let](#8.7.-while-let)"
   ]
  },
  {
   "cell_type": "markdown",
   "metadata": {
    "editable": false,
    "deletable": false
   },
   "source": [
    "---\n",
    "# 8. [Flow Control](#8-Flow-Control)\n",
    "\n",
    "An essential part of any programming languages are ways to modify control flow: `if`/`else`, `for`, and others. Let's talk about them in Rust."
   ]
  },
  {
   "cell_type": "markdown",
   "metadata": {
    "editable": false,
    "deletable": false
   },
   "source": [
    "---\n",
    "# 8.1. [if/else](#8-Flow-Control)\n",
    "\n",
    "Branching with `if`-`else` is similar to other languages. Unlike many of them, the boolean condition doesn't need to be surrounded by parentheses, and each condition is followed by a block. `if`-`else` conditionals are expressions, and, all branches must return the same type."
   ]
  },
  {
   "cell_type": "code",
   "execution_count": 2,
   "metadata": {
    "editable": true,
    "deletable": false
   },
   "outputs": [
    {
     "ename": "Error",
     "evalue": "Items currently need to be explicitly made pub along with all fields of structs.",
     "output_type": "error",
     "traceback": [
      "Items currently need to be explicitly made pub along with all fields of structs."
     ]
    }
   ],
   "source": [
    "fn main() {\n",
    "    let n = 5;\n",
    "\n",
    "    if n < 0 {\n",
    "        print!(\"{} is negative\", n);\n",
    "    } else if n > 0 {\n",
    "        print!(\"{} is positive\", n);\n",
    "    } else {\n",
    "        print!(\"{} is zero\", n);\n",
    "    }\n",
    "\n",
    "    let big_n =\n",
    "        if n < 10 && n > -10 {\n",
    "            println!(\", and is a small number, increase ten-fold\");\n",
    "\n",
    "            // This expression returns an `i32`.\n",
    "            10 * n\n",
    "        } else {\n",
    "            println!(\", and is a big number, halve the number\");\n",
    "\n",
    "            // This expression must return an `i32` as well.\n",
    "            n / 2\n",
    "            // TODO ^ Try suppressing this expression with a semicolon.\n",
    "        };\n",
    "    //   ^ Don't forget to put a semicolon here! All `let` bindings need it.\n",
    "\n",
    "    println!(\"{} -> {}\", n, big_n);\n",
    "}"
   ]
  },
  {
   "cell_type": "markdown",
   "metadata": {
    "editable": false,
    "deletable": false
   },
   "source": [
    "---\n",
    "# 8.2. [loop](#8-Flow-Control)\n",
    "\n",
    "Rust provides a `loop` keyword to indicate an infinite loop.\n",
    "\n",
    "The `break` statement can be used to exit a loop at anytime, whereas the `continue` statement can be used to skip the rest of the iteration and start a new one.\n"
   ]
  },
  {
   "cell_type": "code",
   "execution_count": 3,
   "metadata": {
    "editable": true,
    "deletable": false
   },
   "outputs": [
    {
     "ename": "Error",
     "evalue": "Items currently need to be explicitly made pub along with all fields of structs.",
     "output_type": "error",
     "traceback": [
      "Items currently need to be explicitly made pub along with all fields of structs."
     ]
    }
   ],
   "source": [
    "fn main() {\n",
    "    let mut count = 0u32;\n",
    "\n",
    "    println!(\"Let's count until infinity!\");\n",
    "\n",
    "    // Infinite loop\n",
    "    loop {\n",
    "        count += 1;\n",
    "\n",
    "        if count == 3 {\n",
    "            println!(\"three\");\n",
    "\n",
    "            // Skip the rest of this iteration\n",
    "            continue;\n",
    "        }\n",
    "\n",
    "        println!(\"{}\", count);\n",
    "\n",
    "        if count == 5 {\n",
    "            println!(\"OK, that's enough\");\n",
    "\n",
    "            // Exit this loop\n",
    "            break;\n",
    "        }\n",
    "    }\n",
    "}\n"
   ]
  },
  {
   "cell_type": "markdown",
   "metadata": {
    "editable": false,
    "deletable": false
   },
   "source": [
    "---\n",
    "# 8.2.1. [Nesting and labels](#8-Flow-Control)\n",
    "\n",
    "It's possible to `break` or `continue` outer loops when dealing with nested loops. In these cases, the loops must be annotated with some `'label`, and the label must be passed to the `break`/`continue` statement."
   ]
  },
  {
   "cell_type": "code",
   "execution_count": 5,
   "metadata": {
    "editable": true,
    "deletable": false
   },
   "outputs": [
    {
     "ename": "Error",
     "evalue": "an inner attribute is not permitted in this context",
     "output_type": "error",
     "traceback": [
      "#![allow(unreachable_code)]",
      "\u001b[91m  ^\u001b[0m \u001b[94m\u001b[0m",
      "an inner attribute is not permitted in this context"
     ]
    }
   ],
   "source": [
    "#![allow(unreachable_code)]\n",
    "\n",
    "fn main() {\n",
    "    'outer: loop {\n",
    "        println!(\"Entered the outer loop\");\n",
    "\n",
    "        'inner: loop {\n",
    "            println!(\"Entered the inner loop\");\n",
    "\n",
    "            // This would break only the inner loop\n",
    "            //break;\n",
    "\n",
    "            // This breaks the outer loop\n",
    "            break 'outer;\n",
    "        }\n",
    "\n",
    "        println!(\"This point will never be reached\");\n",
    "    }\n",
    "\n",
    "    println!(\"Exited the outer loop\");\n",
    "}\n"
   ]
  },
  {
   "cell_type": "markdown",
   "metadata": {
    "editable": false,
    "deletable": false
   },
   "source": [
    "---\n",
    "# 8.2.2. [Returning from loops](#8-Flow-Control)\n",
    "\n",
    "One of the uses of a `loop` is to retry an operation until it succeeds. If the operation returns a value though, you might need to pass it to the rest of the code: put it after the `break`, and it will be returned by the `loop` expression."
   ]
  },
  {
   "cell_type": "code",
   "execution_count": 6,
   "metadata": {
    "editable": true,
    "deletable": false
   },
   "outputs": [
    {
     "ename": "Error",
     "evalue": "Items currently need to be explicitly made pub along with all fields of structs.",
     "output_type": "error",
     "traceback": [
      "Items currently need to be explicitly made pub along with all fields of structs."
     ]
    }
   ],
   "source": [
    "fn main() {\n",
    "    let mut counter = 0;\n",
    "\n",
    "    let result = loop {\n",
    "        counter += 1;\n",
    "\n",
    "        if counter == 10 {\n",
    "            break counter * 2;\n",
    "        }\n",
    "    };\n",
    "\n",
    "    assert_eq!(result, 20);\n",
    "}\n"
   ]
  },
  {
   "cell_type": "markdown",
   "metadata": {
    "editable": false,
    "deletable": false
   },
   "source": [
    "---\n",
    "# 8.3. [while](#8-Flow-Control)\n",
    "\n",
    "The `while` keyword can be used to run a loop while a condition is true.\n",
    "\n",
    "Let's write the infamous [FizzBuzz](https://en.wikipedia.org/wiki/Fizz_buzz) using a while loop."
   ]
  },
  {
   "cell_type": "code",
   "execution_count": 7,
   "metadata": {
    "editable": true,
    "deletable": false
   },
   "outputs": [
    {
     "ename": "Error",
     "evalue": "Items currently need to be explicitly made pub along with all fields of structs.",
     "output_type": "error",
     "traceback": [
      "Items currently need to be explicitly made pub along with all fields of structs."
     ]
    }
   ],
   "source": [
    "fn main() {\n",
    "    // A counter variable\n",
    "    let mut n = 1;\n",
    "\n",
    "    // Loop while `n` is less than 101\n",
    "    while n < 101 {\n",
    "        if n % 15 == 0 {\n",
    "            println!(\"fizzbuzz\");\n",
    "        } else if n % 3 == 0 {\n",
    "            println!(\"fizz\");\n",
    "        } else if n % 5 == 0 {\n",
    "            println!(\"buzz\");\n",
    "        } else {\n",
    "            println!(\"{}\", n);\n",
    "        }\n",
    "\n",
    "        // Increment counter\n",
    "        n += 1;\n",
    "    }\n",
    "}\n"
   ]
  },
  {
   "cell_type": "markdown",
   "metadata": {
    "editable": false,
    "deletable": false
   },
   "source": [
    "---\n",
    "# 8.4. [for and range](#8-Flow-Control)\n",
    "\n",
    "## for and range\n",
    "\n",
    "The `for in` construct can be used to iterate through an `Iterator`. One of the easiest ways to create an iterator is to use the range notation `a..b`. This yields values from `a` (inclusive) to `b` (exclusive) in steps of one.\n",
    "\n",
    "Let's write FizzBuzz using `for` instead of `while`."
   ]
  },
  {
   "cell_type": "code",
   "execution_count": 9,
   "metadata": {
    "editable": true,
    "deletable": false
   },
   "outputs": [
    {
     "ename": "Error",
     "evalue": "Items currently need to be explicitly made pub along with all fields of structs.",
     "output_type": "error",
     "traceback": [
      "Items currently need to be explicitly made pub along with all fields of structs."
     ]
    }
   ],
   "source": [
    "fn main() {\n",
    "    // `n` will take the values: 1, 2, ..., 100 in each iteration\n",
    "    for n in 1..101 {\n",
    "        if n % 15 == 0 {\n",
    "            println!(\"fizzbuzz\");\n",
    "        } else if n % 3 == 0 {\n",
    "            println!(\"fizz\");\n",
    "        } else if n % 5 == 0 {\n",
    "            println!(\"buzz\");\n",
    "        } else {\n",
    "            println!(\"{}\", n);\n",
    "        }\n",
    "    }\n",
    "}\n"
   ]
  },
  {
   "cell_type": "markdown",
   "metadata": {
    "editable": false,
    "deletable": false
   },
   "source": [
    "Alternatively, `a..=b` can be used for a range that is inclusive on both ends. The above can be written as:"
   ]
  },
  {
   "cell_type": "code",
   "execution_count": 10,
   "metadata": {
    "editable": true,
    "deletable": false
   },
   "outputs": [
    {
     "ename": "Error",
     "evalue": "Items currently need to be explicitly made pub along with all fields of structs.",
     "output_type": "error",
     "traceback": [
      "Items currently need to be explicitly made pub along with all fields of structs."
     ]
    }
   ],
   "source": [
    "fn main() {\n",
    "    // `n` will take the values: 1, 2, ..., 100 in each iteration\n",
    "    for n in 1..=100 {\n",
    "        if n % 15 == 0 {\n",
    "            println!(\"fizzbuzz\");\n",
    "        } else if n % 3 == 0 {\n",
    "            println!(\"fizz\");\n",
    "        } else if n % 5 == 0 {\n",
    "            println!(\"buzz\");\n",
    "        } else {\n",
    "            println!(\"{}\", n);\n",
    "        }\n",
    "    }\n",
    "}"
   ]
  },
  {
   "cell_type": "markdown",
   "metadata": {
    "editable": false,
    "deletable": false
   },
   "source": [
    "## for and iterators\n",
    "\n",
    "The `for in` construct is able to interact with an `Iterator` in several ways. As discussed in with the [Iterator](https://doc.rust-lang.org/rust-by-example/trait/iter.html) trait, if not specified, the `for` loop will apply the `into_iter` function on the collection provided to convert the collection into an iterator. This is not the only means to convert a collection into an iterator however, the other functions available include `iter` and `iter_mut`.\n",
    "\n",
    "These 3 functions will return different views of the data within your collection.\n",
    "\n",
    "* `iter` - This borrows each element of the collection through each iteration. Thus leaving the collection untouched and available for reuse after the loop.\n"
   ]
  },
  {
   "cell_type": "code",
   "execution_count": 11,
   "metadata": {
    "editable": true,
    "deletable": false
   },
   "outputs": [
    {
     "ename": "Error",
     "evalue": "Items currently need to be explicitly made pub along with all fields of structs.",
     "output_type": "error",
     "traceback": [
      "Items currently need to be explicitly made pub along with all fields of structs."
     ]
    }
   ],
   "source": [
    "fn main() {\n",
    "    let names = vec![\"Bob\", \"Frank\", \"Ferris\"];\n",
    "\n",
    "    for name in names.iter() {\n",
    "        match name {\n",
    "            &\"Ferris\" => println!(\"There is a rustacean among us!\"),\n",
    "            _ => println!(\"Hello {}\", name),\n",
    "        }\n",
    "    }\n",
    "}"
   ]
  },
  {
   "cell_type": "markdown",
   "metadata": {
    "editable": false,
    "deletable": false
   },
   "source": [
    "* `into_iter` - This consumes the collection so that on each iteration the exact data is provided. Once the collection has been consumed it is no longer available for reuse as it has been 'moved' within the loop."
   ]
  },
  {
   "cell_type": "code",
   "execution_count": 12,
   "metadata": {
    "editable": true,
    "deletable": false
   },
   "outputs": [
    {
     "ename": "Error",
     "evalue": "Items currently need to be explicitly made pub along with all fields of structs.",
     "output_type": "error",
     "traceback": [
      "Items currently need to be explicitly made pub along with all fields of structs."
     ]
    }
   ],
   "source": [
    "fn main() {\n",
    "    let names = vec![\"Bob\", \"Frank\", \"Ferris\"];\n",
    "\n",
    "    for name in names.into_iter() {\n",
    "        match name {\n",
    "            \"Ferris\" => println!(\"There is a rustacean among us!\"),\n",
    "            _ => println!(\"Hello {}\", name),\n",
    "        }\n",
    "    }\n",
    "}\n"
   ]
  },
  {
   "cell_type": "markdown",
   "metadata": {
    "editable": false,
    "deletable": false
   },
   "source": [
    "* `iter_mut` - This mutably borrows each element of the collection, allowing for the collection to be modified in place."
   ]
  },
  {
   "cell_type": "code",
   "execution_count": 13,
   "metadata": {
    "editable": true,
    "deletable": false
   },
   "outputs": [
    {
     "ename": "Error",
     "evalue": "Items currently need to be explicitly made pub along with all fields of structs.",
     "output_type": "error",
     "traceback": [
      "Items currently need to be explicitly made pub along with all fields of structs."
     ]
    }
   ],
   "source": [
    "fn main() {\n",
    "    let mut names = vec![\"Bob\", \"Frank\", \"Ferris\"];\n",
    "\n",
    "    for name in names.iter_mut() {\n",
    "        *name = match name {\n",
    "            &mut \"Ferris\" => \"There is a rustacean among us!\",\n",
    "            _ => \"Hello\",\n",
    "        }\n",
    "    }\n",
    "\n",
    "    println!(\"names: {:?}\", names);\n",
    "}\n"
   ]
  },
  {
   "cell_type": "markdown",
   "metadata": {
    "editable": false,
    "deletable": false
   },
   "source": [
    "In the above snippets note the type of `match` branch, that is the key difference in the types of iteration. The difference in type then of course implies differing actions that are able to be performed.\n",
    "\n",
    "## See also\n",
    "\n",
    "[Iterator](https://doc.rust-lang.org/rust-by-example/trait/iter.html)"
   ]
  },
  {
   "cell_type": "markdown",
   "metadata": {
    "editable": false,
    "deletable": false
   },
   "source": [
    "---\n",
    "# 8.5. [match](#8-Flow-Control)\n",
    "\n",
    "Rust provides pattern matching via the `match` keyword, which can be used like a C `switch`."
   ]
  },
  {
   "cell_type": "code",
   "execution_count": 14,
   "metadata": {
    "editable": true,
    "deletable": false
   },
   "outputs": [
    {
     "ename": "Error",
     "evalue": "Items currently need to be explicitly made pub along with all fields of structs.",
     "output_type": "error",
     "traceback": [
      "Items currently need to be explicitly made pub along with all fields of structs."
     ]
    }
   ],
   "source": [
    "fn main() {\n",
    "    let number = 13;\n",
    "    // TODO ^ Try different values for `number`\n",
    "\n",
    "    println!(\"Tell me about {}\", number);\n",
    "    match number {\n",
    "        // Match a single value\n",
    "        1 => println!(\"One!\"),\n",
    "        // Match several values\n",
    "        2 | 3 | 5 | 7 | 11 => println!(\"This is a prime\"),\n",
    "        // Match an inclusive range\n",
    "        13...19 => println!(\"A teen\"),\n",
    "        // Handle the rest of cases\n",
    "        _ => println!(\"Ain't special\"),\n",
    "    }\n",
    "\n",
    "    let boolean = true;\n",
    "    // Match is an expression too\n",
    "    let binary = match boolean {\n",
    "        // The arms of a match must cover all the possible values\n",
    "        false => 0,\n",
    "        true => 1,\n",
    "        // TODO ^ Try commenting out one of these arms\n",
    "    };\n",
    "\n",
    "    println!(\"{} -> {}\", boolean, binary);\n",
    "}\n"
   ]
  },
  {
   "cell_type": "markdown",
   "metadata": {
    "editable": false,
    "deletable": false
   },
   "source": [
    "---\n",
    "# 8.5.1. [Destructuring](#8-Flow-Control)\n",
    "\n",
    "A `match` block can destructure items in a variety of ways.\n",
    "\n",
    "* [Destructuring Enums](https://doc.rust-lang.org/rust-by-example/flow_control/match/destructuring/destructure_enum.html)\n",
    "* [Destructuring Pointers](https://doc.rust-lang.org/rust-by-example/flow_control/match/destructuring/destructure_pointers.html)\n",
    "* [Destructuring Structures](https://doc.rust-lang.org/rust-by-example/flow_control/match/destructuring/destructure_structures.html)\n",
    "* [Destructuring Tuples](https://doc.rust-lang.org/rust-by-example/flow_control/match/destructuring/destructure_tuple.html)\n",
    "\n"
   ]
  },
  {
   "cell_type": "markdown",
   "metadata": {
    "editable": false,
    "deletable": false
   },
   "source": [
    "---\n",
    "# 8.5.1.1. [tuples](#8-Flow-Control)\n",
    "\n",
    "Tuples can be destructured in a `match` as follows:"
   ]
  },
  {
   "cell_type": "code",
   "execution_count": 16,
   "metadata": {
    "editable": true,
    "deletable": false
   },
   "outputs": [
    {
     "ename": "Error",
     "evalue": "Items currently need to be explicitly made pub along with all fields of structs.",
     "output_type": "error",
     "traceback": [
      "Items currently need to be explicitly made pub along with all fields of structs."
     ]
    }
   ],
   "source": [
    "fn main() {\n",
    "    let pair = (0, -2);\n",
    "    // TODO ^ Try different values for `pair`\n",
    "\n",
    "    println!(\"Tell me about {:?}\", pair);\n",
    "    // Match can be used to destructure a tuple\n",
    "    match pair {\n",
    "        // Destructure the second\n",
    "        (0, y) => println!(\"First is `0` and `y` is `{:?}`\", y),\n",
    "        (x, 0) => println!(\"`x` is `{:?}` and last is `0`\", x),\n",
    "        _      => println!(\"It doesn't matter what they are\"),\n",
    "        // `_` means don't bind the value to a variable\n",
    "    }\n",
    "}\n"
   ]
  },
  {
   "cell_type": "markdown",
   "metadata": {
    "editable": false,
    "deletable": false
   },
   "source": [
    "## See also:\n",
    "\n",
    "[Tuples](https://doc.rust-lang.org/rust-by-example/primitives/tuples.html)"
   ]
  },
  {
   "cell_type": "markdown",
   "metadata": {
    "editable": false,
    "deletable": false
   },
   "source": [
    "---\n",
    "# 8.5.1.2. [enums](#8-Flow-Control)\n",
    "\n",
    "An `enum` is destructured similarly:"
   ]
  },
  {
   "cell_type": "code",
   "execution_count": 17,
   "metadata": {
    "editable": true,
    "deletable": false
   },
   "outputs": [
    {
     "ename": "Error",
     "evalue": "Items currently need to be explicitly made pub along with all fields of structs.",
     "output_type": "error",
     "traceback": [
      "Items currently need to be explicitly made pub along with all fields of structs."
     ]
    }
   ],
   "source": [
    "// `allow` required to silence warnings because only\n",
    "// one variant is used.\n",
    "#[allow(dead_code)]\n",
    "enum Color {\n",
    "    // These 3 are specified solely by their name.\n",
    "    Red,\n",
    "    Blue,\n",
    "    Green,\n",
    "    // These likewise tie `u32` tuples to different names: color models.\n",
    "    RGB(u32, u32, u32),\n",
    "    HSV(u32, u32, u32),\n",
    "    HSL(u32, u32, u32),\n",
    "    CMY(u32, u32, u32),\n",
    "    CMYK(u32, u32, u32, u32),\n",
    "}\n",
    "\n",
    "fn main() {\n",
    "    let color = Color::RGB(122, 17, 40);\n",
    "    // TODO ^ Try different variants for `color`\n",
    "\n",
    "    println!(\"What color is it?\");\n",
    "    // An `enum` can be destructured using a `match`.\n",
    "    match color {\n",
    "        Color::Red   => println!(\"The color is Red!\"),\n",
    "        Color::Blue  => println!(\"The color is Blue!\"),\n",
    "        Color::Green => println!(\"The color is Green!\"),\n",
    "        Color::RGB(r, g, b) =>\n",
    "            println!(\"Red: {}, green: {}, and blue: {}!\", r, g, b),\n",
    "        Color::HSV(h, s, v) =>\n",
    "            println!(\"Hue: {}, saturation: {}, value: {}!\", h, s, v),\n",
    "        Color::HSL(h, s, l) =>\n",
    "            println!(\"Hue: {}, saturation: {}, lightness: {}!\", h, s, l),\n",
    "        Color::CMY(c, m, y) =>\n",
    "            println!(\"Cyan: {}, magenta: {}, yellow: {}!\", c, m, y),\n",
    "        Color::CMYK(c, m, y, k) =>\n",
    "            println!(\"Cyan: {}, magenta: {}, yellow: {}, key (black): {}!\",\n",
    "                c, m, y, k),\n",
    "        // Don't need another arm because all variants have been examined\n",
    "    }\n",
    "}"
   ]
  },
  {
   "cell_type": "markdown",
   "metadata": {
    "editable": false,
    "deletable": false
   },
   "source": [
    "## See also:\n",
    "\n",
    "[`#[allow(...)]`](https://doc.rust-lang.org/rust-by-example/attribute/unused.html), [color models](https://en.wikipedia.org/wiki/Color_model) and [`enum`](https://doc.rust-lang.org/rust-by-example/custom_types/enum.html)"
   ]
  },
  {
   "cell_type": "markdown",
   "metadata": {
    "editable": false,
    "deletable": false
   },
   "source": [
    "---\n",
    "# 8.5.1.3. [pointers/ref](#8-Flow-Control)\n",
    "\n",
    "For pointers, a distinction needs to be made between destructuring and dereferencing as they are different concepts which are used differently from a language like `C`.\n",
    "\n",
    "* Dereferencing uses `*`\n",
    "* Destructuring uses `&`, `ref`, and `ref mut`\n"
   ]
  },
  {
   "cell_type": "code",
   "execution_count": 18,
   "metadata": {
    "editable": true,
    "deletable": false
   },
   "outputs": [
    {
     "ename": "Error",
     "evalue": "Items currently need to be explicitly made pub along with all fields of structs.",
     "output_type": "error",
     "traceback": [
      "Items currently need to be explicitly made pub along with all fields of structs."
     ]
    }
   ],
   "source": [
    "fn main() {\n",
    "    // Assign a reference of type `i32`. The `&` signifies there\n",
    "    // is a reference being assigned.\n",
    "    let reference = &4;\n",
    "\n",
    "    match reference {\n",
    "        // If `reference` is pattern matched against `&val`, it results\n",
    "        // in a comparison like:\n",
    "        // `&i32`\n",
    "        // `&val`\n",
    "        // ^ We see that if the matching `&`s are dropped, then the `i32`\n",
    "        // should be assigned to `val`.\n",
    "        &val => println!(\"Got a value via destructuring: {:?}\", val),\n",
    "    }\n",
    "\n",
    "    // To avoid the `&`, you dereference before matching.\n",
    "    match *reference {\n",
    "        val => println!(\"Got a value via dereferencing: {:?}\", val),\n",
    "    }\n",
    "\n",
    "    // What if you don't start with a reference? `reference` was a `&`\n",
    "    // because the right side was already a reference. This is not\n",
    "    // a reference because the right side is not one.\n",
    "    let _not_a_reference = 3;\n",
    "\n",
    "    // Rust provides `ref` for exactly this purpose. It modifies the\n",
    "    // assignment so that a reference is created for the element; this\n",
    "    // reference is assigned.\n",
    "    let ref _is_a_reference = 3;\n",
    "\n",
    "    // Accordingly, by defining 2 values without references, references\n",
    "    // can be retrieved via `ref` and `ref mut`.\n",
    "    let value = 5;\n",
    "    let mut mut_value = 6;\n",
    "\n",
    "    // Use `ref` keyword to create a reference.\n",
    "    match value {\n",
    "        ref r => println!(\"Got a reference to a value: {:?}\", r),\n",
    "    }\n",
    "\n",
    "    // Use `ref mut` similarly.\n",
    "    match mut_value {\n",
    "        ref mut m => {\n",
    "            // Got a reference. Gotta dereference it before we can\n",
    "            // add anything to it.\n",
    "            *m += 10;\n",
    "            println!(\"We added 10. `mut_value`: {:?}\", m);\n",
    "        },\n",
    "    }\n",
    "}\n"
   ]
  },
  {
   "cell_type": "markdown",
   "metadata": {
    "editable": false,
    "deletable": false
   },
   "source": [
    "---\n",
    "# 8.5.1.4. [structs](#8-Flow-Control)\n",
    "\n",
    "Similarly, a `struct` can be destructured as shown:"
   ]
  },
  {
   "cell_type": "code",
   "execution_count": 19,
   "metadata": {
    "editable": true,
    "deletable": false
   },
   "outputs": [
    {
     "ename": "Error",
     "evalue": "Items currently need to be explicitly made pub along with all fields of structs.",
     "output_type": "error",
     "traceback": [
      "Items currently need to be explicitly made pub along with all fields of structs."
     ]
    }
   ],
   "source": [
    "fn main() {\n",
    "    struct Foo {\n",
    "        x: (u32, u32),\n",
    "        y: u32,\n",
    "    }\n",
    "\n",
    "    // Try changing the values in the struct to see what happens\n",
    "    let foo = Foo { x: (1, 2), y: 3 };\n",
    "\n",
    "    match foo {\n",
    "        Foo { x: (1, b), y } => println!(\"First of x is 1, b = {},  y = {} \", b, y),\n",
    "\n",
    "        // you can destructure structs and rename the variables,\n",
    "        // the order is not important\n",
    "        Foo { y: 2, x: i } => println!(\"y is 2, i = {:?}\", i),\n",
    "\n",
    "        // and you can also ignore some variables:\n",
    "        Foo { y, .. } => println!(\"y = {}, we don't care about x\", y),\n",
    "        // this will give an error: pattern does not mention field `x`\n",
    "        //Foo { y } => println!(\"y = {}\", y);\n",
    "    }\n",
    "}\n"
   ]
  },
  {
   "cell_type": "markdown",
   "metadata": {
    "editable": false,
    "deletable": false
   },
   "source": [
    "## See also:\n",
    "\n",
    "[Structs](https://doc.rust-lang.org/rust-by-example/custom_types/structs.html), [The ref pattern](https://doc.rust-lang.org/rust-by-example/scope/borrow/ref.html)"
   ]
  },
  {
   "cell_type": "markdown",
   "metadata": {
    "editable": false,
    "deletable": false
   },
   "source": [
    "---\n",
    "# 8.5.2. [Guards](#8-Flow-Control)\n",
    "\n",
    "A `match` *guard* can be added to filter the arm."
   ]
  },
  {
   "cell_type": "code",
   "execution_count": 20,
   "metadata": {
    "editable": true,
    "deletable": false
   },
   "outputs": [
    {
     "ename": "Error",
     "evalue": "Items currently need to be explicitly made pub along with all fields of structs.",
     "output_type": "error",
     "traceback": [
      "Items currently need to be explicitly made pub along with all fields of structs."
     ]
    }
   ],
   "source": [
    "fn main() {\n",
    "    let pair = (2, -2);\n",
    "    // TODO ^ Try different values for `pair`\n",
    "\n",
    "    println!(\"Tell me about {:?}\", pair);\n",
    "    match pair {\n",
    "        (x, y) if x == y => println!(\"These are twins\"),\n",
    "        // The ^ `if condition` part is a guard\n",
    "        (x, y) if x + y == 0 => println!(\"Antimatter, kaboom!\"),\n",
    "        (x, _) if x % 2 == 1 => println!(\"The first one is odd\"),\n",
    "        _ => println!(\"No correlation...\"),\n",
    "    }\n",
    "}\n"
   ]
  },
  {
   "cell_type": "markdown",
   "metadata": {
    "editable": false,
    "deletable": false
   },
   "source": [
    "## See also:\n",
    "\n",
    "[Tuples](https://doc.rust-lang.org/rust-by-example/primitives/tuples.html)"
   ]
  },
  {
   "cell_type": "markdown",
   "metadata": {
    "editable": false,
    "deletable": false
   },
   "source": [
    "---\n",
    "# 8.5.3. [Binding](#8-Flow-Control)\n",
    "\n",
    "Indirectly accessing a variable makes it impossible to branch and use that variable without re-binding. `match` provides the `@` sigil for binding values to names:"
   ]
  },
  {
   "cell_type": "code",
   "execution_count": 21,
   "metadata": {
    "editable": true,
    "deletable": false
   },
   "outputs": [
    {
     "ename": "Error",
     "evalue": "Items currently need to be explicitly made pub along with all fields of structs.",
     "output_type": "error",
     "traceback": [
      "Items currently need to be explicitly made pub along with all fields of structs."
     ]
    }
   ],
   "source": [
    "// A function `age` which returns a `u32`.\n",
    "fn age() -> u32 {\n",
    "    15\n",
    "}\n",
    "\n",
    "fn main() {\n",
    "    println!(\"Tell me what type of person you are\");\n",
    "\n",
    "    match age() {\n",
    "        0             => println!(\"I'm not born yet I guess\"),\n",
    "        // Could `match` 1 ... 12 directly but then what age\n",
    "        // would the child be? Instead, bind to `n` for the\n",
    "        // sequence of 1 .. 12. Now the age can be reported.\n",
    "        n @ 1  ... 12 => println!(\"I'm a child of age {:?}\", n),\n",
    "        n @ 13 ... 19 => println!(\"I'm a teen of age {:?}\", n),\n",
    "        // Nothing bound. Return the result.\n",
    "        n             => println!(\"I'm an old person of age {:?}\", n),\n",
    "    }\n",
    "}\n"
   ]
  },
  {
   "cell_type": "markdown",
   "metadata": {
    "editable": false,
    "deletable": false
   },
   "source": [
    "## See also:\n",
    "\n",
    "[functions](https://doc.rust-lang.org/rust-by-example/fn.html)"
   ]
  },
  {
   "cell_type": "markdown",
   "metadata": {
    "editable": false,
    "deletable": false
   },
   "source": [
    "---\n",
    "# 8.6. [if let](#8-Flow-Control)\n",
    "\n",
    "For some use cases, when matching enums, `match` is awkward. For example:"
   ]
  },
  {
   "cell_type": "code",
   "execution_count": 22,
   "metadata": {
    "editable": true,
    "deletable": false
   },
   "outputs": [
    {
     "name": "stdout",
     "output_type": "stream",
     "text": [
      "This is a really long string and `7`\n"
     ]
    }
   ],
   "source": [
    "// Make `optional` of type `Option<i32>`\n",
    "let optional = Some(7);\n",
    "\n",
    "match optional {\n",
    "    Some(i) => {\n",
    "        println!(\"This is a really long string and `{:?}`\", i);\n",
    "        // ^ Needed 2 indentations just so we could destructure\n",
    "        // `i` from the option.\n",
    "    },\n",
    "    _ => {},\n",
    "    // ^ Required because `match` is exhaustive. Doesn't it seem\n",
    "    // like wasted space?\n",
    "};\n"
   ]
  },
  {
   "cell_type": "markdown",
   "metadata": {
    "editable": false,
    "deletable": false
   },
   "source": [
    "`if let` is cleaner for this use case and in addition allows various failure options to be specified:"
   ]
  },
  {
   "cell_type": "code",
   "execution_count": 23,
   "metadata": {
    "editable": true,
    "deletable": false
   },
   "outputs": [
    {
     "ename": "Error",
     "evalue": "Items currently need to be explicitly made pub along with all fields of structs.",
     "output_type": "error",
     "traceback": [
      "Items currently need to be explicitly made pub along with all fields of structs."
     ]
    }
   ],
   "source": [
    "fn main() {\n",
    "    // All have type `Option<i32>`\n",
    "    let number = Some(7);\n",
    "    let letter: Option<i32> = None;\n",
    "    let emoticon: Option<i32> = None;\n",
    "\n",
    "    // The `if let` construct reads: \"if `let` destructures `number` into\n",
    "    // `Some(i)`, evaluate the block (`{}`).\n",
    "    if let Some(i) = number {\n",
    "        println!(\"Matched {:?}!\", i);\n",
    "    }\n",
    "\n",
    "    // If you need to specify a failure, use an else:\n",
    "    if let Some(i) = letter {\n",
    "        println!(\"Matched {:?}!\", i);\n",
    "    } else {\n",
    "        // Destructure failed. Change to the failure case.\n",
    "        println!(\"Didn't match a number. Let's go with a letter!\");\n",
    "    };\n",
    "\n",
    "    // Provide an altered failing condition.\n",
    "    let i_like_letters = false;\n",
    "\n",
    "    if let Some(i) = emoticon {\n",
    "        println!(\"Matched {:?}!\", i);\n",
    "    // Destructure failed. Evaluate an `else if` condition to see if the\n",
    "    // alternate failure branch should be taken:\n",
    "    } else if i_like_letters {\n",
    "        println!(\"Didn't match a number. Let's go with a letter!\");\n",
    "    } else {\n",
    "        // The condition evaluated false. This branch is the default:\n",
    "        println!(\"I don't like letters. Let's go with an emoticon :)!\");\n",
    "    };\n",
    "}\n"
   ]
  },
  {
   "cell_type": "markdown",
   "metadata": {
    "editable": false,
    "deletable": false
   },
   "source": [
    "In the same way, `if let` can be used to match any enum value:"
   ]
  },
  {
   "cell_type": "code",
   "execution_count": 24,
   "metadata": {
    "editable": true,
    "deletable": false
   },
   "outputs": [
    {
     "ename": "Error",
     "evalue": "Items currently need to be explicitly made pub along with all fields of structs.",
     "output_type": "error",
     "traceback": [
      "Items currently need to be explicitly made pub along with all fields of structs."
     ]
    }
   ],
   "source": [
    "// Our example enum\n",
    "enum Foo {\n",
    "    Bar,\n",
    "    Baz,\n",
    "    Qux(u32)\n",
    "}\n",
    "\n",
    "fn main() {\n",
    "    // Create example variables\n",
    "    let a = Foo::Bar;\n",
    "    let b = Foo::Baz;\n",
    "    let c = Foo::Qux(100);\n",
    "    \n",
    "    // Variable a matches Foo::Bar\n",
    "    if let Foo::Bar = a {\n",
    "        println!(\"a is foobar\");\n",
    "    }\n",
    "    \n",
    "    // Variable b does not match Foo::Bar\n",
    "    // So this will print nothing\n",
    "    if let Foo::Bar = b {\n",
    "        println!(\"b is foobar\");\n",
    "    }\n",
    "    \n",
    "    // Variable c matches Foo::Qux which has a value\n",
    "    // Similar to Some() in the previous example\n",
    "    if let Foo::Qux(value) = c {\n",
    "        println!(\"c is {}\", value);\n",
    "    }\n",
    "}\n"
   ]
  },
  {
   "cell_type": "markdown",
   "metadata": {
    "editable": false,
    "deletable": false
   },
   "source": [
    "Another benefit: `if let` allows to match enum non-parameterized variants, even if the enum doesn't `#[derive(PartialEq)]`, neither we implement PartialEq for it. In such case, classic if `Foo::Bar==a` fails, because instances of such enum are not comparable for equality. However, `if let` works.\n",
    "\n",
    "Would you like a challenge? Fix the following example to use `if let`:"
   ]
  },
  {
   "cell_type": "code",
   "execution_count": 25,
   "metadata": {
    "editable": true,
    "deletable": false
   },
   "outputs": [
    {
     "ename": "Error",
     "evalue": "Items currently need to be explicitly made pub along with all fields of structs.",
     "output_type": "error",
     "traceback": [
      "Items currently need to be explicitly made pub along with all fields of structs."
     ]
    }
   ],
   "source": [
    "// This enum purposely doesn't #[derive(PartialEq)],\n",
    "// neither we implement PartialEq for it. That's why comparing Foo::Bar==a fails below.\n",
    "enum Foo {Bar}\n",
    "\n",
    "fn main() {\n",
    "    let a = Foo::Bar;\n",
    "\n",
    "    // Variable a matches Foo::Bar\n",
    "    if Foo::Bar == a {\n",
    "    // ^-- this causes a compile-time error. Use `if let` instead.\n",
    "        println!(\"a is foobar\");\n",
    "    }\n",
    "}\n"
   ]
  },
  {
   "cell_type": "markdown",
   "metadata": {
    "editable": false,
    "deletable": false
   },
   "source": [
    "## See also:\n",
    "\n",
    "[`enum`](https://doc.rust-lang.org/rust-by-example/custom_types/enum.html), [`Option`](https://doc.rust-lang.org/rust-by-example/std/option.html), and the [RFC](https://github.com/rust-lang/rfcs/pull/160)"
   ]
  },
  {
   "cell_type": "markdown",
   "metadata": {
    "editable": false,
    "deletable": false
   },
   "source": [
    "---\n",
    "# 8.7. [while let](#8-Flow-Control)\n",
    "\n",
    "Similar to `if let`, `while let` can make awkward `match` sequences more tolerable. Consider the following sequence that increments `i`:"
   ]
  },
  {
   "cell_type": "code",
   "execution_count": 26,
   "metadata": {
    "editable": true,
    "deletable": false
   },
   "outputs": [
    {
     "name": "stdout",
     "output_type": "stream",
     "text": [
      "`i` is `0`. Try again.\n",
      "`i` is `1`. Try again.\n",
      "`i` is `2`. Try again.\n",
      "`i` is `3`. Try again.\n",
      "`i` is `4`. Try again.\n",
      "`i` is `5`. Try again.\n",
      "`i` is `6`. Try again.\n",
      "`i` is `7`. Try again.\n",
      "`i` is `8`. Try again.\n",
      "`i` is `9`. Try again.\n",
      "Greater than 9, quit!\n"
     ]
    },
    {
     "data": {
      "text/plain": [
       "()"
      ]
     },
     "execution_count": 26,
     "metadata": {},
     "output_type": "execute_result"
    }
   ],
   "source": [
    "// Make `optional` of type `Option<i32>`\n",
    "let mut optional = Some(0);\n",
    "\n",
    "// Repeatedly try this test.\n",
    "loop {\n",
    "    match optional {\n",
    "        // If `optional` destructures, evaluate the block.\n",
    "        Some(i) => {\n",
    "            if i > 9 {\n",
    "                println!(\"Greater than 9, quit!\");\n",
    "                optional = None;\n",
    "            } else {\n",
    "                println!(\"`i` is `{:?}`. Try again.\", i);\n",
    "                optional = Some(i + 1);\n",
    "            }\n",
    "            // ^ Requires 3 indentations!\n",
    "        },\n",
    "        // Quit the loop when the destructure fails:\n",
    "        _ => { break; }\n",
    "        // ^ Why should this be required? There must be a better way!\n",
    "    }\n",
    "}"
   ]
  },
  {
   "cell_type": "markdown",
   "metadata": {
    "editable": false,
    "deletable": false
   },
   "source": [
    "Using `while let` makes this sequence much nicer:"
   ]
  },
  {
   "cell_type": "code",
   "execution_count": 27,
   "metadata": {
    "editable": true,
    "deletable": false
   },
   "outputs": [
    {
     "ename": "Error",
     "evalue": "Items currently need to be explicitly made pub along with all fields of structs.",
     "output_type": "error",
     "traceback": [
      "Items currently need to be explicitly made pub along with all fields of structs."
     ]
    }
   ],
   "source": [
    "fn main() {\n",
    "    // Make `optional` of type `Option<i32>`\n",
    "    let mut optional = Some(0);\n",
    "\n",
    "    // This reads: \"while `let` destructures `optional` into\n",
    "    // `Some(i)`, evaluate the block (`{}`). Else `break`.\n",
    "    while let Some(i) = optional {\n",
    "        if i > 9 {\n",
    "            println!(\"Greater than 9, quit!\");\n",
    "            optional = None;\n",
    "        } else {\n",
    "            println!(\"`i` is `{:?}`. Try again.\", i);\n",
    "            optional = Some(i + 1);\n",
    "        }\n",
    "        // ^ Less rightward drift and doesn't require\n",
    "        // explicitly handling the failing case.\n",
    "    }\n",
    "    // ^ `if let` had additional optional `else`/`else if`\n",
    "    // clauses. `while let` does not have these.\n",
    "}\n"
   ]
  },
  {
   "cell_type": "markdown",
   "metadata": {
    "editable": false,
    "deletable": false
   },
   "source": [
    "## See also:\n",
    "\n",
    "[`enum`](https://doc.rust-lang.org/rust-by-example/custom_types/enum.html), [`Option`](https://doc.rust-lang.org/rust-by-example/std/option.html), and the [RFC](https://github.com/rust-lang/rfcs/pull/214)"
   ]
  }
 ],
 "metadata": {
  "kernelspec": {
   "display_name": "Rust",
   "language": "rust",
   "name": "rust"
  },
  "language_info": {
   "codemirror_mode": "rust",
   "file_extension": ".rs",
   "mimetype": "text/rust",
   "name": "Rust",
   "pygment_lexer": "rust",
   "version": ""
  }
 },
 "nbformat": 4,
 "nbformat_minor": 2
}