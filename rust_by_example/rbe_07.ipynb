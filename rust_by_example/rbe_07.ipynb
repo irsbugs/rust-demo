{
 "cells": [
  {
   "cell_type": "markdown",
   "metadata": {
    "editable": false,
    "deletable": false
   },
   "source": [
    "# 7 [Expressions](#7.-Expressions)"
   ]
  },
  {
   "cell_type": "markdown",
   "metadata": {
    "editable": false,
    "deletable": false
   },
   "source": [
    "---\n",
    "# 7. [Expressions](#7-Expressions)\n",
    "\n",
    "A Rust program is (mostly) made up of a series of statements:\n",
    "\n",
    "```rust\n",
    "fn main() {\n",
    "    // statement\n",
    "    // statement\n",
    "    // statement\n",
    "}\n",
    "```\n",
    "There are a few kinds of statements in Rust. The most common two are declaring a variable binding, and using a `;` with an expression:\n",
    "\n",
    "```rust\n",
    "fn main() {\n",
    "    // variable binding\n",
    "    let x = 5;\n",
    "\n",
    "    // expression;\n",
    "    x;\n",
    "    x + 1;\n",
    "    15;\n",
    "}\n",
    "```\n",
    "\n",
    "Blocks are expressions too, so they can be used as values in assignments. The last expression in the block will be assigned to the place expression such as a local variable. However, if the last expression of the block ends with a semicolon, the return value will be `()`."
   ]
  },
  {
   "cell_type": "code",
   "execution_count": null,
   "metadata": {
    "editable": true,
    "deletable": false
   },
   "outputs": [],
   "source": [
    "fn main() {\n",
    "    let x = 5u32;\n",
    "\n",
    "    let y = {\n",
    "        let x_squared = x * x;\n",
    "        let x_cube = x_squared * x;\n",
    "\n",
    "        // This expression will be assigned to `y`\n",
    "        x_cube + x_squared + x\n",
    "    };\n",
    "\n",
    "    let z = {\n",
    "        // The semicolon suppresses this expression and `()` is assigned to `z`\n",
    "        2 * x;\n",
    "    };\n",
    "\n",
    "    println!(\"x is {:?}\", x);\n",
    "    println!(\"y is {:?}\", y);\n",
    "    println!(\"z is {:?}\", z);\n",
    "}"
   ]
  }
 ],
 "metadata": {
  "kernelspec": {
   "display_name": "Rust",
   "language": "rust",
   "name": "rust"
  },
  "language_info": {
   "codemirror_mode": "rust",
   "file_extension": ".rs",
   "mimetype": "text/rust",
   "name": "Rust",
   "pygment_lexer": "rust",
   "version": ""
  }
 },
 "nbformat": 4,
 "nbformat_minor": 2
}