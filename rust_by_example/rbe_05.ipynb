{
 "cells": [
  {
   "cell_type": "markdown",
   "metadata": {
    "editable": false,
    "deletable": false
   },
   "source": [
    "# 5 [Types](#5.-Types)\n",
    "* ### 5.1 [Casting](#5.1.-Casting)\n",
    "* ### 5.2 [Literals](#5.2.-Literals)\n",
    "* ### 5.3 [Inference](#5.3.-Inference)\n",
    "* ### 5.4 [Aliasing](#5.4.-Aliasing)"
   ]
  },
  {
   "cell_type": "markdown",
   "metadata": {
    "editable": false,
    "deletable": false
   },
   "source": [
    "---\n",
    "# 5. [Types](#5-Types)\n",
    "\n",
    "Rust provides several mechanisms to change or define the type of primitive and user defined types. The following sections cover:\n",
    "\n",
    "* [Casting](https://doc.rust-lang.org/rust-by-example/types/cast.html) between primitive types\n",
    "* Specifying the desired type of [literals](https://doc.rust-lang.org/rust-by-example/types/literals.html)\n",
    "* Using [type inference](https://doc.rust-lang.org/rust-by-example/types/inference.html)\n",
    "* [Aliasing](https://doc.rust-lang.org/rust-by-example/types/alias.html) types\n"
   ]
  },
  {
   "cell_type": "markdown",
   "metadata": {
    "editable": false,
    "deletable": false
   },
   "source": [
    "---\n",
    "# 5.1. [Casting](#5-Types)\n",
    "\n",
    "Rust provides no implicit type conversion (coercion) between primitive types. But, explicit type conversion (casting) can be performed using the `as` keyword.\n",
    "\n",
    "Rules for converting between integral types follow C conventions generally, except in cases where C has undefined behavior. The behavior of all casts between integral types is well defined in Rust."
   ]
  },
  {
   "cell_type": "code",
   "execution_count": null,
   "metadata": {
    "editable": true,
    "deletable": false
   },
   "outputs": [],
   "source": [
    "// Suppress all warnings from casts which overflow.\n",
    "#![allow(overflowing_literals)]\n",
    "\n",
    "fn main() {\n",
    "    let decimal = 65.4321_f32;\n",
    "\n",
    "    // Error! No implicit conversion\n",
    "    let integer: u8 = decimal;\n",
    "    // FIXME ^ Comment out this line\n",
    "\n",
    "    // Explicit conversion\n",
    "    let integer = decimal as u8;\n",
    "    let character = integer as char;\n",
    "\n",
    "    println!(\"Casting: {} -> {} -> {}\", decimal, integer, character);\n",
    "\n",
    "    // when casting any value to an unsigned type, T,\n",
    "    // std::T::MAX + 1 is added or subtracted until the value\n",
    "    // fits into the new type\n",
    "\n",
    "    // 1000 already fits in a u16\n",
    "    println!(\"1000 as a u16 is: {}\", 1000 as u16);\n",
    "\n",
    "    // 1000 - 256 - 256 - 256 = 232\n",
    "    // Under the hood, the first 8 least significant bits (LSB) are kept,\n",
    "    // while the rest towards the most significant bit (MSB) get truncated.\n",
    "    println!(\"1000 as a u8 is : {}\", 1000 as u8);\n",
    "    // -1 + 256 = 255\n",
    "    println!(\"  -1 as a u8 is : {}\", (-1i8) as u8);\n",
    "\n",
    "    // For positive numbers, this is the same as the modulus\n",
    "    println!(\"1000 mod 256 is : {}\", 1000 % 256);\n",
    "\n",
    "    // When casting to a signed type, the (bitwise) result is the same as\n",
    "    // first casting to the corresponding unsigned type. If the most significant\n",
    "    // bit of that value is 1, then the value is negative.\n",
    "\n",
    "    // Unless it already fits, of course.\n",
    "    println!(\" 128 as a i16 is: {}\", 128 as i16);\n",
    "    // 128 as u8 -> 128, whose two's complement in eight bits is:\n",
    "    println!(\" 128 as a i8 is : {}\", 128 as i8);\n",
    "\n",
    "    // repeating the example above\n",
    "    // 1000 as u8 -> 232\n",
    "    println!(\"1000 as a u8 is : {}\", 1000 as u8);\n",
    "    // and the two's complement of 232 is -24\n",
    "    println!(\" 232 as a i8 is : {}\", 232 as i8);\n",
    "}\n"
   ]
  },
  {
   "cell_type": "markdown",
   "metadata": {
    "editable": false,
    "deletable": false
   },
   "source": [
    "---\n",
    "# 5.2. [Literals](#5-Types)\n",
    "\n",
    "Numeric literals can be type annotated by adding the type as a suffix. As an example, to specify that the literal `42` should have the type `i32`, write `42i32`.\n",
    "\n",
    "The type of unsuffixed numeric literals will depend on how they are used. If no constraint exists, the compiler will use `i32` for integers, and `f64` for floating-point numbers."
   ]
  },
  {
   "cell_type": "code",
   "execution_count": null,
   "metadata": {
    "editable": true,
    "deletable": false
   },
   "outputs": [],
   "source": [
    "fn main() {\n",
    "    // Suffixed literals, their types are known at initialization\n",
    "    let x = 1u8;\n",
    "    let y = 2u32;\n",
    "    let z = 3f32;\n",
    "\n",
    "    // Unsuffixed literal, their types depend on how they are used\n",
    "    let i = 1;\n",
    "    let f = 1.0;\n",
    "\n",
    "    // `size_of_val` returns the size of a variable in bytes\n",
    "    println!(\"size of `x` in bytes: {}\", std::mem::size_of_val(&x));\n",
    "    println!(\"size of `y` in bytes: {}\", std::mem::size_of_val(&y));\n",
    "    println!(\"size of `z` in bytes: {}\", std::mem::size_of_val(&z));\n",
    "    println!(\"size of `i` in bytes: {}\", std::mem::size_of_val(&i));\n",
    "    println!(\"size of `f` in bytes: {}\", std::mem::size_of_val(&f));\n",
    "}"
   ]
  },
  {
   "cell_type": "markdown",
   "metadata": {
    "editable": false,
    "deletable": false
   },
   "source": [
    "There are some concepts used in the previous code that haven't been explained yet, here's a brief explanation for the impatient readers:\n",
    "\n",
    "* `fun(&foo)` is used to pass an argument to a function by reference, rather than by value (`fun(foo)`). For more details see [borrowing](https://doc.rust-lang.org/rust-by-example/scope/borrow.html).\n",
    "* `std::mem::size_of_val` is a function, but called with its *full path*. Code can be split in logical units called *modules*. In this case, the `size_of_val` function is defined in the `mem` module, and the `mem` module is defined in the `std` crate. For more details, see [modules](https://doc.rust-lang.org/rust-by-example/mod.html) and [crates](https://doc.rust-lang.org/rust-by-example/crates.html).\n"
   ]
  },
  {
   "cell_type": "markdown",
   "metadata": {
    "editable": false,
    "deletable": false
   },
   "source": [
    "---\n",
    "# 5.3. [Inference](#5-Types)\n",
    "\n",
    "The type inference engine is pretty smart. It does more than looking at the type of the value expression during an initialization. It also looks at how the variable is used afterwards to infer its type. Here's an advanced example of type inference:"
   ]
  },
  {
   "cell_type": "code",
   "execution_count": null,
   "metadata": {
    "editable": true,
    "deletable": false
   },
   "outputs": [],
   "source": [
    "fn main() {\n",
    "    // Because of the annotation, the compiler knows that `elem` has type u8.\n",
    "    let elem = 5u8;\n",
    "\n",
    "    // Create an empty vector (a growable array).\n",
    "    let mut vec = Vec::new();\n",
    "    // At this point the compiler doesn't know the exact type of `vec`, it\n",
    "    // just knows that it's a vector of something (`Vec<_>`).\n",
    "\n",
    "    // Insert `elem` in the vector.\n",
    "    vec.push(elem);\n",
    "    // Aha! Now the compiler knows that `vec` is a vector of `u8`s (`Vec<u8>`)\n",
    "    // TODO ^ Try commenting out the `vec.push(elem)` line\n",
    "\n",
    "    println!(\"{:?}\", vec);\n",
    "}\n"
   ]
  },
  {
   "cell_type": "markdown",
   "metadata": {
    "editable": false,
    "deletable": false
   },
   "source": [
    "No type annotation of variables was needed, the compiler is happy and so is the programmer!"
   ]
  },
  {
   "cell_type": "markdown",
   "metadata": {
    "editable": false,
    "deletable": false
   },
   "source": [
    "---\n",
    "# 5.4. [Aliasing](#5-Types)\n",
    "\n",
    "The `type` statement can be used to give a new name to an existing type. Types must have `CamelCase` names, or the compiler will raise a warning. The exception to this rule are the primitive types: `usize`, `f32`, etc."
   ]
  },
  {
   "cell_type": "code",
   "execution_count": null,
   "metadata": {
    "editable": true,
    "deletable": false
   },
   "outputs": [],
   "source": [
    "// `NanoSecond` is a new name for `u64`.\n",
    "type NanoSecond = u64;\n",
    "type Inch = u64;\n",
    "\n",
    "// Use an attribute to silence warning.\n",
    "#[allow(non_camel_case_types)]\n",
    "type u64_t = u64;\n",
    "// TODO ^ Try removing the attribute\n",
    "\n",
    "fn main() {\n",
    "    // `NanoSecond` = `Inch` = `u64_t` = `u64`.\n",
    "    let nanoseconds: NanoSecond = 5 as u64_t;\n",
    "    let inches: Inch = 2 as u64_t;\n",
    "\n",
    "    // Note that type aliases *don't* provide any extra type safety, because\n",
    "    // aliases are *not* new types\n",
    "    println!(\"{} nanoseconds + {} inches = {} unit?\",\n",
    "             nanoseconds,\n",
    "             inches,\n",
    "             nanoseconds + inches);\n",
    "}"
   ]
  },
  {
   "cell_type": "markdown",
   "metadata": {
    "editable": false,
    "deletable": false
   },
   "source": [
    "The main use of aliases is to reduce boilerplate; for example the `IoResult<T>` type is an alias for the `Result<T, IoError>` type.\n",
    "\n",
    "## See also:\n",
    "\n",
    "[Attributes](https://doc.rust-lang.org/rust-by-example/attribute.html)"
   ]
  }
 ],
 "metadata": {
  "kernelspec": {
   "display_name": "Rust",
   "language": "rust",
   "name": "rust"
  },
  "language_info": {
   "codemirror_mode": "rust",
   "file_extension": ".rs",
   "mimetype": "text/rust",
   "name": "Rust",
   "pygment_lexer": "rust",
   "version": ""
  }
 },
 "nbformat": 4,
 "nbformat_minor": 2
}