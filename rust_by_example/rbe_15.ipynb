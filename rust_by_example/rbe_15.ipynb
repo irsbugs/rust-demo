{
 "cells": [
  {
   "cell_type": "markdown",
   "metadata": {
    "editable": false,
    "deletable": false
   },
   "source": [
    "# 15 [Scoping rules](#15.-Scoping-rules)\n",
    "\n",
    "* ### 15.1 [RAII](#15.1.-RAII)\n",
    "\n",
    "* ### 15.2 [Ownership and moves](#15.2.-Ownership-and-moves)\n",
    "\n",
    "    * ### 15.2.1 [Mutability](#15.2.1.-Mutability)\n",
    "\n",
    "* ### 15.3 [Borrowing](#15.3.-Borrowing)\n",
    "\n",
    "    * ### 15.3.1 [Mutability](#15.3.1.-Mutability)\n",
    "\n",
    "    * ### 15.3.2 [Freezing](#15.3.2.-Freezing)\n",
    "\n",
    "    * ### 15.3.3 [Aliasing](#15.3.3.-Aliasing)\n",
    "\n",
    "    * ### 15.3.4 [The ref pattern](#15.3.4.-The-ref-pattern)\n",
    "\n",
    "* ### 15.4 [Lifetimes](#15.4.-Lifetimes)\n",
    "\n",
    "    * ### 15.4.1 [Explicit annotation](#15.4.1.-Explicit-annotation)\n",
    "\n",
    "    * ### 15.4.2 [Functions](#15.4.2.-Functions)\n",
    "\n",
    "    * ### 15.4.3 [Methods](#15.4.3.-Methods)\n",
    "\n",
    "    * ### 15.4.4 [Structs](#15.4.4.-Structs)\n",
    "\n",
    "    * ### 15.4.5 [Traits](#15.4.5.-Traits)\n",
    "\n",
    "    * ### 15.4.6 [Bounds](#15.4.6.-Bounds)\n",
    "\n",
    "    * ### 15.4.7 [Coercion](#15.4.7.-Coercion)\n",
    "\n",
    "    * ### 15.4.8 [Static](#15.4.8.-Static)\n",
    "\n",
    "    * ### 15.4.9 [Elision](#15.4.9.-Elision)\n"
   ]
  },
  {
   "cell_type": "markdown",
   "metadata": {
    "editable": false,
    "deletable": false
   },
   "source": [
    "---\n",
    "# 15. [Scoping rules](#15-Scoping-rules)\n",
    "\n",
    "Scopes play an important part in ownership, borrowing, and lifetimes. That is, they indicate to the compiler when borrows are valid, when resources can be freed, and when variables are created or destroyed."
   ]
  },
  {
   "cell_type": "markdown",
   "metadata": {
    "editable": false,
    "deletable": false
   },
   "source": [
    "---\n",
    "# 15.1. [RAII](#15-Scoping-rules)\n",
    "\n",
    "Variables in Rust do more than just hold data in the stack: they also own resources, e.g. `Box<T>` owns memory in the heap. Rust enforces [RAII](https://en.wikipedia.org/wiki/Resource_Acquisition_Is_Initialization) (Resource Acquisition Is Initialization), so whenever an object goes out of scope, its destructor is called and its owned resources are freed.\n",
    "\n",
    "This behavior shields against resource *leak* bugs, so you'll never have to manually free memory or worry about memory leaks again! Here's a quick showcase:"
   ]
  },
  {
   "cell_type": "code",
   "execution_count": null,
   "metadata": {
    "editable": true,
    "deletable": false
   },
   "outputs": [],
   "source": [
    "// raii.rs\n",
    "fn create_box() {\n",
    "    // Allocate an integer on the heap\n",
    "    let _box1 = Box::new(3i32);\n",
    "\n",
    "    // `_box1` is destroyed here, and memory gets freed\n",
    "}\n",
    "\n",
    "fn main() {\n",
    "    // Allocate an integer on the heap\n",
    "    let _box2 = Box::new(5i32);\n",
    "\n",
    "    // A nested scope:\n",
    "    {\n",
    "        // Allocate an integer on the heap\n",
    "        let _box3 = Box::new(4i32);\n",
    "\n",
    "        // `_box3` is destroyed here, and memory gets freed\n",
    "    }\n",
    "\n",
    "    // Creating lots of boxes just for fun\n",
    "    // There's no need to manually free memory!\n",
    "    for _ in 0u32..1_000 {\n",
    "        create_box();\n",
    "    }\n",
    "\n",
    "    // `_box2` is destroyed here, and memory gets freed\n",
    "}\n"
   ]
  },
  {
   "cell_type": "markdown",
   "metadata": {
    "editable": false,
    "deletable": false
   },
   "source": [
    "Of course, we can double check for memory errors using `valgrind`:"
   ]
  },
  {
   "cell_type": "code",
   "execution_count": null,
   "metadata": {
    "editable": true,
    "deletable": false
   },
   "outputs": [],
   "source": [
    "$ rustc raii.rs && valgrind ./raii\n",
    "==26873== Memcheck, a memory error detector\n",
    "==26873== Copyright (C) 2002-2013, and GNU GPL'd, by Julian Seward et al.\n",
    "==26873== Using Valgrind-3.9.0 and LibVEX; rerun with -h for copyright info\n",
    "==26873== Command: ./raii\n",
    "==26873==\n",
    "==26873==\n",
    "==26873== HEAP SUMMARY:\n",
    "==26873==     in use at exit: 0 bytes in 0 blocks\n",
    "==26873==   total heap usage: 1,013 allocs, 1,013 frees, 8,696 bytes allocated\n",
    "==26873==\n",
    "==26873== All heap blocks were freed -- no leaks are possible\n",
    "==26873==\n",
    "==26873== For counts of detected and suppressed errors, rerun with: -v\n",
    "==26873== ERROR SUMMARY: 0 errors from 0 contexts (suppressed: 2 from 2)"
   ]
  },
  {
   "cell_type": "markdown",
   "metadata": {
    "editable": false,
    "deletable": false
   },
   "source": [
    "No leaks here!\n",
    "\n",
    "## Destructor\n",
    "\n",
    "The notion of a destructor in Rust is provided through the [`Drop`](https://doc.rust-lang.org/std/ops/trait.Drop.html) trait. The destructor is called when the resource goes out of scope. This trait is not required to be implemented for every type, only implement it for your type if you require its own destructor logic.\n",
    "\n",
    "Run the below example to see how the [`Drop`](https://doc.rust-lang.org/std/ops/trait.Drop.html) trait works. When the variable in the `main` function goes out of scope the custom destructor will be invoked."
   ]
  },
  {
   "cell_type": "code",
   "execution_count": null,
   "metadata": {
    "editable": true,
    "deletable": false
   },
   "outputs": [],
   "source": [
    "struct ToDrop;\n",
    "\n",
    "impl Drop for ToDrop {\n",
    "    fn drop(&mut self) {\n",
    "        println!(\"ToDrop is being dropped\");\n",
    "    }\n",
    "}\n",
    "\n",
    "fn main() {\n",
    "    let x = ToDrop;\n",
    "    println!(\"Made a ToDrop!\");\n",
    "}\n"
   ]
  },
  {
   "cell_type": "markdown",
   "metadata": {
    "editable": false,
    "deletable": false
   },
   "source": [
    "## See also:\n",
    "\n",
    "[Box](https://doc.rust-lang.org/rust-by-example/std/box.html)"
   ]
  },
  {
   "cell_type": "markdown",
   "metadata": {
    "editable": false,
    "deletable": false
   },
   "source": [
    "---\n",
    "# 15.2. [Ownership and moves](#15-Scoping-rules)\n",
    "\n",
    "Because variables are in charge of freeing their own resources, **resources can only have one owner**. This also prevents resources from being freed more than once. Note that not all variables own resources (e.g. [references](https://doc.rust-lang.org/rust-by-example/flow_control/match/destructuring/destructure_pointers.html)).\n",
    "\n",
    "When doing assignments (`let x = y`) or passing function arguments by value (`foo(x)`), the *ownership* of the resources is transferred. In Rust-speak, this is known as a *move*.\n",
    "\n",
    "After moving resources, the previous owner can no longer be used. This avoids creating dangling pointers.\n"
   ]
  },
  {
   "cell_type": "code",
   "execution_count": 7,
   "metadata": {
    "editable": true,
    "deletable": false
   },
   "outputs": [
    {
     "ename": "Error",
     "evalue": "Items currently need to be explicitly made pub along with all fields of structs.",
     "output_type": "error",
     "traceback": [
      "Items currently need to be explicitly made pub along with all fields of structs."
     ]
    }
   ],
   "source": [
    "// This function takes ownership of the heap allocated memory\n",
    "fn destroy_box(c: Box<i32>) {\n",
    "    println!(\"Destroying a box that contains {}\", c);\n",
    "\n",
    "    // `c` is destroyed and the memory freed\n",
    "}\n",
    "\n",
    "fn main() {\n",
    "    // _Stack_ allocated integer\n",
    "    let x = 5u32;\n",
    "\n",
    "    // *Copy* `x` into `y` - no resources are moved\n",
    "    let y = x;\n",
    "\n",
    "    // Both values can be independently used\n",
    "    println!(\"x is {}, and y is {}\", x, y);\n",
    "\n",
    "    // `a` is a pointer to a _heap_ allocated integer\n",
    "    let a = Box::new(5i32);\n",
    "\n",
    "    println!(\"a contains: {}\", a);\n",
    "\n",
    "    // *Move* `a` into `b`\n",
    "    let b = a;\n",
    "    // The pointer address of `a` is copied (not the data) into `b`.\n",
    "    // Both are now pointers to the same heap allocated data, but\n",
    "    // `b` now owns it.\n",
    "    \n",
    "    // Error! `a` can no longer access the data, because it no longer owns the\n",
    "    // heap memory\n",
    "    //println!(\"a contains: {}\", a);\n",
    "    // TODO ^ Try uncommenting this line\n",
    "\n",
    "    // This function takes ownership of the heap allocated memory from `b`\n",
    "    destroy_box(b);\n",
    "\n",
    "    // Since the heap memory has been freed at this point, this action would\n",
    "    // result in dereferencing freed memory, but it's forbidden by the compiler\n",
    "    // Error! Same reason as the previous Error\n",
    "    //println!(\"b contains: {}\", b);\n",
    "    // TODO ^ Try uncommenting this line\n",
    "}\n"
   ]
  },
  {
   "cell_type": "markdown",
   "metadata": {
    "editable": false,
    "deletable": false
   },
   "source": [
    "---\n",
    "# 15.2.1. [Mutability](#15-Scoping-rules)\n",
    "\n",
    "Mutability of data can be changed when ownership is transferred."
   ]
  },
  {
   "cell_type": "code",
   "execution_count": 8,
   "metadata": {
    "editable": true,
    "deletable": false
   },
   "outputs": [
    {
     "ename": "Error",
     "evalue": "Items currently need to be explicitly made pub along with all fields of structs.",
     "output_type": "error",
     "traceback": [
      "Items currently need to be explicitly made pub along with all fields of structs."
     ]
    }
   ],
   "source": [
    "fn main() {\n",
    "    let immutable_box = Box::new(5u32);\n",
    "\n",
    "    println!(\"immutable_box contains {}\", immutable_box);\n",
    "\n",
    "    // Mutability error\n",
    "    //*immutable_box = 4;\n",
    "\n",
    "    // *Move* the box, changing the ownership (and mutability)\n",
    "    let mut mutable_box = immutable_box;\n",
    "\n",
    "    println!(\"mutable_box contains {}\", mutable_box);\n",
    "\n",
    "    // Modify the contents of the box\n",
    "    *mutable_box = 4;\n",
    "\n",
    "    println!(\"mutable_box now contains {}\", mutable_box);\n",
    "}\n"
   ]
  },
  {
   "cell_type": "markdown",
   "metadata": {
    "editable": false,
    "deletable": false
   },
   "source": [
    "---\n",
    "# 15.3. [Borrowing](#15-Scoping-rules)\n",
    "\n",
    "Most of the time, we'd like to access data without taking ownership over it. To accomplish this, Rust uses a borrowing mechanism. Instead of passing objects by value (`T`), objects can be passed by reference (`&T`).\n",
    "\n",
    "The compiler statically guarantees (via its borrow checker) that references always point to valid objects. That is, while references to an object exist, the object cannot be destroyed."
   ]
  },
  {
   "cell_type": "code",
   "execution_count": null,
   "metadata": {
    "editable": true,
    "deletable": false
   },
   "outputs": [],
   "source": [
    "// This function takes ownership of a box and destroys it\n",
    "fn eat_box_i32(boxed_i32: Box<i32>) {\n",
    "    println!(\"Destroying box that contains {}\", boxed_i32);\n",
    "}\n",
    "\n",
    "// This function borrows an i32\n",
    "fn borrow_i32(borrowed_i32: &i32) {\n",
    "    println!(\"This int is: {}\", borrowed_i32);\n",
    "}\n",
    "\n",
    "fn main() {\n",
    "    // Create a boxed i32, and a stacked i32\n",
    "    let boxed_i32 = Box::new(5_i32);\n",
    "    let stacked_i32 = 6_i32;\n",
    "\n",
    "    // Borrow the contents of the box. Ownership is not taken,\n",
    "    // so the contents can be borrowed again.\n",
    "    borrow_i32(&boxed_i32);\n",
    "    borrow_i32(&stacked_i32);\n",
    "\n",
    "    {\n",
    "        // Take a reference to the data contained inside the box\n",
    "        let _ref_to_i32: &i32 = &boxed_i32;\n",
    "\n",
    "        // Error!\n",
    "        // Can't destroy `boxed_i32` while the inner value is borrowed later in scope.\n",
    "        eat_box_i32(boxed_i32);\n",
    "        // FIXME ^ Comment out this line\n",
    "\n",
    "        // Attempt to borrow `_ref_to_i32` after inner value is destroyed\n",
    "        borrow_i32(_ref_to_i32);\n",
    "        // `_ref_to_i32` goes out of scope and is no longer borrowed.\n",
    "    }\n",
    "\n",
    "    // `boxed_i32` can now give up ownership to `eat_box` and be destroyed\n",
    "    eat_box_i32(boxed_i32);\n",
    "}\n"
   ]
  },
  {
   "cell_type": "markdown",
   "metadata": {
    "editable": false,
    "deletable": false
   },
   "source": [
    "---\n",
    "# 15.3.1. [Mutability](#15-Scoping-rules)\n",
    "\n",
    "Mutable data can be mutably borrowed using `&mut T`. This is called a *mutable reference* and gives read/write access to the borrower. In contrast, `&T` borrows the data via an immutable reference, and the borrower can read the data but not modify it:"
   ]
  },
  {
   "cell_type": "code",
   "execution_count": 9,
   "metadata": {
    "editable": true,
    "deletable": false
   },
   "outputs": [
    {
     "ename": "Error",
     "evalue": "Items currently need to be explicitly made pub along with all fields of structs.",
     "output_type": "error",
     "traceback": [
      "Items currently need to be explicitly made pub along with all fields of structs."
     ]
    }
   ],
   "source": [
    "#[allow(dead_code)]\n",
    "#[derive(Clone, Copy)]\n",
    "struct Book {\n",
    "    // `&'static str` is a reference to a string allocated in read only memory\n",
    "    author: &'static str,\n",
    "    title: &'static str,\n",
    "    year: u32,\n",
    "}\n",
    "\n",
    "// This function takes a reference to a book\n",
    "fn borrow_book(book: &Book) {\n",
    "    println!(\"I immutably borrowed {} - {} edition\", book.title, book.year);\n",
    "}\n",
    "\n",
    "// This function takes a reference to a mutable book and changes `year` to 2014\n",
    "fn new_edition(book: &mut Book) {\n",
    "    book.year = 2014;\n",
    "    println!(\"I mutably borrowed {} - {} edition\", book.title, book.year);\n",
    "}\n",
    "\n",
    "fn main() {\n",
    "    // Create an immutable Book named `immutabook`\n",
    "    let immutabook = Book {\n",
    "        // string literals have type `&'static str`\n",
    "        author: \"Douglas Hofstadter\",\n",
    "        title: \"G\u00f6del, Escher, Bach\",\n",
    "        year: 1979,\n",
    "    };\n",
    "\n",
    "    // Create a mutable copy of `immutabook` and call it `mutabook`\n",
    "    let mut mutabook = immutabook;\n",
    "    \n",
    "    // Immutably borrow an immutable object\n",
    "    borrow_book(&immutabook);\n",
    "\n",
    "    // Immutably borrow a mutable object\n",
    "    borrow_book(&mutabook);\n",
    "    \n",
    "    // Borrow a mutable object as mutable\n",
    "    new_edition(&mut mutabook);\n",
    "    \n",
    "    // Error! Cannot borrow an immutable object as mutable\n",
    "    new_edition(&mut immutabook);\n",
    "    // FIXME ^ Comment out this line\n",
    "}\n"
   ]
  },
  {
   "cell_type": "markdown",
   "metadata": {
    "editable": false,
    "deletable": false
   },
   "source": [
    "## See also:\n",
    "\n",
    "[`static`](https://doc.rust-lang.org/rust-by-example/scope/lifetime/static_lifetime.html)"
   ]
  },
  {
   "cell_type": "markdown",
   "metadata": {
    "editable": false,
    "deletable": false
   },
   "source": [
    "---\n",
    "# 15.3.2. [Freezing](#15-Scoping-rules)\n",
    "\n",
    "When data is immutably borrowed, it also *freezes*. *Frozen* data can't be modified via the original object until all references to it go out of scope:"
   ]
  },
  {
   "cell_type": "code",
   "execution_count": 10,
   "metadata": {
    "editable": true,
    "deletable": false
   },
   "outputs": [
    {
     "ename": "Error",
     "evalue": "Items currently need to be explicitly made pub along with all fields of structs.",
     "output_type": "error",
     "traceback": [
      "Items currently need to be explicitly made pub along with all fields of structs."
     ]
    }
   ],
   "source": [
    "fn main() {\n",
    "    let mut _mutable_integer = 7i32;\n",
    "\n",
    "    {\n",
    "        // Borrow `_mutable_integer`\n",
    "        let _large_integer = &_mutable_integer;\n",
    "\n",
    "        // Error! `_mutable_integer` is frozen in this scope\n",
    "        _mutable_integer = 50;\n",
    "        // FIXME ^ Comment out this line\n",
    "\n",
    "        // `_large_integer` goes out of scope\n",
    "    }\n",
    "\n",
    "    // Ok! `_mutable_integer` is not frozen in this scope\n",
    "    _mutable_integer = 3;\n",
    "}\n"
   ]
  },
  {
   "cell_type": "markdown",
   "metadata": {
    "editable": false,
    "deletable": false
   },
   "source": [
    "---\n",
    "# 15.3.3. [Aliasing](#15-Scoping-rules)\n",
    "\n",
    "Data can be immutably borrowed any number of times, but while immutably borrowed, the original data can't be mutably borrowed. On the other hand, only *one* mutable borrow is allowed at a time. The original data can be borrowed again only *after* the mutable reference goes out of scope."
   ]
  },
  {
   "cell_type": "code",
   "execution_count": null,
   "metadata": {
    "editable": true,
    "deletable": false
   },
   "outputs": [],
   "source": [
    "struct Point { x: i32, y: i32, z: i32 }\n",
    "\n",
    "fn main() {\n",
    "    let mut point = Point { x: 0, y: 0, z: 0 };\n",
    "\n",
    "    {\n",
    "        let borrowed_point = &point;\n",
    "        let another_borrow = &point;\n",
    "\n",
    "        // Data can be accessed via the references and the original owner\n",
    "        println!(\"Point has coordinates: ({}, {}, {})\",\n",
    "                 borrowed_point.x, another_borrow.y, point.z);\n",
    "\n",
    "        // Error! Can't borrow point as mutable because it's currently\n",
    "        // borrowed as immutable.\n",
    "        //let mutable_borrow = &mut point;\n",
    "        // TODO ^ Try uncommenting this line\n",
    "\n",
    "        // Immutable references go out of scope\n",
    "    }\n",
    "\n",
    "    {\n",
    "        let mutable_borrow = &mut point;\n",
    "\n",
    "        // Change data via mutable reference\n",
    "        mutable_borrow.x = 5;\n",
    "        mutable_borrow.y = 2;\n",
    "        mutable_borrow.z = 1;\n",
    "\n",
    "        // Error! Can't borrow `point` as immutable because it's currently\n",
    "        // borrowed as mutable.\n",
    "        //let y = &point.y;\n",
    "        // TODO ^ Try uncommenting this line\n",
    "\n",
    "        // Error! Can't print because `println!` takes an immutable reference.\n",
    "        //println!(\"Point Z coordinate is {}\", point.z);\n",
    "        // TODO ^ Try uncommenting this line\n",
    "\n",
    "        // Ok! Mutable references can be passed as immutable to `println!`\n",
    "        println!(\"Point has coordinates: ({}, {}, {})\",\n",
    "                 mutable_borrow.x, mutable_borrow.y, mutable_borrow.z);\n",
    "\n",
    "        // Mutable reference goes out of scope\n",
    "    }\n",
    "\n",
    "    // Immutable references to point are allowed again\n",
    "    let borrowed_point = &point;\n",
    "    println!(\"Point now has coordinates: ({}, {}, {})\",\n",
    "             borrowed_point.x, borrowed_point.y, borrowed_point.z);\n",
    "}\n"
   ]
  },
  {
   "cell_type": "markdown",
   "metadata": {
    "editable": false,
    "deletable": false
   },
   "source": [
    "---\n",
    "# 15.3.4. [The ref pattern](#15-Scoping-rules)\n",
    "\n",
    "When doing pattern matching or destructuring via the `let` binding, the `ref` keyword can be used to take references to the fields of a struct/tuple. The example below shows a few instances where this can be useful:"
   ]
  },
  {
   "cell_type": "code",
   "execution_count": null,
   "metadata": {
    "editable": true,
    "deletable": false
   },
   "outputs": [],
   "source": [
    "#[derive(Clone, Copy)]\n",
    "struct Point { x: i32, y: i32 }\n",
    "\n",
    "fn main() {\n",
    "    let c = 'Q';\n",
    "\n",
    "    // A `ref` borrow on the left side of an assignment is equivalent to\n",
    "    // an `&` borrow on the right side.\n",
    "    let ref ref_c1 = c;\n",
    "    let ref_c2 = &c;\n",
    "\n",
    "    println!(\"ref_c1 equals ref_c2: {}\", *ref_c1 == *ref_c2);\n",
    "\n",
    "    let point = Point { x: 0, y: 0 };\n",
    "\n",
    "    // `ref` is also valid when destructuring a struct.\n",
    "    let _copy_of_x = {\n",
    "        // `ref_to_x` is a reference to the `x` field of `point`.\n",
    "        let Point { x: ref ref_to_x, y: _ } = point;\n",
    "\n",
    "        // Return a copy of the `x` field of `point`.\n",
    "        *ref_to_x\n",
    "    };\n",
    "\n",
    "    // A mutable copy of `point`\n",
    "    let mut mutable_point = point;\n",
    "\n",
    "    {\n",
    "        // `ref` can be paired with `mut` to take mutable references.\n",
    "        let Point { x: _, y: ref mut mut_ref_to_y } = mutable_point;\n",
    "\n",
    "        // Mutate the `y` field of `mutable_point` via a mutable reference.\n",
    "        *mut_ref_to_y = 1;\n",
    "    }\n",
    "\n",
    "    println!(\"point is ({}, {})\", point.x, point.y);\n",
    "    println!(\"mutable_point is ({}, {})\", mutable_point.x, mutable_point.y);\n",
    "\n",
    "    // A mutable tuple that includes a pointer\n",
    "    let mut mutable_tuple = (Box::new(5u32), 3u32);\n",
    "    \n",
    "    {\n",
    "        // Destructure `mutable_tuple` to change the value of `last`.\n",
    "        let (_, ref mut last) = mutable_tuple;\n",
    "        *last = 2u32;\n",
    "    }\n",
    "    \n",
    "    println!(\"tuple is {:?}\", mutable_tuple);\n",
    "}\n"
   ]
  },
  {
   "cell_type": "markdown",
   "metadata": {
    "editable": false,
    "deletable": false
   },
   "source": [
    "---\n",
    "# 15.4. [Lifetimes](#15-Scoping-rules)\n",
    "\n",
    "A *lifetime* is a construct the compiler (or more specifically, its *borrow checker*) uses to ensure all borrows are valid. Specifically, a variable's lifetime begins when it is created and ends when it is destroyed. While lifetimes and scopes are often referred to together, they are not the same.\n",
    "\n",
    "Take, for example, the case where we borrow a variable via `&`. The borrow has a lifetime that is determined by where it is declared. As a result, the borrow is valid as long as it ends before the lender is destroyed. However, the scope of the borrow is determined by where the reference is used.\n",
    "\n",
    "In the following example and in the rest of this section, we will see how lifetimes relate to scopes, as well as how the two differ."
   ]
  },
  {
   "cell_type": "code",
   "execution_count": null,
   "metadata": {
    "editable": true,
    "deletable": false
   },
   "outputs": [],
   "source": [
    "// Lifetimes are annotated below with lines denoting the creation\n",
    "// and destruction of each variable.\n",
    "// `i` has the longest lifetime because its scope entirely encloses \n",
    "// both `borrow1` and `borrow2`. The duration of `borrow1` compared \n",
    "// to `borrow2` is irrelevant since they are disjoint.\n",
    "fn main() {\n",
    "    let i = 3; // Lifetime for `i` starts. \u2500\u2500\u2500\u2500\u2500\u2500\u2500\u2500\u2500\u2500\u2500\u2500\u2500\u2500\u2500\u2500\u2510\n",
    "    //                                                     \u2502\n",
    "    { //                                                   \u2502\n",
    "        let borrow1 = &i; // `borrow1` lifetime starts. \u2500\u2500\u2510\u2502\n",
    "        //                                                \u2502\u2502\n",
    "        println!(\"borrow1: {}\", borrow1); //              \u2502\u2502\n",
    "    } // `borrow1 ends. \u2500\u2500\u2500\u2500\u2500\u2500\u2500\u2500\u2500\u2500\u2500\u2500\u2500\u2500\u2500\u2500\u2500\u2500\u2500\u2500\u2500\u2500\u2500\u2500\u2500\u2500\u2500\u2500\u2500\u2500\u2500\u2500\u2500\u2500\u2518\u2502\n",
    "    //                                                     \u2502\n",
    "    //                                                     \u2502\n",
    "    { //                                                   \u2502\n",
    "        let borrow2 = &i; // `borrow2` lifetime starts. \u2500\u2500\u2510\u2502\n",
    "        //                                                \u2502\u2502\n",
    "        println!(\"borrow2: {}\", borrow2); //              \u2502\u2502\n",
    "    } // `borrow2` ends. \u2500\u2500\u2500\u2500\u2500\u2500\u2500\u2500\u2500\u2500\u2500\u2500\u2500\u2500\u2500\u2500\u2500\u2500\u2500\u2500\u2500\u2500\u2500\u2500\u2500\u2500\u2500\u2500\u2500\u2500\u2500\u2500\u2500\u2518\u2502\n",
    "    //                                                     \u2502\n",
    "}   // Lifetime ends. \u2500\u2500\u2500\u2500\u2500\u2500\u2500\u2500\u2500\u2500\u2500\u2500\u2500\u2500\u2500\u2500\u2500\u2500\u2500\u2500\u2500\u2500\u2500\u2500\u2500\u2500\u2500\u2500\u2500\u2500\u2500\u2500\u2500\u2500\u2500\u2500\u2500\u2518\n"
   ]
  },
  {
   "cell_type": "markdown",
   "metadata": {
    "editable": false,
    "deletable": false
   },
   "source": [
    "Note that no names or types are assigned to label lifetimes. This restricts how lifetimes will be able to be used as we will see."
   ]
  },
  {
   "cell_type": "markdown",
   "metadata": {
    "editable": false,
    "deletable": false
   },
   "source": [
    "---\n",
    "# 15.4.1. [Explicit annotation](#15-Scoping-rules)\n",
    "\n",
    "The borrow checker uses explicit lifetime annotations to determine how long references should be valid. In cases where lifetimes are not elided \u00b9, Rust requires explicit annotations to determine what the lifetime of a reference should be. The syntax for explicitly annotating a lifetime uses an apostrophe character as follows:\n",
    "\n",
    "```rust\n",
    "foo<'a>\n",
    "// `foo` has a lifetime parameter `'a`\n",
    "```\n",
    "\n",
    "Similar to [closures](https://doc.rust-lang.org/rust-by-example/fn/closures/anonymity.html), using lifetimes requires generics. Additionally, this lifetime syntax indicates that the lifetime of `foo` may not exceed that of `'a`. Explicit annotation of a type has the form `&'a T` where `'a` has already been introduced.\n",
    "\n",
    "In cases with multiple lifetimes, the syntax is similar:\n",
    "\n",
    "```rust\n",
    "foo<'a, 'b>\n",
    "// `foo` has lifetime parameters `'a` and `'b`\n",
    "```\n",
    "\n",
    "In this case, the lifetime of `foo` cannot exceed that of either `'a` or `'b`.\n",
    "\n",
    "See the following example for explicit lifetime annotation in use:"
   ]
  },
  {
   "cell_type": "code",
   "execution_count": 11,
   "metadata": {
    "editable": true,
    "deletable": false
   },
   "outputs": [
    {
     "ename": "Error",
     "evalue": "Items currently need to be explicitly made pub along with all fields of structs.",
     "output_type": "error",
     "traceback": [
      "Items currently need to be explicitly made pub along with all fields of structs."
     ]
    }
   ],
   "source": [
    "// `print_refs` takes two references to `i32` which have different\n",
    "// lifetimes `'a` and `'b`. These two lifetimes must both be at\n",
    "// least as long as the function `print_refs`.\n",
    "fn print_refs<'a, 'b>(x: &'a i32, y: &'b i32) {\n",
    "    println!(\"x is {} and y is {}\", x, y);\n",
    "}\n",
    "\n",
    "// A function which takes no arguments, but has a lifetime parameter `'a`.\n",
    "fn failed_borrow<'a>() {\n",
    "    let _x = 12;\n",
    "\n",
    "    // ERROR: `_x` does not live long enough\n",
    "    //let y: &'a i32 = &_x;\n",
    "    // Attempting to use the lifetime `'a` as an explicit type annotation \n",
    "    // inside the function will fail because the lifetime of `&_x` is shorter\n",
    "    // than that of `y`. A short lifetime cannot be coerced into a longer one.\n",
    "}\n",
    "\n",
    "fn main() {\n",
    "    // Create variables to be borrowed below.\n",
    "    let (four, nine) = (4, 9);\n",
    "    \n",
    "    // Borrows (`&`) of both variables are passed into the function.\n",
    "    print_refs(&four, &nine);\n",
    "    // Any input which is borrowed must outlive the borrower. \n",
    "    // In other words, the lifetime of `four` and `nine` must \n",
    "    // be longer than that of `print_refs`.\n",
    "    \n",
    "    failed_borrow();\n",
    "    // `failed_borrow` contains no references to force `'a` to be \n",
    "    // longer than the lifetime of the function, but `'a` is longer.\n",
    "    // Because the lifetime is never constrained, it defaults to `'static`.\n",
    "}\n"
   ]
  },
  {
   "cell_type": "markdown",
   "metadata": {
    "editable": false,
    "deletable": false
   },
   "source": [
    "\u00b9 [elision](https://doc.rust-lang.org/rust-by-example/scope/lifetime/elision.html) implicitly annotates lifetimes and so is different.\n",
    "\n",
    "## See also:\n",
    "\n",
    "[generics](https://doc.rust-lang.org/rust-by-example/generics.html) and [closures](https://doc.rust-lang.org/rust-by-example/fn/closures.html)"
   ]
  },
  {
   "cell_type": "markdown",
   "metadata": {
    "editable": false,
    "deletable": false
   },
   "source": [
    "---\n",
    "# 15.4.2. [Functions](#15-Scoping-rules)\n",
    "\n",
    "Ignoring [elision](https://doc.rust-lang.org/rust-by-example/scope/lifetime/elision.html), function signatures with lifetimes have a few constraints:\n",
    "\n",
    "* any reference *must* have an annotated lifetime.\n",
    "\n",
    "* any reference being returned *must* have the same lifetime as an input or be `static`.\n",
    "\n",
    "Additionally, note that returning references without input is banned if it would result in returning references to invalid data. The following example shows off some valid forms of functions with lifetimes:\n",
    "\n"
   ]
  },
  {
   "cell_type": "code",
   "execution_count": 12,
   "metadata": {
    "editable": true,
    "deletable": false
   },
   "outputs": [
    {
     "ename": "Error",
     "evalue": "Items currently need to be explicitly made pub along with all fields of structs.",
     "output_type": "error",
     "traceback": [
      "Items currently need to be explicitly made pub along with all fields of structs."
     ]
    }
   ],
   "source": [
    "// One input reference with lifetime `'a` which must live\n",
    "// at least as long as the function.\n",
    "fn print_one<'a>(x: &'a i32) {\n",
    "    println!(\"`print_one`: x is {}\", x);\n",
    "}\n",
    "\n",
    "// Mutable references are possible with lifetimes as well.\n",
    "fn add_one<'a>(x: &'a mut i32) {\n",
    "    *x += 1;\n",
    "}\n",
    "\n",
    "// Multiple elements with different lifetimes. In this case, it\n",
    "// would be fine for both to have the same lifetime `'a`, but\n",
    "// in more complex cases, different lifetimes may be required.\n",
    "fn print_multi<'a, 'b>(x: &'a i32, y: &'b i32) {\n",
    "    println!(\"`print_multi`: x is {}, y is {}\", x, y);\n",
    "}\n",
    "\n",
    "// Returning references that have been passed in is acceptable.\n",
    "// However, the correct lifetime must be returned.\n",
    "fn pass_x<'a, 'b>(x: &'a i32, _: &'b i32) -> &'a i32 { x }\n",
    "\n",
    "//fn invalid_output<'a>() -> &'a String { &String::from(\"foo\") }\n",
    "// The above is invalid: `'a` must live longer than the function.\n",
    "// Here, `&String::from(\"foo\")` would create a `String`, followed by a\n",
    "// reference. Then the data is dropped upon exiting the scope, leaving\n",
    "// a reference to invalid data to be returned.\n",
    "\n",
    "fn main() {\n",
    "    let x = 7;\n",
    "    let y = 9;\n",
    "    \n",
    "    print_one(&x);\n",
    "    print_multi(&x, &y);\n",
    "    \n",
    "    let z = pass_x(&x, &y);\n",
    "    print_one(z);\n",
    "\n",
    "    let mut t = 3;\n",
    "    add_one(&mut t);\n",
    "    print_one(&t);\n",
    "}\n"
   ]
  },
  {
   "cell_type": "markdown",
   "metadata": {
    "editable": false,
    "deletable": false
   },
   "source": [
    "## See also:\n",
    "\n",
    "[functions](https://doc.rust-lang.org/rust-by-example/fn.html)"
   ]
  },
  {
   "cell_type": "markdown",
   "metadata": {
    "editable": false,
    "deletable": false
   },
   "source": [
    "---\n",
    "# 15.4.3. [Methods](#15-Scoping-rules)\n",
    "\n",
    "Methods are annotated similarly to functions:"
   ]
  },
  {
   "cell_type": "code",
   "execution_count": 14,
   "metadata": {
    "editable": true,
    "deletable": false
   },
   "outputs": [
    {
     "ename": "Error",
     "evalue": "Items currently need to be explicitly made pub along with all fields of structs.",
     "output_type": "error",
     "traceback": [
      "Items currently need to be explicitly made pub along with all fields of structs."
     ]
    }
   ],
   "source": [
    "struct Owner(i32);\n",
    "\n",
    "impl Owner {\n",
    "    // Annotate lifetimes as in a standalone function.\n",
    "    fn add_one<'a>(&'a mut self) { self.0 += 1; }\n",
    "    fn print<'a>(&'a self) {\n",
    "        println!(\"`print`: {}\", self.0);\n",
    "    }\n",
    "}\n",
    "\n",
    "fn main() {\n",
    "    let mut owner = Owner(18);\n",
    "\n",
    "    owner.add_one();\n",
    "    owner.print();\n",
    "}"
   ]
  },
  {
   "cell_type": "markdown",
   "metadata": {
    "editable": false,
    "deletable": false
   },
   "source": [
    "## See also:\n",
    "\n",
    "[methods](https://doc.rust-lang.org/rust-by-example/fn/methods.html)"
   ]
  },
  {
   "cell_type": "markdown",
   "metadata": {
    "editable": false,
    "deletable": false
   },
   "source": [
    "---\n",
    "# 15.4.4. [Structs](#15-Scoping-rules)\n",
    "\n",
    "Annotation of lifetimes in structures are also similar to functions:"
   ]
  },
  {
   "cell_type": "code",
   "execution_count": 15,
   "metadata": {
    "editable": true,
    "deletable": false
   },
   "outputs": [
    {
     "ename": "Error",
     "evalue": "Items currently need to be explicitly made pub along with all fields of structs.",
     "output_type": "error",
     "traceback": [
      "Items currently need to be explicitly made pub along with all fields of structs."
     ]
    }
   ],
   "source": [
    "// A type `Borrowed` which houses a reference to an\n",
    "// `i32`. The reference to `i32` must outlive `Borrowed`.\n",
    "#[derive(Debug)]\n",
    "struct Borrowed<'a>(&'a i32);\n",
    "\n",
    "// Similarly, both references here must outlive this structure.\n",
    "#[derive(Debug)]\n",
    "struct NamedBorrowed<'a> {\n",
    "    x: &'a i32,\n",
    "    y: &'a i32,\n",
    "}\n",
    "\n",
    "// An enum which is either an `i32` or a reference to one.\n",
    "#[derive(Debug)]\n",
    "enum Either<'a> {\n",
    "    Num(i32),\n",
    "    Ref(&'a i32),\n",
    "}\n",
    "\n",
    "fn main() {\n",
    "    let x = 18;\n",
    "    let y = 15;\n",
    "\n",
    "    let single = Borrowed(&x);\n",
    "    let double = NamedBorrowed { x: &x, y: &y };\n",
    "    let reference = Either::Ref(&x);\n",
    "    let number    = Either::Num(y);\n",
    "\n",
    "    println!(\"x is borrowed in {:?}\", single);\n",
    "    println!(\"x and y are borrowed in {:?}\", double);\n",
    "    println!(\"x is borrowed in {:?}\", reference);\n",
    "    println!(\"y is *not* borrowed in {:?}\", number);\n",
    "}\n"
   ]
  },
  {
   "cell_type": "markdown",
   "metadata": {
    "editable": false,
    "deletable": false
   },
   "source": [
    "## See also:\n",
    "\n",
    "[`struct`](https://doc.rust-lang.org/rust-by-example/custom_types/structs.html)s"
   ]
  },
  {
   "cell_type": "markdown",
   "metadata": {
    "editable": false,
    "deletable": false
   },
   "source": [
    "---\n",
    "# 15.4.5. [Traits](#15-Scoping-rules)\n",
    "\n",
    "Annotation of lifetimes in trait methods basically are similar to functions. Note that `impl` may have annotation of lifetimes too."
   ]
  },
  {
   "cell_type": "code",
   "execution_count": 16,
   "metadata": {
    "editable": true,
    "deletable": false
   },
   "outputs": [
    {
     "ename": "Error",
     "evalue": "Items currently need to be explicitly made pub along with all fields of structs.",
     "output_type": "error",
     "traceback": [
      "Items currently need to be explicitly made pub along with all fields of structs."
     ]
    }
   ],
   "source": [
    "// A struct with annotation of lifetimes.\n",
    "#[derive(Debug)]\n",
    " struct Borrowed<'a> {\n",
    "     x: &'a i32,\n",
    " }\n",
    "\n",
    "// Annotate lifetimes to impl.\n",
    "impl<'a> Default for Borrowed<'a> {\n",
    "    fn default() -> Self {\n",
    "        Self {\n",
    "            x: &10,\n",
    "        }\n",
    "    }\n",
    "}\n",
    "\n",
    "fn main() {\n",
    "    let b: Borrowed = Default::default();\n",
    "    println!(\"b is {:?}\", b);\n",
    "}\n"
   ]
  },
  {
   "cell_type": "markdown",
   "metadata": {
    "editable": false,
    "deletable": false
   },
   "source": [
    "## See also:\n",
    "\n",
    "[`trait`](https://doc.rust-lang.org/rust-by-example/trait.html)s"
   ]
  },
  {
   "cell_type": "markdown",
   "metadata": {
    "editable": false,
    "deletable": false
   },
   "source": [
    "---\n",
    "# 15.4.6. [Bounds](#15-Scoping-rules)\n",
    "\n",
    "Just like generic types can be bounded, lifetimes (themselves generic) use bounds as well. The `:` character has a slightly different meaning here, but `+` is the same. Note how the following read:\n",
    "\n",
    "1. `T: 'a`: All references in `T` must outlive lifetime `'a`.\n",
    "2. `T: Trait + 'a`: Type `T` must implement trait `Trait` and all references in `T` must outlive `'a`.\n",
    "\n",
    "The example below shows the above syntax in action used after keyword `where`:"
   ]
  },
  {
   "cell_type": "code",
   "execution_count": null,
   "metadata": {
    "editable": true,
    "deletable": false
   },
   "outputs": [],
   "source": [
    "use std::fmt::Debug; // Trait to bound with.\n",
    "\n",
    "#[derive(Debug)]\n",
    "struct Ref<'a, T: 'a>(&'a T);\n",
    "// `Ref` contains a reference to a generic type `T` that has\n",
    "// an unknown lifetime `'a`. `T` is bounded such that any\n",
    "// *references* in `T` must outlive `'a`. Additionally, the lifetime\n",
    "// of `Ref` may not exceed `'a`.\n",
    "\n",
    "// A generic function which prints using the `Debug` trait.\n",
    "fn print<T>(t: T) where\n",
    "    T: Debug {\n",
    "    println!(\"`print`: t is {:?}\", t);\n",
    "}\n",
    "\n",
    "// Here a reference to `T` is taken where `T` implements\n",
    "// `Debug` and all *references* in `T` outlive `'a`. In\n",
    "// addition, `'a` must outlive the function.\n",
    "fn print_ref<'a, T>(t: &'a T) where\n",
    "    T: Debug + 'a {\n",
    "    println!(\"`print_ref`: t is {:?}\", t);\n",
    "}\n",
    "\n",
    "fn main() {\n",
    "    let x = 7;\n",
    "    let ref_x = Ref(&x);\n",
    "\n",
    "    print_ref(&ref_x);\n",
    "    print(ref_x);\n",
    "}\n"
   ]
  },
  {
   "cell_type": "markdown",
   "metadata": {
    "editable": false,
    "deletable": false
   },
   "source": [
    "## See also:\n",
    "\n",
    "[generics](https://doc.rust-lang.org/rust-by-example/generics.html), [bounds in generics](https://doc.rust-lang.org/rust-by-example/generics/bounds.html), and [multiple bounds in generics](https://doc.rust-lang.org/rust-by-example/generics/multi_bounds.html)"
   ]
  },
  {
   "cell_type": "markdown",
   "metadata": {
    "editable": false,
    "deletable": false
   },
   "source": [
    "---\n",
    "# 15.4.7. [Coercion](#15-Scoping-rules)\n",
    "\n",
    "A longer lifetime can be coerced into a shorter one so that it works inside a scope it normally wouldn't work in. This comes in the form of inferred coercion by the Rust compiler, and also in the form of declaring a lifetime difference:"
   ]
  },
  {
   "cell_type": "code",
   "execution_count": 17,
   "metadata": {
    "editable": true,
    "deletable": false
   },
   "outputs": [
    {
     "ename": "Error",
     "evalue": "Items currently need to be explicitly made pub along with all fields of structs.",
     "output_type": "error",
     "traceback": [
      "Items currently need to be explicitly made pub along with all fields of structs."
     ]
    }
   ],
   "source": [
    "// Here, Rust infers a lifetime that is as short as possible.\n",
    "// The two references are then coerced to that lifetime.\n",
    "fn multiply<'a>(first: &'a i32, second: &'a i32) -> i32 {\n",
    "    first * second\n",
    "}\n",
    "\n",
    "// `<'a: 'b, 'b>` reads as lifetime `'a` is at least as long as `'b`.\n",
    "// Here, we take in an `&'a i32` and return a `&'b i32` as a result of coercion.\n",
    "fn choose_first<'a: 'b, 'b>(first: &'a i32, _: &'b i32) -> &'b i32 {\n",
    "    first\n",
    "}\n",
    "\n",
    "fn main() {\n",
    "    let first = 2; // Longer lifetime\n",
    "    \n",
    "    {\n",
    "        let second = 3; // Shorter lifetime\n",
    "        \n",
    "        println!(\"The product is {}\", multiply(&first, &second));\n",
    "        println!(\"{} is the first\", choose_first(&first, &second));\n",
    "    };\n",
    "}\n"
   ]
  },
  {
   "cell_type": "markdown",
   "metadata": {
    "editable": false,
    "deletable": false
   },
   "source": [
    "---\n",
    "# 15.4.8. [Static](#15-Scoping-rules)\n",
    "\n",
    "A `'static` lifetime is the longest possible lifetime, and lasts for the lifetime of the running program. A `'static` lifetime may also be coerced to a shorter lifetime. There are two ways to make a variable with `'static` lifetime, and both are stored in the read-only memory of the binary:\n",
    "\n",
    "* Make a constant with the `static` declaration.\n",
    "\n",
    "* Make a `string` literal which has type: `&'static str`.\n",
    "\n",
    "See the following example for a display of each method:"
   ]
  },
  {
   "cell_type": "code",
   "execution_count": null,
   "metadata": {
    "editable": true,
    "deletable": false
   },
   "outputs": [],
   "source": [
    "// Make a constant with `'static` lifetime.\n",
    "static NUM: i32 = 18;\n",
    "\n",
    "// Returns a reference to `NUM` where its `'static` \n",
    "// lifetime is coerced to that of the input argument.\n",
    "fn coerce_static<'a>(_: &'a i32) -> &'a i32 {\n",
    "    &NUM\n",
    "}\n",
    "\n",
    "fn main() {\n",
    "    {\n",
    "        // Make a `string` literal and print it:\n",
    "        let static_string = \"I'm in read-only memory\";\n",
    "        println!(\"static_string: {}\", static_string);\n",
    "\n",
    "        // When `static_string` goes out of scope, the reference\n",
    "        // can no longer be used, but the data remains in the binary.\n",
    "    }\n",
    "    \n",
    "    {\n",
    "        // Make an integer to use for `coerce_static`:\n",
    "        let lifetime_num = 9;\n",
    "\n",
    "        // Coerce `NUM` to lifetime of `lifetime_num`:\n",
    "        let coerced_static = coerce_static(&lifetime_num);\n",
    "\n",
    "        println!(\"coerced_static: {}\", coerced_static);\n",
    "    }\n",
    "    \n",
    "    println!(\"NUM: {} stays accessible!\", NUM);\n",
    "}\n"
   ]
  },
  {
   "cell_type": "markdown",
   "metadata": {
    "editable": false,
    "deletable": false
   },
   "source": [
    "## See also:\n",
    "\n",
    "[`'static` constants](https://doc.rust-lang.org/rust-by-example/custom_types/constants.html)"
   ]
  },
  {
   "cell_type": "markdown",
   "metadata": {
    "editable": false,
    "deletable": false
   },
   "source": [
    "---\n",
    "# 15.4.9. [Elision](#15-Scoping-rules)\n",
    "\n",
    "Some lifetime patterns are overwhelmingly common and so the borrow checker will implicitly add them to save typing and to improve readability. This process of implicit addition is called elision. Elision exists in Rust solely because these patterns are common.\n",
    "\n",
    "The following code shows a few examples of elision. For a more comprehensive description of elision, see [lifetime elision](https://doc.rust-lang.org/book/ch10-03-lifetime-syntax.html#lifetime-elision) in the book."
   ]
  },
  {
   "cell_type": "code",
   "execution_count": 18,
   "metadata": {
    "editable": true,
    "deletable": false
   },
   "outputs": [
    {
     "ename": "Error",
     "evalue": "Items currently need to be explicitly made pub along with all fields of structs.",
     "output_type": "error",
     "traceback": [
      "Items currently need to be explicitly made pub along with all fields of structs."
     ]
    }
   ],
   "source": [
    "// `elided_input` and `annotated_input` essentially have identical signatures\n",
    "// because the lifetime of `elided_input` is elided by the compiler:\n",
    "fn elided_input(x: &i32) {\n",
    "    println!(\"`elided_input`: {}\", x);\n",
    "}\n",
    "\n",
    "fn annotated_input<'a>(x: &'a i32) {\n",
    "    println!(\"`annotated_input`: {}\", x);\n",
    "}\n",
    "\n",
    "// Similarly, `elided_pass` and `annotated_pass` have identical signatures\n",
    "// because the lifetime is added implicitly to `elided_pass`:\n",
    "fn elided_pass(x: &i32) -> &i32 { x }\n",
    "\n",
    "fn annotated_pass<'a>(x: &'a i32) -> &'a i32 { x }\n",
    "\n",
    "fn main() {\n",
    "    let x = 3;\n",
    "\n",
    "    elided_input(&x);\n",
    "    annotated_input(&x);\n",
    "\n",
    "    println!(\"`elided_pass`: {}\", elided_pass(&x));\n",
    "    println!(\"`annotated_pass`: {}\", annotated_pass(&x));\n",
    "}\n"
   ]
  },
  {
   "cell_type": "markdown",
   "metadata": {
    "editable": false,
    "deletable": false
   },
   "source": [
    "## See also:\n",
    "\n",
    "[elision](https://doc.rust-lang.org/book/ch10-03-lifetime-syntax.html#lifetime-elision)"
   ]
  }
 ],
 "metadata": {
  "kernelspec": {
   "display_name": "Rust",
   "language": "rust",
   "name": "rust"
  },
  "language_info": {
   "codemirror_mode": "rust",
   "file_extension": ".rs",
   "mimetype": "text/rust",
   "name": "Rust",
   "pygment_lexer": "rust",
   "version": ""
  }
 },
 "nbformat": 4,
 "nbformat_minor": 2
}