{
 "cells": [
  {
   "cell_type": "markdown",
   "metadata": {},
   "source": [
    "# Evaluation Context for Rust - EvCxR\n",
    "\n",
    "**EvCxR** = **Ev**aluation **C**onte**x**t for **R**ust\n",
    "\n",
    "File: evcxr_demo_3.ipynb\n",
    "\n",
    "Presentation to: Waikato Linux User Group\n",
    "\n",
    "Author: Ian Stewart\n",
    "\n",
    "Date: xx xxx 2019\n",
    "\n",
    "Repository: https://github.com/WLUG/meetings/tree/master/2019/2019-xx-xx\n",
    "\n",
    "EvCxR is a Juypter Kernel that allows Jupyter notebook to run the Rust programming language."
   ]
  },
  {
   "cell_type": "markdown",
   "metadata": {},
   "source": [
    "# Simplification of iteration\n",
    "\n",
    "Examples below produce the same result."
   ]
  },
  {
   "cell_type": "code",
   "execution_count": null,
   "metadata": {},
   "outputs": [],
   "source": [
    "// Loop method\n",
    "main(); // For Jupyter only. Remove when using this code in a .rs file\n",
    "\n",
    "pub fn main() {\n",
    "    // Call the function solve and pass the value 6\n",
    "    println!(\"Sum of all numbers less than {} = {}\", 6, solve(6));\n",
    "}\n",
    "\n",
    "pub fn solve(n: i64) -> i64 {\n",
    "    let mut result = 0;\n",
    "    let mut i = 0;\n",
    "\n",
    "    loop {\n",
    "        if i >= n {\n",
    "            break;\n",
    "        }\n",
    "        result += i;\n",
    "        i += 1;\n",
    "    }\n",
    "    return result;\n",
    "}"
   ]
  },
  {
   "cell_type": "code",
   "execution_count": null,
   "metadata": {},
   "outputs": [],
   "source": [
    "// For method\n",
    "main(); // For Jupyter only. Remove when using this code in a .rs file\n",
    "\n",
    "pub fn main() {\n",
    "    // Call the function solve and pass the value 6\n",
    "    println!(\"Sum of all numbers less than {} = {}\", 6, solve(6));\n",
    "}\n",
    "\n",
    "pub fn solve(n: i64) -> i64 {\n",
    "    let mut result = 0;\n",
    "\n",
    "    for i in 0..n {\n",
    "    result += i;\n",
    "    }\n",
    "    // Note: Last line of function doesn't require a \"return result\" or a \";\"\n",
    "    result\n",
    "}"
   ]
  },
  {
   "cell_type": "code",
   "execution_count": null,
   "metadata": {},
   "outputs": [],
   "source": [
    "// range (0..n) with iterators sum() method\n",
    "main(); // For Jupyter only. Remove when using this code in a .rs file\n",
    "\n",
    "pub fn main() {\n",
    "    // Call the function solve and pass the value 6\n",
    "    // Use sum method of iteratoration over a range.\n",
    "    println!(\"Sum of all numbers less than {} = {}\", 6, solve(6));\n",
    "}\n",
    "\n",
    "// Sum all the numbers from 0 to n-1\n",
    "pub fn solve(n: i64) -> i64 {\n",
    "    (0..n).sum()\n",
    "}"
   ]
  },
  {
   "cell_type": "markdown",
   "metadata": {},
   "source": [
    "## Iterator References\n",
    "\n",
    "Trait std::iter::Iterator\n",
    "https://doc.rust-lang.org/std/iter/trait.Iterator.html\n",
    "\n",
    "Iterator Method: Sum\n",
    "https://doc.rust-lang.org/std/iter/trait.Iterator.html#method.sum\n",
    "\n",
    "Iterator Method: Product (like Factorial)\n",
    "https://doc.rust-lang.org/std/iter/trait.Iterator.html#method.product\n",
    "\n",
    "Range: https://doc.rust-lang.org/std/ops/struct.Range.html\n"
   ]
  },
  {
   "cell_type": "code",
   "execution_count": null,
   "metadata": {},
   "outputs": [],
   "source": [
    "// Range (0..n) with iterators  product() method\n",
    "\n",
    "// Call the function solve and pass the value 6\n",
    "// Equivales of 5! (factorial 5)\n",
    "\n",
    "main(); // For Jupyter only. Remove when using this code in a .rs file\n",
    "\n",
    "pub fn main() {\n",
    "    println!(\"Product of all numbers from 1 to less than {} = {}\", 6, solve(6));\n",
    "}\n",
    "\n",
    "// Product of all the numbers from 1 to n-1.\n",
    "pub fn solve(n: i64) -> i64 {\n",
    "    (1..n).product()\n",
    "}"
   ]
  },
  {
   "cell_type": "code",
   "execution_count": null,
   "metadata": {},
   "outputs": [],
   "source": [
    "// Range (0..n) with iterators  product() method\n",
    "// Call the function solve and pass the value 21\n",
    "// Equivales of 20! (factorial 20)\n",
    "\n",
    "main(); // For Jupyter only. Remove when using this code in a .rs file\n",
    "\n",
    "pub fn main() {\n",
    "    println!(\"Product of all numbers from 1 to less than {} = {}\", 21, solve(21));\n",
    "}\n",
    "\n",
    "// Product of all the numbers from 1 to n-1.\n",
    "pub fn solve(n: i64) -> i64 {\n",
    "    (1..n).product()\n",
    "}"
   ]
  },
  {
   "cell_type": "code",
   "execution_count": null,
   "metadata": {},
   "outputs": [],
   "source": [
    "// Range (0..n) with iterators  product() method\n",
    "// Call the function solve and pass the value 22\n",
    "// Equivales of 21! (factorial 21)\n",
    "// A bit big for i64 \n",
    "\n",
    "main(); // For Jupyter only. Remove when using this code in a .rs file\n",
    "\n",
    "pub fn main() {\n",
    "    println!(\"Product of all numbers from 1 to less than {} = {}\", 22, solve(22));\n",
    "}\n",
    "\n",
    "// Product of all the numbers from 1 to n-1.\n",
    "pub fn solve(n: i64) -> i64 {\n",
    "    (1..n).product()\n",
    "}"
   ]
  },
  {
   "cell_type": "code",
   "execution_count": null,
   "metadata": {},
   "outputs": [],
   "source": []
  }
 ],
 "metadata": {
  "kernelspec": {
   "display_name": "Rust",
   "language": "rust",
   "name": "rust"
  },
  "language_info": {
   "codemirror_mode": "rust",
   "file_extension": ".rs",
   "mimetype": "text/rust",
   "name": "Rust",
   "pygment_lexer": "rust",
   "version": ""
  }
 },
 "nbformat": 4,
 "nbformat_minor": 2
}
