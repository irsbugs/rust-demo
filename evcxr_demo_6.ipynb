{
 "cells": [
  {
   "cell_type": "markdown",
   "metadata": {},
   "source": [
    "# Evaluation Context for Rust - EvCxR\n",
    "\n",
    "**EvCxR** = **Ev**aluation **C**onte**x**t for **R**ust\n",
    "\n",
    "File: evcxr_demo_6.ipynb\n",
    "\n",
    "Presentation to: Waikato Linux User Group\n",
    "\n",
    "Author: Ian Stewart\n",
    "\n",
    "Date: xx xxx 2019\n",
    "\n",
    "Repository: https://github.com/WLUG/meetings/tree/master/2019/2019-xx-xx\n",
    "\n",
    "EvCxR is a Juypter Kernel that allows Jupyter notebook to run the Rust programming language."
   ]
  },
  {
   "cell_type": "markdown",
   "metadata": {},
   "source": [
    "# Writing to a File\n",
    "\n",
    "For reading and writing to a file, refer to:\n",
    "\n",
    "https://stackoverflow.com/questions/31192956/whats-the-de-facto-way-of-reading-and-writing-files-in-rust-1-x\n",
    "\n",
    "Note: You must be online to access the chrono crate."
   ]
  },
  {
   "cell_type": "code",
   "execution_count": null,
   "metadata": {
    "scrolled": false
   },
   "outputs": [],
   "source": [
    "extern crate chrono;\n",
    "use chrono::{DateTime, Utc, Local};\n",
    "use std::fs;\n",
    "main(); // For Jupyter only. Remove when using this code in a .rs file\n",
    "\n",
    "pub fn main() {\n",
    "    // Create a time stamp to go in the file\n",
    "    let now: DateTime<Local> = Local::now();\n",
    "    println!(\"Time now is: {}\", now);\n",
    "\n",
    "    // Build the lines of string to go in the file\n",
    "    let mut data = \"Data written to this file at \".to_string();\n",
    "    let line_2 = \"This is line 2 of the text document. \\n\";\n",
    "    let line_3 = \"This is line 3 of the text document. \\n\";\n",
    "\n",
    "    // push the formated time as a string to data, and add other lines\n",
    "    data.push_str(&now.format(\"%T on %e %b %Y which is %A \\n\").to_string());\n",
    "    data.push_str(line_2);\n",
    "    data.push_str(line_3);\n",
    "\n",
    "    println!(\"What will be written to the file...\");\n",
    "    println!(\"{}\", data);\n",
    "    \n",
    "    // Write to file data_file_1\n",
    "    //s::write(\"data_file_1\", data).expect(\"Unable to write file\");\n",
    "    //fs::write(\"data_file_1\", data);\n",
    "    fs::write(\"/dev/full\", data).expect(\"Unable to write file\");\n",
    "    println!(\"Finshed writing to data_file_1. Review the file to check its contents\");\n",
    "    \n",
    "}"
   ]
  },
  {
   "cell_type": "markdown",
   "metadata": {},
   "source": [
    "# Alternative method #1\n",
    "\n",
    "Alternative method to write text to file called data_file_2.\n",
    "\n",
    "Refer to stackoverflow article.\n",
    "\n",
    "Slightly more verbose than the one-line functions that allocate a String or Vec for you, but are more powerful in that you can reuse allocated data or append to an existing object.\n",
    "\n",
    "We use the Write trait and we always write out bytes. You can convert a String / &str to bytes with as_bytes:"
   ]
  },
  {
   "cell_type": "code",
   "execution_count": null,
   "metadata": {},
   "outputs": [],
   "source": [
    "use std::fs::File;\n",
    "use std::io::{BufWriter, Write};\n",
    "// Not using the BufWriter - Used in next method\n",
    "main(); // For Jupyter only. Remove when using this code in a .rs file\n",
    "\n",
    "pub fn main() {\n",
    "    let data = \"This is the data that will be in data_file_2\";\n",
    "    let mut f = File::create(\"data_file_2\").expect(\"Unable to create file\");\n",
    "    \n",
    "    f.write_all(data.as_bytes()).expect(\"Unable to write data\");\n",
    "\n",
    "    println!(\"Finshed writing to data_file_2. Please review to check its contents\")\n",
    "}    "
   ]
  },
  {
   "cell_type": "markdown",
   "metadata": {},
   "source": [
    "## Alternative method #2\n",
    "\n",
    "Write using buffered io.\n",
    "Refer to link for more details...\n",
    "\n",
    "https://stackoverflow.com/questions/31192956/whats-the-de-facto-way-of-reading-and-writing-files-in-rust-1-x\n",
    "\n"
   ]
  },
  {
   "cell_type": "code",
   "execution_count": null,
   "metadata": {},
   "outputs": [],
   "source": [
    "use std::fs::File;\n",
    "use std::io::{BufWriter, Write};\n",
    "main(); // For Jupyter only. Remove when using this code in a .rs file\n",
    "\n",
    "pub fn main() {\n",
    "    let data = \"Some data written using buffer io to data_file_3.\";\n",
    "    \n",
    "    let f = File::create(\"data_file_3\").expect(\"Unable to create file\");\n",
    "    let mut f = BufWriter::new(f);\n",
    "    f.write_all(data.as_bytes()).expect(\"Unable to write data\");\n",
    "\n",
    "    println!(\"Finshed writing to data_file_3\")\n",
    "}    "
   ]
  },
  {
   "cell_type": "markdown",
   "metadata": {},
   "source": [
    "## Attempt writing to a full file system\n",
    "\n",
    "Due to expect() trait, this will display an error."
   ]
  },
  {
   "cell_type": "code",
   "execution_count": null,
   "metadata": {},
   "outputs": [],
   "source": [
    "use std::fs;\n",
    "main(); // For Jupyter only. Remove when using this code in a .rs file\n",
    "\n",
    "pub fn main() {\n",
    "    // Build the lines of string to go in the file\n",
    "    let data = \"This is line 1 of the text document.\n",
    "This is line 2 of the text document.\n",
    "This is line 3 of the text document.\";\n",
    "\n",
    "    println!(\"The following will be attempted to be written to /dev/full...\");\n",
    "    println!(\"{}\", data);\n",
    "    \n",
    "    // Write to file data_file_1\n",
    "    //fs::write(\"data_file_1\", data).expect(\"Unable to write file\");\n",
    "\n",
    "    // Write to a simulated full device\n",
    "    fs::write(\"/dev/full\", data).expect(\"Unable to write file\");\n",
    "    \n",
    "    println!(\"Finshed attempt to write to /dev/full\");\n",
    "    \n",
    "}"
   ]
  },
  {
   "cell_type": "markdown",
   "metadata": {},
   "source": [
    "## Attempt to use flush"
   ]
  },
  {
   "cell_type": "code",
   "execution_count": null,
   "metadata": {},
   "outputs": [],
   "source": [
    "// TODO: Get exmple using flush to work\n",
    "// Try this to add the flush and see what happens.\n",
    "use std::io::prelude::*;\n",
    "use std::io::BufWriter;\n",
    "use std::fs::File;\n",
    "\n",
    "/*\n",
    "main(); // For Jupyter only. Remove when using this code in a .rs file\n",
    "\n",
    "pub fn main() -> std::io::Result<()> {\n",
    "    let mut buffer = BufWriter::new(File::create(\"data_file_4\")?);\n",
    "\n",
    "    buffer.write_all(b\"some bytes written to data_file_4\")?;\n",
    "    buffer.flush()?;\n",
    "    Ok(());\n",
    "}\n",
    "*/\n",
    "\n",
    "let mut buffer = BufWriter::new(File::create(\"data_file_4\"));\n",
    "\n",
    "buffer.write_all(b\"some bytes written to data_file_4\")?;\n",
    "buffer.flush()?;\n",
    "Ok(());\n"
   ]
  }
 ],
 "metadata": {
  "kernelspec": {
   "display_name": "Rust",
   "language": "rust",
   "name": "rust"
  },
  "language_info": {
   "codemirror_mode": "rust",
   "file_extension": ".rs",
   "mimetype": "text/rust",
   "name": "Rust",
   "pygment_lexer": "rust",
   "version": ""
  }
 },
 "nbformat": 4,
 "nbformat_minor": 2
}
