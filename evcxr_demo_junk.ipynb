{
 "cells": [
  {
   "cell_type": "markdown",
   "metadata": {},
   "source": [
    "# Evaluation Context for Rust - EvCxR\n",
    "\n",
    "**EvCxR** = **Ev**aluation **C**onte**x**t for **R**ust\n",
    "\n",
    "File: evcxr_demo_junk.ipynb\n",
    "\n",
    "Presentation to: Waikato Linux User Group\n",
    "\n",
    "Author: Ian Stewart\n",
    "\n",
    "Date: xx xxx 2019\n",
    "\n",
    "Repository: https://github.com/WLUG/meetings/tree/master/2019/2019-xx-xx\n",
    "\n",
    "EvCxR is a Juypter Kernel that allows Jupyter notebook to run the Rust programming language."
   ]
  },
  {
   "cell_type": "markdown",
   "metadata": {},
   "source": [
    "## Attempt to run gtk\n"
   ]
  },
  {
   "cell_type": "code",
   "execution_count": null,
   "metadata": {},
   "outputs": [],
   "source": [
    "// https://crates.io/\n",
    "// https://github.com/gtk-rs/gtk\n",
    "// https://gtk-rs.org/#using\n",
    "\n",
    "extern crate gtk;\n",
    "use gtk::prelude::*;\n",
    "use gtk::{ButtonsType, DialogFlags, MessageType, MessageDialog, Window};\n",
    "main(); // For Jupyter only. Remove when using this code in a .rs file\n",
    "\n",
    "pub fn main() {\n",
    "    if gtk::init().is_err() {\n",
    "        println!(\"Failed to initialize GTK.\");\n",
    "        return;\n",
    "    }\n",
    "    MessageDialog::new(None::<&Window>,\n",
    "                       DialogFlags::empty(),\n",
    "                       MessageType::Info,\n",
    "                       ButtonsType::Ok,\n",
    "                       \"Hello World\").run();\n",
    "}"
   ]
  }
 ],
 "metadata": {
  "kernelspec": {
   "display_name": "Rust",
   "language": "rust",
   "name": "rust"
  },
  "language_info": {
   "codemirror_mode": "rust",
   "file_extension": ".rs",
   "mimetype": "text/rust",
   "name": "Rust",
   "pygment_lexer": "rust",
   "version": ""
  }
 },
 "nbformat": 4,
 "nbformat_minor": 2
}
