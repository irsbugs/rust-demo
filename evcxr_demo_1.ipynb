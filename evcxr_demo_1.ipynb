{
 "cells": [
  {
   "cell_type": "markdown",
   "metadata": {},
   "source": [
    "# Evaluation Context for Rust - EvCxR\n",
    "\n",
    "**EvCxR** = **Ev**aluation **C**onte**x**t for **R**ust\n",
    "\n",
    "File: evcxr_demo_1.ipynb\n",
    "\n",
    "Presentation to: Waikato Linux User Group\n",
    "\n",
    "Author: Ian Stewart\n",
    "\n",
    "Date: xx xxx 2019\n",
    "\n",
    "Repository: https://github.com/WLUG/meetings/tree/master/2019/2019-xx-xx\n",
    "\n",
    "EvCxR is a Juypter Kernel that allows Jupyter notebook to run the Rust programming language.\n",
    "\n",
    "Link to installing EvCxR to Jupyter:\n",
    "\n",
    "https://github.com/google/evcxr/blob/master/evcxr_jupyter/README.md"
   ]
  },
  {
   "cell_type": "markdown",
   "metadata": {},
   "source": [
    "# Variations between Jupyter EvCxR and normal Rust source code\n",
    "\n",
    "Normally Rust source code is written using a text editor (or IDE environment editor) and the source code files have a *.rs* extension. The rustc compiler expects to find a function in the source code called *main()*. If it doesn't then it will issue an error message that includes something along these lines:\n",
    "\n",
    "```\n",
    "error[E0601]: `main` function not found in crate `hello_world`\n",
    "```\n",
    "Thus it is not possible to compile Rust source code if it only contained the line:\n",
    "```\n",
    "println!(\"Hello World\");\n",
    "```\n",
    "With Jupyter EvCxR it is possible to execute a cell that does not contain a *main()* function."
   ]
  },
  {
   "cell_type": "markdown",
   "metadata": {},
   "source": [
    "## EvCxR code sample without main() function"
   ]
  },
  {
   "cell_type": "code",
   "execution_count": 42,
   "metadata": {},
   "outputs": [
    {
     "name": "stdout",
     "output_type": "stream",
     "text": [
      "Hello World\n"
     ]
    }
   ],
   "source": [
    "// Example of ExCxR cell outputing Hello World.\n",
    "\n",
    "println!(\"Hello World\");"
   ]
  },
  {
   "cell_type": "markdown",
   "metadata": {},
   "source": [
    "## Rust code that does compile and run OK\n",
    "\n",
    "In normal rust code a main() function appears to be needed.\n",
    "\n",
    "```\n",
    "$ cat hello_world.rs\n",
    "\n",
    "fn main() {\n",
    "    println!(\"Hello World\");\n",
    "}\n",
    "\n",
    "$ rustc hello_world.rs\n",
    "\n",
    "$ ./hello_world\n",
    "Hello World\n",
    "\n",
    "```"
   ]
  },
  {
   "cell_type": "markdown",
   "metadata": {},
   "source": [
    "## Attempt to run normal rust code in EvCxR cell"
   ]
  },
  {
   "cell_type": "code",
   "execution_count": 43,
   "metadata": {},
   "outputs": [
    {
     "ename": "Error",
     "evalue": "Items currently need to be explicitly made pub along with all fields of structs.",
     "output_type": "error",
     "traceback": [
      "Items currently need to be explicitly made pub along with all fields of structs."
     ]
    }
   ],
   "source": [
    "fn main() {\n",
    "    println!(\"Hello World\");\n",
    "}"
   ]
  },
  {
   "cell_type": "markdown",
   "metadata": {},
   "source": [
    "## Change the function to public, but now no output when run"
   ]
  },
  {
   "cell_type": "code",
   "execution_count": 44,
   "metadata": {},
   "outputs": [],
   "source": [
    "pub fn main() {\n",
    "    println!(\"Hello World\");\n",
    "}"
   ]
  },
  {
   "cell_type": "markdown",
   "metadata": {},
   "source": [
    "# Solution: Begin with a main() call to a public main() function\n",
    "\n",
    "If this code it to be ported from this EvCxR cell to an editor to create a *.rs* source file then don't copy across the *main();* call and optionally remove the *pub* that is forcing a public declaration of the main() function."
   ]
  },
  {
   "cell_type": "code",
   "execution_count": 45,
   "metadata": {},
   "outputs": [
    {
     "name": "stdout",
     "output_type": "stream",
     "text": [
      "Hello World\n"
     ]
    }
   ],
   "source": [
    "main(); // For Jupyter only. Remove when using this code in a .rs file\n",
    "\n",
    "pub fn main() {\n",
    "    println!(\"Hello World\");\n",
    "}"
   ]
  },
  {
   "cell_type": "markdown",
   "metadata": {},
   "source": [
    "## Code in EvCxR cells can be written as though you are already in the main() function\n",
    "\n",
    "In the following cell its as though the two lines...\n",
    "```\n",
    "let number = 5;\n",
    "print_a_number(number);\n",
    "```\n",
    "...are already in the main() function like this:\n",
    "\n",
    "```\n",
    "fn main() {\n",
    "    let number = 5;\n",
    "    print_a_number(number);\n",
    "}\n",
    "```"
   ]
  },
  {
   "cell_type": "markdown",
   "metadata": {},
   "source": [
    "## Example 1A: EvCxR code without a main() function"
   ]
  },
  {
   "cell_type": "code",
   "execution_count": 46,
   "metadata": {},
   "outputs": [
    {
     "name": "stdout",
     "output_type": "stream",
     "text": [
      "The number printed is: 5\n"
     ]
    }
   ],
   "source": [
    "// Pass a number to a function that prints the number\n",
    "\n",
    "// Assign a variable to contain a number\n",
    "let number = 5;\n",
    "\n",
    "// Call function\n",
    "print_a_number(number);\n",
    "\n",
    "// Function to print out numbers\n",
    "pub fn print_a_number(n: i64) {\n",
    "    println!(\"The number printed is: {}\", n);\n",
    "}    "
   ]
  },
  {
   "cell_type": "markdown",
   "metadata": {},
   "source": [
    "## Example 1B: EvCxR code using a main() function"
   ]
  },
  {
   "cell_type": "code",
   "execution_count": 47,
   "metadata": {},
   "outputs": [
    {
     "name": "stdout",
     "output_type": "stream",
     "text": [
      "The number printed is: 5\n"
     ]
    }
   ],
   "source": [
    "// Pass a number to a function that prints the number\n",
    "main(); // For Jupyter only. Remove when using this code in a .rs file\n",
    "\n",
    "pub fn main() {\n",
    "    // Assign a variable to contain a number\n",
    "    let number = 5;\n",
    "\n",
    "    // Call function\n",
    "    print_a_number(number);\n",
    "}\n",
    "\n",
    "// Function to print out numbers\n",
    "pub fn print_a_number(n: i64) {\n",
    "    println!(\"The number printed is: {}\", n);\n",
    "}    "
   ]
  },
  {
   "cell_type": "markdown",
   "metadata": {},
   "source": [
    "## Example 2A: EvCxR code without a main() function - Passing a string"
   ]
  },
  {
   "cell_type": "code",
   "execution_count": 48,
   "metadata": {},
   "outputs": [
    {
     "name": "stdout",
     "output_type": "stream",
     "text": [
      "The message printed is: hello world\n"
     ]
    }
   ],
   "source": [
    "// Pass a string to a function that prints a message\n",
    "// Can be done in one line with: print_a_string(\"Hello World\".to_string());\n",
    "\n",
    "// Assign a variable to contain a string\n",
    "let data_string = \"hello world\".to_string();\n",
    "\n",
    "// Call function\n",
    "print_a_string(data_string);\n",
    "\n",
    "// Function to print out messages\n",
    "pub fn print_a_string(message: String) {\n",
    "    println!(\"The message printed is: {}\", message);\n",
    "}  "
   ]
  },
  {
   "cell_type": "markdown",
   "metadata": {},
   "source": [
    "## Example 2B: EvCxR code using a main() function - passing a string"
   ]
  },
  {
   "cell_type": "code",
   "execution_count": 49,
   "metadata": {},
   "outputs": [
    {
     "name": "stdout",
     "output_type": "stream",
     "text": [
      "The message printed is: hello world\n"
     ]
    }
   ],
   "source": [
    "main(); // For Jupyter only. Remove when using this code in a .rs file\n",
    "\n",
    "pub fn main() {\n",
    "    // Assign a variable to contain a string\n",
    "    let data_string = \"hello world\".to_string();\n",
    "    // Call function\n",
    "    print_a_string(data_string);\n",
    "}\n",
    "\n",
    "// Function to print out messages\n",
    "pub fn print_a_string(message: String) {\n",
    "    println!(\"The message printed is: {}\", message);\n",
    "}  "
   ]
  },
  {
   "cell_type": "markdown",
   "metadata": {},
   "source": [
    "## Summary\n",
    "\n",
    "When writing Jupyter EvCxR cells including a *main()* function will make the code easier to port to a Rust source file.\n"
   ]
  },
  {
   "cell_type": "markdown",
   "metadata": {},
   "source": [
    "## Observation: println! marco\n",
    "\n",
    "In the above note that the `println!` macros syntax \n",
    "\n",
    "```\n",
    " println!(\"The number is: {}\", 5)\n",
    "```\n",
    "...has similarities to the Python3 format() function.\n",
    "\n",
    "```\n",
    ">>> print(\"The number is {}\".format(5))\n",
    "The number is 5\n",
    "```\n"
   ]
  }
 ],
 "metadata": {
  "kernelspec": {
   "display_name": "Rust",
   "language": "rust",
   "name": "rust"
  },
  "language_info": {
   "codemirror_mode": "rust",
   "file_extension": ".rs",
   "mimetype": "text/rust",
   "name": "Rust",
   "pygment_lexer": "rust",
   "version": ""
  }
 },
 "nbformat": 4,
 "nbformat_minor": 2
}
