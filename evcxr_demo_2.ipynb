{
 "cells": [
  {
   "cell_type": "markdown",
   "metadata": {},
   "source": [
    "# Evaluation Context for Rust - EvCxR\n",
    "\n",
    "**EvCxR** = **Ev**aluation **C**onte**x**t for **R**ust\n",
    "\n",
    "File: evcxr_demo_2.ipynb\n",
    "\n",
    "Presentation to: Waikato Linux User Group\n",
    "\n",
    "Author: Ian Stewart\n",
    "\n",
    "Date: xx xxx 2019\n",
    "\n",
    "Repository: https://github.com/WLUG/meetings/tree/master/2019/2019-xx-xx\n",
    "\n",
    "EvCxR is a Juypter Kernel that allows Jupyter notebook to run the Rust programming language."
   ]
  },
  {
   "cell_type": "markdown",
   "metadata": {},
   "source": [
    "# String Formatting of println! macro using the format! macro\n",
    "\n",
    "The println! macro outputs text and includes a formatter method.\n",
    "\n",
    "https://doc.rust-lang.org/std/fmt/\n",
    "\n",
    "The format! macro is intended to be familiar to those coming from C's printf/fprintf functions or Python's str.format function."
   ]
  },
  {
   "cell_type": "code",
   "execution_count": null,
   "metadata": {},
   "outputs": [],
   "source": [
    "// print! and println! macros to print a string of text\n",
    "main(); // For Jupyter only. Remove when using this code in a .rs file\n",
    "\n",
    "pub fn main() {\n",
    "    print!(\"Hello world \");\n",
    "    print!(\"Hello world \\n\");\n",
    "    print!(\"Hello world \\n\");\n",
    "    println!(\"This is a string of text\");\n",
    "}"
   ]
  },
  {
   "cell_type": "code",
   "execution_count": null,
   "metadata": {},
   "outputs": [],
   "source": [
    "// println! a string of text - includes newline\n",
    "main(); // For Jupyter only. Remove when using this code in a .rs file\n",
    "\n",
    "pub fn main() {\n",
    "\n",
    "    println!(\"This is the first string of text\");\n",
    "    println!(\"This is a the second string of text\");\n",
    "}"
   ]
  },
  {
   "cell_type": "code",
   "execution_count": null,
   "metadata": {},
   "outputs": [],
   "source": [
    "// Print an integer\n",
    "main(); // For Jupyter only. Remove when using this code in a .rs file\n",
    "\n",
    "pub fn main() {\n",
    "\n",
    "    println!(42);\n",
    "}"
   ]
  },
  {
   "cell_type": "code",
   "execution_count": null,
   "metadata": {},
   "outputs": [],
   "source": [
    "// Print an integer using the formatter\n",
    "main(); // For Jupyter only. Remove when using this code in a .rs file\n",
    "\n",
    "pub fn main() {\n",
    "    \n",
    "    println!(\"{}\", 42);\n",
    "}"
   ]
  },
  {
   "cell_type": "code",
   "execution_count": null,
   "metadata": {},
   "outputs": [],
   "source": [
    "// Print a string that includes an integer using the formatter\n",
    "main(); // For Jupyter only. Remove when using this code in a .rs file\n",
    "\n",
    "pub fn main() {\n",
    "    \n",
    "    println!(\"The number {} is of great significance.\", 42);\n",
    "}"
   ]
  },
  {
   "cell_type": "code",
   "execution_count": null,
   "metadata": {},
   "outputs": [],
   "source": [
    "// Add a let statement\n",
    "main(); // For Jupyter only. Remove when using this code in a .rs file\n",
    "\n",
    "pub fn main() {\n",
    "    let data = 42;\n",
    "    println!(\"The number {} is still of great significance.\", data);\n",
    "}"
   ]
  },
  {
   "cell_type": "code",
   "execution_count": null,
   "metadata": {},
   "outputs": [],
   "source": [
    "// Positioning of the data\n",
    "main(); // For Jupyter only. Remove when using this code in a .rs file\n",
    "\n",
    "pub fn main() {\n",
    "    let data = 42;\n",
    "    \n",
    "    println!(\"|{:<10}|\", data);\n",
    "    println!(\"|{:>10}|\", data);\n",
    "    println!(\"|{:^10}|\", data);\n",
    "}"
   ]
  },
  {
   "cell_type": "code",
   "execution_count": null,
   "metadata": {},
   "outputs": [],
   "source": [
    "// More formatting\n",
    "main(); // For Jupyter only. Remove when using this code in a .rs file\n",
    "\n",
    "pub fn main() {\n",
    "    let data = 42;\n",
    "    \n",
    "    println!(\"{:04}\", data);\n",
    "    println!(\"{:?}\", (data, data, data));\n",
    "    println!(\"{:?}\", (1, 2, 3));\n",
    "    println!(\"I like {x} and I like {y}, but I like {x} best.\", x=42, y=54);\n",
    "    println!(\"Format to two decimal places: {:.*}\", 2, 42.12345);\n",
    "    println!(\"Format to four decimal places: {:.*}\", 4, 42.12345);\n",
    "}"
   ]
  },
  {
   "cell_type": "code",
   "execution_count": null,
   "metadata": {},
   "outputs": [],
   "source": [
    "// Assign string to variable called text.\n",
    "main(); // For Jupyter only. Remove when using this code in a .rs file\n",
    "\n",
    "pub fn main() {\n",
    "    let text = \"This is a string assigned to the variable text\".to_string();\n",
    "    println!(\"{}\", text);\n",
    "}"
   ]
  },
  {
   "cell_type": "code",
   "execution_count": null,
   "metadata": {},
   "outputs": [],
   "source": [
    "// string concatination\n",
    "main(); // For Jupyter only. Remove when using this code in a .rs file\n",
    "\n",
    "pub fn main() {\n",
    "    \n",
    "\n",
    "    let mut text1 = \"A string assigned to mutable variable text. \".to_string();\n",
    "    let text2 = \"More text. \".to_string();\n",
    "    let text3 = \"Even more text.\".to_string();\n",
    "\n",
    "    // & is key\n",
    "    text1.push_str(&text2);\n",
    "    text1.push_str(&text3);\n",
    "\n",
    "    println!(\"{}\", text1);\n",
    "}"
   ]
  },
  {
   "cell_type": "code",
   "execution_count": null,
   "metadata": {},
   "outputs": [],
   "source": [
    "// The eprint! and eprintln! macros are identical to print! and println!, \n",
    "// respectively, except they emit their output to stderr.\n",
    "\n",
    "main(); // For Jupyter only. Remove when using this code in a .rs file\n",
    "\n",
    "pub fn main() {\n",
    "    \n",
    "    eprint!(\"Warning \");\n",
    "    eprint!(\"Warning \");   \n",
    "    eprint!(\"Warning \\n\");\n",
    "\n",
    "    eprintln!(\"Error message 1\");\n",
    "    eprintln!(\"Error message 2\");\n",
    "\n",
    "}\n"
   ]
  }
 ],
 "metadata": {
  "kernelspec": {
   "display_name": "Rust",
   "language": "rust",
   "name": "rust"
  },
  "language_info": {
   "codemirror_mode": "rust",
   "file_extension": ".rs",
   "mimetype": "text/rust",
   "name": "Rust",
   "pygment_lexer": "rust",
   "version": ""
  }
 },
 "nbformat": 4,
 "nbformat_minor": 2
}
